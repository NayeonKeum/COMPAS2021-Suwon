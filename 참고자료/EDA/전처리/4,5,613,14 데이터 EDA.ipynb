{
 "cells": [
  {
   "cell_type": "markdown",
   "id": "another-cleaning",
   "metadata": {},
   "source": [
    "# EDA 및 시각화"
   ]
  },
  {
   "cell_type": "code",
   "execution_count": 167,
   "id": "growing-moldova",
   "metadata": {},
   "outputs": [],
   "source": [
    "from geoband.API import *\n",
    "import pandas as pd\n",
    "import numpy as np\n",
    "import warnings\n",
    "warnings.filterwarnings(\"ignore\")\n",
    "import geopandas as gpd\n",
    "import pandas as pd\n",
    "import json\n",
    "from pandas import json_normalize\n",
    "import pandas as pd\n",
    "import folium\n",
    "from folium.plugins import MarkerCluster\n",
    "from geoband.API import *\n",
    "import geopandas as gpd\n",
    "import warnings\n",
    "warnings.filterwarnings(\"ignore\")\n",
    "from shapely.geometry import Point, Polygon\n",
    "import matplotlib.pyplot as plt\n",
    "import folium\n",
    "from folium import Choropleth, Circle, Marker\n",
    "from folium.plugins import HeatMap, MarkerCluster\n",
    "from geopandas import GeoDataFrame\n",
    "# GetCompasData로 주피터 노트북 경로에 파일 저장\n",
    "import pandas as pd\n",
    "import geopandas as gpd\n",
    "import matplotlib.pyplot as plt\n",
    "from shapely.geometry import Point, Polygon, LineString\n",
    "from fiona.crs import from_string"
   ]
  },
  {
   "cell_type": "code",
   "execution_count": 8,
   "id": "proud-oliver",
   "metadata": {},
   "outputs": [],
   "source": [
    "suwon_time_flow_pop = pd.read_csv('4.수원시_시간대별_유동인구(2020).csv')\n",
    "suwon_sex_age_flow_pop = pd.read_csv('5.수원시_성연령별_유동인구(2020).csv')\n",
    "suwon_day_flow_pop = pd.read_csv('6.수원시_요일별_유동인구(2020).csv')\n",
    "suwon_homeless = pd.read_csv('13.수원시_노숙인자활시설현황.csv')\n",
    "suwon_child_welfare = pd.read_csv('14.수원시_아동복지시설현황.csv')"
   ]
  },
  {
   "cell_type": "markdown",
   "id": "formal-zoning",
   "metadata": {},
   "source": [
    "### 경계 매핑함수\n",
    "- 격자 매핑함수\n",
    "- 경찰서 경계 매핑함수"
   ]
  },
  {
   "cell_type": "code",
   "execution_count": 13,
   "id": "painted-bermuda",
   "metadata": {},
   "outputs": [],
   "source": [
    "suwon_grid = gpd.read_file('32.수원시_표준격자(250M_x_250M).geojson')\n",
    "others_police_area = gpd.read_file('11.4개시도_경찰서_관할경계.geojson')\n",
    "# 데이터 불러오기"
   ]
  },
  {
   "cell_type": "markdown",
   "id": "french-magnet",
   "metadata": {},
   "source": [
    "1) 격자 경계 매핑함수"
   ]
  },
  {
   "cell_type": "code",
   "execution_count": 132,
   "id": "broken-johns",
   "metadata": {},
   "outputs": [],
   "source": [
    "def point_grid(data_df,suwon_grid,col):\n",
    "    df = data_df.copy()\n",
    "    if \"geometry\" in df.columns:\n",
    "        pass\n",
    "    else:\n",
    "        epsg4326 = from_string(\"+proj=longlat +ellps=WGS84 +datum=WGS84 +no_defs\")\n",
    "        df['geometry'] = df.apply(lambda x : Point([x['lon'], x['lat']]), axis=1)\n",
    "        df = gpd.GeoDataFrame(df, geometry='geometry', crs = epsg4326)\n",
    "    \n",
    "    gid_result = gpd.sjoin(suwon_grid, df, how='inner', op=\"intersects\").drop([\"index_right\"],axis=1)\n",
    "    # 매핑\n",
    "    \n",
    "    #gid_result_groupby = gid_result.groupby(\"gid\").agg({col:\"count\"}).reset_index().rename(columns={col:\"cnt\"})\n",
    "    # gid로 groupby\n",
    "    \n",
    "    return gid_result"
   ]
  },
  {
   "cell_type": "code",
   "execution_count": 38,
   "id": "removable-maker",
   "metadata": {},
   "outputs": [],
   "source": [
    "result_14 = point_grid(suwon_child_welfare,suwon_grid,\"시설명\")"
   ]
  },
  {
   "cell_type": "code",
   "execution_count": 44,
   "id": "married-receipt",
   "metadata": {},
   "outputs": [
    {
     "data": {
      "text/html": [
       "<div>\n",
       "<style scoped>\n",
       "    .dataframe tbody tr th:only-of-type {\n",
       "        vertical-align: middle;\n",
       "    }\n",
       "\n",
       "    .dataframe tbody tr th {\n",
       "        vertical-align: top;\n",
       "    }\n",
       "\n",
       "    .dataframe thead th {\n",
       "        text-align: right;\n",
       "    }\n",
       "</style>\n",
       "<table border=\"1\" class=\"dataframe\">\n",
       "  <thead>\n",
       "    <tr style=\"text-align: right;\">\n",
       "      <th></th>\n",
       "      <th>gid</th>\n",
       "      <th>geometry</th>\n",
       "      <th>시설명</th>\n",
       "      <th>시설종류</th>\n",
       "      <th>lat</th>\n",
       "      <th>lon</th>\n",
       "      <th>수용인원</th>\n",
       "    </tr>\n",
       "  </thead>\n",
       "  <tbody>\n",
       "    <tr>\n",
       "      <th>110</th>\n",
       "      <td>다사50ba21ab</td>\n",
       "      <td>MULTIPOLYGON (((126.94155 37.28887, 126.94154 ...</td>\n",
       "      <td>참사랑</td>\n",
       "      <td>아동공동생활가정</td>\n",
       "      <td>37.289511</td>\n",
       "      <td>126.944004</td>\n",
       "      <td>6</td>\n",
       "    </tr>\n",
       "    <tr>\n",
       "      <th>371</th>\n",
       "      <td>다사52bb23aa</td>\n",
       "      <td>MULTIPOLYGON (((126.96682 37.30476, 126.96681 ...</td>\n",
       "      <td>희망넝쿨</td>\n",
       "      <td>아동공동생활가정</td>\n",
       "      <td>37.306721</td>\n",
       "      <td>126.968909</td>\n",
       "      <td>6</td>\n",
       "    </tr>\n",
       "    <tr>\n",
       "      <th>461</th>\n",
       "      <td>다사53ab22bb</td>\n",
       "      <td>MULTIPOLYGON (((126.97248 37.30254, 126.97247 ...</td>\n",
       "      <td>나섬의집</td>\n",
       "      <td>아동공동생활가정</td>\n",
       "      <td>37.302627</td>\n",
       "      <td>126.975104</td>\n",
       "      <td>7</td>\n",
       "    </tr>\n",
       "  </tbody>\n",
       "</table>\n",
       "</div>"
      ],
      "text/plain": [
       "            gid                                           geometry   시설명  \\\n",
       "110  다사50ba21ab  MULTIPOLYGON (((126.94155 37.28887, 126.94154 ...   참사랑   \n",
       "371  다사52bb23aa  MULTIPOLYGON (((126.96682 37.30476, 126.96681 ...  희망넝쿨   \n",
       "461  다사53ab22bb  MULTIPOLYGON (((126.97248 37.30254, 126.97247 ...  나섬의집   \n",
       "\n",
       "         시설종류        lat         lon  수용인원  \n",
       "110  아동공동생활가정  37.289511  126.944004     6  \n",
       "371  아동공동생활가정  37.306721  126.968909     6  \n",
       "461  아동공동생활가정  37.302627  126.975104     7  "
      ]
     },
     "execution_count": 44,
     "metadata": {},
     "output_type": "execute_result"
    }
   ],
   "source": [
    "result_14.head(3)"
   ]
  },
  {
   "cell_type": "code",
   "execution_count": 45,
   "id": "governmental-output",
   "metadata": {},
   "outputs": [
    {
     "data": {
      "text/html": [
       "<div>\n",
       "<style scoped>\n",
       "    .dataframe tbody tr th:only-of-type {\n",
       "        vertical-align: middle;\n",
       "    }\n",
       "\n",
       "    .dataframe tbody tr th {\n",
       "        vertical-align: top;\n",
       "    }\n",
       "\n",
       "    .dataframe thead th {\n",
       "        text-align: right;\n",
       "    }\n",
       "</style>\n",
       "<table border=\"1\" class=\"dataframe\">\n",
       "  <thead>\n",
       "    <tr style=\"text-align: right;\">\n",
       "      <th></th>\n",
       "      <th>gid</th>\n",
       "      <th>cnt</th>\n",
       "    </tr>\n",
       "  </thead>\n",
       "  <tbody>\n",
       "    <tr>\n",
       "      <th>0</th>\n",
       "      <td>다사50ba21ab</td>\n",
       "      <td>1</td>\n",
       "    </tr>\n",
       "    <tr>\n",
       "      <th>1</th>\n",
       "      <td>다사52bb23aa</td>\n",
       "      <td>1</td>\n",
       "    </tr>\n",
       "    <tr>\n",
       "      <th>2</th>\n",
       "      <td>다사53ab22bb</td>\n",
       "      <td>1</td>\n",
       "    </tr>\n",
       "  </tbody>\n",
       "</table>\n",
       "</div>"
      ],
      "text/plain": [
       "          gid  cnt\n",
       "0  다사50ba21ab    1\n",
       "1  다사52bb23aa    1\n",
       "2  다사53ab22bb    1"
      ]
     },
     "execution_count": 45,
     "metadata": {},
     "output_type": "execute_result"
    }
   ],
   "source": [
    "result_14_groupby.head(3)"
   ]
  },
  {
   "cell_type": "markdown",
   "id": "smart-rotation",
   "metadata": {},
   "source": [
    "1-1) 격자 경계 매핑 뒤 시각화 함수"
   ]
  },
  {
   "cell_type": "code",
   "execution_count": null,
   "id": "atomic-mitchell",
   "metadata": {},
   "outputs": [],
   "source": []
  },
  {
   "cell_type": "markdown",
   "id": "sporting-memorial",
   "metadata": {},
   "source": [
    "2) 경찰서 경계 매핑함수"
   ]
  },
  {
   "cell_type": "code",
   "execution_count": 126,
   "id": "solar-matthew",
   "metadata": {},
   "outputs": [],
   "source": [
    "def point_police(data_df,others_police_area,col):\n",
    "    df = data_df.copy()\n",
    "    if \"geometry\" in df.columns:\n",
    "        pass\n",
    "    else:\n",
    "        epsg4326 = from_string(\"+proj=longlat +ellps=WGS84 +datum=WGS84 +no_defs\")\n",
    "        df['geometry'] = df.apply(lambda x : Point([x['lon'], x['lat']]), axis=1)\n",
    "        df = gpd.GeoDataFrame(df, geometry='geometry', crs = epsg4326)\n",
    "    \n",
    "    others_police_area.columns = [\"관할경찰서\",\"관할경찰청\",\"geometry\"]\n",
    "    \n",
    "    police_result = gpd.sjoin(others_police_area, df, how='inner', op=\"intersects\").drop([\"index_right\"],axis=1)\n",
    "    # 매핑\n",
    "    \n",
    "    if col == None:\n",
    "        return police_result\n",
    "    else:\n",
    "        police_result_groupby = police_result.groupby(\"관할경찰서\").agg({col:\"count\"}).reset_index().rename(columns={col:\"cnt\"})\n",
    "        # 관할경찰서별로 groupby\n",
    "\n",
    "        return police_result, police_result_groupby"
   ]
  },
  {
   "cell_type": "markdown",
   "id": "general-commerce",
   "metadata": {},
   "source": [
    "#### 14.수원시 아동복지시설현황\n",
    "- 비공개처리된 곳 제거하기"
   ]
  },
  {
   "cell_type": "code",
   "execution_count": 4,
   "id": "processed-victor",
   "metadata": {},
   "outputs": [
    {
     "data": {
      "text/plain": [
       "Index(['fac_nm', 'fac_type', 'road_addr', 'jibun_addr', 'lat', 'lon',\n",
       "       'phone_num', 'capacity', 'manage_agency', 'base_date'],\n",
       "      dtype='object')"
      ]
     },
     "execution_count": 4,
     "metadata": {},
     "output_type": "execute_result"
    }
   ],
   "source": [
    "drop = ['road_addr', 'jibun_addr', 'phone_num', 'manage_agency', 'base_date']"
   ]
  },
  {
   "cell_type": "code",
   "execution_count": 11,
   "id": "outside-learning",
   "metadata": {},
   "outputs": [],
   "source": [
    "suwon_child_welfare = pd.read_csv('14.수원시_아동복지시설현황.csv')[['fac_nm', 'fac_type','lat', 'lon','capacity']]\n",
    "# 열 선택\n",
    "\n",
    "suwon_child_welfare.columns = [\"시설명\",\"시설종류\",\"lat\",\"lon\",\"수용인원\"]\n",
    "# 열 이름 변경\n",
    "\n",
    "suwon_child_welfare = suwon_child_welfare[suwon_child_welfare[\"lat\"].notnull()]\n",
    "# null 데이터 삭제"
   ]
  },
  {
   "cell_type": "markdown",
   "id": "worthy-extension",
   "metadata": {},
   "source": [
    "1) 14번 데이터 경찰서 경계로 매핑하기"
   ]
  },
  {
   "cell_type": "code",
   "execution_count": 51,
   "id": "spiritual-chosen",
   "metadata": {},
   "outputs": [
    {
     "data": {
      "text/html": [
       "<div>\n",
       "<style scoped>\n",
       "    .dataframe tbody tr th:only-of-type {\n",
       "        vertical-align: middle;\n",
       "    }\n",
       "\n",
       "    .dataframe tbody tr th {\n",
       "        vertical-align: top;\n",
       "    }\n",
       "\n",
       "    .dataframe thead th {\n",
       "        text-align: right;\n",
       "    }\n",
       "</style>\n",
       "<table border=\"1\" class=\"dataframe\">\n",
       "  <thead>\n",
       "    <tr style=\"text-align: right;\">\n",
       "      <th></th>\n",
       "      <th>관할경찰서</th>\n",
       "      <th>cnt</th>\n",
       "    </tr>\n",
       "  </thead>\n",
       "  <tbody>\n",
       "    <tr>\n",
       "      <th>0</th>\n",
       "      <td>수원남부경찰서</td>\n",
       "      <td>2</td>\n",
       "    </tr>\n",
       "    <tr>\n",
       "      <th>1</th>\n",
       "      <td>수원서부경찰서</td>\n",
       "      <td>3</td>\n",
       "    </tr>\n",
       "    <tr>\n",
       "      <th>2</th>\n",
       "      <td>수원중부경찰서</td>\n",
       "      <td>9</td>\n",
       "    </tr>\n",
       "  </tbody>\n",
       "</table>\n",
       "</div>"
      ],
      "text/plain": [
       "     관할경찰서  cnt\n",
       "0  수원남부경찰서    2\n",
       "1  수원서부경찰서    3\n",
       "2  수원중부경찰서    9"
      ]
     },
     "execution_count": 51,
     "metadata": {},
     "output_type": "execute_result"
    }
   ],
   "source": [
    "result_14, result_14_groupby = point_police_df(suwon_child_welfare,others_police_area,\"시설명\")\n",
    "result_14_groupby"
   ]
  },
  {
   "cell_type": "code",
   "execution_count": 52,
   "id": "international-modern",
   "metadata": {},
   "outputs": [
    {
     "data": {
      "text/html": [
       "<div>\n",
       "<style scoped>\n",
       "    .dataframe tbody tr th:only-of-type {\n",
       "        vertical-align: middle;\n",
       "    }\n",
       "\n",
       "    .dataframe tbody tr th {\n",
       "        vertical-align: top;\n",
       "    }\n",
       "\n",
       "    .dataframe thead th {\n",
       "        text-align: right;\n",
       "    }\n",
       "</style>\n",
       "<table border=\"1\" class=\"dataframe\">\n",
       "  <thead>\n",
       "    <tr style=\"text-align: right;\">\n",
       "      <th></th>\n",
       "      <th>관할경찰서</th>\n",
       "      <th>관할경찰청</th>\n",
       "      <th>geometry</th>\n",
       "      <th>시설명</th>\n",
       "      <th>시설종류</th>\n",
       "      <th>lat</th>\n",
       "      <th>lon</th>\n",
       "      <th>수용인원</th>\n",
       "    </tr>\n",
       "  </thead>\n",
       "  <tbody>\n",
       "    <tr>\n",
       "      <th>18</th>\n",
       "      <td>수원남부경찰서</td>\n",
       "      <td>경기남부청</td>\n",
       "      <td>MULTIPOLYGON (((127.03963 37.32102, 127.03969 ...</td>\n",
       "      <td>엘림그룹홈</td>\n",
       "      <td>아동공동생활가정</td>\n",
       "      <td>37.245276</td>\n",
       "      <td>127.029782</td>\n",
       "      <td>7</td>\n",
       "    </tr>\n",
       "    <tr>\n",
       "      <th>18</th>\n",
       "      <td>수원남부경찰서</td>\n",
       "      <td>경기남부청</td>\n",
       "      <td>MULTIPOLYGON (((127.03963 37.32102, 127.03969 ...</td>\n",
       "      <td>수원나자렛집</td>\n",
       "      <td>아동양육시설</td>\n",
       "      <td>37.249787</td>\n",
       "      <td>127.078692</td>\n",
       "      <td>15</td>\n",
       "    </tr>\n",
       "  </tbody>\n",
       "</table>\n",
       "</div>"
      ],
      "text/plain": [
       "      관할경찰서  관할경찰청                                           geometry     시설명  \\\n",
       "18  수원남부경찰서  경기남부청  MULTIPOLYGON (((127.03963 37.32102, 127.03969 ...   엘림그룹홈   \n",
       "18  수원남부경찰서  경기남부청  MULTIPOLYGON (((127.03963 37.32102, 127.03969 ...  수원나자렛집   \n",
       "\n",
       "        시설종류        lat         lon  수용인원  \n",
       "18  아동공동생활가정  37.245276  127.029782     7  \n",
       "18    아동양육시설  37.249787  127.078692    15  "
      ]
     },
     "execution_count": 52,
     "metadata": {},
     "output_type": "execute_result"
    }
   ],
   "source": [
    "result_14.head(2)"
   ]
  },
  {
   "cell_type": "markdown",
   "id": "complex-result",
   "metadata": {},
   "source": [
    "2) 14번 데이터 격자 경계로 매핑하기"
   ]
  },
  {
   "cell_type": "code",
   "execution_count": 83,
   "id": "employed-riverside",
   "metadata": {},
   "outputs": [
    {
     "data": {
      "text/html": [
       "<div>\n",
       "<style scoped>\n",
       "    .dataframe tbody tr th:only-of-type {\n",
       "        vertical-align: middle;\n",
       "    }\n",
       "\n",
       "    .dataframe tbody tr th {\n",
       "        vertical-align: top;\n",
       "    }\n",
       "\n",
       "    .dataframe thead th {\n",
       "        text-align: right;\n",
       "    }\n",
       "</style>\n",
       "<table border=\"1\" class=\"dataframe\">\n",
       "  <thead>\n",
       "    <tr style=\"text-align: right;\">\n",
       "      <th></th>\n",
       "      <th>gid</th>\n",
       "      <th>geometry</th>\n",
       "      <th>시설명</th>\n",
       "      <th>시설종류</th>\n",
       "      <th>lat</th>\n",
       "      <th>lon</th>\n",
       "      <th>수용인원</th>\n",
       "    </tr>\n",
       "  </thead>\n",
       "  <tbody>\n",
       "    <tr>\n",
       "      <th>110</th>\n",
       "      <td>다사50ba21ab</td>\n",
       "      <td>MULTIPOLYGON (((126.94155 37.28887, 126.94154 ...</td>\n",
       "      <td>참사랑</td>\n",
       "      <td>아동공동생활가정</td>\n",
       "      <td>37.289511</td>\n",
       "      <td>126.944004</td>\n",
       "      <td>6</td>\n",
       "    </tr>\n",
       "    <tr>\n",
       "      <th>371</th>\n",
       "      <td>다사52bb23aa</td>\n",
       "      <td>MULTIPOLYGON (((126.96682 37.30476, 126.96681 ...</td>\n",
       "      <td>희망넝쿨</td>\n",
       "      <td>아동공동생활가정</td>\n",
       "      <td>37.306721</td>\n",
       "      <td>126.968909</td>\n",
       "      <td>6</td>\n",
       "    </tr>\n",
       "  </tbody>\n",
       "</table>\n",
       "</div>"
      ],
      "text/plain": [
       "            gid                                           geometry   시설명  \\\n",
       "110  다사50ba21ab  MULTIPOLYGON (((126.94155 37.28887, 126.94154 ...   참사랑   \n",
       "371  다사52bb23aa  MULTIPOLYGON (((126.96682 37.30476, 126.96681 ...  희망넝쿨   \n",
       "\n",
       "         시설종류        lat         lon  수용인원  \n",
       "110  아동공동생활가정  37.289511  126.944004     6  \n",
       "371  아동공동생활가정  37.306721  126.968909     6  "
      ]
     },
     "execution_count": 83,
     "metadata": {},
     "output_type": "execute_result"
    }
   ],
   "source": [
    "result_14_gird = point_grid(suwon_child_welfare,suwon_grid,\"시설명\")\n",
    "result_14_gird.head(2)"
   ]
  },
  {
   "cell_type": "code",
   "execution_count": null,
   "id": "bridal-utilization",
   "metadata": {},
   "outputs": [],
   "source": []
  },
  {
   "cell_type": "markdown",
   "id": "forced-russia",
   "metadata": {},
   "source": [
    "#### 13.수원시_노숙인자활시설현황\n",
    "- 비공개처리된 곳 제거하기"
   ]
  },
  {
   "cell_type": "code",
   "execution_count": 55,
   "id": "modified-utility",
   "metadata": {},
   "outputs": [],
   "source": [
    "drop = ['road_addr', 'jibun_addr','phone_num', 'base_date']"
   ]
  },
  {
   "cell_type": "code",
   "execution_count": 63,
   "id": "breathing-defensive",
   "metadata": {},
   "outputs": [],
   "source": [
    "suwon_homeless = pd.read_csv('13.수원시_노숙인자활시설현황.csv')[['fac_nm','lat', 'lon', 'capacity']]\n",
    "# 열 선택\n",
    "\n",
    "suwon_homeless.columns = [\"시설명\",\"lat\",\"lon\",\"수용인원\"]\n",
    "# 열 이름 변경"
   ]
  },
  {
   "cell_type": "markdown",
   "id": "crazy-telescope",
   "metadata": {},
   "source": [
    "1) 13번 데이터 경찰서 경계로 매핑하기"
   ]
  },
  {
   "cell_type": "code",
   "execution_count": 70,
   "id": "similar-universal",
   "metadata": {},
   "outputs": [
    {
     "data": {
      "text/html": [
       "<div>\n",
       "<style scoped>\n",
       "    .dataframe tbody tr th:only-of-type {\n",
       "        vertical-align: middle;\n",
       "    }\n",
       "\n",
       "    .dataframe tbody tr th {\n",
       "        vertical-align: top;\n",
       "    }\n",
       "\n",
       "    .dataframe thead th {\n",
       "        text-align: right;\n",
       "    }\n",
       "</style>\n",
       "<table border=\"1\" class=\"dataframe\">\n",
       "  <thead>\n",
       "    <tr style=\"text-align: right;\">\n",
       "      <th></th>\n",
       "      <th>관할경찰서</th>\n",
       "      <th>cnt</th>\n",
       "    </tr>\n",
       "  </thead>\n",
       "  <tbody>\n",
       "    <tr>\n",
       "      <th>0</th>\n",
       "      <td>수원남부경찰서</td>\n",
       "      <td>1</td>\n",
       "    </tr>\n",
       "    <tr>\n",
       "      <th>1</th>\n",
       "      <td>수원서부경찰서</td>\n",
       "      <td>2</td>\n",
       "    </tr>\n",
       "    <tr>\n",
       "      <th>2</th>\n",
       "      <td>수원중부경찰서</td>\n",
       "      <td>1</td>\n",
       "    </tr>\n",
       "  </tbody>\n",
       "</table>\n",
       "</div>"
      ],
      "text/plain": [
       "     관할경찰서  cnt\n",
       "0  수원남부경찰서    1\n",
       "1  수원서부경찰서    2\n",
       "2  수원중부경찰서    1"
      ]
     },
     "execution_count": 70,
     "metadata": {},
     "output_type": "execute_result"
    }
   ],
   "source": [
    "result_13_police, result_13_groupby_police = point_police_df(suwon_homeless,others_police_area,\"시설명\")\n",
    "result_13_groupby_police"
   ]
  },
  {
   "cell_type": "code",
   "execution_count": 68,
   "id": "silver-country",
   "metadata": {},
   "outputs": [
    {
     "data": {
      "text/html": [
       "<div>\n",
       "<style scoped>\n",
       "    .dataframe tbody tr th:only-of-type {\n",
       "        vertical-align: middle;\n",
       "    }\n",
       "\n",
       "    .dataframe tbody tr th {\n",
       "        vertical-align: top;\n",
       "    }\n",
       "\n",
       "    .dataframe thead th {\n",
       "        text-align: right;\n",
       "    }\n",
       "</style>\n",
       "<table border=\"1\" class=\"dataframe\">\n",
       "  <thead>\n",
       "    <tr style=\"text-align: right;\">\n",
       "      <th></th>\n",
       "      <th>관할경찰서</th>\n",
       "      <th>관할경찰청</th>\n",
       "      <th>geometry</th>\n",
       "      <th>시설명</th>\n",
       "      <th>lat</th>\n",
       "      <th>lon</th>\n",
       "      <th>수용인원</th>\n",
       "    </tr>\n",
       "  </thead>\n",
       "  <tbody>\n",
       "    <tr>\n",
       "      <th>18</th>\n",
       "      <td>수원남부경찰서</td>\n",
       "      <td>경기남부청</td>\n",
       "      <td>MULTIPOLYGON (((127.03963 37.32102, 127.03969 ...</td>\n",
       "      <td>새희망의집</td>\n",
       "      <td>37.272825</td>\n",
       "      <td>127.024826</td>\n",
       "      <td>20</td>\n",
       "    </tr>\n",
       "    <tr>\n",
       "      <th>29</th>\n",
       "      <td>수원서부경찰서</td>\n",
       "      <td>경기남부청</td>\n",
       "      <td>MULTIPOLYGON (((126.99699 37.22926, 126.99698 ...</td>\n",
       "      <td>희망의쉼터</td>\n",
       "      <td>37.258268</td>\n",
       "      <td>126.991822</td>\n",
       "      <td>20</td>\n",
       "    </tr>\n",
       "    <tr>\n",
       "      <th>29</th>\n",
       "      <td>수원서부경찰서</td>\n",
       "      <td>경기남부청</td>\n",
       "      <td>MULTIPOLYGON (((126.99699 37.22926, 126.99698 ...</td>\n",
       "      <td>마중물비전센터</td>\n",
       "      <td>37.273631</td>\n",
       "      <td>127.013395</td>\n",
       "      <td>20</td>\n",
       "    </tr>\n",
       "    <tr>\n",
       "      <th>30</th>\n",
       "      <td>수원중부경찰서</td>\n",
       "      <td>경기남부청</td>\n",
       "      <td>MULTIPOLYGON (((127.03177 37.33654, 127.03176 ...</td>\n",
       "      <td>해뜨는집</td>\n",
       "      <td>37.295702</td>\n",
       "      <td>126.998741</td>\n",
       "      <td>20</td>\n",
       "    </tr>\n",
       "  </tbody>\n",
       "</table>\n",
       "</div>"
      ],
      "text/plain": [
       "      관할경찰서  관할경찰청                                           geometry  \\\n",
       "18  수원남부경찰서  경기남부청  MULTIPOLYGON (((127.03963 37.32102, 127.03969 ...   \n",
       "29  수원서부경찰서  경기남부청  MULTIPOLYGON (((126.99699 37.22926, 126.99698 ...   \n",
       "29  수원서부경찰서  경기남부청  MULTIPOLYGON (((126.99699 37.22926, 126.99698 ...   \n",
       "30  수원중부경찰서  경기남부청  MULTIPOLYGON (((127.03177 37.33654, 127.03176 ...   \n",
       "\n",
       "        시설명        lat         lon  수용인원  \n",
       "18    새희망의집  37.272825  127.024826    20  \n",
       "29    희망의쉼터  37.258268  126.991822    20  \n",
       "29  마중물비전센터  37.273631  127.013395    20  \n",
       "30     해뜨는집  37.295702  126.998741    20  "
      ]
     },
     "execution_count": 68,
     "metadata": {},
     "output_type": "execute_result"
    }
   ],
   "source": [
    "result_13_police"
   ]
  },
  {
   "cell_type": "markdown",
   "id": "exact-honduras",
   "metadata": {},
   "source": [
    "2) 13번 데이터 격자 경계로 매핑하기"
   ]
  },
  {
   "cell_type": "code",
   "execution_count": 77,
   "id": "faced-carol",
   "metadata": {},
   "outputs": [
    {
     "data": {
      "text/html": [
       "<div>\n",
       "<style scoped>\n",
       "    .dataframe tbody tr th:only-of-type {\n",
       "        vertical-align: middle;\n",
       "    }\n",
       "\n",
       "    .dataframe tbody tr th {\n",
       "        vertical-align: top;\n",
       "    }\n",
       "\n",
       "    .dataframe thead th {\n",
       "        text-align: right;\n",
       "    }\n",
       "</style>\n",
       "<table border=\"1\" class=\"dataframe\">\n",
       "  <thead>\n",
       "    <tr style=\"text-align: right;\">\n",
       "      <th></th>\n",
       "      <th>gid</th>\n",
       "      <th>geometry</th>\n",
       "      <th>시설명</th>\n",
       "      <th>lat</th>\n",
       "      <th>lon</th>\n",
       "      <th>수용인원</th>\n",
       "    </tr>\n",
       "  </thead>\n",
       "  <tbody>\n",
       "    <tr>\n",
       "      <th>708</th>\n",
       "      <td>다사54bb17bb</td>\n",
       "      <td>MULTIPOLYGON (((126.98971 37.25754, 126.98970 ...</td>\n",
       "      <td>희망의쉼터</td>\n",
       "      <td>37.258268</td>\n",
       "      <td>126.991822</td>\n",
       "      <td>20</td>\n",
       "    </tr>\n",
       "    <tr>\n",
       "      <th>872</th>\n",
       "      <td>다사55ba21bb</td>\n",
       "      <td>MULTIPOLYGON (((126.99793 37.29363, 126.99792 ...</td>\n",
       "      <td>해뜨는집</td>\n",
       "      <td>37.295702</td>\n",
       "      <td>126.998741</td>\n",
       "      <td>20</td>\n",
       "    </tr>\n",
       "    <tr>\n",
       "      <th>1120</th>\n",
       "      <td>다사56bb19ba</td>\n",
       "      <td>MULTIPOLYGON (((127.01216 37.27341, 127.01215 ...</td>\n",
       "      <td>마중물비전센터</td>\n",
       "      <td>37.273631</td>\n",
       "      <td>127.013395</td>\n",
       "      <td>20</td>\n",
       "    </tr>\n",
       "    <tr>\n",
       "      <th>1345</th>\n",
       "      <td>다사57bb19ab</td>\n",
       "      <td>MULTIPOLYGON (((127.02346 37.27120, 127.02344 ...</td>\n",
       "      <td>새희망의집</td>\n",
       "      <td>37.272825</td>\n",
       "      <td>127.024826</td>\n",
       "      <td>20</td>\n",
       "    </tr>\n",
       "  </tbody>\n",
       "</table>\n",
       "</div>"
      ],
      "text/plain": [
       "             gid                                           geometry      시설명  \\\n",
       "708   다사54bb17bb  MULTIPOLYGON (((126.98971 37.25754, 126.98970 ...    희망의쉼터   \n",
       "872   다사55ba21bb  MULTIPOLYGON (((126.99793 37.29363, 126.99792 ...     해뜨는집   \n",
       "1120  다사56bb19ba  MULTIPOLYGON (((127.01216 37.27341, 127.01215 ...  마중물비전센터   \n",
       "1345  다사57bb19ab  MULTIPOLYGON (((127.02346 37.27120, 127.02344 ...    새희망의집   \n",
       "\n",
       "            lat         lon  수용인원  \n",
       "708   37.258268  126.991822    20  \n",
       "872   37.295702  126.998741    20  \n",
       "1120  37.273631  127.013395    20  \n",
       "1345  37.272825  127.024826    20  "
      ]
     },
     "execution_count": 77,
     "metadata": {},
     "output_type": "execute_result"
    }
   ],
   "source": [
    "result_13_gird, result_13_groupby_gird = point_grid(suwon_homeless,suwon_grid,\"시설명\")\n",
    "result_13_gird"
   ]
  },
  {
   "cell_type": "markdown",
   "id": "multiple-contrary",
   "metadata": {},
   "source": [
    "#### 6.수원시_요일별_유동인구(2020)"
   ]
  },
  {
   "cell_type": "code",
   "execution_count": null,
   "id": "premier-monte",
   "metadata": {},
   "outputs": [],
   "source": [
    "suwon_time_flow_pop = pd.read_csv('4.수원시_시간대별_유동인구(2020).csv')\n",
    "suwon_sex_age_flow_pop = pd.read_csv('5.수원시_성연령별_유동인구(2020).csv')\n",
    "suwon_day_flow_pop = pd.read_csv('6.수원시_요일별_유동인구(2020).csv')"
   ]
  },
  {
   "cell_type": "code",
   "execution_count": 105,
   "id": "noted-champion",
   "metadata": {},
   "outputs": [],
   "source": [
    "suwon_day_flow_pop = pd.read_csv('6.수원시_요일별_유동인구(2020).csv')\n",
    "# 데이터 읽어오기\n",
    "\n",
    "suwon_day_flow_pop.columns = [\"기준년월\",\"월요일유동인구\",\"화요일유동인구\",\"수요일유동인구\",\"목요일유동인구\",\n",
    "                             \"금요일유동인구\",\"토요일유동인구\",\"일요일유동인구\",\"lon\",\"lat\"]\n",
    "# 열 이름 설정\n",
    "\n",
    "suwon_day_flow_pop[\"년\"] = suwon_day_flow_pop[\"기준년월\"].apply(lambda x : int(str(x)[:4]))\n",
    "suwon_day_flow_pop[\"월\"] = suwon_day_flow_pop[\"기준년월\"].apply(lambda x : int(str(x)[4:]))\n",
    "suwon_day_flow_pop = suwon_day_flow_pop.drop([\"기준년월\"],axis=1)\n",
    "# 기준년월 데이터 파싱"
   ]
  },
  {
   "cell_type": "markdown",
   "id": "spanish-luxembourg",
   "metadata": {},
   "source": [
    "1) 6번 데이터 경찰서 경계로 매핑하기"
   ]
  },
  {
   "cell_type": "markdown",
   "id": "imposed-blogger",
   "metadata": {},
   "source": [
    "result_6_police = point_police(suwon_day_flow_pop,others_police_area,None)"
   ]
  },
  {
   "cell_type": "code",
   "execution_count": 137,
   "id": "caring-medicine",
   "metadata": {},
   "outputs": [
    {
     "data": {
      "text/html": [
       "<div>\n",
       "<style scoped>\n",
       "    .dataframe tbody tr th:only-of-type {\n",
       "        vertical-align: middle;\n",
       "    }\n",
       "\n",
       "    .dataframe tbody tr th {\n",
       "        vertical-align: top;\n",
       "    }\n",
       "\n",
       "    .dataframe thead th {\n",
       "        text-align: right;\n",
       "    }\n",
       "</style>\n",
       "<table border=\"1\" class=\"dataframe\">\n",
       "  <thead>\n",
       "    <tr style=\"text-align: right;\">\n",
       "      <th></th>\n",
       "      <th>관할경찰서</th>\n",
       "      <th>관할경찰청</th>\n",
       "      <th>geometry</th>\n",
       "      <th>기준년월</th>\n",
       "      <th>월요일유동인구</th>\n",
       "      <th>화요일유동인구</th>\n",
       "      <th>수요일유동인구</th>\n",
       "      <th>목요일유동인구</th>\n",
       "      <th>금요일유동인구</th>\n",
       "      <th>토요일유동인구</th>\n",
       "      <th>일요일유동인구</th>\n",
       "      <th>lon</th>\n",
       "      <th>lat</th>\n",
       "      <th>년</th>\n",
       "      <th>월</th>\n",
       "    </tr>\n",
       "  </thead>\n",
       "  <tbody>\n",
       "    <tr>\n",
       "      <th>18</th>\n",
       "      <td>수원남부경찰서</td>\n",
       "      <td>경기남부청</td>\n",
       "      <td>MULTIPOLYGON (((127.03963 37.32102, 127.03969 ...</td>\n",
       "      <td>202008</td>\n",
       "      <td>369.12</td>\n",
       "      <td>372.53</td>\n",
       "      <td>381.89</td>\n",
       "      <td>375.85</td>\n",
       "      <td>405.77</td>\n",
       "      <td>358.32</td>\n",
       "      <td>289.01</td>\n",
       "      <td>127.023553</td>\n",
       "      <td>37.227299</td>\n",
       "      <td>2020</td>\n",
       "      <td>8</td>\n",
       "    </tr>\n",
       "    <tr>\n",
       "      <th>18</th>\n",
       "      <td>수원남부경찰서</td>\n",
       "      <td>경기남부청</td>\n",
       "      <td>MULTIPOLYGON (((127.03963 37.32102, 127.03969 ...</td>\n",
       "      <td>202005</td>\n",
       "      <td>418.25</td>\n",
       "      <td>403.01</td>\n",
       "      <td>439.93</td>\n",
       "      <td>432.82</td>\n",
       "      <td>452.82</td>\n",
       "      <td>404.11</td>\n",
       "      <td>324.94</td>\n",
       "      <td>127.023553</td>\n",
       "      <td>37.227299</td>\n",
       "      <td>2020</td>\n",
       "      <td>5</td>\n",
       "    </tr>\n",
       "  </tbody>\n",
       "</table>\n",
       "</div>"
      ],
      "text/plain": [
       "      관할경찰서  관할경찰청                                           geometry    기준년월  \\\n",
       "18  수원남부경찰서  경기남부청  MULTIPOLYGON (((127.03963 37.32102, 127.03969 ...  202008   \n",
       "18  수원남부경찰서  경기남부청  MULTIPOLYGON (((127.03963 37.32102, 127.03969 ...  202005   \n",
       "\n",
       "    월요일유동인구  화요일유동인구  수요일유동인구  목요일유동인구  금요일유동인구  토요일유동인구  일요일유동인구         lon  \\\n",
       "18   369.12   372.53   381.89   375.85   405.77   358.32   289.01  127.023553   \n",
       "18   418.25   403.01   439.93   432.82   452.82   404.11   324.94  127.023553   \n",
       "\n",
       "          lat     년  월  \n",
       "18  37.227299  2020  8  \n",
       "18  37.227299  2020  5  "
      ]
     },
     "execution_count": 137,
     "metadata": {},
     "output_type": "execute_result"
    }
   ],
   "source": [
    "result_6_police.head(2)"
   ]
  },
  {
   "cell_type": "markdown",
   "id": "brilliant-willow",
   "metadata": {},
   "source": [
    "2) 6번 데이터 격자 경계로 매핑하기"
   ]
  },
  {
   "cell_type": "code",
   "execution_count": 133,
   "id": "unauthorized-gardening",
   "metadata": {},
   "outputs": [],
   "source": [
    "result_6_grid = point_grid(suwon_day_flow_pop,suwon_grid,None)"
   ]
  },
  {
   "cell_type": "code",
   "execution_count": 135,
   "id": "latin-possession",
   "metadata": {},
   "outputs": [
    {
     "data": {
      "text/html": [
       "<div>\n",
       "<style scoped>\n",
       "    .dataframe tbody tr th:only-of-type {\n",
       "        vertical-align: middle;\n",
       "    }\n",
       "\n",
       "    .dataframe tbody tr th {\n",
       "        vertical-align: top;\n",
       "    }\n",
       "\n",
       "    .dataframe thead th {\n",
       "        text-align: right;\n",
       "    }\n",
       "</style>\n",
       "<table border=\"1\" class=\"dataframe\">\n",
       "  <thead>\n",
       "    <tr style=\"text-align: right;\">\n",
       "      <th></th>\n",
       "      <th>gid</th>\n",
       "      <th>geometry</th>\n",
       "      <th>기준년월</th>\n",
       "      <th>월요일유동인구</th>\n",
       "      <th>화요일유동인구</th>\n",
       "      <th>수요일유동인구</th>\n",
       "      <th>목요일유동인구</th>\n",
       "      <th>금요일유동인구</th>\n",
       "      <th>토요일유동인구</th>\n",
       "      <th>일요일유동인구</th>\n",
       "      <th>lon</th>\n",
       "      <th>lat</th>\n",
       "      <th>년</th>\n",
       "      <th>월</th>\n",
       "    </tr>\n",
       "  </thead>\n",
       "  <tbody>\n",
       "    <tr>\n",
       "      <th>0</th>\n",
       "      <td>다사49aa19ab</td>\n",
       "      <td>MULTIPOLYGON (((126.92477 37.27077, 126.92475 ...</td>\n",
       "      <td>202005</td>\n",
       "      <td>0.11</td>\n",
       "      <td>0.16</td>\n",
       "      <td>0.12</td>\n",
       "      <td>0.12</td>\n",
       "      <td>0.14</td>\n",
       "      <td>0.26</td>\n",
       "      <td>0.26</td>\n",
       "      <td>126.927402</td>\n",
       "      <td>37.271492</td>\n",
       "      <td>2020</td>\n",
       "      <td>5</td>\n",
       "    </tr>\n",
       "    <tr>\n",
       "      <th>0</th>\n",
       "      <td>다사49aa19ab</td>\n",
       "      <td>MULTIPOLYGON (((126.92477 37.27077, 126.92475 ...</td>\n",
       "      <td>202011</td>\n",
       "      <td>7.82</td>\n",
       "      <td>7.20</td>\n",
       "      <td>7.12</td>\n",
       "      <td>7.03</td>\n",
       "      <td>7.73</td>\n",
       "      <td>11.58</td>\n",
       "      <td>10.79</td>\n",
       "      <td>126.927402</td>\n",
       "      <td>37.271492</td>\n",
       "      <td>2020</td>\n",
       "      <td>11</td>\n",
       "    </tr>\n",
       "    <tr>\n",
       "      <th>0</th>\n",
       "      <td>다사49aa19ab</td>\n",
       "      <td>MULTIPOLYGON (((126.92477 37.27077, 126.92475 ...</td>\n",
       "      <td>202003</td>\n",
       "      <td>0.12</td>\n",
       "      <td>0.14</td>\n",
       "      <td>0.12</td>\n",
       "      <td>0.11</td>\n",
       "      <td>0.12</td>\n",
       "      <td>0.28</td>\n",
       "      <td>0.28</td>\n",
       "      <td>126.927402</td>\n",
       "      <td>37.271492</td>\n",
       "      <td>2020</td>\n",
       "      <td>3</td>\n",
       "    </tr>\n",
       "  </tbody>\n",
       "</table>\n",
       "</div>"
      ],
      "text/plain": [
       "          gid                                           geometry    기준년월  \\\n",
       "0  다사49aa19ab  MULTIPOLYGON (((126.92477 37.27077, 126.92475 ...  202005   \n",
       "0  다사49aa19ab  MULTIPOLYGON (((126.92477 37.27077, 126.92475 ...  202011   \n",
       "0  다사49aa19ab  MULTIPOLYGON (((126.92477 37.27077, 126.92475 ...  202003   \n",
       "\n",
       "   월요일유동인구  화요일유동인구  수요일유동인구  목요일유동인구  금요일유동인구  토요일유동인구  일요일유동인구         lon  \\\n",
       "0     0.11     0.16     0.12     0.12     0.14     0.26     0.26  126.927402   \n",
       "0     7.82     7.20     7.12     7.03     7.73    11.58    10.79  126.927402   \n",
       "0     0.12     0.14     0.12     0.11     0.12     0.28     0.28  126.927402   \n",
       "\n",
       "         lat     년   월  \n",
       "0  37.271492  2020   5  \n",
       "0  37.271492  2020  11  \n",
       "0  37.271492  2020   3  "
      ]
     },
     "execution_count": 135,
     "metadata": {},
     "output_type": "execute_result"
    }
   ],
   "source": [
    "result_6_grid.head(3)"
   ]
  },
  {
   "cell_type": "markdown",
   "id": "selective-recommendation",
   "metadata": {},
   "source": [
    "#### 5.수원시_성연령별_유동인구(2020)"
   ]
  },
  {
   "cell_type": "code",
   "execution_count": 140,
   "id": "young-cylinder",
   "metadata": {},
   "outputs": [],
   "source": [
    "suwon_sex_age_flow_pop = pd.read_csv('5.수원시_성연령별_유동인구(2020).csv')\n",
    "# 데이터 읽어오기\n",
    "\n",
    "suwon_sex_age_flow_pop.columns = [\"기준년월\",\"남자유동인구수_10대_수치\",\"남자유동인구수_20대_수치\",\"남자유동인구수_30대_수치\",\n",
    "                                 \"남자유동인구수_40대_수치\",\"남자유동인구수_50대_수치\",\"남자유동인구수_60대이상_수치\",\n",
    "                                 \"여자유동인구수_10대_수치\",\"여자유동인구수_20대_수치\",\"여자유동인구수_30대_수치\",\n",
    "                                 \"여자유동인구수_40대_수치\",\"여자유동인구수_50대_수치\",\"여자유동인구수_60대이상_수치\",\"lon\",\"lat\"]\n",
    "# 열 이름 설정\n",
    "\n",
    "suwon_sex_age_flow_pop[\"년\"] = suwon_sex_age_flow_pop[\"기준년월\"].apply(lambda x : int(str(x)[:4]))\n",
    "suwon_sex_age_flow_pop[\"월\"] = suwon_sex_age_flow_pop[\"기준년월\"].apply(lambda x : int(str(x)[4:]))\n",
    "suwon_sex_age_flow_pop = suwon_sex_age_flow_pop.drop([\"기준년월\"],axis=1)\n",
    "# 기준년월 데이터 파싱"
   ]
  },
  {
   "cell_type": "code",
   "execution_count": 142,
   "id": "third-completion",
   "metadata": {},
   "outputs": [
    {
     "data": {
      "text/html": [
       "<div>\n",
       "<style scoped>\n",
       "    .dataframe tbody tr th:only-of-type {\n",
       "        vertical-align: middle;\n",
       "    }\n",
       "\n",
       "    .dataframe tbody tr th {\n",
       "        vertical-align: top;\n",
       "    }\n",
       "\n",
       "    .dataframe thead th {\n",
       "        text-align: right;\n",
       "    }\n",
       "</style>\n",
       "<table border=\"1\" class=\"dataframe\">\n",
       "  <thead>\n",
       "    <tr style=\"text-align: right;\">\n",
       "      <th></th>\n",
       "      <th>남자유동인구수_10대_수치</th>\n",
       "      <th>남자유동인구수_20대_수치</th>\n",
       "      <th>남자유동인구수_30대_수치</th>\n",
       "      <th>남자유동인구수_40대_수치</th>\n",
       "      <th>남자유동인구수_50대_수치</th>\n",
       "      <th>남자유동인구수_60대이상_수치</th>\n",
       "      <th>여자유동인구수_10대_수치</th>\n",
       "      <th>여자유동인구수_20대_수치</th>\n",
       "      <th>여자유동인구수_30대_수치</th>\n",
       "      <th>여자유동인구수_40대_수치</th>\n",
       "      <th>여자유동인구수_50대_수치</th>\n",
       "      <th>여자유동인구수_60대이상_수치</th>\n",
       "      <th>lon</th>\n",
       "      <th>lat</th>\n",
       "      <th>년</th>\n",
       "      <th>월</th>\n",
       "    </tr>\n",
       "  </thead>\n",
       "  <tbody>\n",
       "    <tr>\n",
       "      <th>0</th>\n",
       "      <td>0.00</td>\n",
       "      <td>0.02</td>\n",
       "      <td>0.04</td>\n",
       "      <td>0.04</td>\n",
       "      <td>0.04</td>\n",
       "      <td>0.02</td>\n",
       "      <td>0.00</td>\n",
       "      <td>0.00</td>\n",
       "      <td>0.04</td>\n",
       "      <td>0.04</td>\n",
       "      <td>0.04</td>\n",
       "      <td>0.02</td>\n",
       "      <td>126.929668</td>\n",
       "      <td>37.270151</td>\n",
       "      <td>2020</td>\n",
       "      <td>1</td>\n",
       "    </tr>\n",
       "    <tr>\n",
       "      <th>1</th>\n",
       "      <td>0.06</td>\n",
       "      <td>0.08</td>\n",
       "      <td>0.06</td>\n",
       "      <td>0.10</td>\n",
       "      <td>0.09</td>\n",
       "      <td>0.08</td>\n",
       "      <td>0.06</td>\n",
       "      <td>0.06</td>\n",
       "      <td>0.07</td>\n",
       "      <td>0.12</td>\n",
       "      <td>0.09</td>\n",
       "      <td>0.10</td>\n",
       "      <td>126.930229</td>\n",
       "      <td>37.270604</td>\n",
       "      <td>2020</td>\n",
       "      <td>1</td>\n",
       "    </tr>\n",
       "  </tbody>\n",
       "</table>\n",
       "</div>"
      ],
      "text/plain": [
       "   남자유동인구수_10대_수치  남자유동인구수_20대_수치  남자유동인구수_30대_수치  남자유동인구수_40대_수치  \\\n",
       "0            0.00            0.02            0.04            0.04   \n",
       "1            0.06            0.08            0.06            0.10   \n",
       "\n",
       "   남자유동인구수_50대_수치  남자유동인구수_60대이상_수치  여자유동인구수_10대_수치  여자유동인구수_20대_수치  \\\n",
       "0            0.04              0.02            0.00            0.00   \n",
       "1            0.09              0.08            0.06            0.06   \n",
       "\n",
       "   여자유동인구수_30대_수치  여자유동인구수_40대_수치  여자유동인구수_50대_수치  여자유동인구수_60대이상_수치  \\\n",
       "0            0.04            0.04            0.04              0.02   \n",
       "1            0.07            0.12            0.09              0.10   \n",
       "\n",
       "          lon        lat     년  월  \n",
       "0  126.929668  37.270151  2020  1  \n",
       "1  126.930229  37.270604  2020  1  "
      ]
     },
     "execution_count": 142,
     "metadata": {},
     "output_type": "execute_result"
    }
   ],
   "source": [
    "suwon_sex_age_flow_pop.head(2)"
   ]
  },
  {
   "cell_type": "markdown",
   "id": "frozen-rogers",
   "metadata": {},
   "source": [
    "1) 5번 데이터 경찰서 경계로 매핑하기"
   ]
  },
  {
   "cell_type": "code",
   "execution_count": 143,
   "id": "detected-gnome",
   "metadata": {},
   "outputs": [],
   "source": [
    "result_5_police = point_police(suwon_sex_age_flow_pop,others_police_area,None)"
   ]
  },
  {
   "cell_type": "code",
   "execution_count": 144,
   "id": "independent-surface",
   "metadata": {},
   "outputs": [
    {
     "data": {
      "text/html": [
       "<div>\n",
       "<style scoped>\n",
       "    .dataframe tbody tr th:only-of-type {\n",
       "        vertical-align: middle;\n",
       "    }\n",
       "\n",
       "    .dataframe tbody tr th {\n",
       "        vertical-align: top;\n",
       "    }\n",
       "\n",
       "    .dataframe thead th {\n",
       "        text-align: right;\n",
       "    }\n",
       "</style>\n",
       "<table border=\"1\" class=\"dataframe\">\n",
       "  <thead>\n",
       "    <tr style=\"text-align: right;\">\n",
       "      <th></th>\n",
       "      <th>관할경찰서</th>\n",
       "      <th>관할경찰청</th>\n",
       "      <th>geometry</th>\n",
       "      <th>남자유동인구수_10대_수치</th>\n",
       "      <th>남자유동인구수_20대_수치</th>\n",
       "      <th>남자유동인구수_30대_수치</th>\n",
       "      <th>남자유동인구수_40대_수치</th>\n",
       "      <th>남자유동인구수_50대_수치</th>\n",
       "      <th>남자유동인구수_60대이상_수치</th>\n",
       "      <th>여자유동인구수_10대_수치</th>\n",
       "      <th>여자유동인구수_20대_수치</th>\n",
       "      <th>여자유동인구수_30대_수치</th>\n",
       "      <th>여자유동인구수_40대_수치</th>\n",
       "      <th>여자유동인구수_50대_수치</th>\n",
       "      <th>여자유동인구수_60대이상_수치</th>\n",
       "      <th>lon</th>\n",
       "      <th>lat</th>\n",
       "      <th>년</th>\n",
       "      <th>월</th>\n",
       "    </tr>\n",
       "  </thead>\n",
       "  <tbody>\n",
       "    <tr>\n",
       "      <th>18</th>\n",
       "      <td>수원남부경찰서</td>\n",
       "      <td>경기남부청</td>\n",
       "      <td>MULTIPOLYGON (((127.03963 37.32102, 127.03969 ...</td>\n",
       "      <td>0.85</td>\n",
       "      <td>1.22</td>\n",
       "      <td>2.65</td>\n",
       "      <td>3.65</td>\n",
       "      <td>3.09</td>\n",
       "      <td>1.97</td>\n",
       "      <td>0.77</td>\n",
       "      <td>0.82</td>\n",
       "      <td>1.47</td>\n",
       "      <td>2.10</td>\n",
       "      <td>1.65</td>\n",
       "      <td>1.14</td>\n",
       "      <td>127.053961</td>\n",
       "      <td>37.231924</td>\n",
       "      <td>2020</td>\n",
       "      <td>5</td>\n",
       "    </tr>\n",
       "    <tr>\n",
       "      <th>18</th>\n",
       "      <td>수원남부경찰서</td>\n",
       "      <td>경기남부청</td>\n",
       "      <td>MULTIPOLYGON (((127.03963 37.32102, 127.03969 ...</td>\n",
       "      <td>0.51</td>\n",
       "      <td>1.02</td>\n",
       "      <td>2.72</td>\n",
       "      <td>3.38</td>\n",
       "      <td>2.94</td>\n",
       "      <td>1.90</td>\n",
       "      <td>0.57</td>\n",
       "      <td>0.68</td>\n",
       "      <td>1.33</td>\n",
       "      <td>1.86</td>\n",
       "      <td>1.44</td>\n",
       "      <td>0.99</td>\n",
       "      <td>127.053961</td>\n",
       "      <td>37.231924</td>\n",
       "      <td>2020</td>\n",
       "      <td>9</td>\n",
       "    </tr>\n",
       "  </tbody>\n",
       "</table>\n",
       "</div>"
      ],
      "text/plain": [
       "      관할경찰서  관할경찰청                                           geometry  \\\n",
       "18  수원남부경찰서  경기남부청  MULTIPOLYGON (((127.03963 37.32102, 127.03969 ...   \n",
       "18  수원남부경찰서  경기남부청  MULTIPOLYGON (((127.03963 37.32102, 127.03969 ...   \n",
       "\n",
       "    남자유동인구수_10대_수치  남자유동인구수_20대_수치  남자유동인구수_30대_수치  남자유동인구수_40대_수치  \\\n",
       "18            0.85            1.22            2.65            3.65   \n",
       "18            0.51            1.02            2.72            3.38   \n",
       "\n",
       "    남자유동인구수_50대_수치  남자유동인구수_60대이상_수치  여자유동인구수_10대_수치  여자유동인구수_20대_수치  \\\n",
       "18            3.09              1.97            0.77            0.82   \n",
       "18            2.94              1.90            0.57            0.68   \n",
       "\n",
       "    여자유동인구수_30대_수치  여자유동인구수_40대_수치  여자유동인구수_50대_수치  여자유동인구수_60대이상_수치  \\\n",
       "18            1.47            2.10            1.65              1.14   \n",
       "18            1.33            1.86            1.44              0.99   \n",
       "\n",
       "           lon        lat     년  월  \n",
       "18  127.053961  37.231924  2020  5  \n",
       "18  127.053961  37.231924  2020  9  "
      ]
     },
     "execution_count": 144,
     "metadata": {},
     "output_type": "execute_result"
    }
   ],
   "source": [
    "result_5_police.head(2)"
   ]
  },
  {
   "cell_type": "markdown",
   "id": "twelve-caution",
   "metadata": {},
   "source": [
    "2) 5번 데이터 격자 경계로 매핑하기"
   ]
  },
  {
   "cell_type": "code",
   "execution_count": 145,
   "id": "partial-violation",
   "metadata": {},
   "outputs": [],
   "source": [
    "result_5_grid = point_grid(suwon_sex_age_flow_pop,suwon_grid,None)"
   ]
  },
  {
   "cell_type": "code",
   "execution_count": 146,
   "id": "checked-arizona",
   "metadata": {},
   "outputs": [
    {
     "data": {
      "text/html": [
       "<div>\n",
       "<style scoped>\n",
       "    .dataframe tbody tr th:only-of-type {\n",
       "        vertical-align: middle;\n",
       "    }\n",
       "\n",
       "    .dataframe tbody tr th {\n",
       "        vertical-align: top;\n",
       "    }\n",
       "\n",
       "    .dataframe thead th {\n",
       "        text-align: right;\n",
       "    }\n",
       "</style>\n",
       "<table border=\"1\" class=\"dataframe\">\n",
       "  <thead>\n",
       "    <tr style=\"text-align: right;\">\n",
       "      <th></th>\n",
       "      <th>gid</th>\n",
       "      <th>geometry</th>\n",
       "      <th>남자유동인구수_10대_수치</th>\n",
       "      <th>남자유동인구수_20대_수치</th>\n",
       "      <th>남자유동인구수_30대_수치</th>\n",
       "      <th>남자유동인구수_40대_수치</th>\n",
       "      <th>남자유동인구수_50대_수치</th>\n",
       "      <th>남자유동인구수_60대이상_수치</th>\n",
       "      <th>여자유동인구수_10대_수치</th>\n",
       "      <th>여자유동인구수_20대_수치</th>\n",
       "      <th>여자유동인구수_30대_수치</th>\n",
       "      <th>여자유동인구수_40대_수치</th>\n",
       "      <th>여자유동인구수_50대_수치</th>\n",
       "      <th>여자유동인구수_60대이상_수치</th>\n",
       "      <th>lon</th>\n",
       "      <th>lat</th>\n",
       "      <th>년</th>\n",
       "      <th>월</th>\n",
       "    </tr>\n",
       "  </thead>\n",
       "  <tbody>\n",
       "    <tr>\n",
       "      <th>0</th>\n",
       "      <td>다사49aa19ab</td>\n",
       "      <td>MULTIPOLYGON (((126.92477 37.27077, 126.92475 ...</td>\n",
       "      <td>0.0</td>\n",
       "      <td>0.0</td>\n",
       "      <td>0.02</td>\n",
       "      <td>0.04</td>\n",
       "      <td>0.04</td>\n",
       "      <td>0.02</td>\n",
       "      <td>0.0</td>\n",
       "      <td>0.0</td>\n",
       "      <td>0.0</td>\n",
       "      <td>0.04</td>\n",
       "      <td>0.04</td>\n",
       "      <td>0.0</td>\n",
       "      <td>126.927402</td>\n",
       "      <td>37.271492</td>\n",
       "      <td>2020</td>\n",
       "      <td>5</td>\n",
       "    </tr>\n",
       "    <tr>\n",
       "      <th>0</th>\n",
       "      <td>다사49aa19ab</td>\n",
       "      <td>MULTIPOLYGON (((126.92477 37.27077, 126.92475 ...</td>\n",
       "      <td>0.0</td>\n",
       "      <td>0.0</td>\n",
       "      <td>0.00</td>\n",
       "      <td>0.02</td>\n",
       "      <td>0.04</td>\n",
       "      <td>0.02</td>\n",
       "      <td>0.0</td>\n",
       "      <td>0.0</td>\n",
       "      <td>0.0</td>\n",
       "      <td>0.04</td>\n",
       "      <td>0.02</td>\n",
       "      <td>0.0</td>\n",
       "      <td>126.927402</td>\n",
       "      <td>37.271492</td>\n",
       "      <td>2020</td>\n",
       "      <td>6</td>\n",
       "    </tr>\n",
       "  </tbody>\n",
       "</table>\n",
       "</div>"
      ],
      "text/plain": [
       "          gid                                           geometry  \\\n",
       "0  다사49aa19ab  MULTIPOLYGON (((126.92477 37.27077, 126.92475 ...   \n",
       "0  다사49aa19ab  MULTIPOLYGON (((126.92477 37.27077, 126.92475 ...   \n",
       "\n",
       "   남자유동인구수_10대_수치  남자유동인구수_20대_수치  남자유동인구수_30대_수치  남자유동인구수_40대_수치  \\\n",
       "0             0.0             0.0            0.02            0.04   \n",
       "0             0.0             0.0            0.00            0.02   \n",
       "\n",
       "   남자유동인구수_50대_수치  남자유동인구수_60대이상_수치  여자유동인구수_10대_수치  여자유동인구수_20대_수치  \\\n",
       "0            0.04              0.02             0.0             0.0   \n",
       "0            0.04              0.02             0.0             0.0   \n",
       "\n",
       "   여자유동인구수_30대_수치  여자유동인구수_40대_수치  여자유동인구수_50대_수치  여자유동인구수_60대이상_수치  \\\n",
       "0             0.0            0.04            0.04               0.0   \n",
       "0             0.0            0.04            0.02               0.0   \n",
       "\n",
       "          lon        lat     년  월  \n",
       "0  126.927402  37.271492  2020  5  \n",
       "0  126.927402  37.271492  2020  6  "
      ]
     },
     "execution_count": 146,
     "metadata": {},
     "output_type": "execute_result"
    }
   ],
   "source": [
    "result_5_grid.head(2)"
   ]
  },
  {
   "cell_type": "markdown",
   "id": "indoor-foster",
   "metadata": {},
   "source": [
    "#### 4.수원시_시간대별_유동인구(2020)"
   ]
  },
  {
   "cell_type": "code",
   "execution_count": 158,
   "id": "cardiac-shannon",
   "metadata": {},
   "outputs": [],
   "source": [
    "suwon_time_flow_pop = pd.read_csv('4.수원시_시간대별_유동인구(2020).csv')\n",
    "\n",
    "suwon_time_flow_pop.columns = [\"기준년월\",'0시기준_측정정보', '1시기준_측정정보', '2시기준_측정정보', '3시기준_측정정보', \n",
    "                               '4시기준_측정정보', '5시기준_측정정보', '6시기준_측정정보', '7시기준_측정정보', '8시기준_측정정보', \n",
    "                               '9시기준_측정정보', '10시기준_측정정보', '11시기준_측정정보', '12시기준_측정정보', '13시기준_측정정보',\n",
    "                               '14시기준_측정정보', '15시기준_측정정보', '16시기준_측정정보', '17시기준_측정정보', '18시기준_측정정보',\n",
    "                               '19시기준_측정정보', '20시기준_측정정보', '21시기준_측정정보', '22시기준_측정정보', '23시기준_측정정보',\n",
    "                               \"lon\",\"lat\"]\n",
    "# 열 이름 설정\n",
    "\n",
    "suwon_time_flow_pop[\"년\"] = suwon_time_flow_pop[\"기준년월\"].apply(lambda x : int(str(x)[:4]))\n",
    "suwon_time_flow_pop[\"월\"] = suwon_time_flow_pop[\"기준년월\"].apply(lambda x : int(str(x)[4:]))\n",
    "suwon_time_flow_pop = suwon_time_flow_pop.drop([\"기준년월\"],axis=1)\n",
    "# 기준년월 데이터 파싱"
   ]
  },
  {
   "cell_type": "markdown",
   "id": "demographic-actress",
   "metadata": {},
   "source": [
    "1) 4번 데이터 경찰서 경계로 매핑하기"
   ]
  },
  {
   "cell_type": "code",
   "execution_count": 160,
   "id": "musical-subscription",
   "metadata": {},
   "outputs": [],
   "source": [
    "result_4_police = point_police(suwon_time_flow_pop,others_police_area,None)"
   ]
  },
  {
   "cell_type": "code",
   "execution_count": 161,
   "id": "extra-triangle",
   "metadata": {},
   "outputs": [
    {
     "data": {
      "text/html": [
       "<div>\n",
       "<style scoped>\n",
       "    .dataframe tbody tr th:only-of-type {\n",
       "        vertical-align: middle;\n",
       "    }\n",
       "\n",
       "    .dataframe tbody tr th {\n",
       "        vertical-align: top;\n",
       "    }\n",
       "\n",
       "    .dataframe thead th {\n",
       "        text-align: right;\n",
       "    }\n",
       "</style>\n",
       "<table border=\"1\" class=\"dataframe\">\n",
       "  <thead>\n",
       "    <tr style=\"text-align: right;\">\n",
       "      <th></th>\n",
       "      <th>관할경찰서</th>\n",
       "      <th>관할경찰청</th>\n",
       "      <th>geometry</th>\n",
       "      <th>0시기준_측정정보</th>\n",
       "      <th>1시기준_측정정보</th>\n",
       "      <th>2시기준_측정정보</th>\n",
       "      <th>3시기준_측정정보</th>\n",
       "      <th>4시기준_측정정보</th>\n",
       "      <th>5시기준_측정정보</th>\n",
       "      <th>6시기준_측정정보</th>\n",
       "      <th>...</th>\n",
       "      <th>18시기준_측정정보</th>\n",
       "      <th>19시기준_측정정보</th>\n",
       "      <th>20시기준_측정정보</th>\n",
       "      <th>21시기준_측정정보</th>\n",
       "      <th>22시기준_측정정보</th>\n",
       "      <th>23시기준_측정정보</th>\n",
       "      <th>lon</th>\n",
       "      <th>lat</th>\n",
       "      <th>년</th>\n",
       "      <th>월</th>\n",
       "    </tr>\n",
       "  </thead>\n",
       "  <tbody>\n",
       "    <tr>\n",
       "      <th>18</th>\n",
       "      <td>수원남부경찰서</td>\n",
       "      <td>경기남부청</td>\n",
       "      <td>MULTIPOLYGON (((127.03963 37.32102, 127.03969 ...</td>\n",
       "      <td>0.51</td>\n",
       "      <td>0.60</td>\n",
       "      <td>0.35</td>\n",
       "      <td>0.32</td>\n",
       "      <td>0.28</td>\n",
       "      <td>0.41</td>\n",
       "      <td>1.01</td>\n",
       "      <td>...</td>\n",
       "      <td>2.37</td>\n",
       "      <td>1.75</td>\n",
       "      <td>1.45</td>\n",
       "      <td>1.27</td>\n",
       "      <td>1.02</td>\n",
       "      <td>0.78</td>\n",
       "      <td>127.053961</td>\n",
       "      <td>37.231924</td>\n",
       "      <td>2020</td>\n",
       "      <td>11</td>\n",
       "    </tr>\n",
       "    <tr>\n",
       "      <th>18</th>\n",
       "      <td>수원남부경찰서</td>\n",
       "      <td>경기남부청</td>\n",
       "      <td>MULTIPOLYGON (((127.03963 37.32102, 127.03969 ...</td>\n",
       "      <td>0.42</td>\n",
       "      <td>0.26</td>\n",
       "      <td>0.21</td>\n",
       "      <td>0.18</td>\n",
       "      <td>0.18</td>\n",
       "      <td>0.28</td>\n",
       "      <td>0.81</td>\n",
       "      <td>...</td>\n",
       "      <td>1.89</td>\n",
       "      <td>1.52</td>\n",
       "      <td>1.15</td>\n",
       "      <td>0.92</td>\n",
       "      <td>0.95</td>\n",
       "      <td>0.87</td>\n",
       "      <td>127.053961</td>\n",
       "      <td>37.231924</td>\n",
       "      <td>2020</td>\n",
       "      <td>5</td>\n",
       "    </tr>\n",
       "  </tbody>\n",
       "</table>\n",
       "<p>2 rows × 31 columns</p>\n",
       "</div>"
      ],
      "text/plain": [
       "      관할경찰서  관할경찰청                                           geometry  \\\n",
       "18  수원남부경찰서  경기남부청  MULTIPOLYGON (((127.03963 37.32102, 127.03969 ...   \n",
       "18  수원남부경찰서  경기남부청  MULTIPOLYGON (((127.03963 37.32102, 127.03969 ...   \n",
       "\n",
       "    0시기준_측정정보  1시기준_측정정보  2시기준_측정정보  3시기준_측정정보  4시기준_측정정보  5시기준_측정정보  \\\n",
       "18       0.51       0.60       0.35       0.32       0.28       0.41   \n",
       "18       0.42       0.26       0.21       0.18       0.18       0.28   \n",
       "\n",
       "    6시기준_측정정보  ...  18시기준_측정정보  19시기준_측정정보  20시기준_측정정보  21시기준_측정정보  \\\n",
       "18       1.01  ...        2.37        1.75        1.45        1.27   \n",
       "18       0.81  ...        1.89        1.52        1.15        0.92   \n",
       "\n",
       "    22시기준_측정정보  23시기준_측정정보         lon        lat     년   월  \n",
       "18        1.02        0.78  127.053961  37.231924  2020  11  \n",
       "18        0.95        0.87  127.053961  37.231924  2020   5  \n",
       "\n",
       "[2 rows x 31 columns]"
      ]
     },
     "execution_count": 161,
     "metadata": {},
     "output_type": "execute_result"
    }
   ],
   "source": [
    "result_4_police.head(2)"
   ]
  },
  {
   "cell_type": "code",
   "execution_count": 162,
   "id": "serial-horizontal",
   "metadata": {},
   "outputs": [
    {
     "name": "stdout",
     "output_type": "stream",
     "text": [
      "(414528, 31) (416080, 28)\n"
     ]
    }
   ],
   "source": [
    "print(result_4_police.shape,suwon_time_flow_pop.shape)"
   ]
  },
  {
   "cell_type": "code",
   "execution_count": null,
   "id": "instrumental-variance",
   "metadata": {},
   "outputs": [],
   "source": []
  },
  {
   "cell_type": "code",
   "execution_count": null,
   "id": "attempted-tenant",
   "metadata": {},
   "outputs": [],
   "source": []
  },
  {
   "cell_type": "markdown",
   "id": "crucial-satisfaction",
   "metadata": {},
   "source": [
    "2) 4번 데이터 격자 경계로 매핑하기"
   ]
  },
  {
   "cell_type": "code",
   "execution_count": 164,
   "id": "mineral-circuit",
   "metadata": {},
   "outputs": [],
   "source": [
    "result_4_grid = point_grid(suwon_time_flow_pop,suwon_grid,None)"
   ]
  },
  {
   "cell_type": "code",
   "execution_count": 165,
   "id": "excellent-station",
   "metadata": {},
   "outputs": [
    {
     "data": {
      "text/html": [
       "<div>\n",
       "<style scoped>\n",
       "    .dataframe tbody tr th:only-of-type {\n",
       "        vertical-align: middle;\n",
       "    }\n",
       "\n",
       "    .dataframe tbody tr th {\n",
       "        vertical-align: top;\n",
       "    }\n",
       "\n",
       "    .dataframe thead th {\n",
       "        text-align: right;\n",
       "    }\n",
       "</style>\n",
       "<table border=\"1\" class=\"dataframe\">\n",
       "  <thead>\n",
       "    <tr style=\"text-align: right;\">\n",
       "      <th></th>\n",
       "      <th>gid</th>\n",
       "      <th>geometry</th>\n",
       "      <th>0시기준_측정정보</th>\n",
       "      <th>1시기준_측정정보</th>\n",
       "      <th>2시기준_측정정보</th>\n",
       "      <th>3시기준_측정정보</th>\n",
       "      <th>4시기준_측정정보</th>\n",
       "      <th>5시기준_측정정보</th>\n",
       "      <th>6시기준_측정정보</th>\n",
       "      <th>7시기준_측정정보</th>\n",
       "      <th>...</th>\n",
       "      <th>18시기준_측정정보</th>\n",
       "      <th>19시기준_측정정보</th>\n",
       "      <th>20시기준_측정정보</th>\n",
       "      <th>21시기준_측정정보</th>\n",
       "      <th>22시기준_측정정보</th>\n",
       "      <th>23시기준_측정정보</th>\n",
       "      <th>lon</th>\n",
       "      <th>lat</th>\n",
       "      <th>년</th>\n",
       "      <th>월</th>\n",
       "    </tr>\n",
       "  </thead>\n",
       "  <tbody>\n",
       "    <tr>\n",
       "      <th>0</th>\n",
       "      <td>다사49aa19ab</td>\n",
       "      <td>MULTIPOLYGON (((126.92477 37.27077, 126.92475 ...</td>\n",
       "      <td>0.04</td>\n",
       "      <td>0.04</td>\n",
       "      <td>0.02</td>\n",
       "      <td>0.02</td>\n",
       "      <td>0.02</td>\n",
       "      <td>0.02</td>\n",
       "      <td>0.05</td>\n",
       "      <td>0.04</td>\n",
       "      <td>...</td>\n",
       "      <td>0.07</td>\n",
       "      <td>0.05</td>\n",
       "      <td>0.05</td>\n",
       "      <td>0.04</td>\n",
       "      <td>0.04</td>\n",
       "      <td>0.04</td>\n",
       "      <td>126.927402</td>\n",
       "      <td>37.271492</td>\n",
       "      <td>2020</td>\n",
       "      <td>7</td>\n",
       "    </tr>\n",
       "    <tr>\n",
       "      <th>0</th>\n",
       "      <td>다사49aa19ab</td>\n",
       "      <td>MULTIPOLYGON (((126.92477 37.27077, 126.92475 ...</td>\n",
       "      <td>0.00</td>\n",
       "      <td>0.00</td>\n",
       "      <td>0.00</td>\n",
       "      <td>0.00</td>\n",
       "      <td>0.00</td>\n",
       "      <td>0.00</td>\n",
       "      <td>0.00</td>\n",
       "      <td>0.00</td>\n",
       "      <td>...</td>\n",
       "      <td>0.02</td>\n",
       "      <td>0.02</td>\n",
       "      <td>0.00</td>\n",
       "      <td>0.00</td>\n",
       "      <td>0.00</td>\n",
       "      <td>0.00</td>\n",
       "      <td>126.927402</td>\n",
       "      <td>37.271492</td>\n",
       "      <td>2020</td>\n",
       "      <td>8</td>\n",
       "    </tr>\n",
       "  </tbody>\n",
       "</table>\n",
       "<p>2 rows × 30 columns</p>\n",
       "</div>"
      ],
      "text/plain": [
       "          gid                                           geometry  0시기준_측정정보  \\\n",
       "0  다사49aa19ab  MULTIPOLYGON (((126.92477 37.27077, 126.92475 ...       0.04   \n",
       "0  다사49aa19ab  MULTIPOLYGON (((126.92477 37.27077, 126.92475 ...       0.00   \n",
       "\n",
       "   1시기준_측정정보  2시기준_측정정보  3시기준_측정정보  4시기준_측정정보  5시기준_측정정보  6시기준_측정정보  \\\n",
       "0       0.04       0.02       0.02       0.02       0.02       0.05   \n",
       "0       0.00       0.00       0.00       0.00       0.00       0.00   \n",
       "\n",
       "   7시기준_측정정보  ...  18시기준_측정정보  19시기준_측정정보  20시기준_측정정보  21시기준_측정정보  22시기준_측정정보  \\\n",
       "0       0.04  ...        0.07        0.05        0.05        0.04        0.04   \n",
       "0       0.00  ...        0.02        0.02        0.00        0.00        0.00   \n",
       "\n",
       "   23시기준_측정정보         lon        lat     년  월  \n",
       "0        0.04  126.927402  37.271492  2020  7  \n",
       "0        0.00  126.927402  37.271492  2020  8  \n",
       "\n",
       "[2 rows x 30 columns]"
      ]
     },
     "execution_count": 165,
     "metadata": {},
     "output_type": "execute_result"
    }
   ],
   "source": [
    "result_4_grid.head(2)"
   ]
  },
  {
   "cell_type": "code",
   "execution_count": 166,
   "id": "described-superintendent",
   "metadata": {},
   "outputs": [
    {
     "name": "stdout",
     "output_type": "stream",
     "text": [
      "(415814, 30) (416080, 28)\n"
     ]
    }
   ],
   "source": [
    "print(result_4_grid.shape,suwon_time_flow_pop.shape)"
   ]
  },
  {
   "cell_type": "markdown",
   "id": "under-giant",
   "metadata": {},
   "source": [
    "### 4,5,6번 격자 데이터 합치기\n",
    "- suwon_time_flow_pop = pd.read_csv('4.수원시_시간대별_유동인구(2020).csv')\n",
    "- suwon_sex_age_flow_pop = pd.read_csv('5.수원시_성연령별_유동인구(2020).csv')\n",
    "- suwon_day_flow_pop = pd.read_csv('6.수원시_요일별_유동인구(2020).csv')"
   ]
  },
  {
   "cell_type": "code",
   "execution_count": 174,
   "id": "trying-supplement",
   "metadata": {},
   "outputs": [],
   "source": [
    "concat1 = pd.merge(suwon_time_flow_pop,suwon_sex_age_flow_pop,on = [\"lon\",\"lat\",\"년\",\"월\"],how=\"inner\")\n",
    "concat2 = pd.merge(suwon_day_flow_pop,concat1,on = [\"lon\",\"lat\",\"년\",\"월\"],how=\"inner\")"
   ]
  },
  {
   "cell_type": "code",
   "execution_count": 176,
   "id": "tired-directory",
   "metadata": {},
   "outputs": [
    {
     "data": {
      "text/plain": [
       "Index(['기준년월', '월요일유동인구', '화요일유동인구', '수요일유동인구', '목요일유동인구', '금요일유동인구',\n",
       "       '토요일유동인구', '일요일유동인구', 'lon', 'lat', '년', '월', '0시기준_측정정보', '1시기준_측정정보',\n",
       "       '2시기준_측정정보', '3시기준_측정정보', '4시기준_측정정보', '5시기준_측정정보', '6시기준_측정정보',\n",
       "       '7시기준_측정정보', '8시기준_측정정보', '9시기준_측정정보', '10시기준_측정정보', '11시기준_측정정보',\n",
       "       '12시기준_측정정보', '13시기준_측정정보', '14시기준_측정정보', '15시기준_측정정보', '16시기준_측정정보',\n",
       "       '17시기준_측정정보', '18시기준_측정정보', '19시기준_측정정보', '20시기준_측정정보', '21시기준_측정정보',\n",
       "       '22시기준_측정정보', '23시기준_측정정보', '남자유동인구수_10대_수치', '남자유동인구수_20대_수치',\n",
       "       '남자유동인구수_30대_수치', '남자유동인구수_40대_수치', '남자유동인구수_50대_수치',\n",
       "       '남자유동인구수_60대이상_수치', '여자유동인구수_10대_수치', '여자유동인구수_20대_수치',\n",
       "       '여자유동인구수_30대_수치', '여자유동인구수_40대_수치', '여자유동인구수_50대_수치',\n",
       "       '여자유동인구수_60대이상_수치'],\n",
       "      dtype='object')"
      ]
     },
     "execution_count": 176,
     "metadata": {},
     "output_type": "execute_result"
    }
   ],
   "source": [
    "concat2.columns"
   ]
  },
  {
   "cell_type": "code",
   "execution_count": null,
   "id": "agreed-crisis",
   "metadata": {},
   "outputs": [],
   "source": []
  },
  {
   "cell_type": "code",
   "execution_count": null,
   "id": "covered-transaction",
   "metadata": {},
   "outputs": [],
   "source": []
  }
 ],
 "metadata": {
  "kernelspec": {
   "display_name": "Python 3",
   "language": "python",
   "name": "python3"
  },
  "language_info": {
   "codemirror_mode": {
    "name": "ipython",
    "version": 3
   },
   "file_extension": ".py",
   "mimetype": "text/x-python",
   "name": "python",
   "nbconvert_exporter": "python",
   "pygments_lexer": "ipython3",
   "version": "3.6.9"
  }
 },
 "nbformat": 4,
 "nbformat_minor": 5
}
