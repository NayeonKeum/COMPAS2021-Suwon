{
 "cells": [
  {
   "cell_type": "code",
   "execution_count": 1,
   "id": "funny-script",
   "metadata": {},
   "outputs": [],
   "source": [
    "from geoband.API import *\n",
    "import pandas as pd\n",
    "import numpy as np\n",
    "import warnings\n",
    "warnings.filterwarnings(\"ignore\")\n",
    "import geopandas as gpd\n",
    "import json\n",
    "from pandas import json_normalize\n",
    "import folium\n",
    "from folium.plugins import MarkerCluster\n",
    "import matplotlib.pyplot as plt\n",
    "import folium\n",
    "from folium import Choropleth, Circle, Marker\n",
    "from folium.plugins import HeatMap, MarkerCluster\n",
    "from folium import Choropleth\n",
    "import matplotlib\n",
    "from datetime import datetime \n",
    "# GetCompasData로 주피터 노트북 경로에 파일 저장\n",
    "from shapely.geometry import Point, Polygon, LineString\n",
    "from fiona.crs import from_string\n",
    "matplotlib.rcParams['font.family']=\"Malgun Gothic\"\n",
    "import pydeck as pdk\n",
    "import mapboxgl\n",
    "mapboxgl.__version__\n",
    "from mapboxgl.viz import *\n",
    "import os\n",
    "from mapboxgl.utils import create_color_stops\n",
    "from mapboxgl.utils import create_numeric_stops\n",
    "import jenkspy"
   ]
  },
  {
   "cell_type": "code",
   "execution_count": 2,
   "id": "silver-array",
   "metadata": {},
   "outputs": [],
   "source": [
    "#원래 데이터\n",
    "suwon_112 = pd.read_csv('1.수원시_112신고이력(격자_관할경계매핑).csv')\n",
    "others_112 = pd.read_csv('3.3개시도_112신고이력(관할경계매핑).csv')\n",
    "others_alcohol = gpd.read_file('8.4개시도_유흥업소현황.geojson')\n",
    "others_police_area = gpd.read_file('11.4개시도_경찰서_관할경계.geojson')\n",
    "others_police_box_area = gpd.read_file('12.4개시도_치안안전센터_관할경계.geojson')\n",
    "others_security_lamp = pd.read_csv('22.4개시도_보안등현황.csv')\n",
    "others_security_bell = gpd.read_file('23.4개시도_안전비상벨현황.geojson')\n",
    "others_cctv = pd.read_csv('24.4개시도_CCTV설치현황.csv')\n",
    "suwon_building = pd.read_csv('26.수원시_건축물대장(표제부).csv')\n",
    "others_park = pd.read_csv('27.4개시도_공원현황.csv')\n",
    "others_police = pd.read_csv('39.4개시도_경찰관서현황.csv')\n",
    "others_playground = pd.read_csv('40.4개시도_어린이놀이시설현황.csv')\n",
    "others_land_use_plan = gpd.read_file('41.4개시도_토지이용계획도.geojson')\n",
    "others_convenience = gpd.read_file('42.4개시도_편의점현황.geojson')\n",
    "\n",
    "\n",
    "\n",
    "#구,동별로 되어 있는 데이터\n",
    "suwon_homeless = pd.read_csv('13.수원시_노숙인자활시설현황.csv')\n",
    "suwon_child_welfare = pd.read_csv('14.수원시_아동복지시설현황.csv')\n",
    "suwon_child_center = pd.read_csv('15.수원시_지역아동센터시설현황.csv')\n",
    "suwon_youth_study = pd.read_csv('16.수원시_청소년공부방현황.csv')\n",
    "suwon_library = pd.read_csv('17.수원시_도서관현황.csv')\n",
    "suwon_free_cafeteria =pd.read_csv('18.수원시_무료급식소현황.csv')\n",
    "suwon_child_free_cafeteria = pd.read_csv('19.수원시_아동복지급식소현황.csv')\n",
    "suwon_female_parcel = pd.read_csv('20.수원시_여성안심택배함현황.csv')\n",
    "suwon_street_lamp = pd.read_csv('21.수원시_가로등현황.csv')\n",
    "\n",
    "\n",
    "# 병원, 약국 데이터\n",
    "병원_4개시 = pd.read_csv('4개시도_병원.csv')\n",
    "약국_4개시 = pd.read_csv('4개시도_약국.csv')"
   ]
  },
  {
   "cell_type": "markdown",
   "id": "starting-waste",
   "metadata": {},
   "source": [
    "### 치안센터 기준의 데이터프레임 생성"
   ]
  },
  {
   "cell_type": "code",
   "execution_count": 3,
   "id": "choice-universal",
   "metadata": {},
   "outputs": [],
   "source": [
    "others_police_box_area.columns=['관할치안센터','관할경찰서','geometry']\n",
    "others_police_box_area=others_police_box_area.drop_duplicates(['관할치안센터'])\n",
    "others_police_box_area.reset_index(drop=True,inplace=True)"
   ]
  },
  {
   "cell_type": "code",
   "execution_count": 4,
   "id": "purple-liberal",
   "metadata": {},
   "outputs": [],
   "source": [
    "police_box_4sido = others_police_box_area.copy()\n",
    "police_box_4sido = police_box_4sido[['관할치안센터','관할경찰서','geometry']]\n",
    "police_box_4sido.sort_values(by=[\"관할치안센터\"], inplace=True)\n",
    "police_box_4sido.reset_index(inplace = True,drop=True)"
   ]
  },
  {
   "cell_type": "markdown",
   "id": "furnished-exposure",
   "metadata": {},
   "source": [
    "### mapping & count 함수 생성"
   ]
  },
  {
   "cell_type": "code",
   "execution_count": 5,
   "id": "thermal-sentence",
   "metadata": {},
   "outputs": [],
   "source": [
    "def point_police_box(data_df,oters_police_box_area,col):\n",
    "    df = data_df.copy()\n",
    "\n",
    "    epsg4326 = from_string(\"+proj=longlat +ellps=WGS84 +datum=WGS84 +no_defs\")\n",
    "    df['geometry'] = df.apply(lambda x : Point([x['lon'], x['lat']]), axis=1)\n",
    "    df = gpd.GeoDataFrame(df, geometry='geometry', crs = epsg4326)\n",
    "    \n",
    "    police_box_result = gpd.sjoin(others_police_box_area, df, how='inner', op=\"intersects\").drop([\"index_right\"],axis=1)\n",
    "    \n",
    "    police_box_result_groupby = police_box_result.groupby(\"관할치안센터\").agg({col:\"count\"}).reset_index().rename(columns={col:\"cnt\"})\n",
    "    \n",
    "    return police_box_result,police_box_result_groupby\n",
    "\n",
    "# 카운트용 함수\n",
    "\n",
    "def point_police_box_count(data_df,others_police_box,col):\n",
    "    df = data_df.copy()\n",
    "\n",
    "    epsg4326 = from_string(\"+proj=longlat +ellps=WGS84 +datum=WGS84 +no_defs\")\n",
    "    df['geometry'] = df.apply(lambda x : Point([x['lon'], x['lat']]), axis=1)\n",
    "    df = gpd.GeoDataFrame(df, geometry='geometry', crs = epsg4326)\n",
    "    \n",
    "    police_box_result = gpd.sjoin(others_police_box_area, df, how='inner', op=\"intersects\").drop([\"index_right\"],axis=1)\n",
    "    \n",
    "    police_box_result_groupby = police_box_result.groupby(\"관할치안센터\").agg({col:\"sum\"}).reset_index().rename(columns={col:\"cnt\"})\n",
    "    \n",
    "    return police_box_result,police_box_result_groupby    \n",
    "def police_box_4sido_count(df,name):\n",
    "    for i in range(len(df)):\n",
    "        for j in range(len(police_box_4sido)):\n",
    "            if df.loc[i, '관할치안센터'] == police_box_4sido.loc[j, '관할치안센터']:\n",
    "                    police_box_4sido.loc[j, name]=df.loc[i, 'cnt']"
   ]
  },
  {
   "cell_type": "markdown",
   "id": "latest-surface",
   "metadata": {},
   "source": [
    "#### 지역명 매핑"
   ]
  },
  {
   "cell_type": "code",
   "execution_count": 6,
   "id": "affiliated-salmon",
   "metadata": {},
   "outputs": [],
   "source": [
    "area_list = []\n",
    "for i in range(len(police_box_4sido)):\n",
    "    area_list.append(police_box_4sido['관할경찰서'][i][0:2])\n",
    "for i in range(len(area_list)):\n",
    "    if (area_list[i]=='마산') | (area_list[i] == '진해'):\n",
    "        area_list[i] = '창원'\n",
    "police_box_4sido['지역'] = area_list\n"
   ]
  },
  {
   "cell_type": "markdown",
   "id": "equivalent-reducing",
   "metadata": {},
   "source": [
    "## 27.4개시도_공원현황 mapping"
   ]
  },
  {
   "cell_type": "code",
   "execution_count": 7,
   "id": "opposite-senior",
   "metadata": {},
   "outputs": [],
   "source": [
    "others_park_result_1, others_park_groupby=point_police_box(others_park,others_police_box_area,'park_gbn')\n",
    "others_park_result=others_park_result_1.groupby(['관할치안센터', 'park_gbn']).count()\n",
    "others_park_result.reset_index(inplace=True)\n",
    "others_park_result=others_park_result[['관할치안센터','park_gbn','park_nm']]\n",
    "police_box_4sido_count(others_park_groupby,'공원')"
   ]
  },
  {
   "cell_type": "markdown",
   "id": "traditional-municipality",
   "metadata": {},
   "source": [
    "### 40.4개시도_어린이놀이시설현황/40.4개시도_어린이놀이시설현황_구별종류별"
   ]
  },
  {
   "cell_type": "code",
   "execution_count": 8,
   "id": "incorporated-clerk",
   "metadata": {},
   "outputs": [],
   "source": [
    "others_playground_result, others_playground_groupby=point_police_box(others_playground,others_police_box_area,'fac_loc')\n",
    "police_box_4sido_count(others_playground_groupby,'놀이시설')"
   ]
  },
  {
   "cell_type": "markdown",
   "id": "needed-bernard",
   "metadata": {},
   "source": [
    "### 42.4개시도_편의점현황/42.4개시도_편의점현황_업체별수"
   ]
  },
  {
   "cell_type": "code",
   "execution_count": 9,
   "id": "functional-abuse",
   "metadata": {},
   "outputs": [],
   "source": [
    "others_convenience_result, others_convenience_groupby=point_police_box(others_convenience,others_police_box_area,'KSIC_NM')\n",
    "others_convenience_result=others_convenience_result.groupby(['관할치안센터', 'KSIC_NM']).count()\n",
    "others_convenience_result.reset_index(inplace=True)\n",
    "others_convenience_result=others_convenience_result[['관할치안센터','KSIC_NM','BUSINESS_NM']]\n",
    "police_box_4sido_count(others_convenience_groupby,'편의점')"
   ]
  },
  {
   "cell_type": "markdown",
   "id": "concrete-equation",
   "metadata": {},
   "source": [
    "## 22.4개시도_보안등현황 mapping"
   ]
  },
  {
   "cell_type": "code",
   "execution_count": 10,
   "id": "confirmed-contributor",
   "metadata": {},
   "outputs": [],
   "source": [
    "others_security_lamp_result, others_security_lamp_groupby=point_police_box_count(others_security_lamp,others_police_box_area,'securitylight_cnt')\n",
    "police_box_4sido_count(others_security_lamp_groupby,'보안등')"
   ]
  },
  {
   "cell_type": "markdown",
   "id": "desirable-louisville",
   "metadata": {},
   "source": [
    "## 23.4개시도_안전비상벨현황 mapping"
   ]
  },
  {
   "cell_type": "code",
   "execution_count": 11,
   "id": "corporate-fence",
   "metadata": {},
   "outputs": [],
   "source": [
    "others_security_bell_result = gpd.sjoin(others_police_box_area, others_security_bell, how='inner', op=\"intersects\").drop([\"index_right\"],axis=1)\n",
    "others_security_bell_groupby = others_security_bell_result.groupby(\"관할치안센터\").agg({'bell_us':\"count\"}).reset_index().rename(columns={'bell_us':\"cnt\"})\n",
    "others_security_bell_result=others_security_bell_result.groupby(['관할치안센터', 'bell_us'])['관할경찰서'].count()\n",
    "others_security_bell_result=others_security_bell_result.to_frame().reset_index().rename(columns={'관할경찰서':\"cnt\"})\n",
    "police_box_4sido_count(others_security_bell_groupby,'비상벨')"
   ]
  },
  {
   "cell_type": "markdown",
   "id": "automotive-mention",
   "metadata": {},
   "source": [
    "## 24.4개시도_CCTV설치현황 mapping"
   ]
  },
  {
   "cell_type": "code",
   "execution_count": 12,
   "id": "northern-athens",
   "metadata": {},
   "outputs": [],
   "source": [
    "others_cctv_result,others_cctv_groupby = point_police_box_count(others_cctv,others_police_box_area,'cctv_cnt')\n",
    "others_cctv_result = others_cctv_result.groupby(['관할치안센터','purpose'])['cctv_cnt'].sum()\n",
    "others_cctv_result=others_cctv_result.to_frame().reset_index()\n",
    "police_box_4sido_count(others_cctv_groupby,'cctv')"
   ]
  },
  {
   "cell_type": "code",
   "execution_count": 13,
   "id": "billion-ecology",
   "metadata": {},
   "outputs": [
    {
     "data": {
      "text/html": [
       "<div>\n",
       "<style scoped>\n",
       "    .dataframe tbody tr th:only-of-type {\n",
       "        vertical-align: middle;\n",
       "    }\n",
       "\n",
       "    .dataframe tbody tr th {\n",
       "        vertical-align: top;\n",
       "    }\n",
       "\n",
       "    .dataframe thead th {\n",
       "        text-align: right;\n",
       "    }\n",
       "</style>\n",
       "<table border=\"1\" class=\"dataframe\">\n",
       "  <thead>\n",
       "    <tr style=\"text-align: right;\">\n",
       "      <th></th>\n",
       "      <th>address</th>\n",
       "      <th>purpose</th>\n",
       "      <th>cctv_cnt</th>\n",
       "      <th>set_yr</th>\n",
       "      <th>lat</th>\n",
       "      <th>lon</th>\n",
       "    </tr>\n",
       "  </thead>\n",
       "  <tbody>\n",
       "    <tr>\n",
       "      <th>0</th>\n",
       "      <td>경상남도 진주시 집현면 지내리 125</td>\n",
       "      <td>어린이보호</td>\n",
       "      <td>1</td>\n",
       "      <td>`2013-12</td>\n",
       "      <td>35.241319</td>\n",
       "      <td>128.093399</td>\n",
       "    </tr>\n",
       "    <tr>\n",
       "      <th>1</th>\n",
       "      <td>경상남도 진주시 집현면 지내리 125</td>\n",
       "      <td>어린이보호</td>\n",
       "      <td>4</td>\n",
       "      <td>`2013-12</td>\n",
       "      <td>35.242023</td>\n",
       "      <td>128.091990</td>\n",
       "    </tr>\n",
       "    <tr>\n",
       "      <th>2</th>\n",
       "      <td>경상남도 진주시 집현면 지내리 125</td>\n",
       "      <td>어린이보호</td>\n",
       "      <td>4</td>\n",
       "      <td>`2013-12</td>\n",
       "      <td>35.241209</td>\n",
       "      <td>128.092923</td>\n",
       "    </tr>\n",
       "    <tr>\n",
       "      <th>3</th>\n",
       "      <td>경상남도 진주시 진성면 상촌리 541-2</td>\n",
       "      <td>어린이보호</td>\n",
       "      <td>1</td>\n",
       "      <td>`2013-12</td>\n",
       "      <td>35.169310</td>\n",
       "      <td>128.224780</td>\n",
       "    </tr>\n",
       "    <tr>\n",
       "      <th>4</th>\n",
       "      <td>경상남도 진주시 진성면 상촌리 541-2</td>\n",
       "      <td>어린이보호</td>\n",
       "      <td>4</td>\n",
       "      <td>`2013-12</td>\n",
       "      <td>35.169223</td>\n",
       "      <td>128.225446</td>\n",
       "    </tr>\n",
       "    <tr>\n",
       "      <th>...</th>\n",
       "      <td>...</td>\n",
       "      <td>...</td>\n",
       "      <td>...</td>\n",
       "      <td>...</td>\n",
       "      <td>...</td>\n",
       "      <td>...</td>\n",
       "    </tr>\n",
       "    <tr>\n",
       "      <th>44974</th>\n",
       "      <td>서울특별시 성북구 길음동 635-7</td>\n",
       "      <td>어린이보호</td>\n",
       "      <td>4</td>\n",
       "      <td>`2010-12</td>\n",
       "      <td>37.613782</td>\n",
       "      <td>127.018663</td>\n",
       "    </tr>\n",
       "    <tr>\n",
       "      <th>44975</th>\n",
       "      <td>서울특별시 성북구 길음동 1280-4</td>\n",
       "      <td>어린이보호</td>\n",
       "      <td>4</td>\n",
       "      <td>`2010-12</td>\n",
       "      <td>37.610174</td>\n",
       "      <td>127.015332</td>\n",
       "    </tr>\n",
       "    <tr>\n",
       "      <th>44976</th>\n",
       "      <td>서울특별시 성북구 길음동 1168</td>\n",
       "      <td>어린이보호</td>\n",
       "      <td>4</td>\n",
       "      <td>`2010-12</td>\n",
       "      <td>37.609928</td>\n",
       "      <td>127.022334</td>\n",
       "    </tr>\n",
       "    <tr>\n",
       "      <th>44977</th>\n",
       "      <td>서울특별시 성북구 하월곡동 87-6</td>\n",
       "      <td>어린이보호</td>\n",
       "      <td>4</td>\n",
       "      <td>`2010-12</td>\n",
       "      <td>37.609267</td>\n",
       "      <td>127.032080</td>\n",
       "    </tr>\n",
       "    <tr>\n",
       "      <th>44978</th>\n",
       "      <td>서울특별시 성북구 하월곡동 산2-140</td>\n",
       "      <td>어린이보호</td>\n",
       "      <td>4</td>\n",
       "      <td>`2010-12</td>\n",
       "      <td>37.608349</td>\n",
       "      <td>127.039415</td>\n",
       "    </tr>\n",
       "  </tbody>\n",
       "</table>\n",
       "<p>44979 rows × 6 columns</p>\n",
       "</div>"
      ],
      "text/plain": [
       "                      address purpose  cctv_cnt    set_yr        lat  \\\n",
       "0        경상남도 진주시 집현면 지내리 125   어린이보호         1  `2013-12  35.241319   \n",
       "1        경상남도 진주시 집현면 지내리 125   어린이보호         4  `2013-12  35.242023   \n",
       "2        경상남도 진주시 집현면 지내리 125   어린이보호         4  `2013-12  35.241209   \n",
       "3      경상남도 진주시 진성면 상촌리 541-2   어린이보호         1  `2013-12  35.169310   \n",
       "4      경상남도 진주시 진성면 상촌리 541-2   어린이보호         4  `2013-12  35.169223   \n",
       "...                       ...     ...       ...       ...        ...   \n",
       "44974     서울특별시 성북구 길음동 635-7   어린이보호         4  `2010-12  37.613782   \n",
       "44975    서울특별시 성북구 길음동 1280-4   어린이보호         4  `2010-12  37.610174   \n",
       "44976      서울특별시 성북구 길음동 1168   어린이보호         4  `2010-12  37.609928   \n",
       "44977     서울특별시 성북구 하월곡동 87-6   어린이보호         4  `2010-12  37.609267   \n",
       "44978   서울특별시 성북구 하월곡동 산2-140   어린이보호         4  `2010-12  37.608349   \n",
       "\n",
       "              lon  \n",
       "0      128.093399  \n",
       "1      128.091990  \n",
       "2      128.092923  \n",
       "3      128.224780  \n",
       "4      128.225446  \n",
       "...           ...  \n",
       "44974  127.018663  \n",
       "44975  127.015332  \n",
       "44976  127.022334  \n",
       "44977  127.032080  \n",
       "44978  127.039415  \n",
       "\n",
       "[44979 rows x 6 columns]"
      ]
     },
     "execution_count": 13,
     "metadata": {},
     "output_type": "execute_result"
    }
   ],
   "source": [
    "others_cctv"
   ]
  },
  {
   "cell_type": "markdown",
   "id": "affiliated-flight",
   "metadata": {},
   "source": [
    "## 112 신고이력 관련 데이터 가공\n",
    "- 20개 이상의 사건종별 데이터를 6개의 중분류로 매핑해주기\n",
    "- 교통 / 질서유지 / 중요범죄 / 기타범죄 / 기타_경찰업무 / 타기관_기타"
   ]
  },
  {
   "cell_type": "markdown",
   "id": "statutory-yugoslavia",
   "metadata": {},
   "source": [
    "## 112 데이터 전처리 함수"
   ]
  },
  {
   "cell_type": "code",
   "execution_count": 14,
   "id": "animated-butterfly",
   "metadata": {},
   "outputs": [],
   "source": [
    "def 사건종별_분류(x):\n",
    "    교통 = [\"교통사고\",\"교통불편\",\"교통위반\"]\n",
    "    질서유지 = [\"기타경범\",\"주취자\",\"행패소란\",\"보호조치\",\"시비\",\"위험방지\",\"청소년비행\",\"무전취식승차\"]\n",
    "    중요범죄 = [\"절도\",\"가정폭력\",\"폭력\"]\n",
    "    기타범죄 = [\"기타형사범\",\"도박\"]\n",
    "    기타_경찰업무 = [\"상담문의\",\"분실습득\",\"비상벨\",\"실종(실종아동 등)\"]\n",
    "    타기관_기타 = [\"기타_타기관\",\"소음\",\"서비스요청\"]\n",
    "    \n",
    "    if x in 교통:\n",
    "        return \"교통\"\n",
    "    if x in 질서유지:\n",
    "        return \"질서유지\"\n",
    "    if x in 중요범죄:\n",
    "        return \"중요범죄\"\n",
    "    if x in 기타범죄:\n",
    "        return \"기타범죄\"\n",
    "    if x in 기타_경찰업무:\n",
    "        return \"기타_경찰업무\"\n",
    "    if x in 타기관_기타:\n",
    "        return \"타기관_기타\""
   ]
  },
  {
   "cell_type": "code",
   "execution_count": 15,
   "id": "apart-acrylic",
   "metadata": {},
   "outputs": [],
   "source": [
    "def time_cut(x):\n",
    "    if 6 > x >= 2:\n",
    "        return '새벽'\n",
    "    elif 11 > x >= 6:\n",
    "        return '오전'\n",
    "    elif 15 > x >= 11:\n",
    "        return '점심'\n",
    "    elif 18 > x >= 15:\n",
    "        return '오후'\n",
    "    elif 22 > x >= 18:\n",
    "        return '저녁'\n",
    "    else:\n",
    "        return '심야'"
   ]
  },
  {
   "cell_type": "code",
   "execution_count": 16,
   "id": "amazing-mission",
   "metadata": {},
   "outputs": [],
   "source": [
    "others_112.columns = [\"사건종별\",\"접수완료일자\",\"접수완료시각\",\"도착일시\",\"관할치안센터\",\"관할경찰서\"]\n",
    "suwon_112.columns = [\"사건종별\",\"접수완료일자\",\"접수완료시각\",\"도착일시\",\"gid\",\"관할치안센터\",\"관할경찰서\"]"
   ]
  },
  {
   "cell_type": "code",
   "execution_count": 17,
   "id": "ruled-crawford",
   "metadata": {},
   "outputs": [],
   "source": [
    "def 신고이력데이터_처리(data):\n",
    "    \n",
    "    others_112 = data.copy()\n",
    "    others_112[\"접수완료시각\"] = others_112[\"접수완료시각\"].str.replace(\"'\",\"\")\n",
    "    others_112[\"접수완료일자\"] = others_112[\"접수완료일자\"].astype(str)\n",
    "    #others_112[\"도착일시\"] = others_112[\"도착일시\"].astype(int).astype(str)\n",
    "    # 도착일시가 NaN인 경우 존재 -> 도착일시가 NaN이 아닌 경우에 대해서만 출동 소요시각 구하기\n",
    "\n",
    "    others_112[\"접수완료일시\"] = others_112[\"접수완료일자\"] + others_112[\"접수완료시각\"]\n",
    "    others_112[\"접수완료일시\"] = pd.to_datetime(others_112[\"접수완료일시\"],format=\"%Y%m%d%H%M%S\")\n",
    "\n",
    "    others_112[\"년\"] = others_112[\"접수완료일시\"].apply(lambda x : x.year)\n",
    "    others_112[\"월\"] = others_112[\"접수완료일시\"].apply(lambda x : x.month)\n",
    "    others_112[\"일\"] = others_112[\"접수완료일시\"].apply(lambda x : x.day)\n",
    "    others_112[\"요일\"] = others_112[\"접수완료일시\"].apply(lambda x : x.weekday())\n",
    "    others_112[\"시\"] = others_112[\"접수완료일시\"].apply(lambda x : x.hour)\n",
    "    others_112[\"분\"] = others_112[\"접수완료일시\"].apply(lambda x : x.minute)\n",
    "    others_112[\"초\"] = others_112[\"접수완료일시\"].apply(lambda x : x.second)\n",
    "\n",
    "    # 도착일시가 정확히 기록된 경우와 그렇지 않은 경우로 나누기\n",
    "\n",
    "    def get_도착일시(x):\n",
    "        if len(str(x)) < 14:\n",
    "            return np.NaN\n",
    "        else:\n",
    "            return str(int(float(x)))\n",
    "\n",
    "    others_112[\"도착일시\"] = others_112[\"도착일시\"].apply(lambda x : get_도착일시(x))\n",
    "    others_112[\"도착일시\"] = pd.to_datetime(others_112[\"도착일시\"],format=\"%Y%m%d%H%M%S\")\n",
    "\n",
    "    # 출동하는데 걸린 소요 시간\n",
    "    others_112[\"소요시간\"] = others_112[\"도착일시\"] - others_112[\"접수완료일시\"]\n",
    "\n",
    "    # 사건종별 중분류\n",
    "    others_112[\"사건종별_중분류\"] = others_112[\"사건종별\"].apply(lambda x : 사건종별_분류(x))\n",
    "    \n",
    "    # 시간대별 분류\n",
    "    others_112[\"시간대\"] = others_112[\"시\"].apply(lambda x : time_cut(x))\n",
    "    \n",
    "    return others_112"
   ]
  },
  {
   "cell_type": "code",
   "execution_count": 18,
   "id": "other-upper",
   "metadata": {},
   "outputs": [],
   "source": [
    "suwon_112_get = 신고이력데이터_처리(suwon_112)\n",
    "others_112_get = 신고이력데이터_처리(others_112)\n",
    "\n",
    "suwon_112_groupby = suwon_112_get.groupby(\"관할치안센터\").agg({'gid':\"count\"}).reset_index().rename(columns={'gid':\"cnt\"})\n",
    "suwon_112_get_groupby = suwon_112_get.groupby(['관할치안센터','사건종별_중분류'])['gid'].count().reset_index().rename(columns={'gid':\"cnt\"})\n",
    "\n",
    "others_112_groupby = others_112_get.groupby(\"관할치안센터\").agg({'사건종별':\"count\"}).reset_index().rename(columns={'사건종별':\"cnt\"})\n",
    "others_112_get_groupby = others_112_get.groupby(['관할치안센터','사건종별_중분류'])['사건종별'].count().reset_index().rename(columns={'사건종별':\"cnt\"})"
   ]
  },
  {
   "cell_type": "markdown",
   "id": "adapted-level",
   "metadata": {},
   "source": [
    "### 112 신고 데이터 치안센터 영역과 매핑하는 함수"
   ]
  },
  {
   "cell_type": "code",
   "execution_count": 19,
   "id": "palestinian-atlas",
   "metadata": {},
   "outputs": [],
   "source": [
    "def police_box_4sido_112_mapping(df1,df2):\n",
    "    police_box_4sido_count(df1,'전체112')\n",
    "    for i in range(len(df2)):\n",
    "        for j in range(len(police_box_4sido)):\n",
    "            if df2.loc[i, '관할치안센터'] == police_box_4sido.loc[j, '관할치안센터'] and df2.loc[i, '사건종별_중분류'] == '기타_경찰업무':\n",
    "                police_box_4sido.loc[j, '112_기타_경찰업무']=df2.loc[i, 'cnt']\n",
    "            elif df2.loc[i, '관할치안센터'] == police_box_4sido.loc[j, '관할치안센터'] and df2.loc[i, '사건종별_중분류'] == '중요범죄':\n",
    "                police_box_4sido.loc[j, '112_중요범죄']=df2.loc[i, 'cnt']\n",
    "            elif df2.loc[i, '관할치안센터'] == police_box_4sido.loc[j, '관할치안센터'] and df2.loc[i, '사건종별_중분류'] == '교통':\n",
    "                police_box_4sido.loc[j, '112_교통']=df2.loc[i, 'cnt']\n",
    "            elif df2.loc[i, '관할치안센터'] == police_box_4sido.loc[j, '관할치안센터'] and df2.loc[i, '사건종별_중분류'] == '타기관_기타':\n",
    "                police_box_4sido.loc[j, '112_타기관_기타']=df2.loc[i, 'cnt']\n",
    "            elif df2.loc[i, '관할치안센터'] == police_box_4sido.loc[j, '관할치안센터'] and df2.loc[i, '사건종별_중분류'] == '질서유지':\n",
    "                police_box_4sido.loc[j, '112_질서유지']=df2.loc[i, 'cnt']\n",
    "            elif df2.loc[i, '관할치안센터'] == police_box_4sido.loc[j, '관할치안센터'] and df2.loc[i, '사건종별_중분류'] == '기타범죄':\n",
    "                police_box_4sido.loc[j, '112_기타범죄']=df2.loc[i, 'cnt']\n"
   ]
  },
  {
   "cell_type": "code",
   "execution_count": 20,
   "id": "preceding-luxury",
   "metadata": {},
   "outputs": [],
   "source": [
    "police_box_4sido['전체112']=0\n",
    "police_box_4sido['112_기타_경찰업무']=0\n",
    "police_box_4sido['112_중요범죄']=0\n",
    "police_box_4sido['112_교통']=0\n",
    "police_box_4sido['112_타기관_기타']=0\n",
    "police_box_4sido['112_질서유지']=0\n",
    "police_box_4sido['112_기타범죄']=0"
   ]
  },
  {
   "cell_type": "code",
   "execution_count": 21,
   "id": "finished-burning",
   "metadata": {},
   "outputs": [],
   "source": [
    "police_box_4sido_112_mapping(suwon_112_groupby,suwon_112_get_groupby)"
   ]
  },
  {
   "cell_type": "code",
   "execution_count": 22,
   "id": "checked-equality",
   "metadata": {},
   "outputs": [],
   "source": [
    "police_box_4sido_112_mapping(others_112_groupby,others_112_get_groupby)"
   ]
  },
  {
   "cell_type": "code",
   "execution_count": 23,
   "id": "behavioral-superior",
   "metadata": {},
   "outputs": [],
   "source": [
    "police_box_4sido['112_중요범죄_비율'] = round((police_box_4sido['전체112']/police_box_4sido['112_중요범죄'])*100)"
   ]
  },
  {
   "cell_type": "markdown",
   "id": "preliminary-france",
   "metadata": {},
   "source": [
    "### 8. 4개시도_유흥업소현황 mapping"
   ]
  },
  {
   "cell_type": "code",
   "execution_count": 24,
   "id": "fallen-neutral",
   "metadata": {},
   "outputs": [],
   "source": [
    "others_alcohol = gpd.read_file('8.4개시도_유흥업소현황.geojson')[['BUSINESS_NM','COM_LC_NM','COM_MC_NM',\n",
    "                'COM_SC_NM','KSIC_NM','SGG_NM',\n",
    "       'ADB_EMD_NM','EMD_NM','ROAD_NM','geometry']]\n",
    "others_alcohol.columns = [\"상호명\",\"상권업종대분류명\",\"상권업종중분류명\",\"상권업종소분류명\",\"표준산업분류명\",\n",
    "                         \"시군구명\",\"행정동명\",\"법정동명\",\"도로명\",\"geometry\"]"
   ]
  },
  {
   "cell_type": "code",
   "execution_count": 25,
   "id": "entitled-analyst",
   "metadata": {},
   "outputs": [],
   "source": [
    "others_alcohol_result = gpd.sjoin(others_police_box_area, others_alcohol, how='inner', op=\"intersects\").drop([\"index_right\"],axis=1)\n",
    "others_alcohol_result=others_alcohol_result.groupby(['관할치안센터'])['관할경찰서'].count().to_frame().reset_index().rename(columns={'관할경찰서':\"cnt\"})\n",
    "police_box_4sido_count(others_alcohol_result,'유흥업소')"
   ]
  },
  {
   "cell_type": "code",
   "execution_count": 26,
   "id": "advisory-anatomy",
   "metadata": {},
   "outputs": [],
   "source": [
    "# suwon_homeless = pd.read_csv('13.수원시_노숙인자활시설현황.csv')\n",
    "# suwon_child_welfare = pd.read_csv('14.수원시_아동복지시설현황.csv')\n",
    "# suwon_child_center = pd.read_csv('15.수원시_지역아동센터시설현황.csv')\n",
    "# suwon_youth_study = pd.read_csv('16.수원시_청소년공부방현황.csv')\n",
    "# suwon_library = pd.read_csv('17.수원시_도서관현황.csv')\n",
    "# suwon_free_cafeteria =pd.read_csv('18.수원시_무료급식소현황.csv')\n",
    "# suwon_child_free_cafeteria = pd.read_csv('19.수원시_아동복지급식소현황.csv')\n",
    "# suwon_female_parcel = pd.read_csv('20.수원시_여성안심택배함현황.csv')\n",
    "# suwon_street_lamp = pd.read_csv('21.수원시_가로등현황.csv')"
   ]
  },
  {
   "cell_type": "markdown",
   "id": "modified-journalism",
   "metadata": {},
   "source": [
    "### 약국 위치 매핑(보건)"
   ]
  },
  {
   "cell_type": "code",
   "execution_count": 27,
   "id": "impressed-scope",
   "metadata": {},
   "outputs": [],
   "source": [
    "others_pharmacy, others_pharmacy_groupby=point_police_box(약국_4개시,others_police_box_area,'기관주소')\n",
    "police_box_4sido_count(others_pharmacy_groupby,'약국')"
   ]
  },
  {
   "cell_type": "markdown",
   "id": "talented-configuration",
   "metadata": {},
   "source": [
    "### 병원 위치 매핑(보건)"
   ]
  },
  {
   "cell_type": "code",
   "execution_count": 28,
   "id": "personal-participation",
   "metadata": {},
   "outputs": [],
   "source": [
    "others_hospital, others_hospital_groupby=point_police_box(병원_4개시,others_police_box_area,'기관주소')\n",
    "police_box_4sido_count(others_hospital_groupby,'병원')"
   ]
  },
  {
   "cell_type": "markdown",
   "id": "fresh-shoot",
   "metadata": {},
   "source": [
    "### 지하철데이터 매핑"
   ]
  },
  {
   "cell_type": "code",
   "execution_count": 29,
   "id": "sexual-legend",
   "metadata": {},
   "outputs": [],
   "source": [
    "subway = pd.read_csv(\"전국도시철도역사정보표준데이터.csv\",encoding=\"cp949\")[[\"역사명\",\"역사도로명주소\",\"역경도\",\"역위도\"]]\n",
    "subway.columns = [\"기관명\",\"기관주소\",\"lon\",\"lat\"]\n",
    "subway = subway[(subway[\"기관주소\"].str.contains(\"서울\")) | (subway[\"기관주소\"].str.contains(\"수원\"))]"
   ]
  },
  {
   "cell_type": "code",
   "execution_count": 30,
   "id": "irish-sydney",
   "metadata": {},
   "outputs": [],
   "source": [
    "others_subway_result, others_subway_groupby=point_police_box(subway,others_police_box_area,'기관주소')\n",
    "police_box_4sido_count(others_subway_groupby,'지하철')"
   ]
  },
  {
   "cell_type": "markdown",
   "id": "israeli-consistency",
   "metadata": {},
   "source": [
    "### 어린이집 데이터 매핑"
   ]
  },
  {
   "cell_type": "code",
   "execution_count": 31,
   "id": "furnished-pixel",
   "metadata": {},
   "outputs": [],
   "source": [
    "어린이집_창원 = pd.read_excel(\"어린이집기본정보조회_창원.xls\")\n",
    "어린이집_수원 = pd.read_excel(\"어린이집기본정보조회_수원.xls\")\n",
    "어린이집_진주 = pd.read_excel(\"어린이집기본정보조회_진주.xls\")\n",
    "어린이집_서울 = pd.read_excel(\"어린이집기본정보조회_서울.xls\")\n",
    "\n",
    "others_baby = pd.concat([어린이집_창원,어린이집_수원,어린이집_진주,어린이집_서울])[[\"어린이집명\",\"운영현황\",\"주소\",\"경도\",\"위도\"]]\n",
    "\n",
    "others_baby = others_baby[(others_baby[\"운영현황\"] == \"정상\") | (others_baby[\"운영현황\"] == \"재개\")].reset_index(drop=True)\n",
    "others_baby.columns = [\"어린이집명\",\"운영현황\",\"주소\",\"lon\",\"lat\"]\n",
    "# 정상 운영되는 곳만"
   ]
  },
  {
   "cell_type": "code",
   "execution_count": 32,
   "id": "cardiovascular-parcel",
   "metadata": {},
   "outputs": [],
   "source": [
    "others_baby_result, others_baby_groupby=point_police_box(others_baby,others_police_box_area,'주소')\n",
    "police_box_4sido_count(others_baby_groupby,'어린이집')"
   ]
  },
  {
   "cell_type": "markdown",
   "id": "suspended-bride",
   "metadata": {},
   "source": [
    "### 유치원 데이터 매핑"
   ]
  },
  {
   "cell_type": "code",
   "execution_count": 33,
   "id": "infinite-ireland",
   "metadata": {},
   "outputs": [],
   "source": [
    "kindergarden = pd.read_csv('유치원 현황_위경도매핑.csv')"
   ]
  },
  {
   "cell_type": "code",
   "execution_count": 34,
   "id": "spatial-provision",
   "metadata": {},
   "outputs": [],
   "source": [
    "kindergarden_result, kindergarden_groupby=point_police_box(kindergarden,others_police_box_area,'교육청명')\n",
    "police_box_4sido_count(kindergarden_groupby,'유치원')"
   ]
  },
  {
   "cell_type": "markdown",
   "id": "second-airline",
   "metadata": {},
   "source": [
    "### police_box_4sido 처리"
   ]
  },
  {
   "cell_type": "code",
   "execution_count": 35,
   "id": "imported-start",
   "metadata": {},
   "outputs": [],
   "source": [
    "police_box_4sido.fillna(0,inplace=True)\n",
    "ar = ['공원', '놀이시설', '편의점', '보안등', '비상벨', 'cctv','전체112', '112_기타_경찰업무', '112_중요범죄', '112_교통', '112_타기관_기타', '112_질서유지','112_기타범죄', '유흥업소', '약국', '병원','지하철','어린이집']\n",
    "for i in ar:\n",
    "    police_box_4sido[i] = police_box_4sido[i].astype(int)"
   ]
  },
  {
   "cell_type": "code",
   "execution_count": 36,
   "id": "peripheral-jordan",
   "metadata": {},
   "outputs": [],
   "source": [
    "police_box_4sido.to_csv('치안센터_4개시.csv',encoding = 'utf-8')"
   ]
  },
  {
   "cell_type": "markdown",
   "id": "efficient-democracy",
   "metadata": {},
   "source": [
    "# 사고다발지역 데이터 매핑\n",
    "- 무단횡단\n",
    "- 스쿨존\n",
    "- 보행어린이\n",
    "- 보행고령자\n",
    "- 자전거"
   ]
  },
  {
   "cell_type": "code",
   "execution_count": 37,
   "id": "supreme-gardening",
   "metadata": {},
   "outputs": [],
   "source": [
    "school_risk_area = pd.read_csv(\"스쿨존_사고다발.csv\",encoding=\"cp949\")\n",
    "old_risk_area = pd.read_csv(\"고령_사고다발.csv\",encoding=\"cp949\")\n",
    "bic_risk_area = pd.read_csv(\"자전거_사고다발.csv\",encoding=\"cp949\")\n",
    "jay_risk_area = pd.read_csv(\"무단횡단_사고다발.csv\",encoding=\"cp949\")\n",
    "child_risk_area = pd.read_csv(\"보행어린이_사고다발.csv\",encoding=\"cp949\")"
   ]
  },
  {
   "cell_type": "code",
   "execution_count": 38,
   "id": "accepted-announcement",
   "metadata": {},
   "outputs": [],
   "source": [
    "school_risk_area[\"사고유형\"] = \"스쿨존내어린이사고\"\n",
    "old_risk_area[\"사고유형\"] = \"보행고령자사고\"\n",
    "bic_risk_area[\"사고유형\"] = \"자전거사고\"\n",
    "jay_risk_area[\"사고유형\"] = \"보행자무단횡단사고\"\n",
    "child_risk_area[\"사고유형\"] = \"보행어린이사고\""
   ]
  },
  {
   "cell_type": "code",
   "execution_count": 39,
   "id": "herbal-triumph",
   "metadata": {},
   "outputs": [],
   "source": [
    "all_risk_area = pd.concat([school_risk_area,old_risk_area,bic_risk_area,jay_risk_area,child_risk_area],\n",
    "                         axis=0).reset_index(drop=True)"
   ]
  },
  {
   "cell_type": "markdown",
   "id": "serious-charge",
   "metadata": {},
   "source": [
    "geo_col이 문자열일 경우 polygon으로 변환하는 함수"
   ]
  },
  {
   "cell_type": "code",
   "execution_count": 40,
   "id": "favorite-winning",
   "metadata": {},
   "outputs": [],
   "source": [
    "def string_to_polygon(df,geo_col):\n",
    "    data = df.copy()\n",
    "    data[\"geometry\"] = data[geo_col].apply(lambda x : Polygon(eval(x)[\"coordinates\"][0]))\n",
    "    data.drop(geo_col,axis=1,inplace=True)\n",
    "    return data"
   ]
  },
  {
   "cell_type": "code",
   "execution_count": 41,
   "id": "liquid-batman",
   "metadata": {},
   "outputs": [],
   "source": [
    "all_risk_area_geo = string_to_polygon(all_risk_area,\"다발지역폴리곤\")\n",
    "all_risk_area_geo = gpd.GeoDataFrame(all_risk_area_geo)\n",
    "\n",
    "# 2020년 사고다발 데이터만 가져오기\n",
    "all_risk_area_geo[\"사고다발지ID\"] = all_risk_area_geo[\"사고다발지ID\"].astype(str)\n",
    "all_risk_area_geo = all_risk_area_geo[all_risk_area_geo[\"사고다발지ID\"].str[:4] == \"2020\"]"
   ]
  },
  {
   "cell_type": "code",
   "execution_count": 42,
   "id": "irish-herald",
   "metadata": {},
   "outputs": [],
   "source": [
    "all_risk_area_geo.to_file(\"사고유형별_사고다발지역.geojson\",driver=\"GeoJSON\")"
   ]
  },
  {
   "cell_type": "code",
   "execution_count": 43,
   "id": "fatal-scanner",
   "metadata": {},
   "outputs": [],
   "source": [
    "all_risk_area_geo.reset_index(drop = True,inplace = True)"
   ]
  },
  {
   "cell_type": "code",
   "execution_count": 44,
   "id": "european-compilation",
   "metadata": {},
   "outputs": [],
   "source": [
    "all_risk_area_geo_result = gpd.sjoin(others_police_box_area, all_risk_area_geo, how='inner', op=\"intersects\").drop([\"index_right\"],axis=1)\n",
    "all_risk_area_geo_result_groupby=all_risk_area_geo_result.groupby(['관할치안센터','사고유형'])['관할경찰서'].count().to_frame().reset_index().rename(columns={'관할경찰서':\"cnt\"})\n"
   ]
  },
  {
   "cell_type": "code",
   "execution_count": 45,
   "id": "timely-chambers",
   "metadata": {},
   "outputs": [],
   "source": [
    "police_box_4sido['보행고령자사고'] = 0\n",
    "police_box_4sido['자전거사고'] = 0\n",
    "police_box_4sido['보행자무단횡단사고'] = 0\n",
    "police_box_4sido['보행어린이사고'] = 0\n",
    "police_box_4sido['스쿨존내어린이사고'] = 0"
   ]
  },
  {
   "cell_type": "code",
   "execution_count": 46,
   "id": "capital-treat",
   "metadata": {},
   "outputs": [],
   "source": [
    "for i in range(len(all_risk_area_geo_result_groupby)):\n",
    "    for j in range(len(police_box_4sido)):\n",
    "        if all_risk_area_geo_result_groupby.loc[i, '관할치안센터'] == police_box_4sido.loc[j, '관할치안센터'] and all_risk_area_geo_result_groupby.loc[i, '사고유형'] == '보행고령자사고':\n",
    "            police_box_4sido.loc[j, '보행고령자사고']=all_risk_area_geo_result_groupby.loc[i, 'cnt']\n",
    "        elif all_risk_area_geo_result_groupby.loc[i, '관할치안센터'] == police_box_4sido.loc[j, '관할치안센터'] and all_risk_area_geo_result_groupby.loc[i, '사고유형'] == '자전거사고':\n",
    "            police_box_4sido.loc[j, '자전거사고']=all_risk_area_geo_result_groupby.loc[i, 'cnt']\n",
    "        elif all_risk_area_geo_result_groupby.loc[i, '관할치안센터'] == police_box_4sido.loc[j, '관할치안센터'] and all_risk_area_geo_result_groupby.loc[i, '사고유형'] == '보행자무단횡단사고':\n",
    "            police_box_4sido.loc[j, '보행자무단횡단사고']=all_risk_area_geo_result_groupby.loc[i, 'cnt']\n",
    "        elif all_risk_area_geo_result_groupby.loc[i, '관할치안센터'] == police_box_4sido.loc[j, '관할치안센터'] and all_risk_area_geo_result_groupby.loc[i, '사고유형'] == '보행어린이사고':\n",
    "            police_box_4sido.loc[j, '보행어린이사고']=all_risk_area_geo_result_groupby.loc[i, 'cnt']\n",
    "        elif all_risk_area_geo_result_groupby.loc[i, '관할치안센터'] == police_box_4sido.loc[j, '관할치안센터'] and all_risk_area_geo_result_groupby.loc[i, '사고유형'] == '스쿨존내어린이사고':\n",
    "            police_box_4sido.loc[j, '스쿨존내어린이사고']=all_risk_area_geo_result_groupby.loc[i, 'cnt']\n",
    "        "
   ]
  },
  {
   "cell_type": "markdown",
   "id": "breeding-thriller",
   "metadata": {},
   "source": [
    "# 용도지역도 데이터 매핑"
   ]
  },
  {
   "cell_type": "code",
   "execution_count": 47,
   "id": "liquid-politics",
   "metadata": {},
   "outputs": [],
   "source": [
    "others_use_area = gpd.read_file('9.4개시도_용도지역도.geojson')\n",
    "others_use_area.columns = [\"관리번호\",\"별칭\",\"비고\",\"고시일자\",\"원천오브젝트ID\",\"원천시군구코드\",\"geometry\"]\n",
    "\n",
    "code = pd.read_csv(\"용도지역도_코드.csv\")"
   ]
  },
  {
   "cell_type": "code",
   "execution_count": 48,
   "id": "danish-provincial",
   "metadata": {},
   "outputs": [],
   "source": [
    "others_use_area[\"코드\"] = others_use_area[\"관리번호\"].apply(lambda x : str(x)[20:26])\n",
    "others_use_area_code = pd.merge(others_use_area,code,on=\"코드\",how=\"left\")"
   ]
  },
  {
   "cell_type": "markdown",
   "id": "coated-increase",
   "metadata": {},
   "source": [
    "원천시군구코드\n",
    "- 수원: 41110\n",
    "- 창원: 48120\n",
    "- 진주: 48170\n",
    "- 서울: 원천시군구코드_서울"
   ]
  },
  {
   "cell_type": "code",
   "execution_count": 49,
   "id": "choice-authentication",
   "metadata": {},
   "outputs": [],
   "source": [
    "# 서울의 원천시군구코드 리스트 생성\n",
    "원천시군구코드 = list(others_use_area['원천시군구코드'].unique())\n",
    "for _ in range(3):\n",
    "    원천시군구코드.pop()\n",
    "원천시군구코드_서울 = 원천시군구코드"
   ]
  },
  {
   "cell_type": "code",
   "execution_count": 50,
   "id": "cardiac-parade",
   "metadata": {},
   "outputs": [],
   "source": [
    "def 시군구별_용도지역도_격자별매핑(others_use_area,code,sgg_code,area,police_box_4sido):\n",
    "    # others_use_area : 용도지역도 df\n",
    "    # code : 용도지역도 코드 df\n",
    "    # sgg_code : 시군구 코드 str\n",
    "    # area : 상업,공업,주거,녹지 str\n",
    "    # suwon_112_grid : 수원시 격자데이터\n",
    "    \n",
    "    others_use_area[\"코드\"] = others_use_area[\"관리번호\"].apply(lambda x : str(x)[20:26])\n",
    "    others_use_area_code = pd.merge(others_use_area,code,on=\"코드\",how=\"left\")\n",
    "    a = list(others_use_area_code[others_use_area_code[\"코드명\"].isnull()].index)\n",
    "    others_use_area_code.drop(a,inplace = True)\n",
    "    # 용도지역도와 코드명 사이의 연결\n",
    "\n",
    "    police_box_use_area = others_use_area_code[others_use_area_code[\"원천시군구코드\"] == sgg_code]\n",
    "    # 수원시 용도지역도\n",
    "\n",
    "    police_box_use_area_sell = police_box_use_area[police_box_use_area[\"코드명\"].str.contains(area)]\n",
    "    # suwon_use_area_sell : 수원시의 00지역\n",
    "\n",
    "    police_box_use_area_sell_intersect = gpd.overlay(police_box_4sido, police_box_use_area_sell, how=\"intersection\")\n",
    "    # suwon_use_area_sell_intersect : suwon_use_area_sell와 수원시의 격자와 겹치는 영역 산출\n",
    "\n",
    "    police_box_use_area_sell_intersect = police_box_use_area_sell_intersect.to_crs(epsg=\"5186\")\n",
    "    police_box_use_area_sell_intersect[\"area\"] = police_box_use_area_sell_intersect[\"geometry\"].apply(lambda x :round(x.area,3))\n",
    "    # Polygon 영역 넓이 구하기\n",
    "    \n",
    "    police_box_use_area_sell_intersect = police_box_use_area_sell_intersect.to_crs(epsg=\"4326\")\n",
    "    # 좌표계 반환\n",
    "\n",
    "    police_box_use_area_sell_intersect_groupby = police_box_use_area_sell_intersect.groupby([\"관할치안센터\"]).agg({\"area\":\"sum\"}).reset_index()\n",
    "    # gid 별 영역 넓이 합\n",
    "    \n",
    "    return police_box_use_area_sell_intersect_groupby.rename(columns={\"area\":area + \"지역면적\"})"
   ]
  },
  {
   "cell_type": "code",
   "execution_count": 51,
   "id": "played-watson",
   "metadata": {},
   "outputs": [],
   "source": [
    "for i in ['상업','공업','주거','녹지']:\n",
    "    result = pd.DataFrame(index=range(0,1), columns=['관할치안센터'])\n",
    "    for j in 원천시군구코드:\n",
    "        a = 시군구별_용도지역도_격자별매핑(others_use_area,code,j,i,police_box_4sido)\n",
    "        result = pd.concat([result,a])\n",
    "    result.reset_index(inplace = True,drop = True)\n",
    "    result.drop(0,inplace = True)\n",
    "    globals()['서울_{}'.format(i)] = result\n",
    "#서울_용도지역도\n",
    "서울_상업 = 서울_상업.groupby(['관할치안센터']).agg({'상업지역면적':'sum'}).reset_index()\n",
    "서울_공업 = 서울_공업.groupby(['관할치안센터']).agg({'공업지역면적':'sum'}).reset_index()\n",
    "서울_주거 = 서울_주거.groupby(['관할치안센터']).agg({'주거지역면적':'sum'}).reset_index()\n",
    "서울_녹지 = 서울_녹지.groupby(['관할치안센터']).agg({'녹지지역면적':'sum'}).reset_index()"
   ]
  },
  {
   "cell_type": "code",
   "execution_count": 52,
   "id": "golden-order",
   "metadata": {},
   "outputs": [],
   "source": [
    "#수원_용도지역도\n",
    "수원_상업 = 시군구별_용도지역도_격자별매핑(others_use_area,code,\"41110\",\"상업\",police_box_4sido)\n",
    "수원_공업 = 시군구별_용도지역도_격자별매핑(others_use_area,code,\"41110\",\"공업\",police_box_4sido)\n",
    "수원_주거 = 시군구별_용도지역도_격자별매핑(others_use_area,code,\"41110\",\"주거\",police_box_4sido)\n",
    "수원_녹지 = 시군구별_용도지역도_격자별매핑(others_use_area,code,\"41110\",\"녹지\",police_box_4sido)\n",
    "        \n",
    "# 창원_용도지역도\n",
    "창원_상업 = 시군구별_용도지역도_격자별매핑(others_use_area,code,\"48120\",\"상업\",police_box_4sido)\n",
    "창원_공업 = 시군구별_용도지역도_격자별매핑(others_use_area,code,\"48120\",\"공업\",police_box_4sido)\n",
    "창원_주거 = 시군구별_용도지역도_격자별매핑(others_use_area,code,\"48120\",\"주거\",police_box_4sido)\n",
    "창원_녹지 = 시군구별_용도지역도_격자별매핑(others_use_area,code,\"48120\",\"녹지\",police_box_4sido)\n",
    "\n",
    "# 진주_용도지역도\n",
    "진주_상업 = 시군구별_용도지역도_격자별매핑(others_use_area,code,\"48170\",\"상업\",police_box_4sido)\n",
    "진주_공업 = 시군구별_용도지역도_격자별매핑(others_use_area,code,\"48170\",\"공업\",police_box_4sido)\n",
    "진주_주거 = 시군구별_용도지역도_격자별매핑(others_use_area,code,\"48170\",\"주거\",police_box_4sido)\n",
    "진주_녹지 = 시군구별_용도지역도_격자별매핑(others_use_area,code,\"48170\",\"녹지\",police_box_4sido)\n",
    "\n",
    "치안센터_상업 = pd.concat([서울_상업,수원_상업,창원_상업,진주_상업]).reset_index().drop('index',axis=1)\n",
    "치안센터_공업 = pd.concat([서울_공업,수원_공업,창원_공업,진주_공업]).reset_index().drop('index',axis=1)\n",
    "치안센터_주거 = pd.concat([서울_주거,수원_주거,창원_주거,진주_주거]).reset_index().drop('index',axis=1)\n",
    "치안센터_녹지 = pd.concat([서울_녹지,수원_녹지,창원_녹지,진주_녹지]).reset_index().drop('index',axis=1)"
   ]
  },
  {
   "cell_type": "code",
   "execution_count": 53,
   "id": "furnished-stylus",
   "metadata": {},
   "outputs": [],
   "source": [
    "#치안센터_용도지역도 데이터 merge\n",
    "result = police_box_4sido\n",
    "#전체 면적 구하기\n",
    "result = result.to_crs(epsg=\"5186\")\n",
    "result[\"전체면적\"] = result[\"geometry\"].apply(lambda x : round(x.area,3))\n",
    "result = result.to_crs(epsg=\"4326\")\n",
    "전체면적 = result[['관할치안센터','전체면적']]\n",
    "\n",
    "\n",
    "for area in ['상업','공업','주거','녹지']:\n",
    "    df = globals()['치안센터_{}'.format(area)]\n",
    "    for i in range(len(df)):\n",
    "        for j in range(len(result)):\n",
    "            if df.iloc[i,0] == result.iloc[j,0]:\n",
    "                df.iloc[i,1] = round((df.iloc[i,1]/전체면적.loc[j,'전체면적'])*100)\n",
    "                \n",
    "for data in [치안센터_상업,치안센터_공업,치안센터_주거,치안센터_녹지]:\n",
    "    police_box_4sido = pd.merge(police_box_4sido,data,on=\"관할치안센터\",how=\"left\").fillna(0)"
   ]
  },
  {
   "cell_type": "markdown",
   "id": "charged-fence",
   "metadata": {},
   "source": [
    "# buffer 데이터 매핑"
   ]
  },
  {
   "cell_type": "markdown",
   "id": "incorporate-perspective",
   "metadata": {},
   "source": [
    "### 사고다발데이터 buffer 매핑"
   ]
  },
  {
   "cell_type": "code",
   "execution_count": 54,
   "id": "running-complex",
   "metadata": {},
   "outputs": [],
   "source": [
    "result_lst = []\n",
    "\n",
    "buffer_intersect = gpd.overlay(police_box_4sido, all_risk_area_geo, how=\"intersection\")\n",
    "# suwon_112_grid(수원시의 grid)의 겹치는 영역 산출\n",
    "\n",
    "buffer_intersect[\"area\"] = buffer_intersect[\"geometry\"].apply(lambda x : x.area)\n",
    "# 넓이 구하기\n",
    "\n",
    "for risk in all_risk_area_geo[\"사고유형\"].value_counts().index:\n",
    "    data = buffer_intersect[buffer_intersect[\"사고유형\"] == risk]\n",
    "    data_groupby = data.groupby([\"관할치안센터\"]).agg({\"area\":\"sum\"}).reset_index().rename(columns={\"area\":risk+'_buffer'})\n",
    "    # 사고다발유형별 gid 별 영역 넓이 합\n",
    "\n",
    "    result_lst.append(data_groupby)\n",
    "\n",
    "for data in result_lst:\n",
    "    police_box_4sido = pd.merge(police_box_4sido,data,on=\"관할치안센터\",how=\"left\").fillna(0)\n",
    "police_box_4sido[\"사고다발지역_buffer\"] = ( police_box_4sido[\"보행고령자사고_buffer\"] + police_box_4sido[\"보행자무단횡단사고_buffer\"] + police_box_4sido[\"자전거사고_buffer\"] + \n",
    "                           police_box_4sido[\"보행어린이사고_buffer\"] + police_box_4sido[\"스쿨존내어린이사고_buffer\"] )\n",
    "# result5 = result_buffer.drop(\"geometry\",axis=1)"
   ]
  },
  {
   "cell_type": "markdown",
   "id": "nuclear-tiffany",
   "metadata": {},
   "source": [
    "# 치안시설 buffer"
   ]
  },
  {
   "cell_type": "code",
   "execution_count": 55,
   "id": "tough-carnival",
   "metadata": {},
   "outputs": [],
   "source": [
    "def point_buffer_치안센터별매핑(data_df,police_box_4sido,col,buffer_num):\n",
    "    # col : 경찰서, 치안센터, cctv (str)\n",
    "    # buffer_num : 치안안전시설에 따라 10,300,1000 (int)\n",
    "    \n",
    "    df = data_df.copy()\n",
    "    epsg4326 = from_string(\"+proj=longlat +ellps=WGS84 +datum=WGS84 +no_defs\")\n",
    "    df['Point'] = df.apply(lambda x : Point([x['lon'], x['lat']]), axis=1)\n",
    "    df = gpd.GeoDataFrame(df, geometry='Point', crs = epsg4326).to_crs(epsg=\"5186\")\n",
    "    # Buffer 부여하기 위해서 Point 임시 epsg 5186 좌표계로 변환\n",
    "\n",
    "    df[\"geometry\"] = df[\"Point\"].apply(lambda x : x.buffer(buffer_num))\n",
    "    df = df.drop(\"Point\",axis=1)\n",
    "    df = gpd.GeoDataFrame(df, geometry='geometry').to_crs(epsg=\"4326\")\n",
    "    # Buffer 부여한 뒤에 epsg 4326 좌표계로 변환\n",
    "\n",
    "    df['Point'] = df.apply(lambda x : Point([x['lon'], x['lat']]), axis=1)\n",
    "    # drop한 좌표 다시 넣어주기\n",
    "    \n",
    "    df_intersect = gpd.overlay(police_box_4sido,df, how=\"intersection\")\n",
    "    df_intersect = df_intersect.to_crs(epsg=\"5186\")\n",
    "    \n",
    "    df_intersect[col+\"_buffer\"] = df_intersect[\"geometry\"].apply(lambda x : round(x.area,3))\n",
    "    # 면적은 5186 좌표계에서 구하기\n",
    "    # 겹치는 면적 구하기 좌표계 바꿔서 구하자\n",
    "    df_intersect = df_intersect.to_crs(epsg=\"4326\")\n",
    "    # 다시 좌표계 반환\n",
    "\n",
    "    df_intersect_sum = df_intersect.groupby(\"관할치안센터\").agg({col+\"_buffer\":\"sum\"}).reset_index()\n",
    "    return df_intersect,df_intersect_sum\n",
    "\n",
    "def point_buffer_치안센터별매핑_유흥업소(data_df,police_box_4sido,col,buffer_num):\n",
    "    # col : 경찰서, 치안센터, cctv (str)\n",
    "    # buffer_num : 치안안전시설에 따라 10,300,1000 (int)\n",
    "    \n",
    "    df = data_df.copy()\n",
    "    epsg4326 = from_string(\"+proj=longlat +ellps=WGS84 +datum=WGS84 +no_defs\")\n",
    "    df['Point'] = df['geometry']\n",
    "    df = gpd.GeoDataFrame(df, geometry='Point', crs = epsg4326).to_crs(epsg=\"5186\")\n",
    "    # Buffer 부여하기 위해서 Point 임시 epsg 5186 좌표계로 변환\n",
    "\n",
    "    df[\"geometry_1\"] = df[\"Point\"].apply(lambda x : x.buffer(buffer_num))\n",
    "    df = df.drop(\"Point\",axis=1)\n",
    "    df = gpd.GeoDataFrame(df, geometry='geometry_1').to_crs(epsg=\"4326\")\n",
    "    # Buffer 부여한 뒤에 epsg 4326 좌표계로 변환\n",
    "\n",
    "    df['Point'] = df['geometry']\n",
    "    # drop한 좌표 다시 넣어주기\n",
    "    \n",
    "    df_intersect = gpd.overlay(police_box_4sido,df, how=\"intersection\")\n",
    "    df_intersect = df_intersect.to_crs(epsg=\"5186\")\n",
    "    \n",
    "    df_intersect[col+\"_buffer\"] = df_intersect[\"geometry\"].apply(lambda x : round(x.area,3))\n",
    "    # 면적은 5186 좌표계에서 구하기\n",
    "    # 겹치는 면적 구하기 좌표계 바꿔서 구하자\n",
    "    df_intersect = df_intersect.to_crs(epsg=\"4326\")\n",
    "    # 다시 좌표계 반환\n",
    "\n",
    "    df_intersect_sum = df_intersect.groupby(\"관할치안센터\").agg({col+\"_buffer\":\"sum\"}).reset_index()\n",
    "    return df_intersect,df_intersect_sum"
   ]
  },
  {
   "cell_type": "code",
   "execution_count": 56,
   "id": "mediterranean-positive",
   "metadata": {},
   "outputs": [],
   "source": [
    "others_security_lamp_buffer,others_security_lamp_buffer_sum = point_buffer_치안센터별매핑(others_security_lamp,police_box_4sido,\"보안등\",10)\n",
    "# 4개시 보안등\n",
    "\n",
    "others_cctv_buffer,others_cctv_buffer_sum = point_buffer_치안센터별매핑(others_cctv,police_box_4sido,\"CCTV\",100)\n",
    "# 4개시 CCTV\n",
    "\n",
    "others_alcohol_buffer,others_alcohol_buffer_sum = point_buffer_치안센터별매핑_유흥업소(others_alcohol,police_box_4sido,\"유흥업소\",100)\n",
    "# 4개시 유흥업소"
   ]
  },
  {
   "cell_type": "code",
   "execution_count": 57,
   "id": "similar-watson",
   "metadata": {},
   "outputs": [],
   "source": [
    "# buffer면적/전체면적\n",
    "for df in [others_security_lamp_buffer_sum,others_cctv_buffer_sum,others_alcohol_buffer_sum]:\n",
    "    for i in range(len(df)):\n",
    "        for j in range(len(전체면적)):\n",
    "            if df.iloc[i,0] == 전체면적.iloc[j,0]:\n",
    "                df.iloc[i,1] = round((df.iloc[i,1]/전체면적.loc[j,'전체면적'])*100)\n",
    "# police_box_4sido에 buffer데이터 병합\n",
    "for data in [others_security_lamp_buffer_sum,others_cctv_buffer_sum,others_alcohol_buffer_sum]:\n",
    "    police_box_4sido = pd.merge(police_box_4sido,data,on=\"관할치안센터\",how=\"left\").fillna(0)"
   ]
  },
  {
   "cell_type": "code",
   "execution_count": 58,
   "id": "second-burst",
   "metadata": {},
   "outputs": [],
   "source": [
    "#경찰서 기준 데이터프레임 생성\n",
    "police_4sido = police_box_4sido.groupby('관할경찰서').apply(lambda x: x.sum())\n",
    "police_4sido=police_4sido.drop(['관할치안센터','관할경찰서','지역','112_중요범죄_비율'],axis=1).reset_index()"
   ]
  },
  {
   "cell_type": "code",
   "execution_count": 59,
   "id": "unavailable-telling",
   "metadata": {},
   "outputs": [],
   "source": [
    "#경찰서 기준 데이터프레임에 지역 매핑\n",
    "police_4sido['지역'] =police_4sido['관할경찰서'].str[:2]\n",
    "police_4sido['지역']=police_4sido['지역'].replace('마산','창원')\n",
    "police_4sido['지역']=police_4sido['지역'].replace('진해','창원')"
   ]
  },
  {
   "cell_type": "code",
   "execution_count": 60,
   "id": "express-community",
   "metadata": {},
   "outputs": [],
   "source": [
    "#4개시_치안센터_final to_file\n",
    "police_box_4sido.to_file(\"4개시_치안센터_final.geojson\",driver=\"GeoJSON\")"
   ]
  },
  {
   "cell_type": "code",
   "execution_count": 61,
   "id": "measured-soundtrack",
   "metadata": {},
   "outputs": [],
   "source": [
    "#4개시_경찰서_final geojson변환\n",
    "others_police_area=others_police_area.rename(columns={'NAME':'관할경찰서'}).drop('PNAME',axis=1)\n",
    "police_4sido = pd.merge(others_police_area,police_4sido, on ='관할경찰서' )"
   ]
  },
  {
   "cell_type": "markdown",
   "id": "lined-details",
   "metadata": {},
   "source": [
    "## 보안등 null값 처리 \n",
    "- 평균값: 5522\n",
    "- 하위 25%: 3927\n",
    "- 2000이하인 값들은 이상치로 분류하여 해당지역의 평균값으로 대체"
   ]
  },
  {
   "cell_type": "code",
   "execution_count": 62,
   "id": "rapid-flash",
   "metadata": {},
   "outputs": [],
   "source": [
    "#보안등_이상치 처리\n",
    "li = list(police_4sido[police_4sido['보안등'] < 2000].index)\n",
    "police_4sido['보안등_이상치']=0\n",
    "police_4sido.loc[li,'보안등_이상치'] = 1"
   ]
  },
  {
   "cell_type": "code",
   "execution_count": 63,
   "id": "dried-england",
   "metadata": {},
   "outputs": [],
   "source": [
    "police_4sido.loc[(police_4sido['보안등'] < 2000)&(police_4sido['지역']=='서울'), '보안등'] = round(police_4sido[(police_4sido['보안등']>=2000)&(police_4sido['지역']=='서울')]['보안등'].mean())"
   ]
  },
  {
   "cell_type": "markdown",
   "id": "french-average",
   "metadata": {},
   "source": [
    "## cctv null값 처리 \n",
    "- 평균값: 2398\n",
    "- 하위 25%: 1376\n",
    "- 500이하인 값들은 이상치로 분류하여 해당지역의 평균값으로 대체"
   ]
  },
  {
   "cell_type": "code",
   "execution_count": 64,
   "id": "familiar-prayer",
   "metadata": {},
   "outputs": [],
   "source": [
    "#cctv_이상치 처리\n",
    "li = list(police_4sido[police_4sido['cctv'] < 500].index)\n",
    "police_4sido['cctv_이상치']=0\n",
    "police_4sido.loc[li,'cctv_이상치'] = 1"
   ]
  },
  {
   "cell_type": "code",
   "execution_count": 65,
   "id": "sexual-credits",
   "metadata": {},
   "outputs": [],
   "source": [
    "police_4sido.loc[(police_4sido['cctv'] <500)&(police_4sido['지역']=='서울'), 'cctv'] = round(police_4sido[(police_4sido['cctv']>=500)&(police_4sido['지역']=='서울')]['cctv'].mean())"
   ]
  },
  {
   "cell_type": "markdown",
   "id": "superior-point",
   "metadata": {},
   "source": [
    "## 비상벨 null값 처리 \n",
    "- 평균값: 455\n",
    "- 하위 25%: 28\n",
    "- 10이하인 값들은 이상치로 분류하여 해당지역의 평균값으로 대체"
   ]
  },
  {
   "cell_type": "code",
   "execution_count": 66,
   "id": "buried-antigua",
   "metadata": {},
   "outputs": [],
   "source": [
    "#비상벨_이상치 처리\n",
    "li = list(police_4sido[police_4sido['비상벨'] < 10].index)\n",
    "police_4sido['비상벨_이상치']=0\n",
    "police_4sido.loc[li,'비상벨_이상치'] = 1"
   ]
  },
  {
   "cell_type": "code",
   "execution_count": 67,
   "id": "available-recovery",
   "metadata": {},
   "outputs": [],
   "source": [
    "police_4sido.loc[(police_4sido['비상벨'] <10)&(police_4sido['지역']=='서울'), '비상벨'] = round(police_4sido[(police_4sido['비상벨']>=10)&(police_4sido['지역']=='서울')]['비상벨'].mean())"
   ]
  },
  {
   "cell_type": "markdown",
   "id": "cardiac-protest",
   "metadata": {},
   "source": [
    "## 면적당 112 신고 데이터 비율 \n",
    "- 112데이터 건수를 면적으로 나눈 후 1000000배 하여 조정"
   ]
  },
  {
   "cell_type": "code",
   "execution_count": 68,
   "id": "alpha-filename",
   "metadata": {},
   "outputs": [],
   "source": [
    "police_4sido = police_4sido.to_crs(epsg=\"5186\")\n",
    "police_4sido[\"area\"] = police_4sido[\"geometry\"].apply(lambda x :round(x.area,3))\n",
    "# Polygon 영역 넓이 구하기\n",
    "\n",
    "police_4sido = police_4sido.to_crs(epsg=\"4326\")\n",
    "# 좌표계 반환"
   ]
  },
  {
   "cell_type": "code",
   "execution_count": 69,
   "id": "accessory-billion",
   "metadata": {},
   "outputs": [],
   "source": [
    "# 112데이터/면적\n",
    "li = ['전체112','112_기타_경찰업무','112_중요범죄','112_교통','112_타기관_기타','112_질서유지','112_기타범죄']\n",
    "for i in li:\n",
    "    police_4sido[i] = round((police_4sido[i]/police_4sido['area'])*1000000)\n",
    "# 시설물데이터/면적\n",
    "li = ['공원','놀이시설','편의점','보안등','비상벨','cctv','유흥업소','약국','병원','지하철','어린이집','유치원']\n",
    "for i in li:\n",
    "    police_4sido[i] = round((police_4sido[i]/police_4sido['area'])*100000000)"
   ]
  },
  {
   "cell_type": "code",
   "execution_count": 70,
   "id": "attempted-confirmation",
   "metadata": {},
   "outputs": [],
   "source": [
    "#4개시_경찰서_final to_file\n",
    "police_4sido.to_file('4개시_경찰서_final.geojson',driver = 'GeoJSON')"
   ]
  },
  {
   "cell_type": "markdown",
   "id": "molecular-german",
   "metadata": {},
   "source": [
    "# 체감 안전도 feature\n",
    "- 사회적 무질서: 질서유지 관련 112 데이터(112_질서유지)\n",
    "- 물리적 무질서: 시설물 관련 데이터(시설물)\n",
    "- 교통안전: 교통관련 데이터(112_교통)\n",
    "- 경찰활동: 전반적경찰노력도_점수 데이터(전반적경찰노력도_점수)"
   ]
  },
  {
   "cell_type": "code",
   "execution_count": 93,
   "id": "applied-performance",
   "metadata": {},
   "outputs": [],
   "source": [
    "police_point = police_4sido.copy()"
   ]
  },
  {
   "cell_type": "code",
   "execution_count": 94,
   "id": "expected-invention",
   "metadata": {},
   "outputs": [
    {
     "data": {
      "text/plain": [
       "Index(['관할경찰서', 'geometry', '공원', '놀이시설', '편의점', '보안등', '비상벨', 'cctv', '전체112',\n",
       "       '112_기타_경찰업무', '112_중요범죄', '112_교통', '112_타기관_기타', '112_질서유지',\n",
       "       '112_기타범죄', '유흥업소', '약국', '병원', '지하철', '어린이집', '유치원', '보행고령자사고',\n",
       "       '자전거사고', '보행자무단횡단사고', '보행어린이사고', '스쿨존내어린이사고', '상업지역면적', '공업지역면적',\n",
       "       '주거지역면적', '녹지지역면적', '보행고령자사고_buffer', '보행자무단횡단사고_buffer',\n",
       "       '자전거사고_buffer', '보행어린이사고_buffer', '스쿨존내어린이사고_buffer', '사고다발지역_buffer',\n",
       "       '보안등_buffer', 'CCTV_buffer', '유흥업소_buffer', '지역', '보안등_이상치', 'cctv_이상치',\n",
       "       '비상벨_이상치', 'area'],\n",
       "      dtype='object')"
      ]
     },
     "execution_count": 94,
     "metadata": {},
     "output_type": "execute_result"
    }
   ],
   "source": [
    "police_point.columns"
   ]
  },
  {
   "cell_type": "code",
   "execution_count": 95,
   "id": "completed-supplier",
   "metadata": {},
   "outputs": [],
   "source": [
    "# 체감안전도 관련 feature들을 제외하고 drop\n",
    "police_point.drop(list(police_point.columns)[21:39],axis=1,inplace=True)"
   ]
  },
  {
   "cell_type": "code",
   "execution_count": 96,
   "id": "dying-juvenile",
   "metadata": {},
   "outputs": [],
   "source": [
    "#각 feature들의 점수화를 이용하기 위하여 Natural Breaks 사용\n",
    "for i in list(police_point.columns)[2:21]:\n",
    "    breaks=jenkspy.jenks_breaks(police_point[i],nb_class=10)\n",
    "    police_point[i]=pd.cut(police_point[i],bins=breaks,\n",
    "                               labels=[i for i in range(1,11)],\n",
    "                               include_lowest=True)\n",
    "    police_point[i] =police_point[i].astype(int) "
   ]
  },
  {
   "cell_type": "markdown",
   "id": "rental-possible",
   "metadata": {},
   "source": [
    "### 경찰활동 관련 Feature 생성"
   ]
  },
  {
   "cell_type": "code",
   "execution_count": 98,
   "id": "quarterly-arnold",
   "metadata": {},
   "outputs": [],
   "source": [
    "safe1=pd.read_csv(\"체감안전도(20180101).csv\", header=None)\n",
    "safe2=pd.read_csv(\"체감안전도(20180701).csv\", header=None)\n",
    "safe_effect1=pd.read_csv(\"체감안전도 영향요소 융합데이터(201980101).csv\", header=None)\n",
    "safe_effect2=pd.read_csv(\"체감안전도 영향요소 융합데이터(20180701).csv\", header=None)"
   ]
  },
  {
   "cell_type": "code",
   "execution_count": 99,
   "id": "naked-renaissance",
   "metadata": {},
   "outputs": [],
   "source": [
    "safe_header=['대상년월',\n",
    "'경찰서',\n",
    "'설문대상인원_전체',\n",
    "'설문대상인원_1급지',\n",
    "'설문대상인원_2급지',\n",
    "'설문대상인원_3급지',\n",
    "'설문대상인원_남성',\n",
    "'설문대상인원_여성',\n",
    "'설문대상인원_20대이하',\n",
    "'설문대상인원_30대',\n",
    "'설문대상인원_40대',\n",
    "'설문대상인원_50대',\n",
    "'설문대상인원_60대이하',\n",
    "'종합체감안전도_점수',\n",
    "'전반적안전도_점수',\n",
    "'분야별안전도_점수',\n",
    "'범죄안전도_점수',\n",
    "'교통사고안전도_점수',\n",
    "'법질서준수도_점수',\n",
    "'절도폭력안전도_점수',\n",
    "'강도살인안전도_점수',\n",
    "'전반적경찰노력도_점수']\n",
    "\n",
    "safe_effect_header=['대상년월',\n",
    "'경찰서명',\n",
    "'설문대상인원_전체',\n",
    "'설문대상인원_1급지',\n",
    "'설문대상인원_2급지',\n",
    "'설문대상인원_3급지',\n",
    "'설문대상인원_남성',\n",
    "'설문대상인원_여성',\n",
    "'설문대상인원_20대이하',\n",
    "'설문대상인원_30대',\n",
    "'설문대상인원_40대',\n",
    "'설문대상인원_50대',\n",
    "'설문대상인원_60대이하',\n",
    "'종합체감안전도_점수',\n",
    "'전반적안전도_점수',\n",
    "'교통사고안전도_점수',\n",
    "'법질서준수도_점수',\n",
    "'절도폭력안전도_점수',\n",
    "'강도살인안전도_점수',\n",
    "'전반적경찰노력도_점수',\n",
    "'월 평균 소득 금액',\n",
    "'총 상주인구 수']\n"
   ]
  },
  {
   "cell_type": "code",
   "execution_count": 100,
   "id": "interior-evidence",
   "metadata": {},
   "outputs": [],
   "source": [
    "safe=pd.concat([safe1, safe2], axis=0).reset_index(drop=True)\n",
    "safe.columns=safe_header\n",
    "\n",
    "safe_effect=pd.concat([safe_effect1, safe_effect2], axis=0).reset_index(drop = True)\n",
    "safe_effect.columns=safe_effect_header"
   ]
  },
  {
   "cell_type": "code",
   "execution_count": 101,
   "id": "limited-mustang",
   "metadata": {},
   "outputs": [],
   "source": [
    "safe=safe[['경찰서',\n",
    "'종합체감안전도_점수',\n",
    "'전반적안전도_점수',\n",
    "'분야별안전도_점수',\n",
    "'범죄안전도_점수',\n",
    "'교통사고안전도_점수',\n",
    "'법질서준수도_점수',\n",
    "'절도폭력안전도_점수',\n",
    "'강도살인안전도_점수',\n",
    "'전반적경찰노력도_점수']]\n",
    "safe_4 = safe[(safe[\"경찰서\"].str[:2] == \"서울\") | \n",
    "            (safe[\"경찰서\"].str[4:6] == \"수원\") | \n",
    "            (safe[\"경찰서\"].str[2:4] == \"창원\") |\n",
    "            (safe[\"경찰서\"].str[2:4] == \"마산\") |\n",
    "            (safe[\"경찰서\"].str[2:4] == \"진주\")|\n",
    "            (safe[\"경찰서\"].str[2:4] == \"진해\") ]"
   ]
  },
  {
   "cell_type": "code",
   "execution_count": 102,
   "id": "amended-pepper",
   "metadata": {},
   "outputs": [],
   "source": [
    "safe_groupby=safe_4.groupby(['경찰서']).mean().reset_index()\n",
    "safe_groupby.loc[0, '경찰서']=\"수원남부경찰서\"\n",
    "safe_groupby.loc[1, '경찰서']=\"수원서부경찰서\"\n",
    "safe_groupby.loc[2, '경찰서']=\"수원중부경찰서\"\n",
    "safe_groupby.loc[3, '경찰서']=\"마산동부경찰서\"\n",
    "safe_groupby.loc[4, '경찰서']=\"마산중부경찰서\"\n",
    "safe_groupby.loc[5, '경찰서']=\"진주경찰서\"\n",
    "safe_groupby.loc[6, '경찰서']=\"진해경찰서\"\n",
    "safe_groupby.loc[7, '경찰서']=\"창원서부경찰서\"\n",
    "safe_groupby.loc[8, '경찰서']=\"창원중부경찰서\"\n",
    "safe_groupby.sort_values(by=\"경찰서\", inplace=True)\n",
    "safe_groupby.reset_index(drop=True,inplace=True)\n",
    "safe_groupby.rename(columns={'경찰서':'관할경찰서'},inplace = True)"
   ]
  },
  {
   "cell_type": "code",
   "execution_count": 103,
   "id": "marked-opening",
   "metadata": {},
   "outputs": [],
   "source": [
    "#경찰활동 Feature 점수화\n",
    "경찰활동 = safe_groupby[['관할경찰서','전반적경찰노력도_점수']]\n",
    "경찰활동['전반적경찰노력도_점수'].describe()\n",
    "\n",
    "breaks=jenkspy.jenks_breaks(경찰활동['전반적경찰노력도_점수'],nb_class=10)\n",
    "경찰활동['전반적경찰노력도_점수']=pd.cut(경찰활동['전반적경찰노력도_점수'],bins=breaks,\n",
    "                           labels=[i for i in range(1,11)],\n",
    "                           include_lowest=True)\n",
    "경찰활동['전반적경찰노력도_점수'] =경찰활동['전반적경찰노력도_점수'].astype(int) "
   ]
  },
  {
   "cell_type": "code",
   "execution_count": 104,
   "id": "interpreted-dietary",
   "metadata": {},
   "outputs": [],
   "source": [
    "police_point = pd.merge(police_point,경찰활동,on = '관할경찰서')"
   ]
  },
  {
   "cell_type": "markdown",
   "id": "vanilla-convergence",
   "metadata": {},
   "source": [
    "물리적 무질서 \n",
    "- 음의 시설물: '편의점','보안등','비상벨','cctv'\n",
    "- 양의 시설물: '공원','놀이시설','유흥업소'\n",
    "- 무질서가 높을수록 치안이 좋지 않다 "
   ]
  },
  {
   "cell_type": "code",
   "execution_count": 105,
   "id": "latin-singer",
   "metadata": {},
   "outputs": [],
   "source": [
    "for i in ['편의점','보안등','비상벨','cctv','전반적경찰노력도_점수']:\n",
    "    police_point[i]=police_point[i].replace([1,2,3,4,5,6,7,8,9,10],[10,9,8,7,6,5,4,3,2,1])"
   ]
  },
  {
   "cell_type": "code",
   "execution_count": 106,
   "id": "paperback-geography",
   "metadata": {},
   "outputs": [],
   "source": [
    "police_point['물리적_무질서'] = round(((police_point['편의점']+ police_point['보안등']+ police_point['비상벨']+ police_point['cctv']+ police_point['공원']+ police_point['놀이시설']+ police_point['유흥업소'] )/7),2 )\n",
    "police_point['사회적_무질서'] = police_point['112_질서유지']\n",
    "police_point['교통안전'] = police_point['112_교통']\n",
    "police_point['경찰활동'] = police_point['전반적경찰노력도_점수']\n",
    "police_point['체감안전도_지수'] = police_point['물리적_무질서']+police_point['사회적_무질서']+police_point['교통안전'] +police_point['경찰활동'] "
   ]
  },
  {
   "cell_type": "code",
   "execution_count": 111,
   "id": "endangered-pulse",
   "metadata": {},
   "outputs": [],
   "source": [
    "police_point.to_file('4개시도_체감안전도_지수.geojson',driver = 'GeoJSON')"
   ]
  }
 ],
 "metadata": {
  "kernelspec": {
   "display_name": "Python 3",
   "language": "python",
   "name": "python3"
  },
  "language_info": {
   "codemirror_mode": {
    "name": "ipython",
    "version": 3
   },
   "file_extension": ".py",
   "mimetype": "text/x-python",
   "name": "python",
   "nbconvert_exporter": "python",
   "pygments_lexer": "ipython3",
   "version": "3.6.9"
  }
 },
 "nbformat": 4,
 "nbformat_minor": 5
}
