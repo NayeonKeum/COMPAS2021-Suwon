{
 "cells": [
  {
   "cell_type": "markdown",
   "id": "dated-declaration",
   "metadata": {},
   "source": [
    "# 라이브러리"
   ]
  },
  {
   "cell_type": "code",
   "execution_count": null,
   "id": "eight-mapping",
   "metadata": {},
   "outputs": [],
   "source": [
    "from geoband.API import *\n",
    "import pandas as pd\n",
    "import numpy as np\n",
    "import warnings\n",
    "warnings.filterwarnings(\"ignore\")\n",
    "import geopandas as gpd\n",
    "import pandas as pd\n",
    "import json\n",
    "from pandas import json_normalize\n",
    "import pandas as pd\n",
    "import folium\n",
    "from folium.plugins import MarkerCluster\n",
    "from geoband.API import *\n",
    "import geopandas as gpd\n",
    "import warnings\n",
    "warnings.filterwarnings(\"ignore\")\n",
    "from shapely.geometry import Point, Polygon\n",
    "import matplotlib.pyplot as plt\n",
    "import folium\n",
    "from folium import Choropleth, Circle, Marker\n",
    "from folium.plugins import HeatMap, MarkerCluster\n",
    "from geopandas import GeoDataFrame\n",
    "# GetCompasData로 주피터 노트북 경로에 파일 저장\n",
    "import pandas as pd\n",
    "import geopandas as gpd\n",
    "import matplotlib.pyplot as plt\n",
    "from shapely.geometry import Point, Polygon, LineString\n",
    "from fiona.crs import from_string"
   ]
  },
  {
   "cell_type": "markdown",
   "id": "legendary-locking",
   "metadata": {},
   "source": [
    "- 좌표정보 dataframe : SIG_4"
   ]
  },
  {
   "cell_type": "code",
   "execution_count": null,
   "id": "individual-swing",
   "metadata": {},
   "outputs": [],
   "source": [
    "SIG = gpd.read_file(\"전국시군구_경계구역.json\")\n",
    "HJD = gpd.read_file(\"전국행정동_경계구역.geojson\")\n",
    "\n",
    "SIG_4 = SIG[(SIG[\"SIG_CD\"].str[:2] == \"11\") | \n",
    "            (SIG[\"SIG_KOR_NM\"].str.split(\" \").str[0] == \"수원시\") | \n",
    "            (SIG[\"SIG_KOR_NM\"].str.split(\" \").str[0] == \"창원시\") |\n",
    "            (SIG[\"SIG_KOR_NM\"].str.split(\" \").str[0] == \"진주시\")]\n",
    "# 서울 수원 창원 진주의 시군구 경계구역만 가져오기\n",
    "\n",
    "SIG_4[\"sgg_nm\"] =  SIG_4[\"SIG_KOR_NM\"].apply(lambda x : x.split(\" \")[-1])\n",
    "# '창원시 의창구 -> 의창구'"
   ]
  },
  {
   "cell_type": "code",
   "execution_count": null,
   "id": "rural-fetish",
   "metadata": {},
   "outputs": [],
   "source": [
    "others_security_lamp = pd.read_csv('22.4개시도_보안등현황.csv')"
   ]
  },
  {
   "cell_type": "markdown",
   "id": "possible-broad",
   "metadata": {},
   "source": [
    "- 좌표정보가 담긴 dataframe -> geodataframe 으로 변환"
   ]
  },
  {
   "cell_type": "code",
   "execution_count": null,
   "id": "champion-network",
   "metadata": {},
   "outputs": [],
   "source": [
    "epsg4326 = from_string(\"+proj=longlat +ellps=WGS84 +datum=WGS84 +no_defs\")\n",
    "others_security_lamp['geometry'] = others_security_lamp.apply(lambda x : Point([x['lon'], x['lat']]), axis=1)\n",
    "others_security_lamp = gpd.GeoDataFrame(others_security_lamp, geometry='geometry', crs = epsg4326)"
   ]
  },
  {
   "cell_type": "markdown",
   "id": "overall-globe",
   "metadata": {},
   "source": [
    "1-1) result : 시군구 별로 보안등의 개수가 담긴 dataframe\n",
    "- 시군구별로 총 개수(통계)를 제시할 수 있음"
   ]
  },
  {
   "cell_type": "code",
   "execution_count": null,
   "id": "floral-bandwidth",
   "metadata": {},
   "outputs": [],
   "source": [
    "result = gpd.sjoin(SIG_4, others_security_lamp, how='left', op=\"intersects\")\n",
    "result.head(3)"
   ]
  },
  {
   "cell_type": "code",
   "execution_count": null,
   "id": "cordless-consumption",
   "metadata": {},
   "outputs": [],
   "source": []
  }
 ],
 "metadata": {
  "kernelspec": {
   "display_name": "Python 3",
   "language": "python",
   "name": "python3"
  },
  "language_info": {
   "codemirror_mode": {
    "name": "ipython",
    "version": 3
   },
   "file_extension": ".py",
   "mimetype": "text/x-python",
   "name": "python",
   "nbconvert_exporter": "python",
   "pygments_lexer": "ipython3",
   "version": "3.6.9"
  }
 },
 "nbformat": 4,
 "nbformat_minor": 5
}
