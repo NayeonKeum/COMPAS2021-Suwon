{
 "cells": [
  {
   "cell_type": "code",
   "execution_count": 1,
   "id": "provincial-bibliography",
   "metadata": {},
   "outputs": [],
   "source": [
    "from geoband.API import *\n",
    "import pandas as pd\n",
    "import numpy as np\n",
    "import warnings\n",
    "warnings.filterwarnings(\"ignore\")\n",
    "import geopandas as gpd\n",
    "import pandas as pd\n",
    "import json\n",
    "from pandas import json_normalize\n",
    "import pandas as pd\n",
    "import folium\n",
    "from folium.plugins import MarkerCluster\n",
    "from geoband.API import *\n",
    "import geopandas as gpd\n",
    "import warnings\n",
    "warnings.filterwarnings(\"ignore\")\n",
    "from shapely.geometry import Point, Polygon\n",
    "import matplotlib.pyplot as plt\n",
    "import folium\n",
    "from folium import Choropleth, Circle, Marker\n",
    "from folium.plugins import HeatMap, MarkerCluster\n",
    "from geopandas import GeoDataFrame\n",
    "# GetCompasData로 주피터 노트북 경로에 파일 저장\n",
    "import pandas as pd\n",
    "import geopandas as gpd\n",
    "import matplotlib.pyplot as plt\n",
    "from shapely.geometry import Point, Polygon, LineString\n",
    "from fiona.crs import from_string"
   ]
  },
  {
   "cell_type": "code",
   "execution_count": 2,
   "id": "unexpected-requirement",
   "metadata": {},
   "outputs": [],
   "source": [
    "# 수원시 격자정보\n",
    "suwon_112_grid = gpd.read_file('2.수원시_112신고(격자별 신고횟수).geojson').drop([\"rep_cnt\"],axis=1)"
   ]
  },
  {
   "cell_type": "markdown",
   "id": "premier-copyright",
   "metadata": {},
   "source": [
    "#### 링크 데이터 가공"
   ]
  },
  {
   "cell_type": "code",
   "execution_count": 94,
   "id": "sorted-hearts",
   "metadata": {},
   "outputs": [],
   "source": [
    "링크 = gpd.read_file(\"링크.shp\")"
   ]
  },
  {
   "cell_type": "code",
   "execution_count": 127,
   "id": "excess-donor",
   "metadata": {},
   "outputs": [],
   "source": [
    "링크[\"FIRST_GU\"] = 링크[\"FIRST_GU\"].astype(str)\n",
    "\n",
    "링크_4개시도현황 = 링크[(링크[\"FIRST_GU\"].str[:4] == \"3811\")|\n",
    "              (링크[\"FIRST_GU\"].str[:4] == \"3101\")|\n",
    "              (링크[\"FIRST_GU\"].str[:4] == \"3803\")|\n",
    "              (링크[\"FIRST_GU\"].str[:2] == \"11\")]\n",
    "링크_4개시도현황 = 링크_4개시도현황[[\"LANES\",\"MAX_SPD\",\"FIRST_GU\",\"geometry\"]].to_crs(epsg=\"4326\")\n",
    "링크_4개시도현황.columns = [\"차로수\",\"최고제한속도\",\"시군구\",\"geometry\"]"
   ]
  },
  {
   "cell_type": "code",
   "execution_count": 166,
   "id": "headed-behavior",
   "metadata": {},
   "outputs": [],
   "source": [
    "수원시_링크현황 =  gpd.sjoin(링크_4개시도현황,suwon_112_grid, how=\"right\",op=\"intersects\").drop([\"geometry\",\"index_left\",\"시군구\"],axis=1)\n",
    "# 최고제한속도는 min\n",
    "# 차로수는 sum\n",
    "# 시군구 drop\n",
    "수원시_링크현황 = 수원시_링크현황.fillna(0)\n",
    "수원시_링크현황.head(2)\n",
    "수원시_링크현황_groupby = 수원시_링크현황.groupby([\"gid\"]).agg({\"차로수\":\"sum\",\"최고제한속도\":\"min\"}).reset_index()"
   ]
  },
  {
   "cell_type": "code",
   "execution_count": 167,
   "id": "modular-ratio",
   "metadata": {},
   "outputs": [],
   "source": [
    "수원시_링크현황_groupby.to_csv(\"수원시_링크현황.csv\",encoding=\"utf-8-sig\",index=False)"
   ]
  },
  {
   "cell_type": "code",
   "execution_count": null,
   "id": "balanced-afghanistan",
   "metadata": {},
   "outputs": [],
   "source": []
  },
  {
   "cell_type": "markdown",
   "id": "centered-retro",
   "metadata": {},
   "source": [
    "#### 노드 데이터 가공"
   ]
  },
  {
   "cell_type": "code",
   "execution_count": 10,
   "id": "painful-emerald",
   "metadata": {},
   "outputs": [
    {
     "data": {
      "text/html": [
       "<div>\n",
       "<style scoped>\n",
       "    .dataframe tbody tr th:only-of-type {\n",
       "        vertical-align: middle;\n",
       "    }\n",
       "\n",
       "    .dataframe tbody tr th {\n",
       "        vertical-align: top;\n",
       "    }\n",
       "\n",
       "    .dataframe thead th {\n",
       "        text-align: right;\n",
       "    }\n",
       "</style>\n",
       "<table border=\"1\" class=\"dataframe\">\n",
       "  <thead>\n",
       "    <tr style=\"text-align: right;\">\n",
       "      <th></th>\n",
       "      <th>시군구</th>\n",
       "      <th>연결링크수</th>\n",
       "      <th>geometry</th>\n",
       "      <th>lat</th>\n",
       "      <th>lon</th>\n",
       "    </tr>\n",
       "  </thead>\n",
       "  <tbody>\n",
       "    <tr>\n",
       "      <th>0</th>\n",
       "      <td>31011</td>\n",
       "      <td>3</td>\n",
       "      <td>POINT (126.98185 37.30622)</td>\n",
       "      <td>37.306219</td>\n",
       "      <td>126.981847</td>\n",
       "    </tr>\n",
       "    <tr>\n",
       "      <th>1</th>\n",
       "      <td>31011</td>\n",
       "      <td>3</td>\n",
       "      <td>POINT (126.97636 37.30571)</td>\n",
       "      <td>37.305712</td>\n",
       "      <td>126.976363</td>\n",
       "    </tr>\n",
       "  </tbody>\n",
       "</table>\n",
       "</div>"
      ],
      "text/plain": [
       "     시군구  연결링크수                    geometry        lat         lon\n",
       "0  31011      3  POINT (126.98185 37.30622)  37.306219  126.981847\n",
       "1  31011      3  POINT (126.97636 37.30571)  37.305712  126.976363"
      ]
     },
     "execution_count": 10,
     "metadata": {},
     "output_type": "execute_result"
    }
   ],
   "source": [
    "노드 = gpd.read_file(\"노드.shp\")\n",
    "노드 = 노드.to_crs(epsg=\"4326\")\n",
    "# NODE_TYPE : 101이 교차로\n",
    "교차로_노드 = 노드[노드[\"NODE_TYPE\"] == 101]\n",
    "수원_교차로노드 = 교차로_노드[교차로_노드[\"DIST_ID2\"].str[:4] == \"3101\"].reset_index(drop=True)\n",
    "수원_교차로노드[\"lat\"] = 수원_교차로노드[\"geometry\"].apply(lambda point : point.y)\n",
    "수원_교차로노드[\"lon\"] = 수원_교차로노드[\"geometry\"].apply(lambda point : point.x)\n",
    "수원_교차로노드.drop([\"X\",\"Y\"],axis=1,inplace=True)\n",
    "수원_교차로노드 = 수원_교차로노드[[\"DIST_ID2\",\"APPROCHES\",\"geometry\",\"lat\",\"lon\"]]\n",
    "수원_교차로노드.columns = [\"시군구\",\"연결링크수\",\"geometry\",\"lat\",\"lon\"]\n",
    "수원_교차로노드.head(2)"
   ]
  },
  {
   "cell_type": "code",
   "execution_count": 14,
   "id": "catholic-mississippi",
   "metadata": {},
   "outputs": [],
   "source": [
    "수원_교차로노드.drop([\"연결링크수\",\"geometry\"],axis=1).to_csv(\"수원시_교차로현황.csv\",encoding=\"utf-8-sig\",index=False)\n",
    "# 말그대로 교차로 개수\n",
    "\n",
    "수원_삼거리개수 = 수원_교차로노드[수원_교차로노드[\"연결링크수\"] == 3]\n",
    "수원_삼거리개수.drop([\"geometry\"],axis=1).to_csv(\"수원시_삼거리현황.csv\",encoding=\"utf-8-sig\",index=False)\n",
    "# 삼거리 개수\n",
    "\n",
    "수원_사거리개수 = 수원_교차로노드[수원_교차로노드[\"연결링크수\"] == 4]\n",
    "수원_사거리개수.drop([\"geometry\"],axis=1).to_csv(\"수원시_사거리현황.csv\",encoding=\"utf-8-sig\",index=False)\n",
    "# 사거리 개수\n",
    "\n",
    "수원_오거리개수 = 수원_교차로노드[수원_교차로노드[\"연결링크수\"] > 4]\n",
    "수원_오거리개수.drop([\"geometry\"],axis=1).to_csv(\"수원시_오거리현황.csv\",encoding=\"utf-8-sig\",index=False)\n",
    "# 사거리 개수"
   ]
  },
  {
   "cell_type": "markdown",
   "id": "greenhouse-trader",
   "metadata": {},
   "source": [
    "교차로노드_4개시도현황 = 교차로_노드[(교차로_노드[\"DIST_ID2\"].str[:4] == \"3101\")|\n",
    "                     (교차로_노드[\"DIST_ID2\"].str[:4] == \"3811\")|\n",
    "                     (교차로_노드[\"DIST_ID2\"].str[:4] == \"3803\")|\n",
    "                     (교차로_노드[\"DIST_ID2\"].str[:2] == \"11\")]\n",
    "교차로노드_4개시도현황[\"lat\"] = 교차로노드_4개시도현황[\"geometry\"].apply(lambda point : point.y)\n",
    "교차로노드_4개시도현황[\"lon\"] = 교차로노드_4개시도현황[\"geometry\"].apply(lambda point : point.x)\n",
    "교차로노드_4개시도현황.drop([\"X\",\"Y\"],axis=1,inplace=True)\n",
    "교차로노드_4개시도현황[[\"DIST_ID2\",\"APPROCHES\",\"geometry\",\"lat\",\"lon\"]].to_file(\"4개시도_교차로현황.geojson\",driver=\"GeoJSON\")"
   ]
  },
  {
   "cell_type": "code",
   "execution_count": null,
   "id": "ongoing-physics",
   "metadata": {},
   "outputs": [],
   "source": []
  },
  {
   "cell_type": "code",
   "execution_count": null,
   "id": "formed-botswana",
   "metadata": {},
   "outputs": [],
   "source": []
  },
  {
   "cell_type": "code",
   "execution_count": null,
   "id": "knowing-language",
   "metadata": {},
   "outputs": [],
   "source": []
  },
  {
   "cell_type": "code",
   "execution_count": null,
   "id": "turned-jacket",
   "metadata": {},
   "outputs": [],
   "source": []
  }
 ],
 "metadata": {
  "kernelspec": {
   "display_name": "Python 3",
   "language": "python",
   "name": "python3"
  },
  "language_info": {
   "codemirror_mode": {
    "name": "ipython",
    "version": 3
   },
   "file_extension": ".py",
   "mimetype": "text/x-python",
   "name": "python",
   "nbconvert_exporter": "python",
   "pygments_lexer": "ipython3",
   "version": "3.6.9"
  }
 },
 "nbformat": 4,
 "nbformat_minor": 5
}
