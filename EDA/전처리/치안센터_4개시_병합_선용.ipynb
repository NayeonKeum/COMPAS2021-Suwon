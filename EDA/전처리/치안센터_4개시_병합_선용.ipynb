{
 "cells": [
  {
   "cell_type": "code",
   "execution_count": 1,
   "id": "upper-quilt",
   "metadata": {},
   "outputs": [],
   "source": [
    "from geoband.API import *\n",
    "import pandas as pd\n",
    "import numpy as np\n",
    "import warnings\n",
    "warnings.filterwarnings(\"ignore\")\n",
    "import geopandas as gpd\n",
    "import json\n",
    "from pandas import json_normalize\n",
    "import folium\n",
    "from folium.plugins import MarkerCluster\n",
    "import matplotlib.pyplot as plt\n",
    "import folium\n",
    "from folium import Choropleth, Circle, Marker\n",
    "from folium.plugins import HeatMap, MarkerCluster\n",
    "from folium import Choropleth\n",
    "import matplotlib\n",
    "from datetime import datetime \n",
    "# GetCompasData로 주피터 노트북 경로에 파일 저장\n",
    "from shapely.geometry import Point, Polygon, LineString\n",
    "from fiona.crs import from_string\n",
    "matplotlib.rcParams['font.family']=\"Malgun Gothic\""
   ]
  },
  {
   "cell_type": "code",
   "execution_count": 2,
   "id": "stuffed-protest",
   "metadata": {},
   "outputs": [],
   "source": [
    "# 원래 데이터\n",
    "suwon_112 = pd.read_csv('1.수원시_112신고이력(격자_관할경계매핑).csv')\n",
    "others_112 = pd.read_csv('3.3개시도_112신고이력(관할경계매핑).csv')\n",
    "others_alcohol = gpd.read_file('8.4개시도_유흥업소현황.geojson')\n",
    "others_police_box_area = gpd.read_file('12.4개시도_치안안전센터_관할경계.geojson')\n",
    "others_security_lamp = pd.read_csv('22.4개시도_보안등현황.csv')\n",
    "others_security_bell = gpd.read_file('23.4개시도_안전비상벨현황.geojson')\n",
    "others_cctv = pd.read_csv('24.4개시도_CCTV설치현황.csv')\n",
    "suwon_building = pd.read_csv('26.수원시_건축물대장(표제부).csv')\n",
    "others_park = pd.read_csv('27.4개시도_공원현황.csv')\n",
    "others_police = pd.read_csv('39.4개시도_경찰관서현황.csv')\n",
    "others_playground = pd.read_csv('40.4개시도_어린이놀이시설현황.csv')\n",
    "others_land_use_plan = gpd.read_file('41.4개시도_토지이용계획도.geojson')\n",
    "others_convenience = gpd.read_file('42.4개시도_편의점현황.geojson')\n",
    "\n",
    "\n",
    "\n",
    "#구,동별로 되어 있는 데이터\n",
    "suwon_homeless = pd.read_csv('13.수원시_노숙인자활시설현황.csv')\n",
    "suwon_child_welfare = pd.read_csv('14.수원시_아동복지시설현황.csv')\n",
    "suwon_child_center = pd.read_csv('15.수원시_지역아동센터시설현황.csv')\n",
    "suwon_youth_study = pd.read_csv('16.수원시_청소년공부방현황.csv')\n",
    "suwon_library = pd.read_csv('17.수원시_도서관현황.csv')\n",
    "suwon_free_cafeteria =pd.read_csv('18.수원시_무료급식소현황.csv')\n",
    "suwon_child_free_cafeteria = pd.read_csv('19.수원시_아동복지급식소현황.csv')\n",
    "suwon_female_parcel = pd.read_csv('20.수원시_여성안심택배함현황.csv')\n",
    "suwon_street_lamp = pd.read_csv('21.수원시_가로등현황.csv')\n",
    "\n",
    "\n",
    "# 병원, 약국 데이터\n",
    "병원_4개시 = pd.read_csv('4개시도_병원.csv')\n",
    "약국_4개시 = pd.read_csv('4개시도_약국.csv')"
   ]
  },
  {
   "cell_type": "markdown",
   "id": "noted-medium",
   "metadata": {},
   "source": [
    "### 치안센터 기준의 데이터프레임 생성"
   ]
  },
  {
   "cell_type": "code",
   "execution_count": 3,
   "id": "lovely-slovak",
   "metadata": {},
   "outputs": [],
   "source": [
    "others_police_box_area.columns=['관할치안센터','관할경찰서','geometry']\n",
    "others_police_box_area=others_police_box_area.drop_duplicates(['관할치안센터'])\n",
    "others_police_box_area.reset_index(drop=True,inplace=True)"
   ]
  },
  {
   "cell_type": "code",
   "execution_count": 4,
   "id": "innovative-animal",
   "metadata": {},
   "outputs": [],
   "source": [
    "police_box_4sido = others_police_box_area.copy()\n",
    "police_box_4sido = police_box_4sido[['관할치안센터','관할경찰서']]\n",
    "police_box_4sido.sort_values(by=[\"관할치안센터\"], inplace=True)\n",
    "police_box_4sido.reset_index(inplace = True,drop=True)"
   ]
  },
  {
   "cell_type": "markdown",
   "id": "wired-encyclopedia",
   "metadata": {},
   "source": [
    "### mapping & count 함수 생성"
   ]
  },
  {
   "cell_type": "code",
   "execution_count": 5,
   "id": "armed-courtesy",
   "metadata": {},
   "outputs": [],
   "source": [
    "def point_police_box(data_df,oters_police_box_area,col):\n",
    "    df = data_df.copy()\n",
    "\n",
    "    epsg4326 = from_string(\"+proj=longlat +ellps=WGS84 +datum=WGS84 +no_defs\")\n",
    "    df['geometry'] = df.apply(lambda x : Point([x['lon'], x['lat']]), axis=1)\n",
    "    df = gpd.GeoDataFrame(df, geometry='geometry', crs = epsg4326)\n",
    "    \n",
    "    police_box_result = gpd.sjoin(others_police_box_area, df, how='inner', op=\"intersects\").drop([\"index_right\"],axis=1)\n",
    "    \n",
    "    police_box_result_groupby = police_box_result.groupby(\"관할치안센터\").agg({col:\"count\"}).reset_index().rename(columns={col:\"cnt\"})\n",
    "    \n",
    "    return police_box_result,police_box_result_groupby\n",
    "\n",
    "# 카운트용 함수\n",
    "\n",
    "def point_police_box_count(data_df,others_police_box,col):\n",
    "    df = data_df.copy()\n",
    "\n",
    "    epsg4326 = from_string(\"+proj=longlat +ellps=WGS84 +datum=WGS84 +no_defs\")\n",
    "    df['geometry'] = df.apply(lambda x : Point([x['lon'], x['lat']]), axis=1)\n",
    "    df = gpd.GeoDataFrame(df, geometry='geometry', crs = epsg4326)\n",
    "    \n",
    "    police_box_result = gpd.sjoin(others_police_box_area, df, how='inner', op=\"intersects\").drop([\"index_right\"],axis=1)\n",
    "    \n",
    "    police_box_result_groupby = police_box_result.groupby(\"관할치안센터\").agg({col:\"sum\"}).reset_index().rename(columns={col:\"cnt\"})\n",
    "    \n",
    "    return police_box_result,police_box_result_groupby    \n",
    "def police_box_4sido_count(df,name):\n",
    "    for i in range(len(df)):\n",
    "        for j in range(len(police_box_4sido)):\n",
    "            if df.loc[i, '관할치안센터'] == police_box_4sido.loc[j, '관할치안센터']:\n",
    "                    police_box_4sido.loc[j, name]=df.loc[i, 'cnt']"
   ]
  },
  {
   "cell_type": "markdown",
   "id": "colored-window",
   "metadata": {},
   "source": [
    "#### 지역명 매핑"
   ]
  },
  {
   "cell_type": "code",
   "execution_count": 6,
   "id": "bigger-genre",
   "metadata": {},
   "outputs": [],
   "source": [
    "area_list = []\n",
    "for i in range(len(police_box_4sido)):\n",
    "    area_list.append(police_box_4sido['관할경찰서'][i][0:2])\n",
    "for i in range(len(area_list)):\n",
    "    if (area_list[i]=='마산') | (area_list[i] == '진해'):\n",
    "        area_list[i] = '창원'\n",
    "police_box_4sido['지역'] = area_list\n"
   ]
  },
  {
   "cell_type": "markdown",
   "id": "proper-journal",
   "metadata": {},
   "source": [
    "## 27.4개시도_공원현황 mapping"
   ]
  },
  {
   "cell_type": "code",
   "execution_count": 7,
   "id": "annual-mouse",
   "metadata": {},
   "outputs": [],
   "source": [
    "others_park_result, others_park_groupby=point_police_box(others_park,others_police_box_area,'park_gbn')\n",
    "others_park_result=others_park_result.groupby(['관할치안센터', 'park_gbn']).count()\n",
    "others_park_result.reset_index(inplace=True)\n",
    "others_park_result=others_park_result[['관할치안센터','park_gbn','park_nm']]\n",
    "police_box_4sido_count(others_park_groupby,'공원')"
   ]
  },
  {
   "cell_type": "code",
   "execution_count": 8,
   "id": "varying-aurora",
   "metadata": {},
   "outputs": [],
   "source": [
    "## 공원 분류(안넣어도 됨)\n",
    "# police_box_4sido['어린이공원']=0\n",
    "# police_box_4sido['근린공원']=0\n",
    "# police_box_4sido['소공원']=0\n",
    "# police_box_4sido['문화공원']=0\n",
    "# police_box_4sido['역사공원']=0\n",
    "# police_box_4sido['체육공원']=0\n",
    "# for i in range(len(others_park_result)):\n",
    "#     for j in range(len(police_box_4sido)):\n",
    "#         if others_park_result.loc[i, '관할치안센터'] == police_box_4sido.loc[j, '관할치안센터'] and others_park_result.loc[i, 'park_gbn'] == '근린공원':\n",
    "#             police_box_4sido.loc[j, '근린공원']=others_park_result.loc[i, 'park_nm']\n",
    "#         elif others_park_result.loc[i, '관할치안센터'] == police_box_4sido.loc[j, '관할치안센터'] and others_park_result.loc[i, 'park_gbn'] == '소공원':\n",
    "#             police_box_4sido.loc[j, '소공원']=others_park_result.loc[i, 'park_nm']\n",
    "#         elif others_park_result.loc[i, '관할치안센터'] == police_box_4sido.loc[j, '관할치안센터'] and others_park_result.loc[i, 'park_gbn'] == '어린이공원':\n",
    "#             police_box_4sido.loc[j, '어린이공원']=others_park_result.loc[i, 'park_nm']\n",
    "#         elif others_park_result.loc[i, '관할치안센터'] == police_box_4sido.loc[j, '관할치안센터'] and others_park_result.loc[i, 'park_gbn'] == '문화공원':\n",
    "#             police_box_4sido.loc[j, '문화공원']=others_park_result.loc[i, 'park_nm']\n",
    "#         elif others_park_result.loc[i, '관할치안센터'] == police_box_4sido.loc[j, '관할치안센터'] and others_park_result.loc[i, 'park_gbn'] == '역사공원':\n",
    "#             police_box_4sido.loc[j, '역사공원']=others_park_result.loc[i, 'park_nm']\n",
    "#         elif others_park_result.loc[i, '관할치안센터'] == police_box_4sido.loc[j, '관할치안센터'] and others_park_result.loc[i, 'park_gbn'] == '체육공원':\n",
    "#             police_box_4sido.loc[j, '체육공원']=others_park_result.loc[i, 'park_nm']\n"
   ]
  },
  {
   "cell_type": "markdown",
   "id": "ethical-jersey",
   "metadata": {},
   "source": [
    "### 40.4개시도_어린이놀이시설현황/40.4개시도_어린이놀이시설현황_구별종류별"
   ]
  },
  {
   "cell_type": "code",
   "execution_count": 9,
   "id": "native-textbook",
   "metadata": {},
   "outputs": [],
   "source": [
    "others_playground_result, others_playground_groupby=point_police_box(others_playground,others_police_box_area,'fac_loc')\n",
    "police_box_4sido_count(others_playground_groupby,'놀이시설')"
   ]
  },
  {
   "cell_type": "markdown",
   "id": "general-timer",
   "metadata": {},
   "source": [
    "### 42.4개시도_편의점현황/42.4개시도_편의점현황_업체별수"
   ]
  },
  {
   "cell_type": "code",
   "execution_count": 10,
   "id": "vanilla-cookbook",
   "metadata": {},
   "outputs": [],
   "source": [
    "others_convenience_result, others_convenience_groupby=point_police_box(others_convenience,others_police_box_area,'KSIC_NM')\n",
    "others_convenience_result=others_convenience_result.groupby(['관할치안센터', 'KSIC_NM']).count()\n",
    "others_convenience_result.reset_index(inplace=True)\n",
    "others_convenience_result=others_convenience_result[['관할치안센터','KSIC_NM','BUSINESS_NM']]\n",
    "police_box_4sido_count(others_convenience_groupby,'편의점')"
   ]
  },
  {
   "cell_type": "markdown",
   "id": "productive-chase",
   "metadata": {},
   "source": [
    "## 22.4개시도_보안등현황 mapping"
   ]
  },
  {
   "cell_type": "code",
   "execution_count": 11,
   "id": "separated-fantasy",
   "metadata": {},
   "outputs": [],
   "source": [
    "others_security_lamp_result, others_security_lamp_groupby=point_police_box_count(others_security_lamp,others_police_box_area,'securitylight_cnt')\n",
    "police_box_4sido_count(others_security_lamp_groupby,'보안등')"
   ]
  },
  {
   "cell_type": "markdown",
   "id": "auburn-mambo",
   "metadata": {},
   "source": [
    "## 23.4개시도_안전비상벨현황 mapping"
   ]
  },
  {
   "cell_type": "code",
   "execution_count": 12,
   "id": "modern-grove",
   "metadata": {},
   "outputs": [],
   "source": [
    "others_security_bell_result = gpd.sjoin(others_police_box_area, others_security_bell, how='inner', op=\"intersects\").drop([\"index_right\"],axis=1)\n",
    "others_security_bell_groupby = others_security_bell_result.groupby(\"관할치안센터\").agg({'bell_us':\"count\"}).reset_index().rename(columns={'bell_us':\"cnt\"})\n",
    "others_security_bell_result=others_security_bell_result.groupby(['관할치안센터', 'bell_us'])['관할경찰서'].count()\n",
    "others_security_bell_result=others_security_bell_result.to_frame().reset_index().rename(columns={'관할경찰서':\"cnt\"})\n",
    "police_box_4sido_count(others_security_bell_groupby,'비상벨')"
   ]
  },
  {
   "cell_type": "code",
   "execution_count": 13,
   "id": "cooperative-sewing",
   "metadata": {},
   "outputs": [],
   "source": [
    "## 비상등 분류(안넣어도됨)\n",
    "# police_box_4sido['방범용비상벨']=0\n",
    "# police_box_4sido['약자보호비상벨']=0\n",
    "# police_box_4sido['기타비상벨']=0\n",
    "\n",
    "# for i in range(len(others_security_bell_result)):\n",
    "#     for j in range(len(police_box_4sido)):\n",
    "#         if others_security_bell_result.loc[i, '관할치안센터'] == police_box_4sido.loc[j, '관할치안센터'] and others_security_bell_result.loc[i, 'bell_us'] == '방범용':\n",
    "#             police_box_4sido.loc[j, '방범용비상벨']=others_security_bell_result.loc[i, 'cnt']\n",
    "#         elif others_security_bell_result.loc[i, '관할치안센터'] == police_box_4sido.loc[j, '관할치안센터'] and others_security_bell_result.loc[i, 'bell_us'] == '약자보호':\n",
    "#             police_box_4sido.loc[j, '약자보호비상벨']=others_security_bell_result.loc[i, 'cnt']\n",
    "#         elif others_security_bell_result.loc[i, '관할치안센터'] == police_box_4sido.loc[j, '관할치안센터'] and others_security_bell_result.loc[i, 'bell_us'] == '기타':\n",
    "#             police_box_4sido.loc[j, '기타비상벨']=others_security_bell_result.loc[i, 'cnt']\n"
   ]
  },
  {
   "cell_type": "markdown",
   "id": "sudden-picture",
   "metadata": {},
   "source": [
    "## 24.4개시도_CCTV설치현황 mapping"
   ]
  },
  {
   "cell_type": "code",
   "execution_count": 14,
   "id": "generous-editing",
   "metadata": {},
   "outputs": [],
   "source": [
    "others_cctv_result,others_cctv_groupby = point_police_box_count(others_cctv,others_police_box_area,'cctv_cnt')\n",
    "others_cctv_result = others_cctv_result.groupby(['관할치안센터','purpose'])['cctv_cnt'].sum()\n",
    "others_cctv_result=others_cctv_result.to_frame().reset_index()\n",
    "police_box_4sido_count(others_cctv_groupby,'cctv')"
   ]
  },
  {
   "cell_type": "code",
   "execution_count": 15,
   "id": "resident-trauma",
   "metadata": {},
   "outputs": [],
   "source": [
    "## cctv 분류(안넣어도됨)\n",
    "# police_box_4sido['생활방범cctv']=0\n",
    "# police_box_4sido['다목적cctv']=0\n",
    "# police_box_4sido['어린이보호cctv']=0\n",
    "# police_box_4sido['교통단속cctv']=0\n",
    "# police_box_4sido['쓰레기단속cctv']=0\n",
    "# police_box_4sido['기타cctv']=0\n",
    "# police_box_4sido['재난재해cctv']=0\n",
    "# police_box_4sido['시설물관리cctv']=0\n",
    "# police_box_4sido['차량방법cctv']=0\n",
    "# police_box_4sido['교통정보수집cctv']=0\n",
    "\n",
    "\n",
    "# for i in range(len(others_cctv_result)):\n",
    "#     for j in range(len(police_box_4sido)):\n",
    "#         if others_cctv_result.loc[i, '관할치안센터'] == police_box_4sido.loc[j, '관할치안센터'] and others_cctv_result.loc[i, 'purpose'] == '생활방범':\n",
    "#             police_box_4sido.loc[j, '생활방범cctv']=others_cctv_result.loc[i, 'cctv_cnt']\n",
    "#         elif others_cctv_result.loc[i, '관할치안센터'] == police_box_4sido.loc[j, '관할치안센터'] and others_cctv_result.loc[i, 'purpose'] == '다목적':\n",
    "#             police_box_4sido.loc[j, '다목적cctv']=others_cctv_result.loc[i, 'cctv_cnt']\n",
    "#         elif others_cctv_result.loc[i, '관할치안센터'] == police_box_4sido.loc[j, '관할치안센터'] and others_cctv_result.loc[i, 'purpose'] == '어린이보호':\n",
    "#             police_box_4sido.loc[j, '어린이보호cctv']=others_cctv_result.loc[i, 'cctv_cnt']\n",
    "#         elif others_cctv_result.loc[i, '관할치안센터'] == police_box_4sido.loc[j, '관할치안센터'] and others_cctv_result.loc[i, 'purpose'] == '교통단속':\n",
    "#             police_box_4sido.loc[j, '교통단속cctv']=others_cctv_result.loc[i, 'cctv_cnt']\n",
    "#         elif others_cctv_result.loc[i, '관할치안센터'] == police_box_4sido.loc[j, '관할치안센터'] and others_cctv_result.loc[i, 'purpose'] == '쓰레기단속':\n",
    "#             police_box_4sido.loc[j, '쓰레기단속cctv']=others_cctv_result.loc[i, 'cctv_cnt']\n",
    "#         elif others_cctv_result.loc[i, '관할치안센터'] == police_box_4sido.loc[j, '관할치안센터'] and others_cctv_result.loc[i, 'purpose'] == '기타':\n",
    "#             police_box_4sido.loc[j, '기타cctv']=others_cctv_result.loc[i, 'cctv_cnt']\n",
    "#         elif others_cctv_result.loc[i, '관할치안센터'] == police_box_4sido.loc[j, '관할치안센터'] and others_cctv_result.loc[i, 'purpose'] == '재난재해':\n",
    "#             police_box_4sido.loc[j, '재난재해cctv']=others_cctv_result.loc[i, 'cctv_cnt']\n",
    "#         elif others_cctv_result.loc[i, '관할치안센터'] == police_box_4sido.loc[j, '관할치안센터'] and others_cctv_result.loc[i, 'purpose'] == '시설물관리':\n",
    "#             police_box_4sido.loc[j, '시설물관리cctv']=others_cctv_result.loc[i, 'cctv_cnt']\n",
    "#         elif others_cctv_result.loc[i, '관할치안센터'] == police_box_4sido.loc[j, '관할치안센터'] and others_cctv_result.loc[i, 'purpose'] == '차량방법':\n",
    "#             police_box_4sido.loc[j, '차량방법cctv']=others_cctv_result.loc[i, 'cctv_cnt']\n",
    "#         elif others_cctv_result.loc[i, '관할치안센터'] == police_box_4sido.loc[j, '관할치안센터'] and others_cctv_result.loc[i, 'purpose'] == '교통정보수집':\n",
    "#             police_box_4sido.loc[j, '교통정보수집cctv']=others_cctv_result.loc[i, 'cctv_cnt']"
   ]
  },
  {
   "cell_type": "markdown",
   "id": "static-airport",
   "metadata": {},
   "source": [
    "## 112 신고이력 관련 데이터 가공\n",
    "- 20개 이상의 사건종별 데이터를 6개의 중분류로 매핑해주기\n",
    "- 교통 / 질서유지 / 중요범죄 / 기타범죄 / 기타_경찰업무 / 타기관_기타"
   ]
  },
  {
   "cell_type": "markdown",
   "id": "supported-cause",
   "metadata": {},
   "source": [
    "## 112 데이터 전처리 함수"
   ]
  },
  {
   "cell_type": "code",
   "execution_count": 16,
   "id": "deadly-garage",
   "metadata": {},
   "outputs": [],
   "source": [
    "def 사건종별_분류(x):\n",
    "    교통 = [\"교통사고\",\"교통불편\",\"교통위반\"]\n",
    "    질서유지 = [\"기타경범\",\"주취자\",\"행패소란\",\"보호조치\",\"시비\",\"위험방지\",\"청소년비행\",\"무전취식승차\"]\n",
    "    중요범죄 = [\"절도\",\"가정폭력\",\"폭력\"]\n",
    "    기타범죄 = [\"기타형사범\",\"도박\"]\n",
    "    기타_경찰업무 = [\"상담문의\",\"분실습득\",\"비상벨\",\"실종(실종아동 등)\"]\n",
    "    타기관_기타 = [\"기타_타기관\",\"소음\",\"서비스요청\"]\n",
    "    \n",
    "    if x in 교통:\n",
    "        return \"교통\"\n",
    "    if x in 질서유지:\n",
    "        return \"질서유지\"\n",
    "    if x in 중요범죄:\n",
    "        return \"중요범죄\"\n",
    "    if x in 기타범죄:\n",
    "        return \"기타범죄\"\n",
    "    if x in 기타_경찰업무:\n",
    "        return \"기타_경찰업무\"\n",
    "    if x in 타기관_기타:\n",
    "        return \"타기관_기타\""
   ]
  },
  {
   "cell_type": "code",
   "execution_count": 17,
   "id": "round-chess",
   "metadata": {},
   "outputs": [],
   "source": [
    "def time_cut(x):\n",
    "    if 6 > x >= 2:\n",
    "        return '새벽'\n",
    "    elif 11 > x >= 6:\n",
    "        return '오전'\n",
    "    elif 15 > x >= 11:\n",
    "        return '점심'\n",
    "    elif 18 > x >= 15:\n",
    "        return '오후'\n",
    "    elif 22 > x >= 18:\n",
    "        return '저녁'\n",
    "    else:\n",
    "        return '심야'"
   ]
  },
  {
   "cell_type": "code",
   "execution_count": 18,
   "id": "nominated-flooring",
   "metadata": {},
   "outputs": [],
   "source": [
    "others_112.columns = [\"사건종별\",\"접수완료일자\",\"접수완료시각\",\"도착일시\",\"관할치안센터\",\"관할경찰서\"]\n",
    "suwon_112.columns = [\"사건종별\",\"접수완료일자\",\"접수완료시각\",\"도착일시\",\"gid\",\"관할치안센터\",\"관할경찰서\"]"
   ]
  },
  {
   "cell_type": "code",
   "execution_count": 19,
   "id": "absent-directive",
   "metadata": {},
   "outputs": [],
   "source": [
    "def 신고이력데이터_처리(data):\n",
    "    \n",
    "    others_112 = data.copy()\n",
    "    others_112[\"접수완료시각\"] = others_112[\"접수완료시각\"].str.replace(\"'\",\"\")\n",
    "    others_112[\"접수완료일자\"] = others_112[\"접수완료일자\"].astype(str)\n",
    "    #others_112[\"도착일시\"] = others_112[\"도착일시\"].astype(int).astype(str)\n",
    "    # 도착일시가 NaN인 경우 존재 -> 도착일시가 NaN이 아닌 경우에 대해서만 출동 소요시각 구하기\n",
    "\n",
    "    others_112[\"접수완료일시\"] = others_112[\"접수완료일자\"] + others_112[\"접수완료시각\"]\n",
    "    others_112[\"접수완료일시\"] = pd.to_datetime(others_112[\"접수완료일시\"],format=\"%Y%m%d%H%M%S\")\n",
    "\n",
    "    others_112[\"년\"] = others_112[\"접수완료일시\"].apply(lambda x : x.year)\n",
    "    others_112[\"월\"] = others_112[\"접수완료일시\"].apply(lambda x : x.month)\n",
    "    others_112[\"일\"] = others_112[\"접수완료일시\"].apply(lambda x : x.day)\n",
    "    others_112[\"요일\"] = others_112[\"접수완료일시\"].apply(lambda x : x.weekday())\n",
    "    others_112[\"시\"] = others_112[\"접수완료일시\"].apply(lambda x : x.hour)\n",
    "    others_112[\"분\"] = others_112[\"접수완료일시\"].apply(lambda x : x.minute)\n",
    "    others_112[\"초\"] = others_112[\"접수완료일시\"].apply(lambda x : x.second)\n",
    "\n",
    "    # 도착일시가 정확히 기록된 경우와 그렇지 않은 경우로 나누기\n",
    "\n",
    "    def get_도착일시(x):\n",
    "        if len(str(x)) < 14:\n",
    "            return np.NaN\n",
    "        else:\n",
    "            return str(int(float(x)))\n",
    "\n",
    "    others_112[\"도착일시\"] = others_112[\"도착일시\"].apply(lambda x : get_도착일시(x))\n",
    "    others_112[\"도착일시\"] = pd.to_datetime(others_112[\"도착일시\"],format=\"%Y%m%d%H%M%S\")\n",
    "\n",
    "    # 출동하는데 걸린 소요 시간\n",
    "    others_112[\"소요시간\"] = others_112[\"도착일시\"] - others_112[\"접수완료일시\"]\n",
    "\n",
    "    # 사건종별 중분류\n",
    "    others_112[\"사건종별_중분류\"] = others_112[\"사건종별\"].apply(lambda x : 사건종별_분류(x))\n",
    "    \n",
    "    # 시간대별 분류\n",
    "    others_112[\"시간대\"] = others_112[\"시\"].apply(lambda x : time_cut(x))\n",
    "    \n",
    "    return others_112"
   ]
  },
  {
   "cell_type": "code",
   "execution_count": 20,
   "id": "olive-fairy",
   "metadata": {},
   "outputs": [],
   "source": [
    "suwon_112_get = 신고이력데이터_처리(suwon_112)\n",
    "others_112_get = 신고이력데이터_처리(others_112)\n",
    "\n",
    "suwon_112_groupby = suwon_112_get.groupby(\"관할치안센터\").agg({'gid':\"count\"}).reset_index().rename(columns={'gid':\"cnt\"})\n",
    "suwon_112_get_groupby = suwon_112_get.groupby(['관할치안센터','사건종별_중분류'])['gid'].count().reset_index().rename(columns={'gid':\"cnt\"})\n",
    "\n",
    "others_112_groupby = others_112_get.groupby(\"관할치안센터\").agg({'사건종별':\"count\"}).reset_index().rename(columns={'사건종별':\"cnt\"})\n",
    "others_112_get_groupby = others_112_get.groupby(['관할치안센터','사건종별_중분류'])['사건종별'].count().reset_index().rename(columns={'사건종별':\"cnt\"})"
   ]
  },
  {
   "cell_type": "markdown",
   "id": "attached-exposure",
   "metadata": {},
   "source": [
    "### 112 신고 데이터 치안센터 영역과 매핑하는 함수"
   ]
  },
  {
   "cell_type": "code",
   "execution_count": 21,
   "id": "coordinated-surfing",
   "metadata": {},
   "outputs": [],
   "source": [
    "def police_box_4sido_112_mapping(df1,df2):\n",
    "    police_box_4sido_count(df1,'전체112')\n",
    "    for i in range(len(df2)):\n",
    "        for j in range(len(police_box_4sido)):\n",
    "            if df2.loc[i, '관할치안센터'] == police_box_4sido.loc[j, '관할치안센터'] and df2.loc[i, '사건종별_중분류'] == '기타_경찰업무':\n",
    "                police_box_4sido.loc[j, '112_기타_경찰업무']=df2.loc[i, 'cnt']\n",
    "            elif df2.loc[i, '관할치안센터'] == police_box_4sido.loc[j, '관할치안센터'] and df2.loc[i, '사건종별_중분류'] == '중요범죄':\n",
    "                police_box_4sido.loc[j, '112_중요범죄']=df2.loc[i, 'cnt']\n",
    "            elif df2.loc[i, '관할치안센터'] == police_box_4sido.loc[j, '관할치안센터'] and df2.loc[i, '사건종별_중분류'] == '교통':\n",
    "                police_box_4sido.loc[j, '112_교통']=df2.loc[i, 'cnt']\n",
    "            elif df2.loc[i, '관할치안센터'] == police_box_4sido.loc[j, '관할치안센터'] and df2.loc[i, '사건종별_중분류'] == '타기관_기타':\n",
    "                police_box_4sido.loc[j, '112_타기관_기타']=df2.loc[i, 'cnt']\n",
    "            elif df2.loc[i, '관할치안센터'] == police_box_4sido.loc[j, '관할치안센터'] and df2.loc[i, '사건종별_중분류'] == '질서유지':\n",
    "                police_box_4sido.loc[j, '112_질서유지']=df2.loc[i, 'cnt']\n",
    "            elif df2.loc[i, '관할치안센터'] == police_box_4sido.loc[j, '관할치안센터'] and df2.loc[i, '사건종별_중분류'] == '기타범죄':\n",
    "                police_box_4sido.loc[j, '112_기타범죄']=df2.loc[i, 'cnt']\n"
   ]
  },
  {
   "cell_type": "code",
   "execution_count": 22,
   "id": "answering-nylon",
   "metadata": {},
   "outputs": [],
   "source": [
    "police_box_4sido['전체112']=0\n",
    "police_box_4sido['112_기타_경찰업무']=0\n",
    "police_box_4sido['112_중요범죄']=0\n",
    "police_box_4sido['112_교통']=0\n",
    "police_box_4sido['112_타기관_기타']=0\n",
    "police_box_4sido['112_질서유지']=0\n",
    "police_box_4sido['112_기타범죄']=0"
   ]
  },
  {
   "cell_type": "code",
   "execution_count": 23,
   "id": "editorial-packing",
   "metadata": {},
   "outputs": [],
   "source": [
    "police_box_4sido_112_mapping(suwon_112_groupby,suwon_112_get_groupby)"
   ]
  },
  {
   "cell_type": "code",
   "execution_count": 24,
   "id": "reserved-sterling",
   "metadata": {},
   "outputs": [],
   "source": [
    "police_box_4sido_112_mapping(others_112_groupby,others_112_get_groupby)"
   ]
  },
  {
   "cell_type": "markdown",
   "id": "protective-architect",
   "metadata": {},
   "source": [
    "### 4개시도_유흥업소현황 mapping"
   ]
  },
  {
   "cell_type": "code",
   "execution_count": 25,
   "id": "comprehensive-possible",
   "metadata": {},
   "outputs": [],
   "source": [
    "others_alcohol = gpd.read_file('8.4개시도_유흥업소현황.geojson')[['BUSINESS_NM','COM_LC_NM','COM_MC_NM',\n",
    "                'COM_SC_NM','KSIC_NM','SGG_NM',\n",
    "       'ADB_EMD_NM','EMD_NM','ROAD_NM','geometry']]\n",
    "others_alcohol.columns = [\"상호명\",\"상권업종대분류명\",\"상권업종중분류명\",\"상권업종소분류명\",\"표준산업분류명\",\n",
    "                         \"시군구명\",\"행정동명\",\"법정동명\",\"도로명\",\"geometry\"]"
   ]
  },
  {
   "cell_type": "code",
   "execution_count": 26,
   "id": "corrected-approval",
   "metadata": {},
   "outputs": [],
   "source": [
    "others_alcohol_result = gpd.sjoin(others_police_box_area, others_alcohol, how='inner', op=\"intersects\").drop([\"index_right\"],axis=1)\n",
    "others_alcohol_result=others_alcohol_result.groupby(['관할치안센터'])['관할경찰서'].count().to_frame().reset_index().rename(columns={'관할경찰서':\"cnt\"})\n",
    "police_box_4sido_count(others_alcohol_result,'유흥업소')"
   ]
  },
  {
   "cell_type": "code",
   "execution_count": 27,
   "id": "unlike-great",
   "metadata": {},
   "outputs": [],
   "source": [
    "# suwon_homeless = pd.read_csv('13.수원시_노숙인자활시설현황.csv')\n",
    "# suwon_child_welfare = pd.read_csv('14.수원시_아동복지시설현황.csv')\n",
    "# suwon_child_center = pd.read_csv('15.수원시_지역아동센터시설현황.csv')\n",
    "# suwon_youth_study = pd.read_csv('16.수원시_청소년공부방현황.csv')\n",
    "# suwon_library = pd.read_csv('17.수원시_도서관현황.csv')\n",
    "# suwon_free_cafeteria =pd.read_csv('18.수원시_무료급식소현황.csv')\n",
    "# suwon_child_free_cafeteria = pd.read_csv('19.수원시_아동복지급식소현황.csv')\n",
    "# suwon_female_parcel = pd.read_csv('20.수원시_여성안심택배함현황.csv')\n",
    "# suwon_street_lamp = pd.read_csv('21.수원시_가로등현황.csv')"
   ]
  },
  {
   "cell_type": "markdown",
   "id": "threatened-commerce",
   "metadata": {},
   "source": [
    "### 약국 위치 매핑(보건)"
   ]
  },
  {
   "cell_type": "code",
   "execution_count": 28,
   "id": "rental-vinyl",
   "metadata": {},
   "outputs": [],
   "source": [
    "others_pharmacy, others_pharmacy_groupby=point_police_box(약국_4개시,others_police_box_area,'기관주소')\n",
    "police_box_4sido_count(others_pharmacy_groupby,'약국')"
   ]
  },
  {
   "cell_type": "markdown",
   "id": "regulation-zimbabwe",
   "metadata": {},
   "source": [
    "### 병원 위치 매핑(보건)"
   ]
  },
  {
   "cell_type": "code",
   "execution_count": 29,
   "id": "laughing-auditor",
   "metadata": {},
   "outputs": [],
   "source": [
    "others_hospital, others_hospital_groupby=point_police_box(병원_4개시,others_police_box_area,'기관주소')\n",
    "police_box_4sido_count(others_hospital_groupby,'병원')"
   ]
  },
  {
   "cell_type": "markdown",
   "id": "about-nitrogen",
   "metadata": {},
   "source": [
    "### 지하철데이터 매핑"
   ]
  },
  {
   "cell_type": "code",
   "execution_count": 52,
   "id": "empty-testing",
   "metadata": {},
   "outputs": [
    {
     "data": {
      "text/html": [
       "<div>\n",
       "<style scoped>\n",
       "    .dataframe tbody tr th:only-of-type {\n",
       "        vertical-align: middle;\n",
       "    }\n",
       "\n",
       "    .dataframe tbody tr th {\n",
       "        vertical-align: top;\n",
       "    }\n",
       "\n",
       "    .dataframe thead th {\n",
       "        text-align: right;\n",
       "    }\n",
       "</style>\n",
       "<table border=\"1\" class=\"dataframe\">\n",
       "  <thead>\n",
       "    <tr style=\"text-align: right;\">\n",
       "      <th></th>\n",
       "      <th>기관명</th>\n",
       "      <th>기관주소</th>\n",
       "      <th>lon</th>\n",
       "      <th>lat</th>\n",
       "    </tr>\n",
       "  </thead>\n",
       "  <tbody>\n",
       "    <tr>\n",
       "      <th>23</th>\n",
       "      <td>동대문역사문화공원</td>\n",
       "      <td>서울특별시 중구 을지로 지하 279 (을지로7가)</td>\n",
       "      <td>127.007394</td>\n",
       "      <td>37.565003</td>\n",
       "    </tr>\n",
       "    <tr>\n",
       "      <th>24</th>\n",
       "      <td>신당</td>\n",
       "      <td>서울특별시 중구 퇴계로 지하 431-1 (신당동)</td>\n",
       "      <td>127.018102</td>\n",
       "      <td>37.565829</td>\n",
       "    </tr>\n",
       "    <tr>\n",
       "      <th>25</th>\n",
       "      <td>상왕십리</td>\n",
       "      <td>서울특별시 성동구 왕십리로 지하 374 (하왕십리동)</td>\n",
       "      <td>127.029352</td>\n",
       "      <td>37.564171</td>\n",
       "    </tr>\n",
       "    <tr>\n",
       "      <th>26</th>\n",
       "      <td>왕십리</td>\n",
       "      <td>서울특별시 성동구 왕십리로 지하300(행당동)</td>\n",
       "      <td>127.037508</td>\n",
       "      <td>37.561525</td>\n",
       "    </tr>\n",
       "    <tr>\n",
       "      <th>27</th>\n",
       "      <td>한양대</td>\n",
       "      <td>서울특별시 성동구 왕십리로 206 (행당동)</td>\n",
       "      <td>127.043492</td>\n",
       "      <td>37.555222</td>\n",
       "    </tr>\n",
       "    <tr>\n",
       "      <th>...</th>\n",
       "      <td>...</td>\n",
       "      <td>...</td>\n",
       "      <td>...</td>\n",
       "      <td>...</td>\n",
       "    </tr>\n",
       "    <tr>\n",
       "      <th>1010</th>\n",
       "      <td>송파나루</td>\n",
       "      <td>서울특별시 송파구 오금로 165</td>\n",
       "      <td>127.113123</td>\n",
       "      <td>37.510120</td>\n",
       "    </tr>\n",
       "    <tr>\n",
       "      <th>1011</th>\n",
       "      <td>한성백제</td>\n",
       "      <td>서울특별시 송파구 위례성대로 51</td>\n",
       "      <td>127.118185</td>\n",
       "      <td>37.516865</td>\n",
       "    </tr>\n",
       "    <tr>\n",
       "      <th>1012</th>\n",
       "      <td>올림픽공원</td>\n",
       "      <td>서울특별시 송파구 양재대로 1233</td>\n",
       "      <td>127.130600</td>\n",
       "      <td>37.516088</td>\n",
       "    </tr>\n",
       "    <tr>\n",
       "      <th>1013</th>\n",
       "      <td>둔촌오륜</td>\n",
       "      <td>서울특별시 송파구 강동대로 327</td>\n",
       "      <td>127.140170</td>\n",
       "      <td>37.517975</td>\n",
       "    </tr>\n",
       "    <tr>\n",
       "      <th>1014</th>\n",
       "      <td>중앙보훈병원</td>\n",
       "      <td>서울특별시 강동구 명일로 117</td>\n",
       "      <td>127.142757</td>\n",
       "      <td>37.529614</td>\n",
       "    </tr>\n",
       "  </tbody>\n",
       "</table>\n",
       "<p>345 rows × 4 columns</p>\n",
       "</div>"
      ],
      "text/plain": [
       "            기관명                           기관주소         lon        lat\n",
       "23    동대문역사문화공원    서울특별시 중구 을지로 지하 279 (을지로7가)  127.007394  37.565003\n",
       "24           신당    서울특별시 중구 퇴계로 지하 431-1 (신당동)  127.018102  37.565829\n",
       "25         상왕십리  서울특별시 성동구 왕십리로 지하 374 (하왕십리동)  127.029352  37.564171\n",
       "26          왕십리      서울특별시 성동구 왕십리로 지하300(행당동)  127.037508  37.561525\n",
       "27          한양대       서울특별시 성동구 왕십리로 206 (행당동)  127.043492  37.555222\n",
       "...         ...                            ...         ...        ...\n",
       "1010       송파나루              서울특별시 송파구 오금로 165  127.113123  37.510120\n",
       "1011       한성백제             서울특별시 송파구 위례성대로 51  127.118185  37.516865\n",
       "1012      올림픽공원            서울특별시 송파구 양재대로 1233  127.130600  37.516088\n",
       "1013       둔촌오륜             서울특별시 송파구 강동대로 327  127.140170  37.517975\n",
       "1014     중앙보훈병원              서울특별시 강동구 명일로 117  127.142757  37.529614\n",
       "\n",
       "[345 rows x 4 columns]"
      ]
     },
     "execution_count": 52,
     "metadata": {},
     "output_type": "execute_result"
    }
   ],
   "source": [
    "subway = pd.read_csv(\"전국도시철도역사정보표준데이터.csv\",encoding=\"cp949\")[[\"역사명\",\"역사도로명주소\",\"역경도\",\"역위도\"]]\n",
    "subway.columns = [\"기관명\",\"기관주소\",\"lon\",\"lat\"]\n",
    "subway = subway[(subway[\"기관주소\"].str.contains(\"서울\")) | (subway[\"기관주소\"].str.contains(\"수원\"))]"
   ]
  },
  {
   "cell_type": "code",
   "execution_count": 53,
   "id": "absolute-niagara",
   "metadata": {},
   "outputs": [],
   "source": [
    "others_subway_result, others_subway_groupby=point_police_box(subway,others_police_box_area,'기관주소')\n",
    "police_box_4sido_count(others_subway_groupby,'지하철')"
   ]
  },
  {
   "cell_type": "markdown",
   "id": "unusual-cathedral",
   "metadata": {},
   "source": [
    "### 전국 초중고 데이터 매핑"
   ]
  },
  {
   "cell_type": "code",
   "execution_count": 54,
   "id": "neural-skiing",
   "metadata": {},
   "outputs": [],
   "source": [
    "어린이집_창원 = pd.read_excel(\"어린이집기본정보조회_창원.xls\")\n",
    "어린이집_수원 = pd.read_excel(\"어린이집기본정보조회_수원.xls\")\n",
    "어린이집_진주 = pd.read_excel(\"어린이집기본정보조회_진주.xls\")\n",
    "어린이집_서울 = pd.read_excel(\"어린이집기본정보조회_서울.xls\")\n",
    "\n",
    "others_baby = pd.concat([어린이집_창원,어린이집_수원,어린이집_진주,어린이집_서울])[[\"어린이집명\",\"운영현황\",\"주소\",\"경도\",\"위도\"]]\n",
    "\n",
    "others_baby = others_baby[(others_baby[\"운영현황\"] == \"정상\") | (others_baby[\"운영현황\"] == \"재개\")].reset_index(drop=True)\n",
    "others_baby.columns = [\"어린이집명\",\"운영현황\",\"주소\",\"lon\",\"lat\"]\n",
    "# 정상 운영되는 곳만"
   ]
  },
  {
   "cell_type": "code",
   "execution_count": 56,
   "id": "empty-running",
   "metadata": {},
   "outputs": [],
   "source": [
    "others_baby_result, others_baby_groupby=point_police_box(others_baby,others_police_box_area,'주소')\n",
    "police_box_4sido_count(others_baby_groupby,'어린이집')"
   ]
  },
  {
   "cell_type": "markdown",
   "id": "polish-translator",
   "metadata": {},
   "source": [
    "### police_box_4sido 처리"
   ]
  },
  {
   "cell_type": "code",
   "execution_count": 58,
   "id": "advisory-elimination",
   "metadata": {},
   "outputs": [],
   "source": [
    "police_box_4sido.fillna(0,inplace=True)\n",
    "ar = ['공원', '놀이시설', '편의점', '보안등', '비상벨', 'cctv','전체112', '112_기타_경찰업무', '112_중요범죄', '112_교통', '112_타기관_기타', '112_질서유지','112_기타범죄', '유흥업소', '약국', '병원','지하철','어린이집']\n",
    "for i in ar:\n",
    "    police_box_4sido[i] = police_box_4sido[i].astype(int)"
   ]
  },
  {
   "cell_type": "code",
   "execution_count": 59,
   "id": "pleasant-motivation",
   "metadata": {},
   "outputs": [],
   "source": [
    "police_box_4sido.to_csv('치안센터_4개시.csv',encoding = 'utf-8')"
   ]
  },
  {
   "cell_type": "code",
   "execution_count": null,
   "id": "recovered-abuse",
   "metadata": {},
   "outputs": [],
   "source": []
  }
 ],
 "metadata": {
  "kernelspec": {
   "display_name": "Python 3",
   "language": "python",
   "name": "python3"
  },
  "language_info": {
   "codemirror_mode": {
    "name": "ipython",
    "version": 3
   },
   "file_extension": ".py",
   "mimetype": "text/x-python",
   "name": "python",
   "nbconvert_exporter": "python",
   "pygments_lexer": "ipython3",
   "version": "3.6.9"
  }
 },
 "nbformat": 4,
 "nbformat_minor": 5
}
