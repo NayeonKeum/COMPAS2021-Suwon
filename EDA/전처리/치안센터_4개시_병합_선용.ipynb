{
 "cells": [
  {
   "cell_type": "code",
   "execution_count": 1,
   "id": "alternative-father",
   "metadata": {},
   "outputs": [],
   "source": [
    "from geoband.API import *\n",
    "import pandas as pd\n",
    "import numpy as np\n",
    "import warnings\n",
    "warnings.filterwarnings(\"ignore\")\n",
    "import geopandas as gpd\n",
    "import json\n",
    "from pandas import json_normalize\n",
    "import folium\n",
    "from folium.plugins import MarkerCluster\n",
    "import matplotlib.pyplot as plt\n",
    "import folium\n",
    "from folium import Choropleth, Circle, Marker\n",
    "from folium.plugins import HeatMap, MarkerCluster\n",
    "from folium import Choropleth\n",
    "import matplotlib\n",
    "from datetime import datetime \n",
    "# GetCompasData로 주피터 노트북 경로에 파일 저장\n",
    "from shapely.geometry import Point, Polygon, LineString\n",
    "from fiona.crs import from_string\n",
    "matplotlib.rcParams['font.family']=\"Malgun Gothic\""
   ]
  },
  {
   "cell_type": "code",
   "execution_count": 2,
   "id": "wooden-prague",
   "metadata": {},
   "outputs": [],
   "source": [
    "# 원래 데이터\n",
    "suwon_112 = pd.read_csv('1.수원시_112신고이력(격자_관할경계매핑).csv')\n",
    "others_112 = pd.read_csv('3.3개시도_112신고이력(관할경계매핑).csv')\n",
    "others_alcohol = gpd.read_file('8.4개시도_유흥업소현황.geojson')\n",
    "others_police_box_area = gpd.read_file('12.4개시도_치안안전센터_관할경계.geojson')\n",
    "others_security_lamp = pd.read_csv('22.4개시도_보안등현황.csv')\n",
    "others_security_bell = gpd.read_file('23.4개시도_안전비상벨현황.geojson')\n",
    "others_cctv = pd.read_csv('24.4개시도_CCTV설치현황.csv')\n",
    "suwon_building = pd.read_csv('26.수원시_건축물대장(표제부).csv')\n",
    "others_park = pd.read_csv('27.4개시도_공원현황.csv')\n",
    "others_police = pd.read_csv('39.4개시도_경찰관서현황.csv')\n",
    "others_playground = pd.read_csv('40.4개시도_어린이놀이시설현황.csv')\n",
    "others_land_use_plan = gpd.read_file('41.4개시도_토지이용계획도.geojson')\n",
    "others_convenience = gpd.read_file('42.4개시도_편의점현황.geojson')"
   ]
  },
  {
   "cell_type": "markdown",
   "id": "narrative-childhood",
   "metadata": {},
   "source": [
    "### 치안센터 기준의 데이터프레임 생성"
   ]
  },
  {
   "cell_type": "code",
   "execution_count": 3,
   "id": "revised-capital",
   "metadata": {},
   "outputs": [],
   "source": [
    "others_police_box_area.columns=['관할치안센터','관할경찰서','geometry']\n",
    "others_police_box_area=others_police_box_area.drop_duplicates(['관할치안센터'])\n",
    "others_police_box_area.reset_index(drop=True,inplace=True)"
   ]
  },
  {
   "cell_type": "code",
   "execution_count": 4,
   "id": "powerful-cherry",
   "metadata": {},
   "outputs": [],
   "source": [
    "police_box_4sido = others_police_box_area.copy()\n",
    "police_box_4sido = police_box_4sido[['관할치안센터','관할경찰서']]\n",
    "police_box_4sido.sort_values(by=[\"관할치안센터\"], inplace=True)\n",
    "police_box_4sido.reset_index(inplace = True,drop=True)"
   ]
  },
  {
   "cell_type": "markdown",
   "id": "automated-district",
   "metadata": {},
   "source": [
    "### mapping & count 함수 생성"
   ]
  },
  {
   "cell_type": "code",
   "execution_count": 5,
   "id": "disabled-canada",
   "metadata": {},
   "outputs": [],
   "source": [
    "def point_police_box(data_df,oters_police_box_area,col):\n",
    "    df = data_df.copy()\n",
    "\n",
    "    epsg4326 = from_string(\"+proj=longlat +ellps=WGS84 +datum=WGS84 +no_defs\")\n",
    "    df['geometry'] = df.apply(lambda x : Point([x['lon'], x['lat']]), axis=1)\n",
    "    df = gpd.GeoDataFrame(df, geometry='geometry', crs = epsg4326)\n",
    "    \n",
    "    police_box_result = gpd.sjoin(others_police_box_area, df, how='inner', op=\"intersects\").drop([\"index_right\"],axis=1)\n",
    "    \n",
    "    police_box_result_groupby = police_box_result.groupby(\"관할치안센터\").agg({col:\"count\"}).reset_index().rename(columns={col:\"cnt\"})\n",
    "    \n",
    "    return police_box_result,police_box_result_groupby\n",
    "\n",
    "# 카운트용 함수\n",
    "\n",
    "def point_police_box_count(data_df,others_police_box,col):\n",
    "    df = data_df.copy()\n",
    "\n",
    "    epsg4326 = from_string(\"+proj=longlat +ellps=WGS84 +datum=WGS84 +no_defs\")\n",
    "    df['geometry'] = df.apply(lambda x : Point([x['lon'], x['lat']]), axis=1)\n",
    "    df = gpd.GeoDataFrame(df, geometry='geometry', crs = epsg4326)\n",
    "    \n",
    "    police_box_result = gpd.sjoin(others_police_box_area, df, how='inner', op=\"intersects\").drop([\"index_right\"],axis=1)\n",
    "    \n",
    "    police_box_result_groupby = police_box_result.groupby(\"관할치안센터\").agg({col:\"sum\"}).reset_index().rename(columns={col:\"cnt\"})\n",
    "    \n",
    "    return police_box_result,police_box_result_groupby    \n",
    "def police_box_4sido_count(df,name):\n",
    "    for i in range(len(df)):\n",
    "        for j in range(len(police_box_4sido)):\n",
    "            if df.loc[i, '관할치안센터'] == police_box_4sido.loc[j, '관할치안센터']:\n",
    "                    police_box_4sido.loc[j, name]=df.loc[i, 'cnt']"
   ]
  },
  {
   "cell_type": "markdown",
   "id": "working-bubble",
   "metadata": {},
   "source": [
    "#### 지역명 매핑"
   ]
  },
  {
   "cell_type": "code",
   "execution_count": 6,
   "id": "obvious-defeat",
   "metadata": {},
   "outputs": [],
   "source": [
    "area_list = []\n",
    "for i in range(len(police_box_4sido)):\n",
    "    area_list.append(police_box_4sido['관할경찰서'][i][0:2])\n",
    "for i in range(len(area_list)):\n",
    "    if (area_list[i]=='마산') | (area_list[i] == '진해'):\n",
    "        area_list[i] = '창원'\n",
    "police_box_4sido['지역'] = area_list\n"
   ]
  },
  {
   "cell_type": "markdown",
   "id": "unknown-cornwall",
   "metadata": {},
   "source": [
    "## 27.4개시도_공원현황 mapping"
   ]
  },
  {
   "cell_type": "code",
   "execution_count": 7,
   "id": "mighty-learning",
   "metadata": {},
   "outputs": [],
   "source": [
    "others_park_result, others_park_groupby=point_police_box(others_park,others_police_box_area,'park_gbn')\n",
    "others_park_result=others_park_result.groupby(['관할치안센터', 'park_gbn']).count()\n",
    "others_park_result.reset_index(inplace=True)\n",
    "others_park_result=others_park_result[['관할치안센터','park_gbn','park_nm']]\n",
    "police_box_4sido_count(others_park_groupby,'공원')"
   ]
  },
  {
   "cell_type": "code",
   "execution_count": 8,
   "id": "reverse-minimum",
   "metadata": {},
   "outputs": [],
   "source": [
    "## 공원 분류(안넣어도 됨)\n",
    "# police_box_4sido['어린이공원']=0\n",
    "# police_box_4sido['근린공원']=0\n",
    "# police_box_4sido['소공원']=0\n",
    "# police_box_4sido['문화공원']=0\n",
    "# police_box_4sido['역사공원']=0\n",
    "# police_box_4sido['체육공원']=0\n",
    "# for i in range(len(others_park_result)):\n",
    "#     for j in range(len(police_box_4sido)):\n",
    "#         if others_park_result.loc[i, '관할치안센터'] == police_box_4sido.loc[j, '관할치안센터'] and others_park_result.loc[i, 'park_gbn'] == '근린공원':\n",
    "#             police_box_4sido.loc[j, '근린공원']=others_park_result.loc[i, 'park_nm']\n",
    "#         elif others_park_result.loc[i, '관할치안센터'] == police_box_4sido.loc[j, '관할치안센터'] and others_park_result.loc[i, 'park_gbn'] == '소공원':\n",
    "#             police_box_4sido.loc[j, '소공원']=others_park_result.loc[i, 'park_nm']\n",
    "#         elif others_park_result.loc[i, '관할치안센터'] == police_box_4sido.loc[j, '관할치안센터'] and others_park_result.loc[i, 'park_gbn'] == '어린이공원':\n",
    "#             police_box_4sido.loc[j, '어린이공원']=others_park_result.loc[i, 'park_nm']\n",
    "#         elif others_park_result.loc[i, '관할치안센터'] == police_box_4sido.loc[j, '관할치안센터'] and others_park_result.loc[i, 'park_gbn'] == '문화공원':\n",
    "#             police_box_4sido.loc[j, '문화공원']=others_park_result.loc[i, 'park_nm']\n",
    "#         elif others_park_result.loc[i, '관할치안센터'] == police_box_4sido.loc[j, '관할치안센터'] and others_park_result.loc[i, 'park_gbn'] == '역사공원':\n",
    "#             police_box_4sido.loc[j, '역사공원']=others_park_result.loc[i, 'park_nm']\n",
    "#         elif others_park_result.loc[i, '관할치안센터'] == police_box_4sido.loc[j, '관할치안센터'] and others_park_result.loc[i, 'park_gbn'] == '체육공원':\n",
    "#             police_box_4sido.loc[j, '체육공원']=others_park_result.loc[i, 'park_nm']\n"
   ]
  },
  {
   "cell_type": "markdown",
   "id": "sharp-facility",
   "metadata": {},
   "source": [
    "### 40.4개시도_어린이놀이시설현황/40.4개시도_어린이놀이시설현황_구별종류별"
   ]
  },
  {
   "cell_type": "code",
   "execution_count": 9,
   "id": "earlier-skating",
   "metadata": {},
   "outputs": [],
   "source": [
    "others_playground_result, others_playground_groupby=point_police_box(others_playground,others_police_box_area,'fac_loc')\n",
    "police_box_4sido_count(others_playground_groupby,'놀이시설')"
   ]
  },
  {
   "cell_type": "markdown",
   "id": "preliminary-montana",
   "metadata": {},
   "source": [
    "### 42.4개시도_편의점현황/42.4개시도_편의점현황_업체별수"
   ]
  },
  {
   "cell_type": "code",
   "execution_count": 10,
   "id": "isolated-appeal",
   "metadata": {},
   "outputs": [],
   "source": [
    "others_convenience_result, others_convenience_groupby=point_police_box(others_convenience,others_police_box_area,'KSIC_NM')\n",
    "others_convenience_result=others_convenience_result.groupby(['관할치안센터', 'KSIC_NM']).count()\n",
    "others_convenience_result.reset_index(inplace=True)\n",
    "others_convenience_result=others_convenience_result[['관할치안센터','KSIC_NM','BUSINESS_NM']]\n",
    "police_box_4sido_count(others_convenience_groupby,'편의점')"
   ]
  },
  {
   "cell_type": "markdown",
   "id": "southern-shannon",
   "metadata": {},
   "source": [
    "## 22.4개시도_보안등현황 mapping"
   ]
  },
  {
   "cell_type": "code",
   "execution_count": 11,
   "id": "prescription-style",
   "metadata": {},
   "outputs": [],
   "source": [
    "others_security_lamp_result, others_security_lamp_groupby=point_police_box_count(others_security_lamp,others_police_box_area,'securitylight_cnt')\n",
    "police_box_4sido_count(others_security_lamp_groupby,'보안등')"
   ]
  },
  {
   "cell_type": "markdown",
   "id": "informative-plant",
   "metadata": {},
   "source": [
    "## 23.4개시도_안전비상벨현황 mapping"
   ]
  },
  {
   "cell_type": "code",
   "execution_count": 12,
   "id": "oriental-abuse",
   "metadata": {},
   "outputs": [],
   "source": [
    "others_security_bell_result = gpd.sjoin(others_police_box_area, others_security_bell, how='inner', op=\"intersects\").drop([\"index_right\"],axis=1)\n",
    "others_security_bell_groupby = others_security_bell_result.groupby(\"관할치안센터\").agg({'bell_us':\"count\"}).reset_index().rename(columns={'bell_us':\"cnt\"})\n",
    "others_security_bell_result=others_security_bell_result.groupby(['관할치안센터', 'bell_us'])['관할경찰서'].count()\n",
    "others_security_bell_result=others_security_bell_result.to_frame().reset_index().rename(columns={'관할경찰서':\"cnt\"})\n",
    "police_box_4sido_count(others_security_bell_groupby,'비상벨')"
   ]
  },
  {
   "cell_type": "code",
   "execution_count": 13,
   "id": "heard-praise",
   "metadata": {},
   "outputs": [],
   "source": [
    "## 비상등 분류(안넣어도됨)\n",
    "# police_box_4sido['방범용비상벨']=0\n",
    "# police_box_4sido['약자보호비상벨']=0\n",
    "# police_box_4sido['기타비상벨']=0\n",
    "\n",
    "# for i in range(len(others_security_bell_result)):\n",
    "#     for j in range(len(police_box_4sido)):\n",
    "#         if others_security_bell_result.loc[i, '관할치안센터'] == police_box_4sido.loc[j, '관할치안센터'] and others_security_bell_result.loc[i, 'bell_us'] == '방범용':\n",
    "#             police_box_4sido.loc[j, '방범용비상벨']=others_security_bell_result.loc[i, 'cnt']\n",
    "#         elif others_security_bell_result.loc[i, '관할치안센터'] == police_box_4sido.loc[j, '관할치안센터'] and others_security_bell_result.loc[i, 'bell_us'] == '약자보호':\n",
    "#             police_box_4sido.loc[j, '약자보호비상벨']=others_security_bell_result.loc[i, 'cnt']\n",
    "#         elif others_security_bell_result.loc[i, '관할치안센터'] == police_box_4sido.loc[j, '관할치안센터'] and others_security_bell_result.loc[i, 'bell_us'] == '기타':\n",
    "#             police_box_4sido.loc[j, '기타비상벨']=others_security_bell_result.loc[i, 'cnt']\n"
   ]
  },
  {
   "cell_type": "markdown",
   "id": "every-edinburgh",
   "metadata": {},
   "source": [
    "## 24.4개시도_CCTV설치현황 mapping"
   ]
  },
  {
   "cell_type": "code",
   "execution_count": 14,
   "id": "filled-external",
   "metadata": {},
   "outputs": [],
   "source": [
    "others_cctv_result,others_cctv_groupby = point_police_box_count(others_cctv,others_police_box_area,'cctv_cnt')\n",
    "others_cctv_result = others_cctv_result.groupby(['관할치안센터','purpose'])['cctv_cnt'].sum()\n",
    "others_cctv_result=others_cctv_result.to_frame().reset_index()\n",
    "police_box_4sido_count(others_cctv_groupby,'cctv')"
   ]
  },
  {
   "cell_type": "code",
   "execution_count": 15,
   "id": "greatest-capital",
   "metadata": {},
   "outputs": [],
   "source": [
    "## cctv 분류(안넣어도됨)\n",
    "# police_box_4sido['생활방범cctv']=0\n",
    "# police_box_4sido['다목적cctv']=0\n",
    "# police_box_4sido['어린이보호cctv']=0\n",
    "# police_box_4sido['교통단속cctv']=0\n",
    "# police_box_4sido['쓰레기단속cctv']=0\n",
    "# police_box_4sido['기타cctv']=0\n",
    "# police_box_4sido['재난재해cctv']=0\n",
    "# police_box_4sido['시설물관리cctv']=0\n",
    "# police_box_4sido['차량방법cctv']=0\n",
    "# police_box_4sido['교통정보수집cctv']=0\n",
    "\n",
    "\n",
    "# for i in range(len(others_cctv_result)):\n",
    "#     for j in range(len(police_box_4sido)):\n",
    "#         if others_cctv_result.loc[i, '관할치안센터'] == police_box_4sido.loc[j, '관할치안센터'] and others_cctv_result.loc[i, 'purpose'] == '생활방범':\n",
    "#             police_box_4sido.loc[j, '생활방범cctv']=others_cctv_result.loc[i, 'cctv_cnt']\n",
    "#         elif others_cctv_result.loc[i, '관할치안센터'] == police_box_4sido.loc[j, '관할치안센터'] and others_cctv_result.loc[i, 'purpose'] == '다목적':\n",
    "#             police_box_4sido.loc[j, '다목적cctv']=others_cctv_result.loc[i, 'cctv_cnt']\n",
    "#         elif others_cctv_result.loc[i, '관할치안센터'] == police_box_4sido.loc[j, '관할치안센터'] and others_cctv_result.loc[i, 'purpose'] == '어린이보호':\n",
    "#             police_box_4sido.loc[j, '어린이보호cctv']=others_cctv_result.loc[i, 'cctv_cnt']\n",
    "#         elif others_cctv_result.loc[i, '관할치안센터'] == police_box_4sido.loc[j, '관할치안센터'] and others_cctv_result.loc[i, 'purpose'] == '교통단속':\n",
    "#             police_box_4sido.loc[j, '교통단속cctv']=others_cctv_result.loc[i, 'cctv_cnt']\n",
    "#         elif others_cctv_result.loc[i, '관할치안센터'] == police_box_4sido.loc[j, '관할치안센터'] and others_cctv_result.loc[i, 'purpose'] == '쓰레기단속':\n",
    "#             police_box_4sido.loc[j, '쓰레기단속cctv']=others_cctv_result.loc[i, 'cctv_cnt']\n",
    "#         elif others_cctv_result.loc[i, '관할치안센터'] == police_box_4sido.loc[j, '관할치안센터'] and others_cctv_result.loc[i, 'purpose'] == '기타':\n",
    "#             police_box_4sido.loc[j, '기타cctv']=others_cctv_result.loc[i, 'cctv_cnt']\n",
    "#         elif others_cctv_result.loc[i, '관할치안센터'] == police_box_4sido.loc[j, '관할치안센터'] and others_cctv_result.loc[i, 'purpose'] == '재난재해':\n",
    "#             police_box_4sido.loc[j, '재난재해cctv']=others_cctv_result.loc[i, 'cctv_cnt']\n",
    "#         elif others_cctv_result.loc[i, '관할치안센터'] == police_box_4sido.loc[j, '관할치안센터'] and others_cctv_result.loc[i, 'purpose'] == '시설물관리':\n",
    "#             police_box_4sido.loc[j, '시설물관리cctv']=others_cctv_result.loc[i, 'cctv_cnt']\n",
    "#         elif others_cctv_result.loc[i, '관할치안센터'] == police_box_4sido.loc[j, '관할치안센터'] and others_cctv_result.loc[i, 'purpose'] == '차량방법':\n",
    "#             police_box_4sido.loc[j, '차량방법cctv']=others_cctv_result.loc[i, 'cctv_cnt']\n",
    "#         elif others_cctv_result.loc[i, '관할치안센터'] == police_box_4sido.loc[j, '관할치안센터'] and others_cctv_result.loc[i, 'purpose'] == '교통정보수집':\n",
    "#             police_box_4sido.loc[j, '교통정보수집cctv']=others_cctv_result.loc[i, 'cctv_cnt']"
   ]
  },
  {
   "cell_type": "markdown",
   "id": "alternate-description",
   "metadata": {},
   "source": [
    "## 112 신고이력 관련 데이터 가공\n",
    "- 20개 이상의 사건종별 데이터를 6개의 중분류로 매핑해주기\n",
    "- 교통 / 질서유지 / 중요범죄 / 기타범죄 / 기타_경찰업무 / 타기관_기타"
   ]
  },
  {
   "cell_type": "markdown",
   "id": "necessary-ladder",
   "metadata": {},
   "source": [
    "## 112 데이터 전처리 함수"
   ]
  },
  {
   "cell_type": "code",
   "execution_count": 16,
   "id": "medium-milwaukee",
   "metadata": {},
   "outputs": [],
   "source": [
    "def 사건종별_분류(x):\n",
    "    교통 = [\"교통사고\",\"교통불편\",\"교통위반\"]\n",
    "    질서유지 = [\"기타경범\",\"주취자\",\"행패소란\",\"보호조치\",\"시비\",\"위험방지\",\"청소년비행\",\"무전취식승차\"]\n",
    "    중요범죄 = [\"절도\",\"가정폭력\",\"폭력\"]\n",
    "    기타범죄 = [\"기타형사범\",\"도박\"]\n",
    "    기타_경찰업무 = [\"상담문의\",\"분실습득\",\"비상벨\",\"실종(실종아동 등)\"]\n",
    "    타기관_기타 = [\"기타_타기관\",\"소음\",\"서비스요청\"]\n",
    "    \n",
    "    if x in 교통:\n",
    "        return \"교통\"\n",
    "    if x in 질서유지:\n",
    "        return \"질서유지\"\n",
    "    if x in 중요범죄:\n",
    "        return \"중요범죄\"\n",
    "    if x in 기타범죄:\n",
    "        return \"기타범죄\"\n",
    "    if x in 기타_경찰업무:\n",
    "        return \"기타_경찰업무\"\n",
    "    if x in 타기관_기타:\n",
    "        return \"타기관_기타\""
   ]
  },
  {
   "cell_type": "code",
   "execution_count": 17,
   "id": "powered-disease",
   "metadata": {},
   "outputs": [],
   "source": [
    "def time_cut(x):\n",
    "    if 6 > x >= 2:\n",
    "        return '새벽'\n",
    "    elif 11 > x >= 6:\n",
    "        return '오전'\n",
    "    elif 15 > x >= 11:\n",
    "        return '점심'\n",
    "    elif 18 > x >= 15:\n",
    "        return '오후'\n",
    "    elif 22 > x >= 18:\n",
    "        return '저녁'\n",
    "    else:\n",
    "        return '심야'"
   ]
  },
  {
   "cell_type": "code",
   "execution_count": 18,
   "id": "compound-concentrate",
   "metadata": {},
   "outputs": [],
   "source": [
    "others_112.columns = [\"사건종별\",\"접수완료일자\",\"접수완료시각\",\"도착일시\",\"관할치안센터\",\"관할경찰서\"]\n",
    "suwon_112.columns = [\"사건종별\",\"접수완료일자\",\"접수완료시각\",\"도착일시\",\"gid\",\"관할치안센터\",\"관할경찰서\"]"
   ]
  },
  {
   "cell_type": "code",
   "execution_count": 19,
   "id": "rural-horizontal",
   "metadata": {},
   "outputs": [],
   "source": [
    "def 신고이력데이터_처리(data):\n",
    "    \n",
    "    others_112 = data.copy()\n",
    "    others_112[\"접수완료시각\"] = others_112[\"접수완료시각\"].str.replace(\"'\",\"\")\n",
    "    others_112[\"접수완료일자\"] = others_112[\"접수완료일자\"].astype(str)\n",
    "    #others_112[\"도착일시\"] = others_112[\"도착일시\"].astype(int).astype(str)\n",
    "    # 도착일시가 NaN인 경우 존재 -> 도착일시가 NaN이 아닌 경우에 대해서만 출동 소요시각 구하기\n",
    "\n",
    "    others_112[\"접수완료일시\"] = others_112[\"접수완료일자\"] + others_112[\"접수완료시각\"]\n",
    "    others_112[\"접수완료일시\"] = pd.to_datetime(others_112[\"접수완료일시\"],format=\"%Y%m%d%H%M%S\")\n",
    "\n",
    "    others_112[\"년\"] = others_112[\"접수완료일시\"].apply(lambda x : x.year)\n",
    "    others_112[\"월\"] = others_112[\"접수완료일시\"].apply(lambda x : x.month)\n",
    "    others_112[\"일\"] = others_112[\"접수완료일시\"].apply(lambda x : x.day)\n",
    "    others_112[\"요일\"] = others_112[\"접수완료일시\"].apply(lambda x : x.weekday())\n",
    "    others_112[\"시\"] = others_112[\"접수완료일시\"].apply(lambda x : x.hour)\n",
    "    others_112[\"분\"] = others_112[\"접수완료일시\"].apply(lambda x : x.minute)\n",
    "    others_112[\"초\"] = others_112[\"접수완료일시\"].apply(lambda x : x.second)\n",
    "\n",
    "    # 도착일시가 정확히 기록된 경우와 그렇지 않은 경우로 나누기\n",
    "\n",
    "    def get_도착일시(x):\n",
    "        if len(str(x)) < 14:\n",
    "            return np.NaN\n",
    "        else:\n",
    "            return str(int(float(x)))\n",
    "\n",
    "    others_112[\"도착일시\"] = others_112[\"도착일시\"].apply(lambda x : get_도착일시(x))\n",
    "    others_112[\"도착일시\"] = pd.to_datetime(others_112[\"도착일시\"],format=\"%Y%m%d%H%M%S\")\n",
    "\n",
    "    # 출동하는데 걸린 소요 시간\n",
    "    others_112[\"소요시간\"] = others_112[\"도착일시\"] - others_112[\"접수완료일시\"]\n",
    "\n",
    "    # 사건종별 중분류\n",
    "    others_112[\"사건종별_중분류\"] = others_112[\"사건종별\"].apply(lambda x : 사건종별_분류(x))\n",
    "    \n",
    "    # 시간대별 분류\n",
    "    others_112[\"시간대\"] = others_112[\"시\"].apply(lambda x : time_cut(x))\n",
    "    \n",
    "    return others_112"
   ]
  },
  {
   "cell_type": "code",
   "execution_count": null,
   "id": "several-lender",
   "metadata": {},
   "outputs": [],
   "source": [
    "suwon_112_get = 신고이력데이터_처리(suwon_112)\n",
    "others_112_get = 신고이력데이터_처리(others_112)\n",
    "\n",
    "suwon_112_groupby = suwon_112_get.groupby(\"관할치안센터\").agg({'gid':\"count\"}).reset_index().rename(columns={'gid':\"cnt\"})\n",
    "suwon_112_get_groupby = suwon_112_get.groupby(['관할치안센터','사건종별_중분류'])['gid'].count().reset_index().rename(columns={'gid':\"cnt\"})\n",
    "\n",
    "others_112_groupby = others_112_get.groupby(\"관할치안센터\").agg({'사건종별':\"count\"}).reset_index().rename(columns={'사건종별':\"cnt\"})\n",
    "others_112_get_groupby = others_112_get.groupby(['관할치안센터','사건종별_중분류'])['사건종별'].count().reset_index().rename(columns={'사건종별':\"cnt\"})"
   ]
  },
  {
   "cell_type": "markdown",
   "id": "needed-harvard",
   "metadata": {},
   "source": [
    "### 112 신고 데이터 치안센터 영역과 매핑하는 함수"
   ]
  },
  {
   "cell_type": "code",
   "execution_count": null,
   "id": "excess-fireplace",
   "metadata": {},
   "outputs": [],
   "source": [
    "def police_box_4sido_112_mapping(df1,df2):\n",
    "    police_box_4sido_count(df1,'전체112')\n",
    "    for i in range(len(df2)):\n",
    "        for j in range(len(police_box_4sido)):\n",
    "            if df2.loc[i, '관할치안센터'] == police_box_4sido.loc[j, '관할치안센터'] and df2.loc[i, '사건종별_중분류'] == '기타_경찰업무':\n",
    "                police_box_4sido.loc[j, '112_기타_경찰업무']=df2.loc[i, 'cnt']\n",
    "            elif df2.loc[i, '관할치안센터'] == police_box_4sido.loc[j, '관할치안센터'] and df2.loc[i, '사건종별_중분류'] == '중요범죄':\n",
    "                police_box_4sido.loc[j, '112_중요범죄']=df2.loc[i, 'cnt']\n",
    "            elif df2.loc[i, '관할치안센터'] == police_box_4sido.loc[j, '관할치안센터'] and df2.loc[i, '사건종별_중분류'] == '교통':\n",
    "                police_box_4sido.loc[j, '112_교통']=df2.loc[i, 'cnt']\n",
    "            elif df2.loc[i, '관할치안센터'] == police_box_4sido.loc[j, '관할치안센터'] and df2.loc[i, '사건종별_중분류'] == '타기관_기타':\n",
    "                police_box_4sido.loc[j, '112_타기관_기타']=df2.loc[i, 'cnt']\n",
    "            elif df2.loc[i, '관할치안센터'] == police_box_4sido.loc[j, '관할치안센터'] and df2.loc[i, '사건종별_중분류'] == '질서유지':\n",
    "                police_box_4sido.loc[j, '112_질서유지']=df2.loc[i, 'cnt']\n",
    "            elif df2.loc[i, '관할치안센터'] == police_box_4sido.loc[j, '관할치안센터'] and df2.loc[i, '사건종별_중분류'] == '기타범죄':\n",
    "                police_box_4sido.loc[j, '112_기타범죄']=df2.loc[i, 'cnt']\n"
   ]
  },
  {
   "cell_type": "code",
   "execution_count": null,
   "id": "dangerous-portal",
   "metadata": {},
   "outputs": [],
   "source": [
    "police_box_4sido['전체112']=0\n",
    "police_box_4sido['112_기타_경찰업무']=0\n",
    "police_box_4sido['112_중요범죄']=0\n",
    "police_box_4sido['112_교통']=0\n",
    "police_box_4sido['112_타기관_기타']=0\n",
    "police_box_4sido['112_질서유지']=0\n",
    "police_box_4sido['112_기타범죄']=0"
   ]
  },
  {
   "cell_type": "code",
   "execution_count": null,
   "id": "lesser-course",
   "metadata": {},
   "outputs": [],
   "source": [
    "police_box_4sido_112_mapping(suwon_112_groupby,suwon_112_get_groupby)"
   ]
  },
  {
   "cell_type": "code",
   "execution_count": null,
   "id": "british-chance",
   "metadata": {},
   "outputs": [],
   "source": [
    "police_box_4sido_112_mapping(others_112_groupby,others_112_get_groupby)"
   ]
  },
  {
   "cell_type": "markdown",
   "id": "classified-wages",
   "metadata": {},
   "source": [
    "4개시도_유흥업소현황 mapping"
   ]
  },
  {
   "cell_type": "code",
   "execution_count": null,
   "id": "specific-danish",
   "metadata": {},
   "outputs": [],
   "source": [
    "others_alcohol = gpd.read_file('8.4개시도_유흥업소현황.geojson')[['BUSINESS_NM','COM_LC_NM','COM_MC_NM',\n",
    "                'COM_SC_NM','KSIC_NM','SGG_NM',\n",
    "       'ADB_EMD_NM','EMD_NM','ROAD_NM','geometry']]\n",
    "others_alcohol.columns = [\"상호명\",\"상권업종대분류명\",\"상권업종중분류명\",\"상권업종소분류명\",\"표준산업분류명\",\n",
    "                         \"시군구명\",\"행정동명\",\"법정동명\",\"도로명\",\"geometry\"]"
   ]
  },
  {
   "cell_type": "code",
   "execution_count": null,
   "id": "reported-novel",
   "metadata": {},
   "outputs": [],
   "source": [
    "others_alcohol_result = gpd.sjoin(others_police_box_area, others_alcohol, how='inner', op=\"intersects\").drop([\"index_right\"],axis=1)\n",
    "others_alcohol_result=others_alcohol_result.groupby(['관할치안센터'])['관할경찰서'].count().to_frame().reset_index().rename(columns={'관할경찰서':\"cnt\"})\n",
    "police_box_4sido_count(others_alcohol_result,'유흥업소')"
   ]
  }
 ],
 "metadata": {
  "kernelspec": {
   "display_name": "Python 3",
   "language": "python",
   "name": "python3"
  },
  "language_info": {
   "codemirror_mode": {
    "name": "ipython",
    "version": 3
   },
   "file_extension": ".py",
   "mimetype": "text/x-python",
   "name": "python",
   "nbconvert_exporter": "python",
   "pygments_lexer": "ipython3",
   "version": "3.6.9"
  }
 },
 "nbformat": 4,
 "nbformat_minor": 5
}
