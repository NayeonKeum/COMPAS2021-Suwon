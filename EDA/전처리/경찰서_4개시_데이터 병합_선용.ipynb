{
 "cells": [
  {
   "cell_type": "code",
   "execution_count": 1,
   "id": "graphic-preliminary",
   "metadata": {},
   "outputs": [],
   "source": [
    "from geoband.API import *\n",
    "import pandas as pd\n",
    "import numpy as np\n",
    "import warnings\n",
    "warnings.filterwarnings(\"ignore\")\n",
    "import geopandas as gpd\n",
    "import pandas as pd\n",
    "import json\n",
    "from pandas import json_normalize\n",
    "import pandas as pd\n",
    "import folium\n",
    "from folium.plugins import MarkerCluster\n",
    "from geoband.API import *\n",
    "import geopandas as gpd\n",
    "import warnings\n",
    "warnings.filterwarnings(\"ignore\")\n",
    "from shapely.geometry import Point, Polygon\n",
    "import matplotlib.pyplot as plt\n",
    "import folium\n",
    "from folium import Choropleth, Circle, Marker\n",
    "from folium.plugins import HeatMap, MarkerCluster\n",
    "from geopandas import GeoDataFrame\n",
    "# GetCompasData로 주피터 노트북 경로에 파일 저장\n",
    "import pandas as pd\n",
    "import geopandas as gpd\n",
    "import matplotlib.pyplot as plt\n",
    "from shapely.geometry import Point, Polygon, LineString\n",
    "from fiona.crs import from_string\n",
    "from functools import reduce"
   ]
  },
  {
   "cell_type": "code",
   "execution_count": 2,
   "id": "consolidated-absorption",
   "metadata": {},
   "outputs": [],
   "source": [
    "others_old_house = gpd.read_file('7.4개시도_주택노후도.geojson')\n",
    "others_alcohol = gpd.read_file('8.4개시도_유흥업소현황.geojson')\n",
    "# others_use_area = gpd.read_file('9.4개시도_용도지역도.geojson')\n",
    "# others_business_area = gpd.read_file('10.4개시도_사업지구경계도.geojson')\n",
    "others_police_area = gpd.read_file('11.4개시도_경찰서_관할경계.geojson')\n",
    "others_police_box_area = gpd.read_file('12.4개시도_치안안전센터_관할경계.geojson')\n",
    "others_security_lamp = pd.read_csv('22.4개시도_보안등현황.csv')\n",
    "others_security_bell = gpd.read_file('23.4개시도_안전비상벨현황.geojson')\n",
    "others_cctv = pd.read_csv('24.4개시도_CCTV설치현황.csv')\n",
    "others_park =pd.read_csv('27.4개시도_공원현황.csv')"
   ]
  },
  {
   "cell_type": "code",
   "execution_count": 3,
   "id": "serial-lighter",
   "metadata": {},
   "outputs": [],
   "source": [
    "def point_police(data_df,others_police_area,col):\n",
    "    df = data_df.copy()\n",
    "    if \"geometry\" in df.columns:\n",
    "        pass\n",
    "    else:\n",
    "        epsg4326 = from_string(\"+proj=longlat +ellps=WGS84 +datum=WGS84 +no_defs\")\n",
    "        df['geometry'] = df.apply(lambda x : Point([x['lon'], x['lat']]), axis=1)\n",
    "        df = gpd.GeoDataFrame(df, geometry='geometry', crs = epsg4326)\n",
    "    \n",
    "    police_result = gpd.sjoin(others_police_area, df, how='inner', op=\"intersects\").drop([\"index_right\"],axis=1)\n",
    "    \n",
    "    police_result_groupby = police_result.groupby(\"관할경찰서\").agg({col:\"count\"}).reset_index().rename(columns={col:\"cnt\"})\n",
    "    \n",
    "    return police_result,police_result_groupby"
   ]
  },
  {
   "cell_type": "markdown",
   "id": "genetic-finding",
   "metadata": {},
   "source": [
    "관할 경찰서 경계"
   ]
  },
  {
   "cell_type": "code",
   "execution_count": 4,
   "id": "included-hundred",
   "metadata": {},
   "outputs": [],
   "source": [
    "others_police_area = gpd.read_file('11.4개시도_경찰서_관할경계.geojson')\n",
    "others_police_area.columns = [\"관할경찰서\",\"관할경찰청\",\"geometry\"]\n",
    "others_police_area= others_police_area[['관할경찰서','geometry']]"
   ]
  },
  {
   "cell_type": "code",
   "execution_count": 9,
   "id": "inappropriate-accessory",
   "metadata": {},
   "outputs": [],
   "source": [
    "others_old_house.columns = [\"원천공간정보ID\",\"건물명칭\",\"동명칭\",\"필지고유번호\",\"구조명\",\"용도명\",\"승인일자\",\"건물연한\",\"건물노후도\",\"geometry\"]\n",
    "others_old_house = others_old_house[[\"구조명\",\"용도명\",\"건물연한\",\"건물노후도\",\"geometry\"]]\n",
    "\n",
    "\n",
    "others_alcohol = gpd.read_file('8.4개시도_유흥업소현황.geojson')[['BUSINESS_NM','COM_LC_NM','COM_MC_NM',\n",
    "                'COM_SC_NM','KSIC_NM','SGG_NM',\n",
    "       'ADB_EMD_NM','EMD_NM','ROAD_NM','geometry']]\n",
    "others_alcohol.columns = [\"상호명\",\"상권업종대분류명\",\"상권업종중분류명\",\"상권업종소분류명\",\"표준산업분류명\",\n",
    "                         \"시군구명\",\"행정동명\",\"법정동명\",\"도로명\",\"geometry\"]\n",
    "\n",
    "# others_use_area.columns = [\"관리번호\",\"별칭\",\"비고\",\"고시일자\",\"원천오브젝트ID\",\"원천시군구코드\",\"geometry\"]\n",
    "others_security_lamp.columns = [\"설치년도\",\"설치주소\",\"설치대수\",\"lon\",\"lat\"]\n",
    "others_security_bell.columns = [\"설치목적\",\"설치장소유형\",\"설치위치\",\"설치년도\",\"geometry\"]\n",
    "others_cctv.columns = [\"CCTV설치위치\",\"CCTV설치목적\",\"CCTV설치대수\",\"CCTV설치년월\",\"lat\",\"lon\"]"
   ]
  },
  {
   "cell_type": "markdown",
   "id": "brazilian-warrior",
   "metadata": {},
   "source": [
    "최종 결합 police_result copy"
   ]
  },
  {
   "cell_type": "code",
   "execution_count": 12,
   "id": "upper-killing",
   "metadata": {},
   "outputs": [],
   "source": [
    "police_old_house = gpd.sjoin(others_police_area, others_old_house, how='left', op=\"intersects\")"
   ]
  },
  {
   "cell_type": "code",
   "execution_count": 13,
   "id": "formal-pulse",
   "metadata": {},
   "outputs": [
    {
     "data": {
      "text/html": [
       "<div>\n",
       "<style scoped>\n",
       "    .dataframe tbody tr th:only-of-type {\n",
       "        vertical-align: middle;\n",
       "    }\n",
       "\n",
       "    .dataframe tbody tr th {\n",
       "        vertical-align: top;\n",
       "    }\n",
       "\n",
       "    .dataframe thead th {\n",
       "        text-align: right;\n",
       "    }\n",
       "</style>\n",
       "<table border=\"1\" class=\"dataframe\">\n",
       "  <thead>\n",
       "    <tr style=\"text-align: right;\">\n",
       "      <th></th>\n",
       "      <th>관할경찰서</th>\n",
       "      <th>건물연한</th>\n",
       "      <th>건물노후도</th>\n",
       "    </tr>\n",
       "  </thead>\n",
       "  <tbody>\n",
       "    <tr>\n",
       "      <th>0</th>\n",
       "      <td>마산동부경찰서</td>\n",
       "      <td>34.221704</td>\n",
       "      <td>3.520023</td>\n",
       "    </tr>\n",
       "    <tr>\n",
       "      <th>1</th>\n",
       "      <td>마산중부경찰서</td>\n",
       "      <td>27.137778</td>\n",
       "      <td>3.040000</td>\n",
       "    </tr>\n",
       "    <tr>\n",
       "      <th>2</th>\n",
       "      <td>서울강남경찰서</td>\n",
       "      <td>26.375468</td>\n",
       "      <td>3.038648</td>\n",
       "    </tr>\n",
       "  </tbody>\n",
       "</table>\n",
       "</div>"
      ],
      "text/plain": [
       "     관할경찰서       건물연한     건물노후도\n",
       "0  마산동부경찰서  34.221704  3.520023\n",
       "1  마산중부경찰서  27.137778  3.040000\n",
       "2  서울강남경찰서  26.375468  3.038648"
      ]
     },
     "execution_count": 13,
     "metadata": {},
     "output_type": "execute_result"
    }
   ],
   "source": [
    "police_old_house_groupby = police_old_house.groupby(\"관할경찰서\").agg({\"건물연한\":\"mean\",\"건물노후도\":\"mean\"}).reset_index()"
   ]
  },
  {
   "cell_type": "code",
   "execution_count": null,
   "id": "pressing-lafayette",
   "metadata": {},
   "outputs": [],
   "source": [
    "police_result = pd.merge(police_result,police_old_house_groupby,how ='left',on = '관할경찰서')\n",
    "police_result.head(3)"
   ]
  },
  {
   "cell_type": "markdown",
   "id": "signed-keyboard",
   "metadata": {},
   "source": [
    "생활관련 시설 count"
   ]
  },
  {
   "cell_type": "code",
   "execution_count": 15,
   "id": "systematic-lounge",
   "metadata": {},
   "outputs": [],
   "source": [
    "police_용도명 = police_old_house.groupby([\"관할경찰서\",\"용도명\"]).agg({\"구조명\":\"count\"}).reset_index().rename(columns={\"구조명\":\"cnt\"})\n",
    "police_생활관련 = police_용도명[(police_용도명[\"용도명\"] == \"제1종근린생활시설\") |\n",
    "(police_용도명[\"용도명\"] == \"제2종근린생활시설\") |\n",
    "(police_용도명[\"용도명\"] == \"근린생활시설\") |\n",
    "(police_용도명[\"용도명\"] == \"단독주택\") |\n",
    "(police_용도명[\"용도명\"] == \"공동주택\")].groupby(\"관할경찰서\").agg({\"cnt\":\"sum\"}).reset_index()"
   ]
  },
  {
   "cell_type": "code",
   "execution_count": 16,
   "id": "changed-night",
   "metadata": {},
   "outputs": [],
   "source": [
    "police_생활관련.columns = ['관할경찰서','생활관련시설']"
   ]
  },
  {
   "cell_type": "markdown",
   "id": "characteristic-action",
   "metadata": {},
   "source": [
    "8.4개시도_유흥업소현황.geojson"
   ]
  },
  {
   "cell_type": "code",
   "execution_count": 17,
   "id": "expanded-terror",
   "metadata": {},
   "outputs": [],
   "source": [
    "police_alcohol,police_alcohol_groupby = point_police(others_alcohol,others_police_area,\"상호명\")"
   ]
  },
  {
   "cell_type": "code",
   "execution_count": 37,
   "id": "frozen-mustang",
   "metadata": {},
   "outputs": [],
   "source": [
    "police_alcohol_groupby.columns=['관할경찰서','유흥업소']"
   ]
  },
  {
   "cell_type": "markdown",
   "id": "requested-family",
   "metadata": {},
   "source": [
    "22.4개시도_보안등현황.csv"
   ]
  },
  {
   "cell_type": "code",
   "execution_count": 39,
   "id": "american-legend",
   "metadata": {},
   "outputs": [],
   "source": [
    "police_security_lamp, police_security_lamp_groupby = point_police(others_security_lamp, others_police_area,'geometry')"
   ]
  },
  {
   "cell_type": "code",
   "execution_count": 44,
   "id": "demographic-flood",
   "metadata": {},
   "outputs": [],
   "source": [
    "police_security_lamp_groupby = police_security_lamp.groupby('관할경찰서').agg({'설치대수':'sum'}).reset_index()"
   ]
  },
  {
   "cell_type": "code",
   "execution_count": 48,
   "id": "accessible-coral",
   "metadata": {},
   "outputs": [],
   "source": [
    "police_security_lamp_groupby.columns = ['관할경찰서','보안등']"
   ]
  },
  {
   "cell_type": "code",
   "execution_count": 49,
   "id": "orange-lloyd",
   "metadata": {},
   "outputs": [
    {
     "data": {
      "text/html": [
       "<div>\n",
       "<style scoped>\n",
       "    .dataframe tbody tr th:only-of-type {\n",
       "        vertical-align: middle;\n",
       "    }\n",
       "\n",
       "    .dataframe tbody tr th {\n",
       "        vertical-align: top;\n",
       "    }\n",
       "\n",
       "    .dataframe thead th {\n",
       "        text-align: right;\n",
       "    }\n",
       "</style>\n",
       "<table border=\"1\" class=\"dataframe\">\n",
       "  <thead>\n",
       "    <tr style=\"text-align: right;\">\n",
       "      <th></th>\n",
       "      <th>관할경찰서</th>\n",
       "      <th>보안등</th>\n",
       "    </tr>\n",
       "  </thead>\n",
       "  <tbody>\n",
       "    <tr>\n",
       "      <th>0</th>\n",
       "      <td>마산동부경찰서</td>\n",
       "      <td>5647</td>\n",
       "    </tr>\n",
       "    <tr>\n",
       "      <th>1</th>\n",
       "      <td>마산중부경찰서</td>\n",
       "      <td>6821</td>\n",
       "    </tr>\n",
       "    <tr>\n",
       "      <th>2</th>\n",
       "      <td>서울강남경찰서</td>\n",
       "      <td>5029</td>\n",
       "    </tr>\n",
       "    <tr>\n",
       "      <th>3</th>\n",
       "      <td>서울강동경찰서</td>\n",
       "      <td>7500</td>\n",
       "    </tr>\n",
       "    <tr>\n",
       "      <th>4</th>\n",
       "      <td>서울강북경찰서</td>\n",
       "      <td>8431</td>\n",
       "    </tr>\n",
       "  </tbody>\n",
       "</table>\n",
       "</div>"
      ],
      "text/plain": [
       "     관할경찰서   보안등\n",
       "0  마산동부경찰서  5647\n",
       "1  마산중부경찰서  6821\n",
       "2  서울강남경찰서  5029\n",
       "3  서울강동경찰서  7500\n",
       "4  서울강북경찰서  8431"
      ]
     },
     "execution_count": 49,
     "metadata": {},
     "output_type": "execute_result"
    }
   ],
   "source": [
    "# 동대문구, 양천구 데이터 없음\n",
    "police_security_lamp_groupby.head()"
   ]
  },
  {
   "cell_type": "markdown",
   "id": "dangerous-foundation",
   "metadata": {},
   "source": [
    "23.4개시도_안전비상벨현황.geojson"
   ]
  },
  {
   "cell_type": "code",
   "execution_count": 57,
   "id": "bright-coach",
   "metadata": {},
   "outputs": [],
   "source": [
    "police_security_bell,police_security_bell_groupby = point_police(others_security_bell,others_police_area,'geometry')"
   ]
  },
  {
   "cell_type": "code",
   "execution_count": 58,
   "id": "military-surgeon",
   "metadata": {},
   "outputs": [],
   "source": [
    "police_security_bell_groupby.columns = ['관할경찰서','안전비상벨']"
   ]
  },
  {
   "cell_type": "markdown",
   "id": "neutral-effectiveness",
   "metadata": {},
   "source": [
    "'24.4개시도_CCTV설치현황.csv'"
   ]
  },
  {
   "cell_type": "code",
   "execution_count": 52,
   "id": "european-punch",
   "metadata": {},
   "outputs": [],
   "source": [
    "police_cctv,police_cctv_groupby = point_police(others_cctv,others_police_area,\"geometry\")"
   ]
  },
  {
   "cell_type": "code",
   "execution_count": 53,
   "id": "vulnerable-ecology",
   "metadata": {},
   "outputs": [],
   "source": [
    "police_cctv_groupby = police_cctv.groupby('관할경찰서').agg({'CCTV설치대수':'sum'}).reset_index()"
   ]
  },
  {
   "cell_type": "markdown",
   "id": "coral-netherlands",
   "metadata": {},
   "source": [
    "27.4개시도_공원현황.csv"
   ]
  },
  {
   "cell_type": "code",
   "execution_count": 25,
   "id": "demographic-latest",
   "metadata": {},
   "outputs": [],
   "source": [
    "police_park,police_park_groupby = point_police(others_park,others_police_area,\"geometry\")"
   ]
  },
  {
   "cell_type": "code",
   "execution_count": 55,
   "id": "adjacent-subsection",
   "metadata": {},
   "outputs": [],
   "source": [
    "police_park_groupby.columns = ['관할경찰서','공원']"
   ]
  },
  {
   "cell_type": "code",
   "execution_count": 62,
   "id": "compound-swimming",
   "metadata": {},
   "outputs": [],
   "source": [
    "merge_list=[police_old_house_groupby,police_생활관련,police_alcohol_groupby,police_security_lamp_groupby,\n",
    "           police_security_bell_groupby,police_cctv_groupby,police_park_groupby] \n",
    "police_result = reduce(lambda left,right: pd.merge(left,right,how='outer',on = ['관할경찰서']),merge_list)\n",
    "police_result.fillna(0,inplace=True)"
   ]
  },
  {
   "cell_type": "code",
   "execution_count": 72,
   "id": "significant-figure",
   "metadata": {},
   "outputs": [
    {
     "data": {
      "text/html": [
       "<div>\n",
       "<style scoped>\n",
       "    .dataframe tbody tr th:only-of-type {\n",
       "        vertical-align: middle;\n",
       "    }\n",
       "\n",
       "    .dataframe tbody tr th {\n",
       "        vertical-align: top;\n",
       "    }\n",
       "\n",
       "    .dataframe thead th {\n",
       "        text-align: right;\n",
       "    }\n",
       "</style>\n",
       "<table border=\"1\" class=\"dataframe\">\n",
       "  <thead>\n",
       "    <tr style=\"text-align: right;\">\n",
       "      <th></th>\n",
       "      <th>관할경찰서</th>\n",
       "      <th>건물연한</th>\n",
       "      <th>건물노후도</th>\n",
       "      <th>생활관련시설</th>\n",
       "      <th>유흥업소</th>\n",
       "      <th>보안등</th>\n",
       "      <th>안전비상벨</th>\n",
       "      <th>CCTV설치대수</th>\n",
       "      <th>공원</th>\n",
       "    </tr>\n",
       "  </thead>\n",
       "  <tbody>\n",
       "    <tr>\n",
       "      <th>0</th>\n",
       "      <td>마산동부경찰서</td>\n",
       "      <td>34.221704</td>\n",
       "      <td>3.520023</td>\n",
       "      <td>19177</td>\n",
       "      <td>164</td>\n",
       "      <td>5647.0</td>\n",
       "      <td>11.0</td>\n",
       "      <td>1218.0</td>\n",
       "      <td>65</td>\n",
       "    </tr>\n",
       "    <tr>\n",
       "      <th>1</th>\n",
       "      <td>마산중부경찰서</td>\n",
       "      <td>27.137778</td>\n",
       "      <td>3.040000</td>\n",
       "      <td>12071</td>\n",
       "      <td>88</td>\n",
       "      <td>6821.0</td>\n",
       "      <td>14.0</td>\n",
       "      <td>911.0</td>\n",
       "      <td>55</td>\n",
       "    </tr>\n",
       "    <tr>\n",
       "      <th>2</th>\n",
       "      <td>서울강남경찰서</td>\n",
       "      <td>26.375468</td>\n",
       "      <td>3.038648</td>\n",
       "      <td>11410</td>\n",
       "      <td>110</td>\n",
       "      <td>5029.0</td>\n",
       "      <td>649.0</td>\n",
       "      <td>3095.0</td>\n",
       "      <td>24</td>\n",
       "    </tr>\n",
       "    <tr>\n",
       "      <th>3</th>\n",
       "      <td>서울강동경찰서</td>\n",
       "      <td>26.086668</td>\n",
       "      <td>3.049578</td>\n",
       "      <td>17318</td>\n",
       "      <td>154</td>\n",
       "      <td>7500.0</td>\n",
       "      <td>2.0</td>\n",
       "      <td>0.0</td>\n",
       "      <td>72</td>\n",
       "    </tr>\n",
       "    <tr>\n",
       "      <th>4</th>\n",
       "      <td>서울강북경찰서</td>\n",
       "      <td>31.807006</td>\n",
       "      <td>3.248836</td>\n",
       "      <td>25777</td>\n",
       "      <td>128</td>\n",
       "      <td>8431.0</td>\n",
       "      <td>22.0</td>\n",
       "      <td>2299.0</td>\n",
       "      <td>41</td>\n",
       "    </tr>\n",
       "  </tbody>\n",
       "</table>\n",
       "</div>"
      ],
      "text/plain": [
       "     관할경찰서       건물연한     건물노후도  생활관련시설  유흥업소     보안등  안전비상벨  CCTV설치대수  공원\n",
       "0  마산동부경찰서  34.221704  3.520023   19177   164  5647.0   11.0    1218.0  65\n",
       "1  마산중부경찰서  27.137778  3.040000   12071    88  6821.0   14.0     911.0  55\n",
       "2  서울강남경찰서  26.375468  3.038648   11410   110  5029.0  649.0    3095.0  24\n",
       "3  서울강동경찰서  26.086668  3.049578   17318   154  7500.0    2.0       0.0  72\n",
       "4  서울강북경찰서  31.807006  3.248836   25777   128  8431.0   22.0    2299.0  41"
      ]
     },
     "execution_count": 72,
     "metadata": {},
     "output_type": "execute_result"
    }
   ],
   "source": [
    "police_result.head()"
   ]
  },
  {
   "cell_type": "code",
   "execution_count": null,
   "id": "distinct-qatar",
   "metadata": {},
   "outputs": [],
   "source": []
  }
 ],
 "metadata": {
  "kernelspec": {
   "display_name": "Python 3",
   "language": "python",
   "name": "python3"
  },
  "language_info": {
   "codemirror_mode": {
    "name": "ipython",
    "version": 3
   },
   "file_extension": ".py",
   "mimetype": "text/x-python",
   "name": "python",
   "nbconvert_exporter": "python",
   "pygments_lexer": "ipython3",
   "version": "3.6.9"
  }
 },
 "nbformat": 4,
 "nbformat_minor": 5
}
