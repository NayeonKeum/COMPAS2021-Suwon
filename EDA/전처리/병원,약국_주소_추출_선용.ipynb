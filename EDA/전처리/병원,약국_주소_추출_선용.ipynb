{
 "cells": [
  {
   "cell_type": "code",
   "execution_count": 1,
   "id": "adjustable-rebound",
   "metadata": {},
   "outputs": [],
   "source": [
    "from geoband.API import *\n",
    "import pandas as pd\n",
    "import numpy as np\n",
    "import warnings\n",
    "warnings.filterwarnings(\"ignore\")\n",
    "import geopandas as gpd\n",
    "import json\n",
    "from pandas import json_normalize\n",
    "import folium\n",
    "from folium.plugins import MarkerCluster\n",
    "import matplotlib.pyplot as plt\n",
    "import folium\n",
    "from folium import Choropleth, Circle, Marker\n",
    "from folium.plugins import HeatMap, MarkerCluster\n",
    "from folium import Choropleth\n",
    "import matplotlib\n",
    "from datetime import datetime \n",
    "# GetCompasData로 주피터 노트북 경로에 파일 저장\n",
    "from shapely.geometry import Point, Polygon, LineString\n",
    "from fiona.crs import from_string\n",
    "matplotlib.rcParams['font.family']=\"Malgun Gothic\"\n",
    "import requests\n",
    "from bs4 import BeautifulSoup\n",
    "import glob, os\n",
    "import urllib\n",
    "from urllib.parse import urlencode, quote_plus\n",
    "import requests\n",
    "from bs4 import BeautifulSoup\n",
    "from pandas import json_normalize\n",
    "import xml.dom.minidom"
   ]
  },
  {
   "cell_type": "markdown",
   "id": "public-leonard",
   "metadata": {},
   "source": [
    "# 약국 주소 가져오기"
   ]
  },
  {
   "cell_type": "code",
   "execution_count": 33,
   "id": "suffering-lewis",
   "metadata": {},
   "outputs": [],
   "source": [
    "def 약국매핑(지역):\n",
    "    ServiceKey = \"/Vg1J8MmKzuTqcg1RFWfc3U7B6OLQGu28VZvd9EkkL7l0+IYsdB5Oe0eTm85cUMsNyjZVrFo7GC8fKNxLqKRDA==\"\n",
    "    open_url = 'http://apis.data.go.kr/B552657/ErmctInsttInfoInqireService/getParmacyListInfoInqire'\n",
    "\n",
    "    queryParams = '?' + urlencode({ quote_plus('ServiceKey') : ServiceKey,\n",
    "                                    quote_plus('Q0') : 지역,\n",
    "                                   quote_plus('pageNo') : '1',\n",
    "                                   quote_plus('numOfRows') : '10000' })\n",
    "    open_url_get = open_url + queryParams\n",
    "\n",
    "    res = requests.get(open_url_get)\n",
    "    datas = BeautifulSoup(res.content,\"html.parser\").find_all(\"item\")\n",
    "    기관주소 = [] ; 기관명 = [] ; 경도 = [] ; 위도 = []\n",
    "\n",
    "    for data in datas:\n",
    "        기관주소.append(data.find(\"dutyaddr\").get_text())\n",
    "        기관명.append(data.find(\"dutyname\").get_text())\n",
    "        try:\n",
    "            경도.append(data.find(\"wgs84lon\").get_text()) \n",
    "        except: 경도.append(0)\n",
    "        try:\n",
    "            위도.append(data.find(\"wgs84lat\").get_text()) \n",
    "        except: 위도.append(0)\n",
    "\n",
    "    df = pd.DataFrame(columns = [\"기관주소\",\"기관명\",\"경도\",\"위도\"])\n",
    "\n",
    "    df[\"기관주소\"] = 기관주소\n",
    "    df[\"기관명\"] = 기관명\n",
    "    df[\"경도\"] = 경도\n",
    "    df[\"위도\"] = 위도\n",
    "    return df\n",
    "    "
   ]
  },
  {
   "cell_type": "code",
   "execution_count": 44,
   "id": "false-institution",
   "metadata": {},
   "outputs": [],
   "source": [
    "약국_수원 = 약국매핑('수원')\n",
    "약국_서울 = 약국매핑('서울특별시')\n",
    "약국_진주 = 약국매핑('진주시')\n",
    "약국_창원 = 약국매핑('창원시')"
   ]
  },
  {
   "cell_type": "code",
   "execution_count": 55,
   "id": "joint-reward",
   "metadata": {},
   "outputs": [
    {
     "data": {
      "text/html": [
       "<div>\n",
       "<style scoped>\n",
       "    .dataframe tbody tr th:only-of-type {\n",
       "        vertical-align: middle;\n",
       "    }\n",
       "\n",
       "    .dataframe tbody tr th {\n",
       "        vertical-align: top;\n",
       "    }\n",
       "\n",
       "    .dataframe thead th {\n",
       "        text-align: right;\n",
       "    }\n",
       "</style>\n",
       "<table border=\"1\" class=\"dataframe\">\n",
       "  <thead>\n",
       "    <tr style=\"text-align: right;\">\n",
       "      <th></th>\n",
       "      <th>기관주소</th>\n",
       "      <th>기관명</th>\n",
       "      <th>경도</th>\n",
       "      <th>위도</th>\n",
       "    </tr>\n",
       "  </thead>\n",
       "  <tbody>\n",
       "    <tr>\n",
       "      <th>0</th>\n",
       "      <td>서울특별시 영등포구 양평로 24, (당산동6가)</td>\n",
       "      <td>100세약국</td>\n",
       "      <td>126.903727777777775</td>\n",
       "      <td>37.533266666666670</td>\n",
       "    </tr>\n",
       "    <tr>\n",
       "      <th>1</th>\n",
       "      <td>서울특별시 중구 서소문로 116, 유원빌딩 1304호 (서소문동)</td>\n",
       "      <td>13층약국</td>\n",
       "      <td>126.974007434429</td>\n",
       "      <td>37.5627316675026</td>\n",
       "    </tr>\n",
       "    <tr>\n",
       "      <th>2</th>\n",
       "      <td>서울특별시 성동구 왕십리로 410, K동 106호 (하왕십리동, 센트라스)</td>\n",
       "      <td>153온누리약국</td>\n",
       "      <td>127.02624836755226</td>\n",
       "      <td>37.56532756147758</td>\n",
       "    </tr>\n",
       "    <tr>\n",
       "      <th>3</th>\n",
       "      <td>서울특별시 관악구 남부순환로 1832 1층</td>\n",
       "      <td>1번약국</td>\n",
       "      <td>126.9534959421</td>\n",
       "      <td>37.480704569</td>\n",
       "    </tr>\n",
       "    <tr>\n",
       "      <th>4</th>\n",
       "      <td>서울특별시 구로구 구로동로 132 (구로동)</td>\n",
       "      <td>1번약국</td>\n",
       "      <td>126.88420201358698</td>\n",
       "      <td>37.49042028999001</td>\n",
       "    </tr>\n",
       "    <tr>\n",
       "      <th>...</th>\n",
       "      <td>...</td>\n",
       "      <td>...</td>\n",
       "      <td>...</td>\n",
       "      <td>...</td>\n",
       "    </tr>\n",
       "    <tr>\n",
       "      <th>425</th>\n",
       "      <td>경상남도 창원시 마산회원구 3.15대로 483</td>\n",
       "      <td>회원약국</td>\n",
       "      <td>128.5749229347276</td>\n",
       "      <td>35.217522566678134</td>\n",
       "    </tr>\n",
       "    <tr>\n",
       "      <th>426</th>\n",
       "      <td>경상남도 창원시 성산구 대정로 138 (대방동, 대방대동아파트)</td>\n",
       "      <td>훼미리약국</td>\n",
       "      <td>128.70762135383123</td>\n",
       "      <td>35.21174512484588</td>\n",
       "    </tr>\n",
       "    <tr>\n",
       "      <th>427</th>\n",
       "      <td>경상남도 창원시 성산구 가양로124번길 5-3, 101호 (대방동,경남빌딩)</td>\n",
       "      <td>희망약국</td>\n",
       "      <td>128.70713007182505</td>\n",
       "      <td>35.2090331750318</td>\n",
       "    </tr>\n",
       "    <tr>\n",
       "      <th>428</th>\n",
       "      <td>경상남도 창원시 진해구 천자로 411, 105호(풍호동,경동프라자)</td>\n",
       "      <td>희망약국</td>\n",
       "      <td>128.7098285995319</td>\n",
       "      <td>35.1353184114902</td>\n",
       "    </tr>\n",
       "    <tr>\n",
       "      <th>429</th>\n",
       "      <td>경상남도 창원시 진해구 안골로 339</td>\n",
       "      <td>힐링약국</td>\n",
       "      <td>128.80681115306334</td>\n",
       "      <td>35.10098323090875</td>\n",
       "    </tr>\n",
       "  </tbody>\n",
       "</table>\n",
       "<p>5660 rows × 4 columns</p>\n",
       "</div>"
      ],
      "text/plain": [
       "                                           기관주소       기관명  \\\n",
       "0                    서울특별시 영등포구 양평로 24, (당산동6가)    100세약국   \n",
       "1          서울특별시 중구 서소문로 116, 유원빌딩 1304호 (서소문동)     13층약국   \n",
       "2     서울특별시 성동구 왕십리로 410, K동 106호 (하왕십리동, 센트라스)  153온누리약국   \n",
       "3                       서울특별시 관악구 남부순환로 1832 1층      1번약국   \n",
       "4                      서울특별시 구로구 구로동로 132 (구로동)      1번약국   \n",
       "..                                          ...       ...   \n",
       "425                   경상남도 창원시 마산회원구 3.15대로 483      회원약국   \n",
       "426         경상남도 창원시 성산구 대정로 138 (대방동, 대방대동아파트)     훼미리약국   \n",
       "427  경상남도 창원시 성산구 가양로124번길 5-3, 101호 (대방동,경남빌딩)      희망약국   \n",
       "428       경상남도 창원시 진해구 천자로 411, 105호(풍호동,경동프라자)      희망약국   \n",
       "429                        경상남도 창원시 진해구 안골로 339      힐링약국   \n",
       "\n",
       "                      경도                  위도  \n",
       "0    126.903727777777775  37.533266666666670  \n",
       "1       126.974007434429    37.5627316675026  \n",
       "2     127.02624836755226   37.56532756147758  \n",
       "3         126.9534959421        37.480704569  \n",
       "4     126.88420201358698   37.49042028999001  \n",
       "..                   ...                 ...  \n",
       "425    128.5749229347276  35.217522566678134  \n",
       "426   128.70762135383123   35.21174512484588  \n",
       "427   128.70713007182505    35.2090331750318  \n",
       "428    128.7098285995319    35.1353184114902  \n",
       "429   128.80681115306334   35.10098323090875  \n",
       "\n",
       "[5660 rows x 4 columns]"
      ]
     },
     "execution_count": 55,
     "metadata": {},
     "output_type": "execute_result"
    }
   ],
   "source": [
    "약국_3개시 = pd.concat([약국_서울,약국_진주,약국_창원])\n",
    "약국_3개시"
   ]
  },
  {
   "cell_type": "code",
   "execution_count": 82,
   "id": "irish-dividend",
   "metadata": {},
   "outputs": [
    {
     "data": {
      "text/plain": [
       "52"
      ]
     },
     "execution_count": 82,
     "metadata": {},
     "output_type": "execute_result"
    }
   ],
   "source": [
    "len(약국_3개시[약국_3개시['위도']==0])"
   ]
  },
  {
   "cell_type": "code",
   "execution_count": 85,
   "id": "contrary-review",
   "metadata": {},
   "outputs": [
    {
     "data": {
      "text/plain": [
       "4"
      ]
     },
     "execution_count": 85,
     "metadata": {},
     "output_type": "execute_result"
    }
   ],
   "source": [
    "len(약국_수원[약국_수원['위도']==0])"
   ]
  },
  {
   "cell_type": "markdown",
   "id": "tested-surge",
   "metadata": {},
   "source": [
    "# 병원 주소 가져오기"
   ]
  },
  {
   "cell_type": "code",
   "execution_count": 75,
   "id": "arabic-local",
   "metadata": {},
   "outputs": [],
   "source": [
    "def 병원매핑(지역):\n",
    "    ServiceKey = \"/Vg1J8MmKzuTqcg1RFWfc3U7B6OLQGu28VZvd9EkkL7l0+IYsdB5Oe0eTm85cUMsNyjZVrFo7GC8fKNxLqKRDA==\"\n",
    "    open_url = 'http://apis.data.go.kr/B552657/HsptlAsembySearchService/getHsptlMdcncListInfoInqire'\n",
    "\n",
    "    queryParams = '?' + urlencode({ quote_plus('ServiceKey') : ServiceKey,\n",
    "                                    quote_plus('Q0') : 지역,\n",
    "                                   quote_plus('pageNo') : '1',\n",
    "                                   quote_plus('numOfRows') : '10000' })\n",
    "    open_url_get = open_url + queryParams\n",
    "\n",
    "    res = requests.get(open_url_get)\n",
    "    datas = BeautifulSoup(res.content,\"html.parser\").find_all(\"item\")\n",
    "    기관주소 = [] ; 기관명 = [] ; 경도 = [] ; 위도 = []\n",
    "\n",
    "    for data in datas:\n",
    "        기관주소.append(data.find(\"dutyaddr\").get_text())\n",
    "        기관명.append(data.find(\"dutyname\").get_text())\n",
    "        try:\n",
    "            경도.append(data.find(\"wgs84lon\").get_text()) \n",
    "        except: 경도.append(0)\n",
    "        try:\n",
    "            위도.append(data.find(\"wgs84lat\").get_text()) \n",
    "        except: 위도.append(0)\n",
    "\n",
    "    df = pd.DataFrame(columns = [\"기관주소\",\"기관명\",\"경도\",\"위도\"])\n",
    "\n",
    "    df[\"기관주소\"] = 기관주소\n",
    "    df[\"기관명\"] = 기관명\n",
    "    df[\"경도\"] = 경도\n",
    "    df[\"위도\"] = 위도\n",
    "    return df\n",
    "    "
   ]
  },
  {
   "cell_type": "code",
   "execution_count": 76,
   "id": "amended-maker",
   "metadata": {},
   "outputs": [],
   "source": [
    "병원_수원 = 병원매핑('수원')\n",
    "병원_서울 = 병원매핑('서울특별시')\n",
    "병원_진주 = 병원매핑('진주시')\n",
    "병원_창원 = 병원매핑('창원시')"
   ]
  },
  {
   "cell_type": "code",
   "execution_count": 81,
   "id": "accessible-discharge",
   "metadata": {},
   "outputs": [
    {
     "data": {
      "text/html": [
       "<div>\n",
       "<style scoped>\n",
       "    .dataframe tbody tr th:only-of-type {\n",
       "        vertical-align: middle;\n",
       "    }\n",
       "\n",
       "    .dataframe tbody tr th {\n",
       "        vertical-align: top;\n",
       "    }\n",
       "\n",
       "    .dataframe thead th {\n",
       "        text-align: right;\n",
       "    }\n",
       "</style>\n",
       "<table border=\"1\" class=\"dataframe\">\n",
       "  <thead>\n",
       "    <tr style=\"text-align: right;\">\n",
       "      <th></th>\n",
       "      <th>기관주소</th>\n",
       "      <th>기관명</th>\n",
       "      <th>경도</th>\n",
       "      <th>위도</th>\n",
       "    </tr>\n",
       "  </thead>\n",
       "  <tbody>\n",
       "    <tr>\n",
       "      <th>0</th>\n",
       "      <td>서울특별시 동작구 상도로 170, 2층 (상도동)</td>\n",
       "      <td>(사)한국한센복지협회서울특별시지부부설의원</td>\n",
       "      <td>126.93803709245813</td>\n",
       "      <td>37.50407680682926</td>\n",
       "    </tr>\n",
       "    <tr>\n",
       "      <th>1</th>\n",
       "      <td>서울특별시 강남구 봉은사로 612 (삼성동)</td>\n",
       "      <td>(의)가산의료재단광동한방병원</td>\n",
       "      <td>127.06214779521632</td>\n",
       "      <td>37.514279685612216</td>\n",
       "    </tr>\n",
       "    <tr>\n",
       "      <th>2</th>\n",
       "      <td>서울특별시 강남구 테헤란로 513 (삼성동, B1일부,4,9,10층,테헤란로81길1...</td>\n",
       "      <td>(의)미래의료재단리드림의원</td>\n",
       "      <td>127.05888980410002</td>\n",
       "      <td>37.508024781100005</td>\n",
       "    </tr>\n",
       "    <tr>\n",
       "      <th>3</th>\n",
       "      <td>서울특별시 강남구 테헤란로 513 (삼성동, 지하1층일부)</td>\n",
       "      <td>(의)미래의료재단미래치과의원</td>\n",
       "      <td>127.05888980410002</td>\n",
       "      <td>37.508024781100005</td>\n",
       "    </tr>\n",
       "    <tr>\n",
       "      <th>4</th>\n",
       "      <td>서울특별시 강남구 도산대로 442 (청담동, 2층일부)</td>\n",
       "      <td>(의)성광의료재단 차움한의원</td>\n",
       "      <td>127.04415941273409</td>\n",
       "      <td>37.52334106045811</td>\n",
       "    </tr>\n",
       "    <tr>\n",
       "      <th>...</th>\n",
       "      <td>...</td>\n",
       "      <td>...</td>\n",
       "      <td>...</td>\n",
       "      <td>...</td>\n",
       "    </tr>\n",
       "    <tr>\n",
       "      <th>1316</th>\n",
       "      <td>경상남도 창원시 성산구 원이대로393번길 25, 케이프타운 2-4층 일부, 지하1-...</td>\n",
       "      <td>희연요양병원</td>\n",
       "      <td>128.66253810302106</td>\n",
       "      <td>35.23996915376772</td>\n",
       "    </tr>\n",
       "    <tr>\n",
       "      <th>1317</th>\n",
       "      <td>경상남도 창원시 성산구 원이대로393번길 25, 5층 5001호 (반지동, 케이프타운)</td>\n",
       "      <td>희연의원</td>\n",
       "      <td>128.6625599049</td>\n",
       "      <td>35.2399616614</td>\n",
       "    </tr>\n",
       "    <tr>\n",
       "      <th>1318</th>\n",
       "      <td>경상남도 창원시 진해구 충장로 121, 203호 (여좌동)</td>\n",
       "      <td>흰돌치과의원</td>\n",
       "      <td>128.66537471633498</td>\n",
       "      <td>35.152540139557345</td>\n",
       "    </tr>\n",
       "    <tr>\n",
       "      <th>1319</th>\n",
       "      <td>경상남도 창원시 진해구 진해대로 999, 201호 (자은동, 하이존)</td>\n",
       "      <td>흰토끼의원</td>\n",
       "      <td>128.70781238277007</td>\n",
       "      <td>35.14026576086863</td>\n",
       "    </tr>\n",
       "    <tr>\n",
       "      <th>1320</th>\n",
       "      <td>경상남도 창원시 의창구 사림로 107 (봉곡동)</td>\n",
       "      <td>힐링한의원</td>\n",
       "      <td>128.6837324764</td>\n",
       "      <td>35.2449680478</td>\n",
       "    </tr>\n",
       "  </tbody>\n",
       "</table>\n",
       "<p>11793 rows × 4 columns</p>\n",
       "</div>"
      ],
      "text/plain": [
       "                                                   기관주소  \\\n",
       "0                           서울특별시 동작구 상도로 170, 2층 (상도동)   \n",
       "1                              서울특별시 강남구 봉은사로 612 (삼성동)   \n",
       "2     서울특별시 강남구 테헤란로 513 (삼성동, B1일부,4,9,10층,테헤란로81길1...   \n",
       "3                      서울특별시 강남구 테헤란로 513 (삼성동, 지하1층일부)   \n",
       "4                        서울특별시 강남구 도산대로 442 (청담동, 2층일부)   \n",
       "...                                                 ...   \n",
       "1316  경상남도 창원시 성산구 원이대로393번길 25, 케이프타운 2-4층 일부, 지하1-...   \n",
       "1317   경상남도 창원시 성산구 원이대로393번길 25, 5층 5001호 (반지동, 케이프타운)   \n",
       "1318                   경상남도 창원시 진해구 충장로 121, 203호 (여좌동)   \n",
       "1319             경상남도 창원시 진해구 진해대로 999, 201호 (자은동, 하이존)   \n",
       "1320                         경상남도 창원시 의창구 사림로 107 (봉곡동)   \n",
       "\n",
       "                         기관명                  경도                  위도  \n",
       "0     (사)한국한센복지협회서울특별시지부부설의원  126.93803709245813   37.50407680682926  \n",
       "1            (의)가산의료재단광동한방병원  127.06214779521632  37.514279685612216  \n",
       "2             (의)미래의료재단리드림의원  127.05888980410002  37.508024781100005  \n",
       "3            (의)미래의료재단미래치과의원  127.05888980410002  37.508024781100005  \n",
       "4            (의)성광의료재단 차움한의원  127.04415941273409   37.52334106045811  \n",
       "...                      ...                 ...                 ...  \n",
       "1316                  희연요양병원  128.66253810302106   35.23996915376772  \n",
       "1317                    희연의원      128.6625599049       35.2399616614  \n",
       "1318                  흰돌치과의원  128.66537471633498  35.152540139557345  \n",
       "1319                   흰토끼의원  128.70781238277007   35.14026576086863  \n",
       "1320                   힐링한의원      128.6837324764       35.2449680478  \n",
       "\n",
       "[11793 rows x 4 columns]"
      ]
     },
     "execution_count": 81,
     "metadata": {},
     "output_type": "execute_result"
    }
   ],
   "source": [
    "병원_3개시 = pd.concat([병원_서울,병원_진주,병원_창원])\n",
    "병원_3개시"
   ]
  },
  {
   "cell_type": "code",
   "execution_count": 83,
   "id": "front-amateur",
   "metadata": {},
   "outputs": [
    {
     "data": {
      "text/plain": [
       "32"
      ]
     },
     "execution_count": 83,
     "metadata": {},
     "output_type": "execute_result"
    }
   ],
   "source": [
    "len(병원_3개시[병원_3개시['위도']==0])"
   ]
  },
  {
   "cell_type": "code",
   "execution_count": 84,
   "id": "large-bahrain",
   "metadata": {},
   "outputs": [
    {
     "data": {
      "text/plain": [
       "1"
      ]
     },
     "execution_count": 84,
     "metadata": {},
     "output_type": "execute_result"
    }
   ],
   "source": [
    "len(병원_수원[병원_수원['위도']==0])"
   ]
  },
  {
   "cell_type": "code",
   "execution_count": null,
   "id": "fuzzy-luxury",
   "metadata": {},
   "outputs": [],
   "source": []
  }
 ],
 "metadata": {
  "kernelspec": {
   "display_name": "Python 3",
   "language": "python",
   "name": "python3"
  },
  "language_info": {
   "codemirror_mode": {
    "name": "ipython",
    "version": 3
   },
   "file_extension": ".py",
   "mimetype": "text/x-python",
   "name": "python",
   "nbconvert_exporter": "python",
   "pygments_lexer": "ipython3",
   "version": "3.6.9"
  }
 },
 "nbformat": 4,
 "nbformat_minor": 5
}
