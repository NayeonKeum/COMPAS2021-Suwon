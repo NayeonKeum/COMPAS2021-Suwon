{
 "cells": [
  {
   "cell_type": "code",
   "execution_count": 1,
   "id": "central-front",
   "metadata": {},
   "outputs": [],
   "source": [
    "from geoband.API import *\n",
    "import pandas as pd\n",
    "import numpy as np\n",
    "import warnings\n",
    "warnings.filterwarnings(\"ignore\")\n",
    "import geopandas as gpd\n",
    "import json\n",
    "from pandas import json_normalize\n",
    "import folium\n",
    "from folium.plugins import MarkerCluster\n",
    "import matplotlib.pyplot as plt\n",
    "import folium\n",
    "from folium import Choropleth, Circle, Marker\n",
    "from folium.plugins import HeatMap, MarkerCluster\n",
    "from folium import Choropleth\n",
    "import matplotlib\n",
    "from datetime import datetime \n",
    "# GetCompasData로 주피터 노트북 경로에 파일 저장\n",
    "from shapely.geometry import Point, Polygon, LineString\n",
    "from fiona.crs import from_string\n",
    "matplotlib.rcParams['font.family']=\"Malgun Gothic\"\n",
    "import pydeck as pdk\n",
    "import mapboxgl\n",
    "mapboxgl.__version__\n",
    "from mapboxgl.viz import *\n",
    "import os\n",
    "from mapboxgl.utils import create_color_stops\n",
    "from mapboxgl.utils import create_numeric_stops"
   ]
  },
  {
   "cell_type": "code",
   "execution_count": 2,
   "id": "toxic-independence",
   "metadata": {},
   "outputs": [],
   "source": [
    "#원래 데이터\n",
    "suwon_112 = pd.read_csv('1.수원시_112신고이력(격자_관할경계매핑).csv')\n",
    "others_112 = pd.read_csv('3.3개시도_112신고이력(관할경계매핑).csv')\n",
    "others_alcohol = gpd.read_file('8.4개시도_유흥업소현황.geojson')\n",
    "others_police_area = gpd.read_file('11.4개시도_경찰서_관할경계.geojson')\n",
    "others_police_box_area = gpd.read_file('12.4개시도_치안안전센터_관할경계.geojson')\n",
    "others_security_lamp = pd.read_csv('22.4개시도_보안등현황.csv')\n",
    "others_security_bell = gpd.read_file('23.4개시도_안전비상벨현황.geojson')\n",
    "others_cctv = pd.read_csv('24.4개시도_CCTV설치현황.csv')\n",
    "suwon_building = pd.read_csv('26.수원시_건축물대장(표제부).csv')\n",
    "others_park = pd.read_csv('27.4개시도_공원현황.csv')\n",
    "others_police = pd.read_csv('39.4개시도_경찰관서현황.csv')\n",
    "others_playground = pd.read_csv('40.4개시도_어린이놀이시설현황.csv')\n",
    "others_land_use_plan = gpd.read_file('41.4개시도_토지이용계획도.geojson')\n",
    "others_convenience = gpd.read_file('42.4개시도_편의점현황.geojson')\n",
    "\n",
    "\n",
    "\n",
    "#구,동별로 되어 있는 데이터\n",
    "suwon_homeless = pd.read_csv('13.수원시_노숙인자활시설현황.csv')\n",
    "suwon_child_welfare = pd.read_csv('14.수원시_아동복지시설현황.csv')\n",
    "suwon_child_center = pd.read_csv('15.수원시_지역아동센터시설현황.csv')\n",
    "suwon_youth_study = pd.read_csv('16.수원시_청소년공부방현황.csv')\n",
    "suwon_library = pd.read_csv('17.수원시_도서관현황.csv')\n",
    "suwon_free_cafeteria =pd.read_csv('18.수원시_무료급식소현황.csv')\n",
    "suwon_child_free_cafeteria = pd.read_csv('19.수원시_아동복지급식소현황.csv')\n",
    "suwon_female_parcel = pd.read_csv('20.수원시_여성안심택배함현황.csv')\n",
    "suwon_street_lamp = pd.read_csv('21.수원시_가로등현황.csv')\n",
    "\n",
    "\n",
    "# 병원, 약국 데이터\n",
    "병원_4개시 = pd.read_csv('4개시도_병원.csv')\n",
    "약국_4개시 = pd.read_csv('4개시도_약국.csv')"
   ]
  },
  {
   "cell_type": "markdown",
   "id": "dangerous-night",
   "metadata": {},
   "source": [
    "### 치안센터 기준의 데이터프레임 생성"
   ]
  },
  {
   "cell_type": "code",
   "execution_count": 3,
   "id": "experienced-tissue",
   "metadata": {},
   "outputs": [],
   "source": [
    "others_police_box_area.columns=['관할치안센터','관할경찰서','geometry']\n",
    "others_police_box_area=others_police_box_area.drop_duplicates(['관할치안센터'])\n",
    "others_police_box_area.reset_index(drop=True,inplace=True)"
   ]
  },
  {
   "cell_type": "code",
   "execution_count": 4,
   "id": "constant-assets",
   "metadata": {},
   "outputs": [],
   "source": [
    "police_box_4sido = others_police_box_area.copy()\n",
    "police_box_4sido = police_box_4sido[['관할치안센터','관할경찰서','geometry']]\n",
    "police_box_4sido.sort_values(by=[\"관할치안센터\"], inplace=True)\n",
    "police_box_4sido.reset_index(inplace = True,drop=True)"
   ]
  },
  {
   "cell_type": "markdown",
   "id": "manual-walter",
   "metadata": {},
   "source": [
    "### mapping & count 함수 생성"
   ]
  },
  {
   "cell_type": "code",
   "execution_count": 5,
   "id": "industrial-couple",
   "metadata": {},
   "outputs": [],
   "source": [
    "def point_police_box(data_df,oters_police_box_area,col):\n",
    "    df = data_df.copy()\n",
    "\n",
    "    epsg4326 = from_string(\"+proj=longlat +ellps=WGS84 +datum=WGS84 +no_defs\")\n",
    "    df['geometry'] = df.apply(lambda x : Point([x['lon'], x['lat']]), axis=1)\n",
    "    df = gpd.GeoDataFrame(df, geometry='geometry', crs = epsg4326)\n",
    "    \n",
    "    police_box_result = gpd.sjoin(others_police_box_area, df, how='inner', op=\"intersects\").drop([\"index_right\"],axis=1)\n",
    "    \n",
    "    police_box_result_groupby = police_box_result.groupby(\"관할치안센터\").agg({col:\"count\"}).reset_index().rename(columns={col:\"cnt\"})\n",
    "    \n",
    "    return police_box_result,police_box_result_groupby\n",
    "\n",
    "# 카운트용 함수\n",
    "\n",
    "def point_police_box_count(data_df,others_police_box,col):\n",
    "    df = data_df.copy()\n",
    "\n",
    "    epsg4326 = from_string(\"+proj=longlat +ellps=WGS84 +datum=WGS84 +no_defs\")\n",
    "    df['geometry'] = df.apply(lambda x : Point([x['lon'], x['lat']]), axis=1)\n",
    "    df = gpd.GeoDataFrame(df, geometry='geometry', crs = epsg4326)\n",
    "    \n",
    "    police_box_result = gpd.sjoin(others_police_box_area, df, how='inner', op=\"intersects\").drop([\"index_right\"],axis=1)\n",
    "    \n",
    "    police_box_result_groupby = police_box_result.groupby(\"관할치안센터\").agg({col:\"sum\"}).reset_index().rename(columns={col:\"cnt\"})\n",
    "    \n",
    "    return police_box_result,police_box_result_groupby    \n",
    "def police_box_4sido_count(df,name):\n",
    "    for i in range(len(df)):\n",
    "        for j in range(len(police_box_4sido)):\n",
    "            if df.loc[i, '관할치안센터'] == police_box_4sido.loc[j, '관할치안센터']:\n",
    "                    police_box_4sido.loc[j, name]=df.loc[i, 'cnt']"
   ]
  },
  {
   "cell_type": "markdown",
   "id": "worldwide-design",
   "metadata": {},
   "source": [
    "#### 지역명 매핑"
   ]
  },
  {
   "cell_type": "code",
   "execution_count": 6,
   "id": "combined-stuff",
   "metadata": {},
   "outputs": [],
   "source": [
    "area_list = []\n",
    "for i in range(len(police_box_4sido)):\n",
    "    area_list.append(police_box_4sido['관할경찰서'][i][0:2])\n",
    "for i in range(len(area_list)):\n",
    "    if (area_list[i]=='마산') | (area_list[i] == '진해'):\n",
    "        area_list[i] = '창원'\n",
    "police_box_4sido['지역'] = area_list\n"
   ]
  },
  {
   "cell_type": "markdown",
   "id": "comparable-circus",
   "metadata": {},
   "source": [
    "## 27.4개시도_공원현황 mapping"
   ]
  },
  {
   "cell_type": "code",
   "execution_count": 7,
   "id": "least-bundle",
   "metadata": {},
   "outputs": [],
   "source": [
    "others_park_result_1, others_park_groupby=point_police_box(others_park,others_police_box_area,'park_gbn')\n",
    "others_park_result=others_park_result_1.groupby(['관할치안센터', 'park_gbn']).count()\n",
    "others_park_result.reset_index(inplace=True)\n",
    "others_park_result=others_park_result[['관할치안센터','park_gbn','park_nm']]\n",
    "police_box_4sido_count(others_park_groupby,'공원')"
   ]
  },
  {
   "cell_type": "markdown",
   "id": "solid-gateway",
   "metadata": {},
   "source": [
    "### 40.4개시도_어린이놀이시설현황/40.4개시도_어린이놀이시설현황_구별종류별"
   ]
  },
  {
   "cell_type": "code",
   "execution_count": 8,
   "id": "champion-economy",
   "metadata": {},
   "outputs": [],
   "source": [
    "others_playground_result, others_playground_groupby=point_police_box(others_playground,others_police_box_area,'fac_loc')\n",
    "police_box_4sido_count(others_playground_groupby,'놀이시설')"
   ]
  },
  {
   "cell_type": "markdown",
   "id": "graduate-latino",
   "metadata": {},
   "source": [
    "### 42.4개시도_편의점현황/42.4개시도_편의점현황_업체별수"
   ]
  },
  {
   "cell_type": "code",
   "execution_count": 9,
   "id": "crude-waste",
   "metadata": {},
   "outputs": [],
   "source": [
    "others_convenience_result, others_convenience_groupby=point_police_box(others_convenience,others_police_box_area,'KSIC_NM')\n",
    "others_convenience_result=others_convenience_result.groupby(['관할치안센터', 'KSIC_NM']).count()\n",
    "others_convenience_result.reset_index(inplace=True)\n",
    "others_convenience_result=others_convenience_result[['관할치안센터','KSIC_NM','BUSINESS_NM']]\n",
    "police_box_4sido_count(others_convenience_groupby,'편의점')"
   ]
  },
  {
   "cell_type": "markdown",
   "id": "young-things",
   "metadata": {},
   "source": [
    "## 22.4개시도_보안등현황 mapping"
   ]
  },
  {
   "cell_type": "code",
   "execution_count": 10,
   "id": "saved-globe",
   "metadata": {},
   "outputs": [],
   "source": [
    "others_security_lamp_result, others_security_lamp_groupby=point_police_box_count(others_security_lamp,others_police_box_area,'securitylight_cnt')\n",
    "police_box_4sido_count(others_security_lamp_groupby,'보안등')"
   ]
  },
  {
   "cell_type": "markdown",
   "id": "artistic-finnish",
   "metadata": {},
   "source": [
    "## 23.4개시도_안전비상벨현황 mapping"
   ]
  },
  {
   "cell_type": "code",
   "execution_count": 11,
   "id": "balanced-batman",
   "metadata": {},
   "outputs": [],
   "source": [
    "others_security_bell_result = gpd.sjoin(others_police_box_area, others_security_bell, how='inner', op=\"intersects\").drop([\"index_right\"],axis=1)\n",
    "others_security_bell_groupby = others_security_bell_result.groupby(\"관할치안센터\").agg({'bell_us':\"count\"}).reset_index().rename(columns={'bell_us':\"cnt\"})\n",
    "others_security_bell_result=others_security_bell_result.groupby(['관할치안센터', 'bell_us'])['관할경찰서'].count()\n",
    "others_security_bell_result=others_security_bell_result.to_frame().reset_index().rename(columns={'관할경찰서':\"cnt\"})\n",
    "police_box_4sido_count(others_security_bell_groupby,'비상벨')"
   ]
  },
  {
   "cell_type": "markdown",
   "id": "colored-crowd",
   "metadata": {},
   "source": [
    "## 24.4개시도_CCTV설치현황 mapping"
   ]
  },
  {
   "cell_type": "code",
   "execution_count": 12,
   "id": "disciplinary-channels",
   "metadata": {},
   "outputs": [],
   "source": [
    "others_cctv_result,others_cctv_groupby = point_police_box_count(others_cctv,others_police_box_area,'cctv_cnt')\n",
    "others_cctv_result = others_cctv_result.groupby(['관할치안센터','purpose'])['cctv_cnt'].sum()\n",
    "others_cctv_result=others_cctv_result.to_frame().reset_index()\n",
    "police_box_4sido_count(others_cctv_groupby,'cctv')"
   ]
  },
  {
   "cell_type": "markdown",
   "id": "respective-primary",
   "metadata": {},
   "source": [
    "## 112 신고이력 관련 데이터 가공\n",
    "- 20개 이상의 사건종별 데이터를 6개의 중분류로 매핑해주기\n",
    "- 교통 / 질서유지 / 중요범죄 / 기타범죄 / 기타_경찰업무 / 타기관_기타"
   ]
  },
  {
   "cell_type": "markdown",
   "id": "proud-louisville",
   "metadata": {},
   "source": [
    "## 112 데이터 전처리 함수"
   ]
  },
  {
   "cell_type": "code",
   "execution_count": 13,
   "id": "economic-texture",
   "metadata": {},
   "outputs": [],
   "source": [
    "def 사건종별_분류(x):\n",
    "    교통 = [\"교통사고\",\"교통불편\",\"교통위반\"]\n",
    "    질서유지 = [\"기타경범\",\"주취자\",\"행패소란\",\"보호조치\",\"시비\",\"위험방지\",\"청소년비행\",\"무전취식승차\"]\n",
    "    중요범죄 = [\"절도\",\"가정폭력\",\"폭력\"]\n",
    "    기타범죄 = [\"기타형사범\",\"도박\"]\n",
    "    기타_경찰업무 = [\"상담문의\",\"분실습득\",\"비상벨\",\"실종(실종아동 등)\"]\n",
    "    타기관_기타 = [\"기타_타기관\",\"소음\",\"서비스요청\"]\n",
    "    \n",
    "    if x in 교통:\n",
    "        return \"교통\"\n",
    "    if x in 질서유지:\n",
    "        return \"질서유지\"\n",
    "    if x in 중요범죄:\n",
    "        return \"중요범죄\"\n",
    "    if x in 기타범죄:\n",
    "        return \"기타범죄\"\n",
    "    if x in 기타_경찰업무:\n",
    "        return \"기타_경찰업무\"\n",
    "    if x in 타기관_기타:\n",
    "        return \"타기관_기타\""
   ]
  },
  {
   "cell_type": "code",
   "execution_count": 14,
   "id": "recreational-brave",
   "metadata": {},
   "outputs": [],
   "source": [
    "def time_cut(x):\n",
    "    if 6 > x >= 2:\n",
    "        return '새벽'\n",
    "    elif 11 > x >= 6:\n",
    "        return '오전'\n",
    "    elif 15 > x >= 11:\n",
    "        return '점심'\n",
    "    elif 18 > x >= 15:\n",
    "        return '오후'\n",
    "    elif 22 > x >= 18:\n",
    "        return '저녁'\n",
    "    else:\n",
    "        return '심야'"
   ]
  },
  {
   "cell_type": "code",
   "execution_count": 15,
   "id": "floral-prisoner",
   "metadata": {},
   "outputs": [],
   "source": [
    "others_112.columns = [\"사건종별\",\"접수완료일자\",\"접수완료시각\",\"도착일시\",\"관할치안센터\",\"관할경찰서\"]\n",
    "suwon_112.columns = [\"사건종별\",\"접수완료일자\",\"접수완료시각\",\"도착일시\",\"gid\",\"관할치안센터\",\"관할경찰서\"]"
   ]
  },
  {
   "cell_type": "code",
   "execution_count": 16,
   "id": "received-cement",
   "metadata": {},
   "outputs": [],
   "source": [
    "def 신고이력데이터_처리(data):\n",
    "    \n",
    "    others_112 = data.copy()\n",
    "    others_112[\"접수완료시각\"] = others_112[\"접수완료시각\"].str.replace(\"'\",\"\")\n",
    "    others_112[\"접수완료일자\"] = others_112[\"접수완료일자\"].astype(str)\n",
    "    #others_112[\"도착일시\"] = others_112[\"도착일시\"].astype(int).astype(str)\n",
    "    # 도착일시가 NaN인 경우 존재 -> 도착일시가 NaN이 아닌 경우에 대해서만 출동 소요시각 구하기\n",
    "\n",
    "    others_112[\"접수완료일시\"] = others_112[\"접수완료일자\"] + others_112[\"접수완료시각\"]\n",
    "    others_112[\"접수완료일시\"] = pd.to_datetime(others_112[\"접수완료일시\"],format=\"%Y%m%d%H%M%S\")\n",
    "\n",
    "    others_112[\"년\"] = others_112[\"접수완료일시\"].apply(lambda x : x.year)\n",
    "    others_112[\"월\"] = others_112[\"접수완료일시\"].apply(lambda x : x.month)\n",
    "    others_112[\"일\"] = others_112[\"접수완료일시\"].apply(lambda x : x.day)\n",
    "    others_112[\"요일\"] = others_112[\"접수완료일시\"].apply(lambda x : x.weekday())\n",
    "    others_112[\"시\"] = others_112[\"접수완료일시\"].apply(lambda x : x.hour)\n",
    "    others_112[\"분\"] = others_112[\"접수완료일시\"].apply(lambda x : x.minute)\n",
    "    others_112[\"초\"] = others_112[\"접수완료일시\"].apply(lambda x : x.second)\n",
    "\n",
    "    # 도착일시가 정확히 기록된 경우와 그렇지 않은 경우로 나누기\n",
    "\n",
    "    def get_도착일시(x):\n",
    "        if len(str(x)) < 14:\n",
    "            return np.NaN\n",
    "        else:\n",
    "            return str(int(float(x)))\n",
    "\n",
    "    others_112[\"도착일시\"] = others_112[\"도착일시\"].apply(lambda x : get_도착일시(x))\n",
    "    others_112[\"도착일시\"] = pd.to_datetime(others_112[\"도착일시\"],format=\"%Y%m%d%H%M%S\")\n",
    "\n",
    "    # 출동하는데 걸린 소요 시간\n",
    "    others_112[\"소요시간\"] = others_112[\"도착일시\"] - others_112[\"접수완료일시\"]\n",
    "\n",
    "    # 사건종별 중분류\n",
    "    others_112[\"사건종별_중분류\"] = others_112[\"사건종별\"].apply(lambda x : 사건종별_분류(x))\n",
    "    \n",
    "    # 시간대별 분류\n",
    "    others_112[\"시간대\"] = others_112[\"시\"].apply(lambda x : time_cut(x))\n",
    "    \n",
    "    return others_112"
   ]
  },
  {
   "cell_type": "code",
   "execution_count": null,
   "id": "korean-logistics",
   "metadata": {},
   "outputs": [],
   "source": [
    "suwon_112_get = 신고이력데이터_처리(suwon_112)\n",
    "others_112_get = 신고이력데이터_처리(others_112)\n",
    "\n",
    "suwon_112_groupby = suwon_112_get.groupby(\"관할치안센터\").agg({'gid':\"count\"}).reset_index().rename(columns={'gid':\"cnt\"})\n",
    "suwon_112_get_groupby = suwon_112_get.groupby(['관할치안센터','사건종별_중분류'])['gid'].count().reset_index().rename(columns={'gid':\"cnt\"})\n",
    "\n",
    "others_112_groupby = others_112_get.groupby(\"관할치안센터\").agg({'사건종별':\"count\"}).reset_index().rename(columns={'사건종별':\"cnt\"})\n",
    "others_112_get_groupby = others_112_get.groupby(['관할치안센터','사건종별_중분류'])['사건종별'].count().reset_index().rename(columns={'사건종별':\"cnt\"})"
   ]
  },
  {
   "cell_type": "markdown",
   "id": "coastal-portrait",
   "metadata": {},
   "source": [
    "### 112 신고 데이터 치안센터 영역과 매핑하는 함수"
   ]
  },
  {
   "cell_type": "code",
   "execution_count": null,
   "id": "bigger-inside",
   "metadata": {},
   "outputs": [],
   "source": [
    "def police_box_4sido_112_mapping(df1,df2):\n",
    "    police_box_4sido_count(df1,'전체112')\n",
    "    for i in range(len(df2)):\n",
    "        for j in range(len(police_box_4sido)):\n",
    "            if df2.loc[i, '관할치안센터'] == police_box_4sido.loc[j, '관할치안센터'] and df2.loc[i, '사건종별_중분류'] == '기타_경찰업무':\n",
    "                police_box_4sido.loc[j, '112_기타_경찰업무']=df2.loc[i, 'cnt']\n",
    "            elif df2.loc[i, '관할치안센터'] == police_box_4sido.loc[j, '관할치안센터'] and df2.loc[i, '사건종별_중분류'] == '중요범죄':\n",
    "                police_box_4sido.loc[j, '112_중요범죄']=df2.loc[i, 'cnt']\n",
    "            elif df2.loc[i, '관할치안센터'] == police_box_4sido.loc[j, '관할치안센터'] and df2.loc[i, '사건종별_중분류'] == '교통':\n",
    "                police_box_4sido.loc[j, '112_교통']=df2.loc[i, 'cnt']\n",
    "            elif df2.loc[i, '관할치안센터'] == police_box_4sido.loc[j, '관할치안센터'] and df2.loc[i, '사건종별_중분류'] == '타기관_기타':\n",
    "                police_box_4sido.loc[j, '112_타기관_기타']=df2.loc[i, 'cnt']\n",
    "            elif df2.loc[i, '관할치안센터'] == police_box_4sido.loc[j, '관할치안센터'] and df2.loc[i, '사건종별_중분류'] == '질서유지':\n",
    "                police_box_4sido.loc[j, '112_질서유지']=df2.loc[i, 'cnt']\n",
    "            elif df2.loc[i, '관할치안센터'] == police_box_4sido.loc[j, '관할치안센터'] and df2.loc[i, '사건종별_중분류'] == '기타범죄':\n",
    "                police_box_4sido.loc[j, '112_기타범죄']=df2.loc[i, 'cnt']\n"
   ]
  },
  {
   "cell_type": "code",
   "execution_count": null,
   "id": "moved-submission",
   "metadata": {},
   "outputs": [],
   "source": [
    "police_box_4sido['전체112']=0\n",
    "police_box_4sido['112_기타_경찰업무']=0\n",
    "police_box_4sido['112_중요범죄']=0\n",
    "police_box_4sido['112_교통']=0\n",
    "police_box_4sido['112_타기관_기타']=0\n",
    "police_box_4sido['112_질서유지']=0\n",
    "police_box_4sido['112_기타범죄']=0"
   ]
  },
  {
   "cell_type": "code",
   "execution_count": null,
   "id": "considered-decade",
   "metadata": {},
   "outputs": [],
   "source": [
    "police_box_4sido_112_mapping(suwon_112_groupby,suwon_112_get_groupby)"
   ]
  },
  {
   "cell_type": "code",
   "execution_count": null,
   "id": "minute-somewhere",
   "metadata": {},
   "outputs": [],
   "source": [
    "police_box_4sido_112_mapping(others_112_groupby,others_112_get_groupby)"
   ]
  },
  {
   "cell_type": "code",
   "execution_count": null,
   "id": "after-observation",
   "metadata": {},
   "outputs": [],
   "source": [
    "police_box_4sido['112_중요범죄_비율'] = round((police_box_4sido['전체112']/police_box_4sido['112_중요범죄'])*100)"
   ]
  },
  {
   "cell_type": "markdown",
   "id": "rational-commerce",
   "metadata": {},
   "source": [
    "### 8. 4개시도_유흥업소현황 mapping"
   ]
  },
  {
   "cell_type": "code",
   "execution_count": null,
   "id": "residential-employee",
   "metadata": {},
   "outputs": [],
   "source": [
    "others_alcohol = gpd.read_file('8.4개시도_유흥업소현황.geojson')[['BUSINESS_NM','COM_LC_NM','COM_MC_NM',\n",
    "                'COM_SC_NM','KSIC_NM','SGG_NM',\n",
    "       'ADB_EMD_NM','EMD_NM','ROAD_NM','geometry']]\n",
    "others_alcohol.columns = [\"상호명\",\"상권업종대분류명\",\"상권업종중분류명\",\"상권업종소분류명\",\"표준산업분류명\",\n",
    "                         \"시군구명\",\"행정동명\",\"법정동명\",\"도로명\",\"geometry\"]"
   ]
  },
  {
   "cell_type": "code",
   "execution_count": null,
   "id": "impossible-thesis",
   "metadata": {},
   "outputs": [],
   "source": [
    "others_alcohol_result = gpd.sjoin(others_police_box_area, others_alcohol, how='inner', op=\"intersects\").drop([\"index_right\"],axis=1)\n",
    "others_alcohol_result=others_alcohol_result.groupby(['관할치안센터'])['관할경찰서'].count().to_frame().reset_index().rename(columns={'관할경찰서':\"cnt\"})\n",
    "police_box_4sido_count(others_alcohol_result,'유흥업소')"
   ]
  },
  {
   "cell_type": "code",
   "execution_count": null,
   "id": "through-annual",
   "metadata": {},
   "outputs": [],
   "source": [
    "# suwon_homeless = pd.read_csv('13.수원시_노숙인자활시설현황.csv')\n",
    "# suwon_child_welfare = pd.read_csv('14.수원시_아동복지시설현황.csv')\n",
    "# suwon_child_center = pd.read_csv('15.수원시_지역아동센터시설현황.csv')\n",
    "# suwon_youth_study = pd.read_csv('16.수원시_청소년공부방현황.csv')\n",
    "# suwon_library = pd.read_csv('17.수원시_도서관현황.csv')\n",
    "# suwon_free_cafeteria =pd.read_csv('18.수원시_무료급식소현황.csv')\n",
    "# suwon_child_free_cafeteria = pd.read_csv('19.수원시_아동복지급식소현황.csv')\n",
    "# suwon_female_parcel = pd.read_csv('20.수원시_여성안심택배함현황.csv')\n",
    "# suwon_street_lamp = pd.read_csv('21.수원시_가로등현황.csv')"
   ]
  },
  {
   "cell_type": "markdown",
   "id": "southeast-wednesday",
   "metadata": {},
   "source": [
    "### 약국 위치 매핑(보건)"
   ]
  },
  {
   "cell_type": "code",
   "execution_count": null,
   "id": "attractive-acrobat",
   "metadata": {},
   "outputs": [],
   "source": [
    "others_pharmacy, others_pharmacy_groupby=point_police_box(약국_4개시,others_police_box_area,'기관주소')\n",
    "police_box_4sido_count(others_pharmacy_groupby,'약국')"
   ]
  },
  {
   "cell_type": "markdown",
   "id": "virtual-episode",
   "metadata": {},
   "source": [
    "### 병원 위치 매핑(보건)"
   ]
  },
  {
   "cell_type": "code",
   "execution_count": null,
   "id": "worldwide-weekend",
   "metadata": {},
   "outputs": [],
   "source": [
    "others_hospital, others_hospital_groupby=point_police_box(병원_4개시,others_police_box_area,'기관주소')\n",
    "police_box_4sido_count(others_hospital_groupby,'병원')"
   ]
  },
  {
   "cell_type": "markdown",
   "id": "elect-vessel",
   "metadata": {},
   "source": [
    "### 지하철데이터 매핑"
   ]
  },
  {
   "cell_type": "code",
   "execution_count": null,
   "id": "addressed-earth",
   "metadata": {},
   "outputs": [],
   "source": [
    "subway = pd.read_csv(\"전국도시철도역사정보표준데이터.csv\",encoding=\"cp949\")[[\"역사명\",\"역사도로명주소\",\"역경도\",\"역위도\"]]\n",
    "subway.columns = [\"기관명\",\"기관주소\",\"lon\",\"lat\"]\n",
    "subway = subway[(subway[\"기관주소\"].str.contains(\"서울\")) | (subway[\"기관주소\"].str.contains(\"수원\"))]"
   ]
  },
  {
   "cell_type": "code",
   "execution_count": null,
   "id": "international-strengthening",
   "metadata": {},
   "outputs": [],
   "source": [
    "others_subway_result, others_subway_groupby=point_police_box(subway,others_police_box_area,'기관주소')\n",
    "police_box_4sido_count(others_subway_groupby,'지하철')"
   ]
  },
  {
   "cell_type": "markdown",
   "id": "premier-amber",
   "metadata": {},
   "source": [
    "### 어린이집 데이터 매핑"
   ]
  },
  {
   "cell_type": "code",
   "execution_count": null,
   "id": "regulated-uzbekistan",
   "metadata": {},
   "outputs": [],
   "source": [
    "어린이집_창원 = pd.read_excel(\"어린이집기본정보조회_창원.xls\")\n",
    "어린이집_수원 = pd.read_excel(\"어린이집기본정보조회_수원.xls\")\n",
    "어린이집_진주 = pd.read_excel(\"어린이집기본정보조회_진주.xls\")\n",
    "어린이집_서울 = pd.read_excel(\"어린이집기본정보조회_서울.xls\")\n",
    "\n",
    "others_baby = pd.concat([어린이집_창원,어린이집_수원,어린이집_진주,어린이집_서울])[[\"어린이집명\",\"운영현황\",\"주소\",\"경도\",\"위도\"]]\n",
    "\n",
    "others_baby = others_baby[(others_baby[\"운영현황\"] == \"정상\") | (others_baby[\"운영현황\"] == \"재개\")].reset_index(drop=True)\n",
    "others_baby.columns = [\"어린이집명\",\"운영현황\",\"주소\",\"lon\",\"lat\"]\n",
    "# 정상 운영되는 곳만"
   ]
  },
  {
   "cell_type": "code",
   "execution_count": null,
   "id": "necessary-speaking",
   "metadata": {},
   "outputs": [],
   "source": [
    "others_baby_result, others_baby_groupby=point_police_box(others_baby,others_police_box_area,'주소')\n",
    "police_box_4sido_count(others_baby_groupby,'어린이집')"
   ]
  },
  {
   "cell_type": "markdown",
   "id": "governing-walker",
   "metadata": {},
   "source": [
    "### 유치원 데이터 매핑"
   ]
  },
  {
   "cell_type": "code",
   "execution_count": null,
   "id": "another-polyester",
   "metadata": {},
   "outputs": [],
   "source": [
    "kindergarden = pd.read_csv('유치원 현황_위경도매핑.csv')"
   ]
  },
  {
   "cell_type": "code",
   "execution_count": null,
   "id": "medium-metabolism",
   "metadata": {},
   "outputs": [],
   "source": [
    "kindergarden_result, kindergarden_groupby=point_police_box(kindergarden,others_police_box_area,'교육청명')\n",
    "police_box_4sido_count(kindergarden_groupby,'유치원')"
   ]
  },
  {
   "cell_type": "markdown",
   "id": "radio-spain",
   "metadata": {},
   "source": [
    "### police_box_4sido 처리"
   ]
  },
  {
   "cell_type": "code",
   "execution_count": null,
   "id": "clean-teach",
   "metadata": {},
   "outputs": [],
   "source": [
    "police_box_4sido.fillna(0,inplace=True)\n",
    "ar = ['공원', '놀이시설', '편의점', '보안등', '비상벨', 'cctv','전체112', '112_기타_경찰업무', '112_중요범죄', '112_교통', '112_타기관_기타', '112_질서유지','112_기타범죄', '유흥업소', '약국', '병원','지하철','어린이집']\n",
    "for i in ar:\n",
    "    police_box_4sido[i] = police_box_4sido[i].astype(int)"
   ]
  },
  {
   "cell_type": "code",
   "execution_count": null,
   "id": "minor-statement",
   "metadata": {},
   "outputs": [],
   "source": [
    "police_box_4sido.to_csv('치안센터_4개시.csv',encoding = 'utf-8')"
   ]
  },
  {
   "cell_type": "markdown",
   "id": "imposed-district",
   "metadata": {},
   "source": [
    "# 사고다발지역 데이터 매핑\n",
    "- 무단횡단\n",
    "- 스쿨존\n",
    "- 보행어린이\n",
    "- 보행고령자\n",
    "- 자전거"
   ]
  },
  {
   "cell_type": "code",
   "execution_count": null,
   "id": "helpful-metropolitan",
   "metadata": {},
   "outputs": [],
   "source": [
    "school_risk_area = pd.read_csv(\"스쿨존_사고다발.csv\",encoding=\"cp949\")\n",
    "old_risk_area = pd.read_csv(\"고령_사고다발.csv\",encoding=\"cp949\")\n",
    "bic_risk_area = pd.read_csv(\"자전거_사고다발.csv\",encoding=\"cp949\")\n",
    "jay_risk_area = pd.read_csv(\"무단횡단_사고다발.csv\",encoding=\"cp949\")\n",
    "child_risk_area = pd.read_csv(\"보행어린이_사고다발.csv\",encoding=\"cp949\")"
   ]
  },
  {
   "cell_type": "code",
   "execution_count": null,
   "id": "funky-burlington",
   "metadata": {},
   "outputs": [],
   "source": [
    "school_risk_area[\"사고유형\"] = \"스쿨존내어린이사고\"\n",
    "old_risk_area[\"사고유형\"] = \"보행고령자사고\"\n",
    "bic_risk_area[\"사고유형\"] = \"자전거사고\"\n",
    "jay_risk_area[\"사고유형\"] = \"보행자무단횡단사고\"\n",
    "child_risk_area[\"사고유형\"] = \"보행어린이사고\""
   ]
  },
  {
   "cell_type": "code",
   "execution_count": null,
   "id": "decent-handle",
   "metadata": {},
   "outputs": [],
   "source": [
    "all_risk_area = pd.concat([school_risk_area,old_risk_area,bic_risk_area,jay_risk_area,child_risk_area],\n",
    "                         axis=0).reset_index(drop=True)"
   ]
  },
  {
   "cell_type": "markdown",
   "id": "early-howard",
   "metadata": {},
   "source": [
    "geo_col이 문자열일 경우 polygon으로 변환하는 함수"
   ]
  },
  {
   "cell_type": "code",
   "execution_count": null,
   "id": "textile-guinea",
   "metadata": {},
   "outputs": [],
   "source": [
    "def string_to_polygon(df,geo_col):\n",
    "    data = df.copy()\n",
    "    data[\"geometry\"] = data[geo_col].apply(lambda x : Polygon(eval(x)[\"coordinates\"][0]))\n",
    "    data.drop(geo_col,axis=1,inplace=True)\n",
    "    return data"
   ]
  },
  {
   "cell_type": "code",
   "execution_count": null,
   "id": "patient-turner",
   "metadata": {},
   "outputs": [],
   "source": [
    "all_risk_area_geo = string_to_polygon(all_risk_area,\"다발지역폴리곤\")\n",
    "all_risk_area_geo = gpd.GeoDataFrame(all_risk_area_geo)\n",
    "\n",
    "# 2020년 사고다발 데이터만 가져오기\n",
    "all_risk_area_geo[\"사고다발지ID\"] = all_risk_area_geo[\"사고다발지ID\"].astype(str)\n",
    "all_risk_area_geo = all_risk_area_geo[all_risk_area_geo[\"사고다발지ID\"].str[:4] == \"2020\"]"
   ]
  },
  {
   "cell_type": "code",
   "execution_count": null,
   "id": "japanese-hampton",
   "metadata": {},
   "outputs": [],
   "source": [
    "all_risk_area_geo.to_file(\"사고유형별_사고다발지역.geojson\",driver=\"GeoJSON\")"
   ]
  },
  {
   "cell_type": "code",
   "execution_count": null,
   "id": "third-library",
   "metadata": {},
   "outputs": [],
   "source": [
    "all_risk_area_geo.reset_index(drop = True,inplace = True)"
   ]
  },
  {
   "cell_type": "code",
   "execution_count": null,
   "id": "wooden-advisory",
   "metadata": {},
   "outputs": [],
   "source": [
    "all_risk_area_geo_result = gpd.sjoin(others_police_box_area, all_risk_area_geo, how='inner', op=\"intersects\").drop([\"index_right\"],axis=1)\n",
    "all_risk_area_geo_result_groupby=all_risk_area_geo_result.groupby(['관할치안센터','사고유형'])['관할경찰서'].count().to_frame().reset_index().rename(columns={'관할경찰서':\"cnt\"})\n"
   ]
  },
  {
   "cell_type": "code",
   "execution_count": null,
   "id": "photographic-spank",
   "metadata": {},
   "outputs": [],
   "source": [
    "police_box_4sido['보행고령자사고'] = 0\n",
    "police_box_4sido['자전거사고'] = 0\n",
    "police_box_4sido['보행자무단횡단사고'] = 0\n",
    "police_box_4sido['보행어린이사고'] = 0\n",
    "police_box_4sido['스쿨존내어린이사고'] = 0"
   ]
  },
  {
   "cell_type": "code",
   "execution_count": null,
   "id": "peaceful-symbol",
   "metadata": {},
   "outputs": [],
   "source": [
    "for i in range(len(all_risk_area_geo_result_groupby)):\n",
    "    for j in range(len(police_box_4sido)):\n",
    "        if all_risk_area_geo_result_groupby.loc[i, '관할치안센터'] == police_box_4sido.loc[j, '관할치안센터'] and all_risk_area_geo_result_groupby.loc[i, '사고유형'] == '보행고령자사고':\n",
    "            police_box_4sido.loc[j, '보행고령자사고']=all_risk_area_geo_result_groupby.loc[i, 'cnt']\n",
    "        elif all_risk_area_geo_result_groupby.loc[i, '관할치안센터'] == police_box_4sido.loc[j, '관할치안센터'] and all_risk_area_geo_result_groupby.loc[i, '사고유형'] == '자전거사고':\n",
    "            police_box_4sido.loc[j, '자전거사고']=all_risk_area_geo_result_groupby.loc[i, 'cnt']\n",
    "        elif all_risk_area_geo_result_groupby.loc[i, '관할치안센터'] == police_box_4sido.loc[j, '관할치안센터'] and all_risk_area_geo_result_groupby.loc[i, '사고유형'] == '보행자무단횡단사고':\n",
    "            police_box_4sido.loc[j, '보행자무단횡단사고']=all_risk_area_geo_result_groupby.loc[i, 'cnt']\n",
    "        elif all_risk_area_geo_result_groupby.loc[i, '관할치안센터'] == police_box_4sido.loc[j, '관할치안센터'] and all_risk_area_geo_result_groupby.loc[i, '사고유형'] == '보행어린이사고':\n",
    "            police_box_4sido.loc[j, '보행어린이사고']=all_risk_area_geo_result_groupby.loc[i, 'cnt']\n",
    "        elif all_risk_area_geo_result_groupby.loc[i, '관할치안센터'] == police_box_4sido.loc[j, '관할치안센터'] and all_risk_area_geo_result_groupby.loc[i, '사고유형'] == '스쿨존내어린이사고':\n",
    "            police_box_4sido.loc[j, '스쿨존내어린이사고']=all_risk_area_geo_result_groupby.loc[i, 'cnt']\n",
    "        "
   ]
  },
  {
   "cell_type": "markdown",
   "id": "initial-state",
   "metadata": {},
   "source": [
    "# 용도지역도 데이터 매핑"
   ]
  },
  {
   "cell_type": "code",
   "execution_count": null,
   "id": "accepting-desert",
   "metadata": {},
   "outputs": [],
   "source": [
    "others_use_area = gpd.read_file('9.4개시도_용도지역도.geojson')\n",
    "others_use_area.columns = [\"관리번호\",\"별칭\",\"비고\",\"고시일자\",\"원천오브젝트ID\",\"원천시군구코드\",\"geometry\"]\n",
    "\n",
    "code = pd.read_csv(\"용도지역도_코드.csv\")"
   ]
  },
  {
   "cell_type": "code",
   "execution_count": null,
   "id": "adjustable-psychology",
   "metadata": {},
   "outputs": [],
   "source": [
    "others_use_area[\"코드\"] = others_use_area[\"관리번호\"].apply(lambda x : str(x)[20:26])\n",
    "others_use_area_code = pd.merge(others_use_area,code,on=\"코드\",how=\"left\")"
   ]
  },
  {
   "cell_type": "markdown",
   "id": "disabled-wildlife",
   "metadata": {},
   "source": [
    "원천시군구코드\n",
    "- 수원: 41110\n",
    "- 창원: 48120\n",
    "- 진주: 48170\n",
    "- 서울: 원천시군구코드_서울"
   ]
  },
  {
   "cell_type": "code",
   "execution_count": null,
   "id": "integrated-upper",
   "metadata": {},
   "outputs": [],
   "source": [
    "# 서울의 원천시군구코드 리스트 생성\n",
    "원천시군구코드 = list(others_use_area['원천시군구코드'].unique())\n",
    "for _ in range(3):\n",
    "    원천시군구코드.pop()\n",
    "원천시군구코드_서울 = 원천시군구코드"
   ]
  },
  {
   "cell_type": "code",
   "execution_count": null,
   "id": "micro-bernard",
   "metadata": {},
   "outputs": [],
   "source": [
    "def 시군구별_용도지역도_격자별매핑(others_use_area,code,sgg_code,area,police_box_4sido):\n",
    "    # others_use_area : 용도지역도 df\n",
    "    # code : 용도지역도 코드 df\n",
    "    # sgg_code : 시군구 코드 str\n",
    "    # area : 상업,공업,주거,녹지 str\n",
    "    # suwon_112_grid : 수원시 격자데이터\n",
    "    \n",
    "    others_use_area[\"코드\"] = others_use_area[\"관리번호\"].apply(lambda x : str(x)[20:26])\n",
    "    others_use_area_code = pd.merge(others_use_area,code,on=\"코드\",how=\"left\")\n",
    "    a = list(others_use_area_code[others_use_area_code[\"코드명\"].isnull()].index)\n",
    "    others_use_area_code.drop(a,inplace = True)\n",
    "    # 용도지역도와 코드명 사이의 연결\n",
    "\n",
    "    police_box_use_area = others_use_area_code[others_use_area_code[\"원천시군구코드\"] == sgg_code]\n",
    "    # 수원시 용도지역도\n",
    "\n",
    "    police_box_use_area_sell = police_box_use_area[police_box_use_area[\"코드명\"].str.contains(area)]\n",
    "    # suwon_use_area_sell : 수원시의 00지역\n",
    "\n",
    "    police_box_use_area_sell_intersect = gpd.overlay(police_box_4sido, police_box_use_area_sell, how=\"intersection\")\n",
    "    # suwon_use_area_sell_intersect : suwon_use_area_sell와 수원시의 격자와 겹치는 영역 산출\n",
    "\n",
    "    police_box_use_area_sell_intersect = police_box_use_area_sell_intersect.to_crs(epsg=\"5186\")\n",
    "    police_box_use_area_sell_intersect[\"area\"] = police_box_use_area_sell_intersect[\"geometry\"].apply(lambda x :round(x.area,3))\n",
    "    # Polygon 영역 넓이 구하기\n",
    "    \n",
    "    police_box_use_area_sell_intersect = police_box_use_area_sell_intersect.to_crs(epsg=\"4326\")\n",
    "    # 좌표계 반환\n",
    "\n",
    "    police_box_use_area_sell_intersect_groupby = police_box_use_area_sell_intersect.groupby([\"관할치안센터\"]).agg({\"area\":\"sum\"}).reset_index()\n",
    "    # gid 별 영역 넓이 합\n",
    "    \n",
    "    return police_box_use_area_sell_intersect_groupby.rename(columns={\"area\":area + \"지역면적\"})"
   ]
  },
  {
   "cell_type": "code",
   "execution_count": null,
   "id": "august-storm",
   "metadata": {},
   "outputs": [],
   "source": [
    "for i in ['상업','공업','주거','녹지']:\n",
    "    result = pd.DataFrame(index=range(0,1), columns=['관할치안센터'])\n",
    "    for j in 원천시군구코드:\n",
    "        a = 시군구별_용도지역도_격자별매핑(others_use_area,code,j,i,police_box_4sido)\n",
    "        result = pd.concat([result,a])\n",
    "    result.reset_index(inplace = True,drop = True)\n",
    "    result.drop(0,inplace = True)\n",
    "    globals()['서울_{}'.format(i)] = result\n",
    "#서울_용도지역도\n",
    "서울_상업 = 서울_상업.groupby(['관할치안센터']).agg({'상업지역면적':'sum'}).reset_index()\n",
    "서울_공업 = 서울_공업.groupby(['관할치안센터']).agg({'공업지역면적':'sum'}).reset_index()\n",
    "서울_주거 = 서울_주거.groupby(['관할치안센터']).agg({'주거지역면적':'sum'}).reset_index()\n",
    "서울_녹지 = 서울_녹지.groupby(['관할치안센터']).agg({'녹지지역면적':'sum'}).reset_index()"
   ]
  },
  {
   "cell_type": "code",
   "execution_count": null,
   "id": "fluid-thunder",
   "metadata": {},
   "outputs": [],
   "source": [
    "#수원_용도지역도\n",
    "수원_상업 = 시군구별_용도지역도_격자별매핑(others_use_area,code,\"41110\",\"상업\",police_box_4sido)\n",
    "수원_공업 = 시군구별_용도지역도_격자별매핑(others_use_area,code,\"41110\",\"공업\",police_box_4sido)\n",
    "수원_주거 = 시군구별_용도지역도_격자별매핑(others_use_area,code,\"41110\",\"주거\",police_box_4sido)\n",
    "수원_녹지 = 시군구별_용도지역도_격자별매핑(others_use_area,code,\"41110\",\"녹지\",police_box_4sido)\n",
    "        \n",
    "# 창원_용도지역도\n",
    "창원_상업 = 시군구별_용도지역도_격자별매핑(others_use_area,code,\"48120\",\"상업\",police_box_4sido)\n",
    "창원_공업 = 시군구별_용도지역도_격자별매핑(others_use_area,code,\"48120\",\"공업\",police_box_4sido)\n",
    "창원_주거 = 시군구별_용도지역도_격자별매핑(others_use_area,code,\"48120\",\"주거\",police_box_4sido)\n",
    "창원_녹지 = 시군구별_용도지역도_격자별매핑(others_use_area,code,\"48120\",\"녹지\",police_box_4sido)\n",
    "\n",
    "# 진주_용도지역도\n",
    "진주_상업 = 시군구별_용도지역도_격자별매핑(others_use_area,code,\"48170\",\"상업\",police_box_4sido)\n",
    "진주_공업 = 시군구별_용도지역도_격자별매핑(others_use_area,code,\"48170\",\"공업\",police_box_4sido)\n",
    "진주_주거 = 시군구별_용도지역도_격자별매핑(others_use_area,code,\"48170\",\"주거\",police_box_4sido)\n",
    "진주_녹지 = 시군구별_용도지역도_격자별매핑(others_use_area,code,\"48170\",\"녹지\",police_box_4sido)\n",
    "\n",
    "치안센터_상업 = pd.concat([서울_상업,수원_상업,창원_상업,진주_상업]).reset_index().drop('index',axis=1)\n",
    "치안센터_공업 = pd.concat([서울_공업,수원_공업,창원_공업,진주_공업]).reset_index().drop('index',axis=1)\n",
    "치안센터_주거 = pd.concat([서울_주거,수원_주거,창원_주거,진주_주거]).reset_index().drop('index',axis=1)\n",
    "치안센터_녹지 = pd.concat([서울_녹지,수원_녹지,창원_녹지,진주_녹지]).reset_index().drop('index',axis=1)"
   ]
  },
  {
   "cell_type": "code",
   "execution_count": null,
   "id": "balanced-mathematics",
   "metadata": {},
   "outputs": [],
   "source": [
    "#치안센터_용도지역도 데이터 merge\n",
    "result = police_box_4sido\n",
    "#전체 면적 구하기\n",
    "result = result.to_crs(epsg=\"5186\")\n",
    "result[\"전체면적\"] = result[\"geometry\"].apply(lambda x : round(x.area,3))\n",
    "result = result.to_crs(epsg=\"4326\")\n",
    "전체면적 = result[['관할치안센터','전체면적']]\n",
    "\n",
    "\n",
    "for area in ['상업','공업','주거','녹지']:\n",
    "    df = globals()['치안센터_{}'.format(area)]\n",
    "    for i in range(len(df)):\n",
    "        for j in range(len(result)):\n",
    "            if df.iloc[i,0] == result.iloc[j,0]:\n",
    "                df.iloc[i,1] = round((df.iloc[i,1]/전체면적.loc[j,'전체면적'])*100)\n",
    "                \n",
    "for data in [치안센터_상업,치안센터_공업,치안센터_주거,치안센터_녹지]:\n",
    "    police_box_4sido = pd.merge(police_box_4sido,data,on=\"관할치안센터\",how=\"left\").fillna(0)"
   ]
  },
  {
   "cell_type": "markdown",
   "id": "opposite-receptor",
   "metadata": {},
   "source": [
    "# buffer 데이터 매핑"
   ]
  },
  {
   "cell_type": "markdown",
   "id": "medium-waterproof",
   "metadata": {},
   "source": [
    "### 사고다발데이터 buffer 매핑"
   ]
  },
  {
   "cell_type": "code",
   "execution_count": null,
   "id": "representative-cigarette",
   "metadata": {},
   "outputs": [],
   "source": [
    "result_lst = []\n",
    "\n",
    "buffer_intersect = gpd.overlay(police_box_4sido, all_risk_area_geo, how=\"intersection\")\n",
    "# suwon_112_grid(수원시의 grid)의 겹치는 영역 산출\n",
    "\n",
    "buffer_intersect[\"area\"] = buffer_intersect[\"geometry\"].apply(lambda x : x.area)\n",
    "# 넓이 구하기\n",
    "\n",
    "for risk in all_risk_area_geo[\"사고유형\"].value_counts().index:\n",
    "    data = buffer_intersect[buffer_intersect[\"사고유형\"] == risk]\n",
    "    data_groupby = data.groupby([\"관할치안센터\"]).agg({\"area\":\"sum\"}).reset_index().rename(columns={\"area\":risk+'_buffer'})\n",
    "    # 사고다발유형별 gid 별 영역 넓이 합\n",
    "\n",
    "    result_lst.append(data_groupby)\n",
    "\n",
    "for data in result_lst:\n",
    "    police_box_4sido = pd.merge(police_box_4sido,data,on=\"관할치안센터\",how=\"left\").fillna(0)\n",
    "police_box_4sido[\"사고다발지역_buffer\"] = ( police_box_4sido[\"보행고령자사고_buffer\"] + police_box_4sido[\"보행자무단횡단사고_buffer\"] + police_box_4sido[\"자전거사고_buffer\"] + \n",
    "                           police_box_4sido[\"보행어린이사고_buffer\"] + police_box_4sido[\"스쿨존내어린이사고_buffer\"] )\n",
    "# result5 = result_buffer.drop(\"geometry\",axis=1)"
   ]
  },
  {
   "cell_type": "markdown",
   "id": "varied-liquid",
   "metadata": {},
   "source": [
    "# 치안시설 buffer"
   ]
  },
  {
   "cell_type": "code",
   "execution_count": null,
   "id": "regulated-manhattan",
   "metadata": {},
   "outputs": [],
   "source": [
    "def point_buffer_치안센터별매핑(data_df,police_box_4sido,col,buffer_num):\n",
    "    # col : 경찰서, 치안센터, cctv (str)\n",
    "    # buffer_num : 치안안전시설에 따라 10,300,1000 (int)\n",
    "    \n",
    "    df = data_df.copy()\n",
    "    epsg4326 = from_string(\"+proj=longlat +ellps=WGS84 +datum=WGS84 +no_defs\")\n",
    "    df['Point'] = df.apply(lambda x : Point([x['lon'], x['lat']]), axis=1)\n",
    "    df = gpd.GeoDataFrame(df, geometry='Point', crs = epsg4326).to_crs(epsg=\"5186\")\n",
    "    # Buffer 부여하기 위해서 Point 임시 epsg 5186 좌표계로 변환\n",
    "\n",
    "    df[\"geometry\"] = df[\"Point\"].apply(lambda x : x.buffer(buffer_num))\n",
    "    df = df.drop(\"Point\",axis=1)\n",
    "    df = gpd.GeoDataFrame(df, geometry='geometry').to_crs(epsg=\"4326\")\n",
    "    # Buffer 부여한 뒤에 epsg 4326 좌표계로 변환\n",
    "\n",
    "    df['Point'] = df.apply(lambda x : Point([x['lon'], x['lat']]), axis=1)\n",
    "    # drop한 좌표 다시 넣어주기\n",
    "    \n",
    "    df_intersect = gpd.overlay(police_box_4sido,df, how=\"intersection\")\n",
    "    df_intersect = df_intersect.to_crs(epsg=\"5186\")\n",
    "    \n",
    "    df_intersect[col+\"_buffer\"] = df_intersect[\"geometry\"].apply(lambda x : round(x.area,3))\n",
    "    # 면적은 5186 좌표계에서 구하기\n",
    "    # 겹치는 면적 구하기 좌표계 바꿔서 구하자\n",
    "    df_intersect = df_intersect.to_crs(epsg=\"4326\")\n",
    "    # 다시 좌표계 반환\n",
    "\n",
    "    df_intersect_sum = df_intersect.groupby(\"관할치안센터\").agg({col+\"_buffer\":\"sum\"}).reset_index()\n",
    "    return df_intersect,df_intersect_sum\n",
    "\n",
    "def point_buffer_치안센터별매핑_유흥업소(data_df,police_box_4sido,col,buffer_num):\n",
    "    # col : 경찰서, 치안센터, cctv (str)\n",
    "    # buffer_num : 치안안전시설에 따라 10,300,1000 (int)\n",
    "    \n",
    "    df = data_df.copy()\n",
    "    epsg4326 = from_string(\"+proj=longlat +ellps=WGS84 +datum=WGS84 +no_defs\")\n",
    "    df['Point'] = df['geometry']\n",
    "    df = gpd.GeoDataFrame(df, geometry='Point', crs = epsg4326).to_crs(epsg=\"5186\")\n",
    "    # Buffer 부여하기 위해서 Point 임시 epsg 5186 좌표계로 변환\n",
    "\n",
    "    df[\"geometry_1\"] = df[\"Point\"].apply(lambda x : x.buffer(buffer_num))\n",
    "    df = df.drop(\"Point\",axis=1)\n",
    "    df = gpd.GeoDataFrame(df, geometry='geometry_1').to_crs(epsg=\"4326\")\n",
    "    # Buffer 부여한 뒤에 epsg 4326 좌표계로 변환\n",
    "\n",
    "    df['Point'] = df['geometry']\n",
    "    # drop한 좌표 다시 넣어주기\n",
    "    \n",
    "    df_intersect = gpd.overlay(police_box_4sido,df, how=\"intersection\")\n",
    "    df_intersect = df_intersect.to_crs(epsg=\"5186\")\n",
    "    \n",
    "    df_intersect[col+\"_buffer\"] = df_intersect[\"geometry\"].apply(lambda x : round(x.area,3))\n",
    "    # 면적은 5186 좌표계에서 구하기\n",
    "    # 겹치는 면적 구하기 좌표계 바꿔서 구하자\n",
    "    df_intersect = df_intersect.to_crs(epsg=\"4326\")\n",
    "    # 다시 좌표계 반환\n",
    "\n",
    "    df_intersect_sum = df_intersect.groupby(\"관할치안센터\").agg({col+\"_buffer\":\"sum\"}).reset_index()\n",
    "    return df_intersect,df_intersect_sum"
   ]
  },
  {
   "cell_type": "code",
   "execution_count": null,
   "id": "earlier-yacht",
   "metadata": {},
   "outputs": [],
   "source": [
    "others_security_lamp_buffer,others_security_lamp_buffer_sum = point_buffer_치안센터별매핑(others_security_lamp,police_box_4sido,\"보안등\",10)\n",
    "# 4개시 보안등\n",
    "\n",
    "others_cctv_buffer,others_cctv_buffer_sum = point_buffer_치안센터별매핑(others_cctv,police_box_4sido,\"CCTV\",100)\n",
    "# 4개시 CCTV\n",
    "\n",
    "others_alcohol_buffer,others_alcohol_buffer_sum = point_buffer_치안센터별매핑_유흥업소(others_alcohol,police_box_4sido,\"유흥업소\",100)\n",
    "# 4개시 유흥업소"
   ]
  },
  {
   "cell_type": "code",
   "execution_count": null,
   "id": "hazardous-mason",
   "metadata": {},
   "outputs": [],
   "source": [
    "# buffer면적/전체면적\n",
    "for df in [others_security_lamp_buffer_sum,others_cctv_buffer_sum,others_alcohol_buffer_sum]:\n",
    "    for i in range(len(df)):\n",
    "        for j in range(len(전체면적)):\n",
    "            if df.iloc[i,0] == 전체면적.iloc[j,0]:\n",
    "                df.iloc[i,1] = round((df.iloc[i,1]/전체면적.loc[j,'전체면적'])*100)\n",
    "# police_box_4sido에 buffer데이터 병합\n",
    "for data in [others_security_lamp_buffer_sum,others_cctv_buffer_sum,others_alcohol_buffer_sum]:\n",
    "    police_box_4sido = pd.merge(police_box_4sido,data,on=\"관할치안센터\",how=\"left\").fillna(0)"
   ]
  },
  {
   "cell_type": "code",
   "execution_count": null,
   "id": "measured-disaster",
   "metadata": {},
   "outputs": [],
   "source": [
    "#경찰서 기준 데이터프레임 생성\n",
    "police_4sido = police_box_4sido.groupby('관할경찰서').apply(lambda x: x.sum())\n",
    "police_4sido=police_4sido.drop(['관할치안센터','관할경찰서','지역','112_중요범죄_비율'],axis=1).reset_index()"
   ]
  },
  {
   "cell_type": "code",
   "execution_count": null,
   "id": "spread-projection",
   "metadata": {},
   "outputs": [],
   "source": [
    "#경찰서 기준 데이터프레임에 지역 매핑\n",
    "police_4sido['지역'] =police_4sido['관할경찰서'].str[:2]\n",
    "police_4sido['지역']=police_4sido['지역'].replace('마산','창원')\n",
    "police_4sido['지역']=police_4sido['지역'].replace('진해','창원')"
   ]
  },
  {
   "cell_type": "code",
   "execution_count": null,
   "id": "canadian-parks",
   "metadata": {},
   "outputs": [],
   "source": [
    "#4개시_치안센터_final to_file\n",
    "police_box_4sido.to_file(\"4개시_치안센터_final.geojson\",driver=\"GeoJSON\")"
   ]
  },
  {
   "cell_type": "code",
   "execution_count": null,
   "id": "senior-minister",
   "metadata": {},
   "outputs": [],
   "source": [
    "#4개시_경찰서_final geojson변환\n",
    "others_police_area=others_police_area.rename(columns={'NAME':'관할경찰서'}).drop('PNAME',axis=1)\n",
    "police_4sido = pd.merge(others_police_area,police_4sido, on ='관할경찰서' )"
   ]
  },
  {
   "cell_type": "code",
   "execution_count": null,
   "id": "mental-investor",
   "metadata": {},
   "outputs": [],
   "source": [
    "#4개시_경찰서_final to_file\n",
    "police_4sido.to_file('4개시_경찰서_final.geojson',driver = 'GeoJSON')"
   ]
  },
  {
   "cell_type": "markdown",
   "id": "forbidden-respondent",
   "metadata": {},
   "source": [
    "# 시각화"
   ]
  },
  {
   "cell_type": "code",
   "execution_count": null,
   "id": "sapphire-village",
   "metadata": {},
   "outputs": [],
   "source": [
    "police_4sido.describe()"
   ]
  },
  {
   "cell_type": "code",
   "execution_count": null,
   "id": "olive-killing",
   "metadata": {},
   "outputs": [],
   "source": [
    "def mapboxgl_polygon_visual(data,region,token_API,col,bin_lst,visual_3D):\n",
    "    # data : geometry와 시각화 할 value가 같이 담긴 (Geo)DataFrame이 입력값\n",
    "    # region(str) : 서울, 수원, 창원, 진주\n",
    "    # token_API(str) : mapbox Api key\n",
    "    # visual_3D(bool) : True or False - 3D로 나타낼 것인지\n",
    "    # col(str) : 어떤 column에 대해 visualize 할 것인지\n",
    "    # bin_lst(lst) : 해당 columns의 값을 어떤 구간으로 나눌 것인지\n",
    "    data_copy = data.copy()\n",
    "    data_copy = gpd.GeoDataFrame(data_copy,geometry = \"geometry\").to_crs(epsg=\"4326\")\n",
    "\n",
    "    data_copy.to_file(\"test.geojson\",driver=\"GeoJSON\")\n",
    "    with open(\"test.geojson\") as f:\n",
    "        data_copy = json.loads(f.read())\n",
    "    # geojson 으로 내보내고 json으로 읽어오기\n",
    "        \n",
    "    if region == \"수원\":\n",
    "        center = [127.008,37.280]\n",
    "    elif region == \"서울\":\n",
    "        center = [126.986, 37.565]\n",
    "        \n",
    "    color_breaks = bin_lst\n",
    "    color_stops = create_color_stops(color_breaks, colors='BuPu')\n",
    "    # 시각화 값에 따른 색상의 범주 지정\n",
    "        \n",
    "    viz = ChoroplethViz(access_token=token_API, data = data_copy, color_property= col, \n",
    "                        color_stops=color_stops, center=center, zoom=11, style = \"mapbox://styles/mapbox/dark-v10\")\n",
    "\n",
    "    if not visual_3D:\n",
    "        viz.show()\n",
    "    else:\n",
    "        viz.bearing = -15 ; viz.pitch = 45 # bearing : 좌우, pitch : 상하 회전\n",
    "        \n",
    "        # 각 데이터에 'col'를 기준으로 height 값을 줍니다.\n",
    "        viz.height_property = col\n",
    "\n",
    "        # 높이 값의 범주를 0 ~ 3000 사이로 매핑\n",
    "        viz.height_stops = create_numeric_stops(bin_lst, 0, 3000)\n",
    "        viz.height_function_type = 'interpolate'\n",
    "\n",
    "        # render again\n",
    "        viz.show()       "
   ]
  },
  {
   "cell_type": "code",
   "execution_count": null,
   "id": "described-obligation",
   "metadata": {},
   "outputs": [],
   "source": [
    "token = 'pk.eyJ1Ijoia2lteXVzaW50d28iLCJhIjoiY2t1cnRlNzd4MG1sZjJubG53MHh5MDVtMSJ9.GGjIXQbBt9faPTRoO6bTIw'"
   ]
  },
  {
   "cell_type": "code",
   "execution_count": null,
   "id": "quick-tutorial",
   "metadata": {},
   "outputs": [],
   "source": [
    "def choropleth(column):\n",
    "    # 서울시 중심부의 위도, 경도 입니다.\n",
    "    center = [37.541, 126.986]\n",
    "\n",
    "    # 맵이 center 에 위치하고, zoom 레벨은 11로 시작하는 맵 m을 만듭니다.\n",
    "    m = folium.Map(location=center, zoom_start=10)\n",
    "\n",
    "    # Choropleth 레이어를 만들고, 맵 m에 추가합니다.\n",
    "    folium.Choropleth(\n",
    "        geo_data=others_police_box_area,\n",
    "        data=police_box_4sido,\n",
    "        columns=('관할경찰서', column),\n",
    "        key_on='feature.properties.관할경찰서',\n",
    "        fill_color='BuPu',\n",
    "        legend_name=column,\n",
    "    ).add_to(m)\n",
    "    \n",
    "#     folium.GeoJson(\n",
    "#     tooltip=folium.features.GeoJsonTooltip(\n",
    "#         fields=['관할경찰서',column],\n",
    "#         aliases=['관할경찰서: ',]\n",
    "#     )\n",
    "#     ).add_to(m)\n",
    "\n",
    "    # 맵 m을 출력합니다.\n",
    "    return m"
   ]
  },
  {
   "cell_type": "code",
   "execution_count": null,
   "id": "cathedral-rogers",
   "metadata": {},
   "outputs": [],
   "source": []
  }
 ],
 "metadata": {
  "kernelspec": {
   "display_name": "Python 3",
   "language": "python",
   "name": "python3"
  },
  "language_info": {
   "codemirror_mode": {
    "name": "ipython",
    "version": 3
   },
   "file_extension": ".py",
   "mimetype": "text/x-python",
   "name": "python",
   "nbconvert_exporter": "python",
   "pygments_lexer": "ipython3",
   "version": "3.6.9"
  }
 },
 "nbformat": 4,
 "nbformat_minor": 5
}
