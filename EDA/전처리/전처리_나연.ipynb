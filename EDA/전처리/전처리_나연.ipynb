{
 "cells": [
  {
   "cell_type": "code",
   "execution_count": 28,
   "id": "closing-chicken",
   "metadata": {},
   "outputs": [],
   "source": [
    "from geoband.API import *\n",
    "import pandas as pd\n",
    "import numpy as np\n",
    "import warnings\n",
    "warnings.filterwarnings(\"ignore\")\n",
    "import geopandas as gpd\n",
    "import pandas as pd\n",
    "import json\n",
    "from pandas import json_normalize\n",
    "import pandas as pd\n",
    "import folium\n",
    "from folium.plugins import MarkerCluster\n",
    "from geoband.API import *\n",
    "import geopandas as gpd\n",
    "import warnings\n",
    "warnings.filterwarnings(\"ignore\")\n",
    "from shapely.geometry import Point, Polygon\n",
    "import matplotlib.pyplot as plt\n",
    "import folium\n",
    "from folium import Choropleth, Circle, Marker\n",
    "from folium.plugins import HeatMap, MarkerCluster\n",
    "from geopandas import GeoDataFrame\n",
    "from folium import Choropleth\n",
    "from datetime import datetime"
   ]
  },
  {
   "cell_type": "code",
   "execution_count": 2,
   "id": "related-supervision",
   "metadata": {},
   "outputs": [],
   "source": [
    "# GetCompasData('SBJ_2109_001', '1', '1.수원시_112신고이력(격자_관할경계매핑).csv')\n",
    "# GetCompasData('SBJ_2109_001', '2', '2.수원시_112신고(격자별 신고횟수).geojson')\n",
    "# GetCompasData('SBJ_2109_001', '3', '3.3개시도_112신고이력(관할경계매핑).csv')\n",
    "# GetCompasData('SBJ_2109_001', '4', '4.수원시_시간대별_유동인구(2020).csv')\n",
    "# GetCompasData('SBJ_2109_001', '5', '5.수원시_성연령별_유동인구(2020).csv')\n",
    "# GetCompasData('SBJ_2109_001', '6', '6.수원시_요일별_유동인구(2020).csv')\n",
    "# GetCompasData('SBJ_2109_001', '7', '7.4개시도_주택노후도.geojson')\n",
    "# GetCompasData('SBJ_2109_001', '8', '8.4개시도_유흥업소현황.geojson')\n",
    "# GetCompasData('SBJ_2109_001', '9', '9.4개시도_용도지역도.geojson')\n",
    "# GetCompasData('SBJ_2109_001', '10', '10.4개시도_사업지구경계도.geojson')\n",
    "# GetCompasData('SBJ_2109_001', '11', '11.4개시도_경찰서_관할경계.geojson')\n",
    "# GetCompasData('SBJ_2109_001', '12', '12.4개시도_치안안전센터_관할경계.geojson')\n",
    "# GetCompasData('SBJ_2109_001', '13', '13.수원시_노숙인자활시설현황.csv')\n",
    "# GetCompasData('SBJ_2109_001', '14', '14.수원시_아동복지시설현황.csv')\n",
    "# GetCompasData('SBJ_2109_001', '15', '15.수원시_지역아동센터시설현황.csv')\n",
    "# GetCompasData('SBJ_2109_001', '16', '16.수원시_청소년공부방현황.csv')\n",
    "# GetCompasData('SBJ_2109_001', '17', '17.수원시_도서관현황.csv')\n",
    "# GetCompasData('SBJ_2109_001', '18', '18.수원시_무료급식소현황.csv')\n",
    "# GetCompasData('SBJ_2109_001', '19', '19.수원시_아동복지급식소현황.csv')\n",
    "# GetCompasData('SBJ_2109_001', '20', '20.수원시_여성안심택배함현황.csv')\n",
    "# GetCompasData('SBJ_2109_001', '21', '21.수원시_가로등현황.csv')\n",
    "# GetCompasData('SBJ_2109_001', '22', '22.4개시도_보안등현황.csv')\n",
    "# GetCompasData('SBJ_2109_001', '23', '23.4개시도_안전비상벨현황.geojson')\n",
    "# GetCompasData('SBJ_2109_001', '24', '24.4개시도_CCTV설치현황.csv')\n",
    "# GetCompasData('SBJ_2109_001', '25', '25.수원시_상권(업종)현황.xlsx')\n",
    "# GetCompasData('SBJ_2109_001', '26', '26.수원시_건축물대장(표제부).xlsx')\n",
    "GetCompasData('SBJ_2109_001', '27', '27.4개시도_공원현황.csv')\n",
    "# GetCompasData('SBJ_2109_001', '28', '28.수원시_도로명주소(도로).geojson')\n",
    "# GetCompasData('SBJ_2109_001', '29', '29.수원시_도로명주소(건물).geojson')\n",
    "# GetCompasData('SBJ_2109_001', '30', '30.수원시_성연령별_거주인구격자(250M_X_250M).geojson')\n",
    "# GetCompasData('SBJ_2109_001', '31', '31.수원시_행정경계(읍면동).geojson')\n",
    "# GetCompasData('SBJ_2109_001', '32', '32.수원시_표준격자(250M_x_250M).geojson')\n",
    "GetCompasData('SBJ_2109_001', '33', '33.4개시도_1인가구수.csv')\n",
    "GetCompasData('SBJ_2109_001', '34', '34.4개시도_기초수급자현황.csv')\n",
    "GetCompasData('SBJ_2109_001', '35', '35.4개시도_성연령별_총인구분포.csv')\n",
    "GetCompasData('SBJ_2109_001', '36', '36.4개시도_인구데이터(외국인).csv')\n",
    "GetCompasData('SBJ_2109_001', '37', '37.4개시도_자살율.csv')\n",
    "GetCompasData('SBJ_2109_001', '38', '38.4개시도_화재발생통계.csv')\n",
    "GetCompasData('SBJ_2109_001', '39', '39.4개시도_경찰관서현황.csv')\n",
    "GetCompasData('SBJ_2109_001', '40', '40.4개시도_어린이놀이시설현황.csv')\n",
    "GetCompasData('SBJ_2109_001', '41', '41.4개시도_토지이용계획도.geojson')\n",
    "GetCompasData('SBJ_2109_001', '42', '42.4개시도_편의점현황.geojson')\n",
    "# https://www.kaggle.com/alexisbcook/interactive-maps/#The-data 지도 시각화"
   ]
  },
  {
   "cell_type": "code",
   "execution_count": 3,
   "id": "controversial-lighter",
   "metadata": {},
   "outputs": [],
   "source": [
    "# suwon_112 = pd.read_csv('1.수원시_112신고이력(격자_관할경계매핑).csv')\n",
    "# suwon_112_grid = gpd.read_file('2.수원시_112신고(격자별 신고횟수).geojson')\n",
    "# others_112 = pd.read_csv('3.3개시도_112신고이력(관할경계매핑).csv')\n",
    "# suwon_time_flow_pop = pd.read_csv('4.수원시_시간대별_유동인구(2020).csv')\n",
    "# suwon_sex_age_flow_pop = pd.read_csv('5.수원시_성연령별_유동인구(2020).csv')\n",
    "# suwon_day_flow_pop = pd.read_csv('6.수원시_요일별_유동인구(2020).csv')\n",
    "# others_old_house = gpd.read_file('7.4개시도_주택노후도.geojson')\n",
    "# others_alcohol = gpd.read_file('8.4개시도_유흥업소현황.geojson')\n",
    "# others_use_area = gpd.read_file('9.4개시도_용도지역도.geojson')\n",
    "# others_business_area = gpd.read_file('10.4개시도_사업지구경계도.geojson')\n",
    "# others_police_area = gpd.read_file('11.4개시도_경찰서_관할경계.geojson')\n",
    "# others_police_box_area = gpd.read_file('12.4개시도_치안안전센터_관할경계.geojson')\n",
    "# suwon_homeless = pd.read_csv('13.수원시_노숙인자활시설현황.csv')\n",
    "# suwon_child_welfare = pd.read_csv('14.수원시_아동복지시설현황.csv')\n",
    "# suwon_child_center = pd.read_csv('15.수원시_지역아동센터시설현황.csv')\n",
    "# suwon_youth_study = pd.read_csv('16.수원시_청소년공부방현황.csv')\n",
    "# suwon_library = pd.read_csv('17.수원시_도서관현황.csv')\n",
    "# suwon_free_cafeteria =pd.read_csv('18.수원시_무료급식소현황.csv')\n",
    "# suwon_child_free_cafeteria = pd.read_csv('19.수원시_아동복지급식소현황.csv')\n",
    "# suwon_female_parcel = pd.read_csv('20.수원시_여성안심택배함현황.csv')\n",
    "# suwon_street_lamp = pd.read_csv('21.수원시_가로등현황.csv')\n",
    "# others_security_lamp = pd.read_csv('22.4개시도_보안등현황.csv')\n",
    "# others_security_bell = gpd.read_file('23.4개시도_안전비상벨현황.geojson')\n",
    "# others_cctv = pd.read_csv('24.4개시도_CCTV설치현황.csv')\n",
    "# suwon_commercial_area = pd.read_excel('25.수원시_상권(업종)현황.xlsx')\n",
    "# suwon_building = pd.read_excel('26.수원시_건축물대장(표제부).xlsx')\n",
    "# others_park =pd.read_csv('27.4개시도_공원현황.csv')\n",
    "# suwon_road_name = gpd.read_file('28.수원시_도로명주소(도로).geojson')\n",
    "# suwon_building_road_name = gpd.read_file('29.수원시_도로명주소(건물).geojson')\n",
    "# suwon_sex_age_pop = gpd.read_file('30.수원시_성연령별_거주인구격자(250M_X_250M).geojson')\n",
    "# suwon_admin_area = gpd.read_file('31.수원시_행정경계(읍면동).geojson')\n",
    "# suwon_grid = gpd.read_file('32.수원시_표준격자(250M_x_250M).geojson')\n",
    "# others_one_person = pd.read_csv('33.4개시도_1인가구수.csv')\n",
    "# others_basic_recipient = pd.read_csv('34.4개시도_기초수급자현황.csv')\n",
    "# others_sex_age_pop = pd.read_csv('35.4개시도_성연령별_총인구분포.csv')\n",
    "# others_foreigner_pop = pd.read_csv('36.4개시도_인구데이터(외국인).csv')\n",
    "# others_suicide = pd.read_csv('37.4개시도_자살율.csv')\n",
    "# others_fire = pd.read_csv('38.4개시도_화재발생통계.csv')\n",
    "# others_police = pd.read_csv('39.4개시도_경찰관서현황.csv')\n",
    "# others_playground = pd.read_csv('40.4개시도_어린이놀이시설현황.csv')\n",
    "# others_land_use_plan = gpd.read_file('41.4개시도_토지이용계획도.geojson')\n",
    "# others_convenience = gpd.read_file('42.4개시도_편의점현황.geojson')"
   ]
  },
  {
   "cell_type": "markdown",
   "id": "auburn-optics",
   "metadata": {},
   "source": [
    "## 전처리 대상\n",
    "- 27, 33, 34, 35, 36, 37, 38, 39, 40, 41, 42"
   ]
  },
  {
   "cell_type": "code",
   "execution_count": 4,
   "id": "faced-grass",
   "metadata": {},
   "outputs": [],
   "source": [
    "others_park =pd.read_csv('27.4개시도_공원현황.csv')\n",
    "others_one_person = pd.read_csv('33.4개시도_1인가구수.csv')\n",
    "others_basic_recipient = pd.read_csv('34.4개시도_기초수급자현황.csv')\n",
    "others_sex_age_pop = pd.read_csv('35.4개시도_성연령별_총인구분포.csv')\n",
    "others_foreigner_pop = pd.read_csv('36.4개시도_인구데이터(외국인).csv')\n",
    "others_suicide = pd.read_csv('37.4개시도_자살율.csv')\n",
    "others_fire = pd.read_csv('38.4개시도_화재발생통계.csv')\n",
    "others_police = pd.read_csv('39.4개시도_경찰관서현황.csv')\n",
    "others_playground = pd.read_csv('40.4개시도_어린이놀이시설현황.csv')\n",
    "others_land_use_plan = gpd.read_file('41.4개시도_토지이용계획도.geojson')\n",
    "others_convenience = gpd.read_file('42.4개시도_편의점현황.geojson')"
   ]
  },
  {
   "cell_type": "markdown",
   "id": "trained-shame",
   "metadata": {},
   "source": [
    "### 33. 4개시도_1인가구수\n",
    "- 수원시, 창안시 데이터 추출(ex. 수원시장안구 -> 장안구)"
   ]
  },
  {
   "cell_type": "code",
   "execution_count": 5,
   "id": "confused-canon",
   "metadata": {},
   "outputs": [],
   "source": [
    "for i in range(len(others_one_person)):\n",
    "    if \"수원시\" in others_one_person.loc[i, 'sgg_nm'] or \"창원시\" in others_one_person.loc[i, 'sgg_nm']:\n",
    "        others_one_person.loc[i, 'sgg_nm']=others_one_person.loc[i, 'sgg_nm'][3:]"
   ]
  },
  {
   "cell_type": "code",
   "execution_count": 6,
   "id": "hispanic-traffic",
   "metadata": {},
   "outputs": [],
   "source": [
    "others_one_person.to_csv('33.4개시도_1인가구수.csv', index=False)"
   ]
  },
  {
   "cell_type": "code",
   "execution_count": null,
   "id": "sitting-supplement",
   "metadata": {},
   "outputs": [],
   "source": []
  },
  {
   "cell_type": "markdown",
   "id": "american-december",
   "metadata": {},
   "source": [
    "### 34. 4개시도_기초수급자현황\n",
    "- 나이가 int형이라 10 단위로 끊어서 합침(age_range 칼럼 추가)\n",
    "\n",
    "\n",
    "#### 나이대 매핑\n",
    "0-9 : 0대\n",
    "\n",
    "10-19 : 10대\n",
    "\n",
    ":\n",
    "\n",
    "110-119 : 110대\n",
    "\n",
    "- 수원시, 창원시가 시 단위로 되어있어 합쳐서 eda 해야함\n"
   ]
  },
  {
   "cell_type": "code",
   "execution_count": 7,
   "id": "domestic-dinner",
   "metadata": {},
   "outputs": [],
   "source": [
    "d = {range(0, 10): '0대', range(10, 20): '10대', range(20, 30): '20대', range(30, 40): '30대', range(40, 50): '40대', range(50, 60): '50대', range(60, 70): '60대', range(70, 80): '70대', range(80, 90): '80대', range(90, 100): '90대', range(100, 110): '100대', range(110, 120): '110대'}\n",
    "others_basic_recipient['age_range'] = others_basic_recipient['age'].apply(lambda x: next((v for k, v in d.items() if x in k), 0))"
   ]
  },
  {
   "cell_type": "code",
   "execution_count": 8,
   "id": "formed-protein",
   "metadata": {},
   "outputs": [],
   "source": [
    "# 연령대(age_range) 추가\n",
    "others_basic_recipient.to_csv('34.4개시도_기초수급자현황.csv', index=False)"
   ]
  },
  {
   "cell_type": "code",
   "execution_count": 9,
   "id": "understood-sewing",
   "metadata": {},
   "outputs": [],
   "source": [
    "aggregation = {i:\"sum\" for i in ['num']}\n",
    "others_basic_recipient_age_range = others_basic_recipient.groupby([\"sido\",\"sgg_nm\", \"age_range\"]).agg(aggregation).reset_index()"
   ]
  },
  {
   "cell_type": "code",
   "execution_count": 10,
   "id": "distinct-number",
   "metadata": {},
   "outputs": [],
   "source": [
    "# sgg_nm별 연령대 수\n",
    "others_basic_recipient_age_range.to_csv('34.4개시도_기초수급자현황_연령대.csv', index=False)"
   ]
  },
  {
   "cell_type": "code",
   "execution_count": null,
   "id": "steady-clause",
   "metadata": {},
   "outputs": [],
   "source": []
  },
  {
   "cell_type": "markdown",
   "id": "historical-alberta",
   "metadata": {},
   "source": [
    "### 35.4개시도_성연령별_총인구분포\n",
    "- X로 되어있는 연령들 전부 0으로 결측처리\n",
    "- 인구 수 수치형으로 변환 -> **저장**\n",
    "- 연령대분포, 생산연령분포, 통계값분포로 나눠서 -> **다시 저장**"
   ]
  },
  {
   "cell_type": "code",
   "execution_count": 11,
   "id": "arranged-special",
   "metadata": {},
   "outputs": [
    {
     "name": "stdout",
     "output_type": "stream",
     "text": [
      "<class 'pandas.core.frame.DataFrame'>\n",
      "RangeIndex: 13440 entries, 0 to 13439\n",
      "Data columns (total 12 columns):\n",
      " #   Column            Non-Null Count  Dtype  \n",
      "---  ------            --------------  -----  \n",
      " 0   sido              13440 non-null  object \n",
      " 1   sgg_nm            13440 non-null  object \n",
      " 2   age               13440 non-null  object \n",
      " 3   date              13440 non-null  int64  \n",
      " 4   popu_num          13440 non-null  float64\n",
      " 5   popu_male_num     13440 non-null  float64\n",
      " 6   popu_female_num   13440 non-null  float64\n",
      " 7   popu_sx_rate      13230 non-null  float64\n",
      " 8   local_num         13440 non-null  float64\n",
      " 9   local_male_num    13440 non-null  float64\n",
      " 10  local_female_num  13440 non-null  float64\n",
      " 11  local_sx_rate     13230 non-null  float64\n",
      "dtypes: float64(8), int64(1), object(3)\n",
      "memory usage: 1.2+ MB\n"
     ]
    }
   ],
   "source": [
    "nan_rows=[]\n",
    "rows=['popu_num', 'popu_male_num', 'popu_female_num', 'popu_sx_rate', 'local_num', 'local_male_num', 'local_female_num', 'local_sx_rate']\n",
    "for i in range(len(others_sex_age_pop)):\n",
    "    if \"수원시\" in others_sex_age_pop.loc[i, 'sgg_nm'] or \"창원시\" in others_sex_age_pop.loc[i, 'sgg_nm']:\n",
    "        others_sex_age_pop.loc[i, 'sgg_nm']=others_sex_age_pop.loc[i, 'sgg_nm'][3:]\n",
    "    if others_sex_age_pop.loc[i,'popu_num']==\"X\":\n",
    "        others_sex_age_pop.loc[i,'popu_num']=0\n",
    "        nan_rows.append(i)\n",
    "    if  others_sex_age_pop.loc[i,'popu_male_num']==\"X\":\n",
    "        others_sex_age_pop.loc[i,'popu_male_num']=0\n",
    "        nan_rows.append(i)\n",
    "    if  others_sex_age_pop.loc[i,'local_male_num']==\"X\":\n",
    "        others_sex_age_pop.loc[i,'local_male_num']=0\n",
    "        nan_rows.append(i)\n",
    "    if  others_sex_age_pop.loc[i,'popu_female_num']==\"X\":\n",
    "        others_sex_age_pop.loc[i,'popu_female_num']=0\n",
    "        nan_rows.append(i)\n",
    "    if  others_sex_age_pop.loc[i,'local_female_num']==\"X\":\n",
    "        others_sex_age_pop.loc[i,'local_female_num']=0\n",
    "        nan_rows.append(i)\n",
    "    if  others_sex_age_pop.loc[i,'local_num']==\"X\":\n",
    "        others_sex_age_pop.loc[i,'local_num']=0\n",
    "        nan_rows.append(i)\n",
    "        \n",
    "# 그냥 빈거\n",
    "others_sex_age_pop.loc[12921, ['popu_sx_rate', 'local_sx_rate']]=0\n",
    "# 수치형으로 교환\n",
    "others_sex_age_pop[['popu_num', 'popu_male_num', 'popu_female_num', 'local_num', 'local_male_num', 'local_female_num']]=others_sex_age_pop[['popu_num', 'popu_male_num', 'popu_female_num', 'local_num', 'local_male_num', 'local_female_num']].apply(pd.to_numeric)\n",
    "others_sex_age_pop.info()"
   ]
  },
  {
   "cell_type": "code",
   "execution_count": 12,
   "id": "painted-parking",
   "metadata": {},
   "outputs": [],
   "source": [
    "others_sex_age_pop.to_csv('35.4개시도_성연령별_총인구분포.csv', index=False)"
   ]
  },
  {
   "cell_type": "code",
   "execution_count": 13,
   "id": "convertible-riverside",
   "metadata": {},
   "outputs": [],
   "source": [
    "# 종류별 분할\n",
    "연령대분포=['0~4세', '5~9세', '10~14세', '15~19세', '20~24세', '25~29세', '30~34세', '35~39세', '40~44세', '45~49세', '50~54세', '55~59세', '60~64세', '65~69세', '70~74세', '75~79세', '80~84세', '85~89세', '90~94세', '95~99세', '100세이상', '합계']\n",
    "생산연령분포=['15세미만', '합계', '15~64세', '65세이상']\n",
    "통계값분포=['평균연령', '중위연령', '합계']\n",
    "\n",
    "# 틀 세팅\n",
    "columns=others_sex_age_pop.columns\n",
    "df_len=len(others_sex_age_pop)\n",
    "연령대분포_df=others_sex_age_pop.copy()\n",
    "생산연령분포_df=others_sex_age_pop.copy()\n",
    "통계값분포_df=others_sex_age_pop.copy()"
   ]
  },
  {
   "cell_type": "code",
   "execution_count": 14,
   "id": "personalized-interface",
   "metadata": {},
   "outputs": [],
   "source": [
    "for i in range(len(others_sex_age_pop)):\n",
    "    if others_sex_age_pop.loc[i, 'age'] not in 연령대분포:\n",
    "        연령대분포_df.drop(i, inplace=True)\n",
    "    if others_sex_age_pop.loc[i, 'age'] not in 생산연령분포:\n",
    "        생산연령분포_df.drop(i, inplace=True)\n",
    "    if others_sex_age_pop.loc[i, 'age'] not in 통계값분포:\n",
    "        통계값분포_df.drop(i, inplace=True)  "
   ]
  },
  {
   "cell_type": "code",
   "execution_count": 15,
   "id": "corrected-pixel",
   "metadata": {},
   "outputs": [],
   "source": [
    "# 통계값에는 비율이 필요 없어서 nan 값(drop)\n",
    "통계값분포_df.drop(['popu_sx_rate', 'local_sx_rate'], axis=1, inplace=True)"
   ]
  },
  {
   "cell_type": "code",
   "execution_count": 16,
   "id": "unique-treasure",
   "metadata": {},
   "outputs": [],
   "source": [
    "연령대분포_df.to_csv('35.4개시도_성연령별_총인구분포_연령대.csv', index=False)\n",
    "생산연령분포_df.to_csv('35.4개시도_성연령별_총인구분포_생산연령.csv', index=False)\n",
    "통계값분포_df.to_csv('35.4개시도_성연령별_총인구분포_통계값.csv', index=False)"
   ]
  },
  {
   "cell_type": "code",
   "execution_count": null,
   "id": "ancient-acting",
   "metadata": {},
   "outputs": [],
   "source": []
  },
  {
   "cell_type": "markdown",
   "id": "perfect-butterfly",
   "metadata": {},
   "source": [
    "### 36.4개시도_인구데이터(외국인)\n",
    "- 칼럼명 통일, 시군구 제대로 처리"
   ]
  },
  {
   "cell_type": "code",
   "execution_count": 17,
   "id": "mounted-bibliography",
   "metadata": {},
   "outputs": [],
   "source": [
    "others_foreigner_pop.rename(columns={\"sgg\":\"sgg_nm\"}, inplace=True) # 칼럼명 통일\n",
    "others_foreigner_pop[\"sgg_nm\"]=others_foreigner_pop[\"sgg_nm\"].apply(lambda x : x.split(\" \")[-1]) # 수원시 팔달구 -> 팔달구"
   ]
  },
  {
   "cell_type": "code",
   "execution_count": 18,
   "id": "complex-disability",
   "metadata": {},
   "outputs": [],
   "source": [
    "others_foreigner_pop.to_csv('36.4개시도_인구데이터(외국인).csv', index=False)"
   ]
  },
  {
   "cell_type": "code",
   "execution_count": null,
   "id": "single-differential",
   "metadata": {},
   "outputs": [],
   "source": []
  },
  {
   "cell_type": "markdown",
   "id": "frequent-nursing",
   "metadata": {},
   "source": [
    "### 37.4개시도_자살율\n",
    "- 특이사항 x"
   ]
  },
  {
   "cell_type": "markdown",
   "id": "chinese-rotation",
   "metadata": {},
   "source": [
    "### 38.4개시도_화재발생통계\n",
    "- 시군구 제대로 처리"
   ]
  },
  {
   "cell_type": "code",
   "execution_count": 19,
   "id": "equipped-morris",
   "metadata": {},
   "outputs": [],
   "source": [
    "others_fire[\"sgg_nm\"]=others_fire[\"sgg_nm\"].apply(lambda x : x.split(\" \")[-1]) # 수원시 팔달구 -> 팔달구"
   ]
  },
  {
   "cell_type": "code",
   "execution_count": 20,
   "id": "ancient-cornell",
   "metadata": {},
   "outputs": [],
   "source": [
    "others_fire.to_csv('38.4개시도_화재발생통계.csv', index=False)"
   ]
  },
  {
   "cell_type": "code",
   "execution_count": null,
   "id": "industrial-party",
   "metadata": {},
   "outputs": [],
   "source": []
  },
  {
   "cell_type": "markdown",
   "id": "dietary-camping",
   "metadata": {},
   "source": [
    "### 27. 4개시도_공원현황\n",
    "- 특별사항 x"
   ]
  },
  {
   "cell_type": "markdown",
   "id": "norman-manhattan",
   "metadata": {},
   "source": [
    "### 39.4개시도_경찰관서현황\n",
    "- 특별사항 x"
   ]
  },
  {
   "cell_type": "markdown",
   "id": "adaptive-given",
   "metadata": {},
   "source": [
    "### 40.4개시도_어린이놀이시설현황\n",
    "- 설치일자로부터 현재까지 시간 칼럼(건설이후(일)) 추가"
   ]
  },
  {
   "cell_type": "code",
   "execution_count": 29,
   "id": "controlled-ordinary",
   "metadata": {},
   "outputs": [],
   "source": [
    "now  = datetime.now()\n",
    "others_playground['건설이후(일)']=0\n",
    "for i in range(len(others_playground)):    \n",
    "    try:\n",
    "        date=pd.to_datetime(others_playground.loc[i,'fac_ins_date'])\n",
    "        date_diff = now - date\n",
    "        others_playground.loc[i,'건설이후(일)']=date_diff.days\n",
    "    except:\n",
    "        others_playground.drop([i], inplace=True)\n",
    "        print(i, end=\" \")"
   ]
  },
  {
   "cell_type": "code",
   "execution_count": 30,
   "id": "pretty-bumper",
   "metadata": {},
   "outputs": [],
   "source": [
    "others_playground.to_csv('40.4개시도_어린이놀이시설현황.csv', index=False)"
   ]
  },
  {
   "cell_type": "code",
   "execution_count": null,
   "id": "sitting-coach",
   "metadata": {},
   "outputs": [],
   "source": []
  },
  {
   "cell_type": "markdown",
   "id": "ordered-saturday",
   "metadata": {},
   "source": [
    "### 41.4개시도_토지이용계획도\n",
    "- 특별사항 x"
   ]
  },
  {
   "cell_type": "markdown",
   "id": "breeding-undergraduate",
   "metadata": {},
   "source": [
    "### 42.4개시도_편의점현황\n",
    "- 칼럼명 통일, 시도 제대로\n",
    "- 동일값, 코드값, 그 외 드랍\n",
    "- 지점명(STORE_NM)에 결측치가 많고, 상호명에 잘못 표기된 경우가 많아 상호명으로 합침\n",
    "- 상호명에서 편의점 업체 추출하여 칼럼 추가(COMPANY) - 전국 5대 편의점(u, gs25, 세븐일레븐, 이마트, 미니스톱) -> **저장**\n",
    "- 인구 수 수치형으로 변환 -> **다시 저장**"
   ]
  },
  {
   "cell_type": "code",
   "execution_count": 21,
   "id": "genetic-intention",
   "metadata": {},
   "outputs": [],
   "source": [
    "others_convenience.rename(columns={\"SGG_NM\":\"sgg_nm\"}, inplace=True)\n",
    "others_convenience[\"sgg_nm\"]=others_convenience[\"sgg_nm\"].apply(lambda x : x.split(\" \")[-1])"
   ]
  },
  {
   "cell_type": "code",
   "execution_count": 22,
   "id": "inside-semiconductor",
   "metadata": {},
   "outputs": [],
   "source": [
    "# 동일값(업종)\n",
    "others_convenience.drop(['COM_LC_CD', 'COM_LC_NM','COM_MC_CD', 'COM_MC_NM', 'COM_SC_CD', 'COM_SC_NM'], axis=1, inplace=True)\n",
    "# 코드\n",
    "others_convenience.drop(['KSIC_CD', 'SIDO_CD', 'SGG_CD', 'ADB_EMD_CD', 'EMD_CD', 'JIBUN_CD', 'LAND_GBN_CD', 'ROAD_CD'], axis=1, inplace=True)\n",
    "# 그 외 잡\n",
    "others_convenience.drop(['BLDG_BON', 'BLDG_BU', 'BLDG_NM', 'OLD_ZIP_CODE', 'ZIP_CODE', 'DONG', 'FLOOR', 'HO'], axis=1, inplace=True)\n",
    "# 딱히 필요 없을 것 같은 지번 주소\n",
    "others_convenience.drop(['JIBUN_BON', 'JIBUN_BU'], axis=1, inplace=True)"
   ]
  },
  {
   "cell_type": "code",
   "execution_count": 23,
   "id": "nearby-blocking",
   "metadata": {},
   "outputs": [],
   "source": [
    "# 지점명+=상호명, 편의점 업체 추출\n",
    "others_convenience['COMPANY']=\"기타\"\n",
    "for i in range(len(others_convenience)):\n",
    "    if others_convenience.loc[i, 'STORE_NM']!=None:\n",
    "        others_convenience.loc[i, 'BUSINESS_NM']+=' '+others_convenience.loc[i, 'STORE_NM']\n",
    "    if 'CU' in others_convenience.loc[i, 'BUSINESS_NM']:\n",
    "        others_convenience.loc[i,'COMPANY']='CU'\n",
    "    if 'GS25' in others_convenience.loc[i, 'BUSINESS_NM']:\n",
    "        others_convenience.loc[i,'COMPANY']='GS25'\n",
    "    if '세븐일레븐' in others_convenience.loc[i, 'BUSINESS_NM']:\n",
    "        others_convenience.loc[i,'COMPANY']='세븐일레븐'\n",
    "    if '이마트' in others_convenience.loc[i, 'BUSINESS_NM'] or '이마트24' in others_convenience.loc[i, 'BUSINESS_NM']:\n",
    "        others_convenience.loc[i,'COMPANY']='이마트'\n",
    "    if '미니스톱' in others_convenience.loc[i, 'BUSINESS_NM']:\n",
    "        others_convenience.loc[i,'COMPANY']='미니스톱'\n",
    "others_convenience.drop(['STORE_NM'], axis=1, inplace=True)"
   ]
  },
  {
   "cell_type": "code",
   "execution_count": 24,
   "id": "sonic-consortium",
   "metadata": {},
   "outputs": [],
   "source": [
    "others_convenience.to_file('42.4개시도_편의점현황.geojson', driver='GeoJSON', index=False)"
   ]
  },
  {
   "cell_type": "code",
   "execution_count": 25,
   "id": "ceramic-emergency",
   "metadata": {},
   "outputs": [],
   "source": [
    "# sgg_nm별 편의점 업체별 개수\n",
    "aggregation = {i:\"count\" for i in ['STORE_ID']}\n",
    "\n",
    "others_convenience_company = others_convenience.groupby([\"SIDO_NM\",\"sgg_nm\", 'COMPANY']).agg(aggregation).reset_index()\n",
    "others_convenience_company.rename(columns={'STORE_ID':'count'}, inplace=True)"
   ]
  },
  {
   "cell_type": "code",
   "execution_count": 26,
   "id": "settled-folder",
   "metadata": {},
   "outputs": [],
   "source": [
    "others_convenience_company.to_csv(\"42.4개시도_편의점현황_업체별수.csv\", index=False)"
   ]
  },
  {
   "cell_type": "code",
   "execution_count": null,
   "id": "reported-referral",
   "metadata": {},
   "outputs": [],
   "source": []
  },
  {
   "cell_type": "code",
   "execution_count": null,
   "id": "spatial-integral",
   "metadata": {},
   "outputs": [],
   "source": []
  },
  {
   "cell_type": "code",
   "execution_count": null,
   "id": "postal-courage",
   "metadata": {},
   "outputs": [],
   "source": []
  }
 ],
 "metadata": {
  "kernelspec": {
   "display_name": "Python 3",
   "language": "python",
   "name": "python3"
  },
  "language_info": {
   "codemirror_mode": {
    "name": "ipython",
    "version": 3
   },
   "file_extension": ".py",
   "mimetype": "text/x-python",
   "name": "python",
   "nbconvert_exporter": "python",
   "pygments_lexer": "ipython3",
   "version": "3.6.9"
  }
 },
 "nbformat": 4,
 "nbformat_minor": 5
}
