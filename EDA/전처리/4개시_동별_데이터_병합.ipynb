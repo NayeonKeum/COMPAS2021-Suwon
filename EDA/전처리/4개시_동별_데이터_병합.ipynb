{
 "cells": [
  {
   "cell_type": "code",
   "execution_count": 1,
   "id": "victorian-boost",
   "metadata": {},
   "outputs": [],
   "source": [
    "from geoband.API import *\n",
    "import pandas as pd\n",
    "import numpy as np\n",
    "import warnings\n",
    "warnings.filterwarnings(\"ignore\")\n",
    "import geopandas as gpd\n",
    "import json\n",
    "from pandas import json_normalize\n",
    "import folium\n",
    "from folium.plugins import MarkerCluster\n",
    "import matplotlib.pyplot as plt\n",
    "import folium\n",
    "from folium import Choropleth, Circle, Marker\n",
    "from folium.plugins import HeatMap, MarkerCluster\n",
    "from folium import Choropleth\n",
    "import matplotlib\n",
    "from datetime import datetime \n",
    "# GetCompasData로 주피터 노트북 경로에 파일 저장\n",
    "from shapely.geometry import Point, Polygon, LineString\n",
    "from fiona.crs import from_string\n",
    "matplotlib.rcParams['font.family']=\"Malgun Gothic\"\n",
    "import pydeck as pdk"
   ]
  },
  {
   "cell_type": "markdown",
   "id": "certain-continent",
   "metadata": {},
   "source": [
    "### 데이터 불러오기"
   ]
  },
  {
   "cell_type": "code",
   "execution_count": 2,
   "id": "italian-budapest",
   "metadata": {},
   "outputs": [],
   "source": [
    "police_box_4sido=pd.read_csv('치안센터_4개시.csv')\n",
    "others_one_person = pd.read_csv('33.4개시도_1인가구수.csv')\n",
    "others_basic_recipient = pd.read_csv('34.4개시도_기초수급자현황.csv')\n",
    "others_sex_age_pop = pd.read_csv('35.4개시도_성연령별_총인구분포.csv')\n",
    "others_foreigner_pop = pd.read_csv('36.4개시도_인구데이터(외국인).csv')\n",
    "others_suicide = pd.read_csv('37.4개시도_자살율.csv')\n",
    "others_fire = pd.read_csv('38.4개시도_화재발생통계.csv')"
   ]
  },
  {
   "cell_type": "markdown",
   "id": "adult-netscape",
   "metadata": {},
   "source": [
    "### 행정동 경계 geometry 데이터"
   ]
  },
  {
   "cell_type": "code",
   "execution_count": 3,
   "id": "closing-prototype",
   "metadata": {},
   "outputs": [],
   "source": [
    "행정동경계 = gpd.read_file('TL_SCCO_SIG.shp',encoding = 'euc-kr')"
   ]
  },
  {
   "cell_type": "code",
   "execution_count": 4,
   "id": "sustained-hamilton",
   "metadata": {},
   "outputs": [],
   "source": [
    "행정동_서울 = 행정동경계.iloc[140:165]\n",
    "행정동_3개시 = 행정동경계[(행정동경계['SIG_KOR_NM'].str.contains('진주'))|행정동경계['SIG_KOR_NM'].str.contains('창원')|행정동경계['SIG_KOR_NM'].str.contains('수원')]"
   ]
  },
  {
   "cell_type": "code",
   "execution_count": 5,
   "id": "rural-champion",
   "metadata": {},
   "outputs": [],
   "source": [
    "행정동_4개시 =pd.concat([행정동_서울,행정동_3개시]).reset_index(drop = True)"
   ]
  },
  {
   "cell_type": "code",
   "execution_count": 6,
   "id": "recorded-cable",
   "metadata": {},
   "outputs": [],
   "source": [
    "# 지역 이름 매핑\n",
    "area_list = ['서울']*25 + ['수원']*4 + ['창원']*5 + ['진주']\n",
    "행정동_4개시['지역'] = area_list\n",
    "\n",
    "# 구 이름 통일\n",
    "for i in range(25,34):\n",
    "    행정동_4개시['SIG_KOR_NM'] = 행정동_4개시['SIG_KOR_NM'].apply(lambda x: x.split(\" \")[-1])\n",
    "\n",
    "행정동_4개시=행정동_4개시[['지역','SIG_KOR_NM','geometry']].rename(columns = {'SIG_KOR_NM':'구'})"
   ]
  },
  {
   "cell_type": "markdown",
   "id": "dress-nightmare",
   "metadata": {},
   "source": [
    "### 35.4개시도_성연령별_총인구분포 데이터 매핑\n",
    "- 청년 15~29\n",
    "- 중년 30~63\n",
    "- 고령 64~\n",
    "- 구별 성별에 따른 총인구"
   ]
  },
  {
   "cell_type": "code",
   "execution_count": 7,
   "id": "seasonal-offering",
   "metadata": {},
   "outputs": [],
   "source": [
    "# 구 이름 통일\n",
    "for i in range(len(others_sex_age_pop)):\n",
    "    if len(others_sex_age_pop.loc[i,'sgg_nm']) != 2 and len(others_sex_age_pop.loc[i,'sgg_nm']) != 3 and len(others_sex_age_pop.loc[i,'sgg_nm']) != 4:\n",
    "        others_sex_age_pop.loc[i,'sgg_nm'] = others_sex_age_pop.loc[i,'sgg_nm'][3:]"
   ]
  },
  {
   "cell_type": "code",
   "execution_count": 8,
   "id": "bigger-caribbean",
   "metadata": {},
   "outputs": [],
   "source": [
    "# 구별 인원수\n",
    "구별_인구수 = others_sex_age_pop.loc[others_sex_age_pop['age']=='합계']\n",
    "구별_인구수['popu_num']=구별_인구수['popu_num'].astype(int)\n",
    "구별_인구수 = 구별_인구수.groupby(['sgg_nm']).agg({'popu_num':'mean'}).reset_index().astype({'popu_num':'int'})"
   ]
  },
  {
   "cell_type": "code",
   "execution_count": 9,
   "id": "lesser-reminder",
   "metadata": {},
   "outputs": [],
   "source": [
    "# object 값 int로 변환\n",
    "others_sex_age_pop=others_sex_age_pop.replace({'X':0})\n",
    "# 평균연령이 소수가 있어 float 후 int로 변환\n",
    "others_sex_age_pop['popu_male_num']=others_sex_age_pop['popu_male_num'].astype(float)\n",
    "others_sex_age_pop['popu_female_num']=others_sex_age_pop['popu_female_num'].astype(float)\n",
    "others_sex_age_pop['popu_male_num']=others_sex_age_pop['popu_male_num'].astype(int)\n",
    "others_sex_age_pop['popu_female_num']=others_sex_age_pop['popu_female_num'].astype(int)"
   ]
  },
  {
   "cell_type": "code",
   "execution_count": 13,
   "id": "fossil-constitution",
   "metadata": {},
   "outputs": [],
   "source": [
    "청년_list = ['15~19세','20~24세','25~29세']\n",
    "중년_list = ['30~34세','35~39세','40~44세','45~49세','50~54세','55~59세','60세','61세','62세','63세']\n",
    "고령_list = ['64세','65세이상']\n",
    "청년_인구분포 = others_sex_age_pop.loc[others_sex_age_pop['age'].isin(청년_list)]\n",
    "중년_인구분포 = others_sex_age_pop.loc[others_sex_age_pop['age'].isin(중년_list)]\n",
    "고령_인구분포 = others_sex_age_pop.loc[others_sex_age_pop['age'].isin(고령_list)]\n",
    "#각 구의 년도별 평균 인구\n",
    "청년_인구분포_합계 = 청년_인구분포.groupby(['sgg_nm','date']).agg({'popu_male_num':'sum','popu_female_num':'sum'}).reset_index()\n",
    "중년_인구분포_합계 = 중년_인구분포.groupby(['sgg_nm','date']).agg({'popu_male_num':'sum','popu_female_num':'sum'}).reset_index()\n",
    "고령_인구분포_합계 = 고령_인구분포.groupby(['sgg_nm','date']).agg({'popu_male_num':'sum','popu_female_num':'sum'}).reset_index()\n",
    "# 각 구의 평균 인구\n",
    "청년_인구분포_평균 = 청년_인구분포_합계.groupby(['sgg_nm']).agg({'popu_male_num':'mean','popu_female_num':'mean'}).reset_index().astype({'popu_male_num':'int','popu_female_num':'int'})\n",
    "중년_인구분포_평균 = 중년_인구분포_합계.groupby(['sgg_nm']).agg({'popu_male_num':'mean','popu_female_num':'mean'}).reset_index().astype({'popu_male_num':'int','popu_female_num':'int'})\n",
    "고령_인구분포_평균 = 고령_인구분포_합계.groupby(['sgg_nm']).agg({'popu_male_num':'mean','popu_female_num':'mean'}).reset_index().astype({'popu_male_num':'int','popu_female_num':'int'})\n",
    "# 컬럼명 변경\n",
    "청년_인구분포_평균.rename(columns = {'sgg_nm':'구','popu_male_num':'청년_남성인구','popu_female_num':'청년_여성인구'},inplace = True)\n",
    "중년_인구분포_평균.rename(columns = {'sgg_nm':'구','popu_male_num':'중년_남성인구','popu_female_num':'중년_여성인구'},inplace = True)\n",
    "고령_인구분포_평균.rename(columns = {'sgg_nm':'구','popu_male_num':'고령_남성인구','popu_female_num':'고령_여성인구'},inplace = True)\n",
    "# 전체 인구분포 평균 계산\n",
    "전체_인구분포_평균 = pd.merge(청년_인구분포_평균,중년_인구분포_평균, on = '구')\n",
    "전체_인구분포_평균 = pd.merge(전체_인구분포_평균,고령_인구분포_평균, on = '구')"
   ]
  },
  {
   "cell_type": "code",
   "execution_count": 12,
   "id": "periodic-shore",
   "metadata": {},
   "outputs": [
    {
     "data": {
      "text/html": [
       "<div>\n",
       "<style scoped>\n",
       "    .dataframe tbody tr th:only-of-type {\n",
       "        vertical-align: middle;\n",
       "    }\n",
       "\n",
       "    .dataframe tbody tr th {\n",
       "        vertical-align: top;\n",
       "    }\n",
       "\n",
       "    .dataframe thead th {\n",
       "        text-align: right;\n",
       "    }\n",
       "</style>\n",
       "<table border=\"1\" class=\"dataframe\">\n",
       "  <thead>\n",
       "    <tr style=\"text-align: right;\">\n",
       "      <th></th>\n",
       "      <th>지역</th>\n",
       "      <th>구</th>\n",
       "      <th>geometry</th>\n",
       "    </tr>\n",
       "  </thead>\n",
       "  <tbody>\n",
       "    <tr>\n",
       "      <th>0</th>\n",
       "      <td>서울</td>\n",
       "      <td>종로구</td>\n",
       "      <td>POLYGON ((956615.453 1953567.199, 956621.579 1...</td>\n",
       "    </tr>\n",
       "    <tr>\n",
       "      <th>1</th>\n",
       "      <td>서울</td>\n",
       "      <td>중구</td>\n",
       "      <td>POLYGON ((957890.386 1952616.746, 957909.908 1...</td>\n",
       "    </tr>\n",
       "    <tr>\n",
       "      <th>2</th>\n",
       "      <td>서울</td>\n",
       "      <td>용산구</td>\n",
       "      <td>POLYGON ((953115.761 1950834.084, 953114.206 1...</td>\n",
       "    </tr>\n",
       "    <tr>\n",
       "      <th>3</th>\n",
       "      <td>서울</td>\n",
       "      <td>성동구</td>\n",
       "      <td>POLYGON ((959681.109 1952649.605, 959842.412 1...</td>\n",
       "    </tr>\n",
       "    <tr>\n",
       "      <th>4</th>\n",
       "      <td>서울</td>\n",
       "      <td>광진구</td>\n",
       "      <td>POLYGON ((964825.058 1952633.250, 964875.565 1...</td>\n",
       "    </tr>\n",
       "    <tr>\n",
       "      <th>5</th>\n",
       "      <td>서울</td>\n",
       "      <td>동대문구</td>\n",
       "      <td>POLYGON ((962141.919 1956519.461, 962149.853 1...</td>\n",
       "    </tr>\n",
       "    <tr>\n",
       "      <th>6</th>\n",
       "      <td>서울</td>\n",
       "      <td>중랑구</td>\n",
       "      <td>POLYGON ((965698.531 1957987.355, 965772.290 1...</td>\n",
       "    </tr>\n",
       "    <tr>\n",
       "      <th>7</th>\n",
       "      <td>서울</td>\n",
       "      <td>성북구</td>\n",
       "      <td>POLYGON ((956787.318 1953542.506, 956761.258 1...</td>\n",
       "    </tr>\n",
       "    <tr>\n",
       "      <th>8</th>\n",
       "      <td>서울</td>\n",
       "      <td>강북구</td>\n",
       "      <td>POLYGON ((956316.789 1965175.345, 956401.551 1...</td>\n",
       "    </tr>\n",
       "    <tr>\n",
       "      <th>9</th>\n",
       "      <td>서울</td>\n",
       "      <td>도봉구</td>\n",
       "      <td>POLYGON ((957223.835 1961199.545, 957195.758 1...</td>\n",
       "    </tr>\n",
       "    <tr>\n",
       "      <th>10</th>\n",
       "      <td>서울</td>\n",
       "      <td>노원구</td>\n",
       "      <td>POLYGON ((965666.474 1959953.152, 965671.165 1...</td>\n",
       "    </tr>\n",
       "    <tr>\n",
       "      <th>11</th>\n",
       "      <td>서울</td>\n",
       "      <td>은평구</td>\n",
       "      <td>POLYGON ((951637.438 1961851.784, 951649.915 1...</td>\n",
       "    </tr>\n",
       "    <tr>\n",
       "      <th>12</th>\n",
       "      <td>서울</td>\n",
       "      <td>서대문구</td>\n",
       "      <td>POLYGON ((951688.107 1956065.481, 951687.602 1...</td>\n",
       "    </tr>\n",
       "    <tr>\n",
       "      <th>13</th>\n",
       "      <td>서울</td>\n",
       "      <td>마포구</td>\n",
       "      <td>POLYGON ((946043.982 1954091.886, 946130.912 1...</td>\n",
       "    </tr>\n",
       "    <tr>\n",
       "      <th>14</th>\n",
       "      <td>서울</td>\n",
       "      <td>양천구</td>\n",
       "      <td>POLYGON ((944706.568 1949917.649, 944717.625 1...</td>\n",
       "    </tr>\n",
       "    <tr>\n",
       "      <th>15</th>\n",
       "      <td>서울</td>\n",
       "      <td>강서구</td>\n",
       "      <td>POLYGON ((939006.015 1955916.461, 939036.124 1...</td>\n",
       "    </tr>\n",
       "    <tr>\n",
       "      <th>16</th>\n",
       "      <td>서울</td>\n",
       "      <td>구로구</td>\n",
       "      <td>POLYGON ((945165.294 1946679.190, 945362.702 1...</td>\n",
       "    </tr>\n",
       "    <tr>\n",
       "      <th>17</th>\n",
       "      <td>서울</td>\n",
       "      <td>금천구</td>\n",
       "      <td>POLYGON ((944705.924 1943086.537, 944706.472 1...</td>\n",
       "    </tr>\n",
       "    <tr>\n",
       "      <th>18</th>\n",
       "      <td>서울</td>\n",
       "      <td>영등포구</td>\n",
       "      <td>POLYGON ((945280.001 1950949.319, 945361.246 1...</td>\n",
       "    </tr>\n",
       "    <tr>\n",
       "      <th>19</th>\n",
       "      <td>서울</td>\n",
       "      <td>동작구</td>\n",
       "      <td>POLYGON ((951811.770 1946444.671, 951885.519 1...</td>\n",
       "    </tr>\n",
       "    <tr>\n",
       "      <th>20</th>\n",
       "      <td>서울</td>\n",
       "      <td>관악구</td>\n",
       "      <td>POLYGON ((949438.997 1944127.713, 949456.647 1...</td>\n",
       "    </tr>\n",
       "    <tr>\n",
       "      <th>21</th>\n",
       "      <td>서울</td>\n",
       "      <td>서초구</td>\n",
       "      <td>POLYGON ((956982.039 1947144.037, 956982.518 1...</td>\n",
       "    </tr>\n",
       "    <tr>\n",
       "      <th>22</th>\n",
       "      <td>서울</td>\n",
       "      <td>강남구</td>\n",
       "      <td>POLYGON ((959331.597 1948602.068, 959342.021 1...</td>\n",
       "    </tr>\n",
       "    <tr>\n",
       "      <th>23</th>\n",
       "      <td>서울</td>\n",
       "      <td>송파구</td>\n",
       "      <td>POLYGON ((965821.957 1949386.153, 965816.737 1...</td>\n",
       "    </tr>\n",
       "    <tr>\n",
       "      <th>24</th>\n",
       "      <td>서울</td>\n",
       "      <td>강동구</td>\n",
       "      <td>POLYGON ((971595.075 1952405.815, 971596.036 1...</td>\n",
       "    </tr>\n",
       "    <tr>\n",
       "      <th>25</th>\n",
       "      <td>수원</td>\n",
       "      <td>장안구</td>\n",
       "      <td>POLYGON ((957466.968 1928109.204, 957495.822 1...</td>\n",
       "    </tr>\n",
       "    <tr>\n",
       "      <th>26</th>\n",
       "      <td>수원</td>\n",
       "      <td>권선구</td>\n",
       "      <td>POLYGON ((958952.060 1915432.098, 958913.531 1...</td>\n",
       "    </tr>\n",
       "    <tr>\n",
       "      <th>27</th>\n",
       "      <td>수원</td>\n",
       "      <td>팔달구</td>\n",
       "      <td>POLYGON ((958858.331 1921730.191, 958913.122 1...</td>\n",
       "    </tr>\n",
       "    <tr>\n",
       "      <th>28</th>\n",
       "      <td>수원</td>\n",
       "      <td>영통구</td>\n",
       "      <td>POLYGON ((962303.378 1918638.005, 962306.340 1...</td>\n",
       "    </tr>\n",
       "    <tr>\n",
       "      <th>29</th>\n",
       "      <td>창원</td>\n",
       "      <td>의창구</td>\n",
       "      <td>MULTIPOLYGON (((1105461.720 1693051.603, 11054...</td>\n",
       "    </tr>\n",
       "    <tr>\n",
       "      <th>30</th>\n",
       "      <td>창원</td>\n",
       "      <td>성산구</td>\n",
       "      <td>POLYGON ((1106604.051 1695055.648, 1106792.201...</td>\n",
       "    </tr>\n",
       "    <tr>\n",
       "      <th>31</th>\n",
       "      <td>창원</td>\n",
       "      <td>마산합포구</td>\n",
       "      <td>MULTIPOLYGON (((1098039.455 1674687.322, 10980...</td>\n",
       "    </tr>\n",
       "    <tr>\n",
       "      <th>32</th>\n",
       "      <td>창원</td>\n",
       "      <td>마산회원구</td>\n",
       "      <td>POLYGON ((1096197.606 1698466.405, 1096230.623...</td>\n",
       "    </tr>\n",
       "    <tr>\n",
       "      <th>33</th>\n",
       "      <td>창원</td>\n",
       "      <td>진해구</td>\n",
       "      <td>MULTIPOLYGON (((1106623.311 1674114.501, 11066...</td>\n",
       "    </tr>\n",
       "    <tr>\n",
       "      <th>34</th>\n",
       "      <td>진주</td>\n",
       "      <td>진주시</td>\n",
       "      <td>POLYGON ((1035294.781 1691525.417, 1035330.100...</td>\n",
       "    </tr>\n",
       "  </tbody>\n",
       "</table>\n",
       "</div>"
      ],
      "text/plain": [
       "    지역      구                                           geometry\n",
       "0   서울    종로구  POLYGON ((956615.453 1953567.199, 956621.579 1...\n",
       "1   서울     중구  POLYGON ((957890.386 1952616.746, 957909.908 1...\n",
       "2   서울    용산구  POLYGON ((953115.761 1950834.084, 953114.206 1...\n",
       "3   서울    성동구  POLYGON ((959681.109 1952649.605, 959842.412 1...\n",
       "4   서울    광진구  POLYGON ((964825.058 1952633.250, 964875.565 1...\n",
       "5   서울   동대문구  POLYGON ((962141.919 1956519.461, 962149.853 1...\n",
       "6   서울    중랑구  POLYGON ((965698.531 1957987.355, 965772.290 1...\n",
       "7   서울    성북구  POLYGON ((956787.318 1953542.506, 956761.258 1...\n",
       "8   서울    강북구  POLYGON ((956316.789 1965175.345, 956401.551 1...\n",
       "9   서울    도봉구  POLYGON ((957223.835 1961199.545, 957195.758 1...\n",
       "10  서울    노원구  POLYGON ((965666.474 1959953.152, 965671.165 1...\n",
       "11  서울    은평구  POLYGON ((951637.438 1961851.784, 951649.915 1...\n",
       "12  서울   서대문구  POLYGON ((951688.107 1956065.481, 951687.602 1...\n",
       "13  서울    마포구  POLYGON ((946043.982 1954091.886, 946130.912 1...\n",
       "14  서울    양천구  POLYGON ((944706.568 1949917.649, 944717.625 1...\n",
       "15  서울    강서구  POLYGON ((939006.015 1955916.461, 939036.124 1...\n",
       "16  서울    구로구  POLYGON ((945165.294 1946679.190, 945362.702 1...\n",
       "17  서울    금천구  POLYGON ((944705.924 1943086.537, 944706.472 1...\n",
       "18  서울   영등포구  POLYGON ((945280.001 1950949.319, 945361.246 1...\n",
       "19  서울    동작구  POLYGON ((951811.770 1946444.671, 951885.519 1...\n",
       "20  서울    관악구  POLYGON ((949438.997 1944127.713, 949456.647 1...\n",
       "21  서울    서초구  POLYGON ((956982.039 1947144.037, 956982.518 1...\n",
       "22  서울    강남구  POLYGON ((959331.597 1948602.068, 959342.021 1...\n",
       "23  서울    송파구  POLYGON ((965821.957 1949386.153, 965816.737 1...\n",
       "24  서울    강동구  POLYGON ((971595.075 1952405.815, 971596.036 1...\n",
       "25  수원    장안구  POLYGON ((957466.968 1928109.204, 957495.822 1...\n",
       "26  수원    권선구  POLYGON ((958952.060 1915432.098, 958913.531 1...\n",
       "27  수원    팔달구  POLYGON ((958858.331 1921730.191, 958913.122 1...\n",
       "28  수원    영통구  POLYGON ((962303.378 1918638.005, 962306.340 1...\n",
       "29  창원    의창구  MULTIPOLYGON (((1105461.720 1693051.603, 11054...\n",
       "30  창원    성산구  POLYGON ((1106604.051 1695055.648, 1106792.201...\n",
       "31  창원  마산합포구  MULTIPOLYGON (((1098039.455 1674687.322, 10980...\n",
       "32  창원  마산회원구  POLYGON ((1096197.606 1698466.405, 1096230.623...\n",
       "33  창원    진해구  MULTIPOLYGON (((1106623.311 1674114.501, 11066...\n",
       "34  진주    진주시  POLYGON ((1035294.781 1691525.417, 1035330.100..."
      ]
     },
     "execution_count": 12,
     "metadata": {},
     "output_type": "execute_result"
    }
   ],
   "source": [
    "행정동_4개시"
   ]
  },
  {
   "cell_type": "code",
   "execution_count": 15,
   "id": "satellite-tucson",
   "metadata": {},
   "outputs": [],
   "source": [
    "for i in range(len(행정동_4개시)):\n",
    "    for j in range(len(구별_인구수)):\n",
    "        if 행정동_4개시.loc[i,'구'] == 구별_인구수.loc[j,'sgg_nm']:\n",
    "                행정동_4개시.loc[i,'청년_남성인구/인구'] = round((행정동_4개시.loc[i,'청년_남성인구']/구별_인구수.loc[j,'popu_num'])*100)\n",
    "                행정동_4개시.loc[i,'청년_여성인구/인구'] = round((행정동_4개시.loc[i,'청년_여성인구']/구별_인구수.loc[j,'popu_num'])*100)\n",
    "                행정동_4개시.loc[i,'중년_남성인구/인구'] = round((행정동_4개시.loc[i,'중년_남성인구']/구별_인구수.loc[j,'popu_num'])*100)\n",
    "                행정동_4개시.loc[i,'중년_여성인구/인구'] = round((행정동_4개시.loc[i,'중년_여성인구']/구별_인구수.loc[j,'popu_num'])*100)      \n",
    "                행정동_4개시.loc[i,'고령_남성인구/인구'] = round((행정동_4개시.loc[i,'고령_남성인구']/구별_인구수.loc[j,'popu_num'])*100)\n",
    "                행정동_4개시.loc[i,'고령_여성인구/인구'] = round((행정동_4개시.loc[i,'고령_여성인구']/구별_인구수.loc[j,'popu_num'])*100)"
   ]
  },
  {
   "cell_type": "code",
   "execution_count": 14,
   "id": "dense-broadcast",
   "metadata": {},
   "outputs": [],
   "source": [
    "행정동_4개시 = pd.merge(행정동_4개시,전체_인구분포_평균, on = '구')"
   ]
  },
  {
   "cell_type": "markdown",
   "id": "civilian-america",
   "metadata": {},
   "source": [
    "### 4개시도_1인가구수 데이터 매핑\n",
    "- 성별, 년도별 단독주택/공동주택 관련 feature"
   ]
  },
  {
   "cell_type": "code",
   "execution_count": null,
   "id": "hybrid-necessity",
   "metadata": {},
   "outputs": [],
   "source": [
    "others_one_person_1 = others_one_person.copy()"
   ]
  },
  {
   "cell_type": "code",
   "execution_count": null,
   "id": "excited-scout",
   "metadata": {},
   "outputs": [],
   "source": [
    "# 구 이름 통일\n",
    "for i in range(len(others_one_person_1)):\n",
    "    if len(others_one_person_1.loc[i,'sgg_nm']) != 2 and len(others_one_person_1.loc[i,'sgg_nm']) != 3 and len(others_one_person_1.loc[i,'sgg_nm']) != 4:\n",
    "        others_one_person_1.loc[i,'sgg_nm'] = others_one_person_1.loc[i,'sgg_nm'][3:]"
   ]
  },
  {
   "cell_type": "code",
   "execution_count": null,
   "id": "universal-inside",
   "metadata": {},
   "outputs": [],
   "source": [
    "others_one_person_1=others_one_person_1.replace({'X':0})\n",
    "others_one_person_1['house_in_commercial'] = others_one_person_1['house_in_commercial'].astype(int)\n",
    "others_one_person_1['1인가구_공동주택'] = others_one_person_1['single_person_hh'] - others_one_person_1['detached_house'] - others_one_person_1['house_in_commercial']\n",
    "others_one_person_1.rename(columns= {'sgg_nm':'구','date':'년도','sx':'성별','detached_house':'1인가구_단독주택'},inplace = True)\n",
    "others_one_person_1 = others_one_person_1[['구','성별','년도','1인가구_단독주택','1인가구_공동주택']]"
   ]
  },
  {
   "cell_type": "code",
   "execution_count": null,
   "id": "sonic-surge",
   "metadata": {},
   "outputs": [],
   "source": [
    "others_one_person_1_groupby = others_one_person_1.groupby(['구','성별','년도']).agg({'1인가구_단독주택':'sum','1인가구_공동주택':'sum'}).reset_index()\n",
    "others_one_person_1_groupby = others_one_person_1_groupby.groupby(['구','성별']).agg({'1인가구_단독주택':'mean','1인가구_공동주택':'mean'}).reset_index().astype({'1인가구_단독주택':'int','1인가구_공동주택':'int'})"
   ]
  },
  {
   "cell_type": "code",
   "execution_count": null,
   "id": "operational-underwear",
   "metadata": {},
   "outputs": [],
   "source": [
    "for i in range(len(others_one_person_1_groupby)):\n",
    "    for j in range(len(구별_인구수)):\n",
    "        if others_one_person_1_groupby.loc[i,'구'] == 구별_인구수.loc[j,'sgg_nm']:\n",
    "                others_one_person_1_groupby.loc[i,'1인가구_공동주택/인구'] = round((others_one_person_1_groupby.loc[i,'1인가구_공동주택']/구별_인구수.loc[j,'popu_num'])*100)\n",
    "                others_one_person_1_groupby.loc[i,'1인가구_단독주택/인구'] = round((others_one_person_1_groupby.loc[i,'1인가구_단독주택']/구별_인구수.loc[j,'popu_num'])*100)\n",
    "                       "
   ]
  },
  {
   "cell_type": "code",
   "execution_count": null,
   "id": "given-providence",
   "metadata": {},
   "outputs": [],
   "source": [
    "# 1인가구/인구 count\n",
    "for i in range(len(others_one_person_1_groupby)):\n",
    "    for j in range(len(행정동_4개시)):\n",
    "        if others_one_person_1_groupby.loc[i,'구'] == 행정동_4개시.loc[j,'구']:\n",
    "            if others_one_person_1_groupby.loc[i,'성별'] =='남자':\n",
    "                행정동_4개시.loc[j,'남자_공동주택/인구'] = others_one_person_1_groupby.loc[i,'1인가구_공동주택/인구']\n",
    "                행정동_4개시.loc[j,'남자_단독주택/인구'] = others_one_person_1_groupby.loc[i,'1인가구_단독주택/인구']\n",
    "            elif others_one_person_1_groupby.loc[i,'성별'] =='여자':\n",
    "                행정동_4개시.loc[j,'여자_공동주택/인구'] = others_one_person_1_groupby.loc[i,'1인가구_공동주택/인구']\n",
    "                행정동_4개시.loc[j,'여자_단독주택/인구'] = others_one_person_1_groupby.loc[i,'1인가구_단독주택/인구']"
   ]
  },
  {
   "cell_type": "markdown",
   "id": "going-moment",
   "metadata": {},
   "source": [
    "### 4개시도_기초수급자현황 데이터 매핑\n",
    "- 구와 년도별 기초수급자의 평균 기초수급자의 수를 feature\n",
    "- 창원시와 진주시, 수원시는 구별로 되어 있지 않아 따로 DF 만들었음"
   ]
  },
  {
   "cell_type": "code",
   "execution_count": null,
   "id": "military-brick",
   "metadata": {},
   "outputs": [],
   "source": [
    "others_basic_recipient = others_basic_recipient[['date','sido','sgg_nm','num']]\n",
    "for i in range(len(others_basic_recipient)):\n",
    "    if str(others_basic_recipient['date'][i])[0:4] == '2017': others_basic_recipient['date'][i] = 2017\n",
    "    elif  str(others_basic_recipient['date'][i])[0:4] == '2018': others_basic_recipient['date'][i] = 2018\n",
    "    elif  str(others_basic_recipient['date'][i])[0:4] == '2019': others_basic_recipient['date'][i] = 2019\n",
    "    elif  str(others_basic_recipient['date'][i])[0:4] == '2020': others_basic_recipient['date'][i] = 2020\n",
    "    elif  str(others_basic_recipient['date'][i])[0:4] == '2021': others_basic_recipient['date'][i] = 2021\n"
   ]
  },
  {
   "cell_type": "code",
   "execution_count": null,
   "id": "actual-chambers",
   "metadata": {},
   "outputs": [],
   "source": [
    "기초수급자_4개시_평균 = others_basic_recipient.groupby(['sgg_nm','date']).agg({'num':\"mean\"}).reset_index().rename(columns = {'num':'평균_기초수급자','date':'년도','sgg_nm':'시군구'})\n",
    "기초수급자_4개시_평균 = 기초수급자_4개시_평균.groupby(['시군구']).agg({'평균_기초수급자':'mean'}).reset_index()\n",
    "기초수급자_4개시_평균['평균_기초수급자']=기초수급자_4개시_평균['평균_기초수급자'].astype(int)\n"
   ]
  },
  {
   "cell_type": "markdown",
   "id": "magnetic-scholarship",
   "metadata": {},
   "source": [
    "### 38.4개시도_화재발생통계 데이터 매핑\n",
    "- 구별로 연도당 화재발생건수 feature"
   ]
  },
  {
   "cell_type": "code",
   "execution_count": null,
   "id": "baking-actor",
   "metadata": {},
   "outputs": [],
   "source": [
    "# 구 이름 통일\n",
    "for i in range(len(others_fire)):\n",
    "    if len(others_fire.loc[i,'sgg_nm']) != 2 and len(others_fire.loc[i,'sgg_nm']) != 3 and len(others_fire.loc[i,'sgg_nm']) != 4:\n",
    "        others_fire.loc[i,'sgg_nm'] = others_fire.loc[i,'sgg_nm'][4:]"
   ]
  },
  {
   "cell_type": "code",
   "execution_count": null,
   "id": "different-penny",
   "metadata": {},
   "outputs": [],
   "source": [
    "others_fire_groupby = others_fire.groupby(['sgg_nm']).agg({'acc_num':'sum'}).reset_index()\n",
    "#각년도 화재 발생 건수 평균\n",
    "others_fire_groupby['acc_num'] = round(others_fire_groupby['acc_num']/3)"
   ]
  },
  {
   "cell_type": "code",
   "execution_count": null,
   "id": "antique-alabama",
   "metadata": {},
   "outputs": [],
   "source": [
    "for i in range(len(others_fire_groupby)):\n",
    "    for j in range(len(행정동_4개시)):\n",
    "        if others_fire_groupby.loc[i,'sgg_nm'] == 행정동_4개시.loc[j,'구']:\n",
    "            행정동_4개시.loc[j,'평균_화재'] = others_fire_groupby.loc[i,'acc_num']"
   ]
  },
  {
   "cell_type": "markdown",
   "id": "suburban-treasurer",
   "metadata": {},
   "source": [
    "### 36.4개시도_인구데이터(외국인)\n",
    "- 구별,년도별 외국인 인구 수 feature"
   ]
  },
  {
   "cell_type": "code",
   "execution_count": null,
   "id": "medium-campbell",
   "metadata": {},
   "outputs": [],
   "source": [
    "# 구 이름 통일\n",
    "for i in range(len(others_foreigner_pop)):\n",
    "    if len(others_foreigner_pop.loc[i,'sgg']) != 2 and len(others_foreigner_pop.loc[i,'sgg']) != 3 and len(others_foreigner_pop.loc[i,'sgg']) != 4:\n",
    "        others_foreigner_pop.loc[i,'sgg'] = others_foreigner_pop.loc[i,'sgg'][4:]"
   ]
  },
  {
   "cell_type": "code",
   "execution_count": null,
   "id": "theoretical-ministry",
   "metadata": {},
   "outputs": [],
   "source": [
    "# 2017,2018,2019년 외국인 총인원 count\n",
    "for i in range(len(others_foreigner_pop)):\n",
    "    for j in range(len(행정동_4개시)):\n",
    "        if others_foreigner_pop.loc[i,'sgg'] == 행정동_4개시.loc[j,'구']:\n",
    "            행정동_4개시.loc[j,'외국인/인구'] = round((others_foreigner_pop.loc[i,'foreigner_all(2017)']+others_foreigner_pop.loc[i,'foreigner_all(2018)']+others_foreigner_pop.loc[i,'foreigner_all(2019)'])/3)"
   ]
  },
  {
   "cell_type": "markdown",
   "id": "classified-grass",
   "metadata": {},
   "source": [
    "### 37.4개시도_자살율 데이터 매핑\n",
    "- 연령표준화 사망률: 인구구조가 다른 집단간의 사망 수준을 비교하기 위하여 연령구조가 사망률에 미치는 영향을 제거한 사망률\n",
    "- 구별로 성별과 연령표준화를 feature"
   ]
  },
  {
   "cell_type": "code",
   "execution_count": null,
   "id": "sorted-queue",
   "metadata": {},
   "outputs": [],
   "source": [
    "others_suicide=others_suicide[['sgg_nm','sx','age_stndrd_dptt_2017','age_stndrd_dptt_2018','age_stndrd_dptt_2019']]"
   ]
  },
  {
   "cell_type": "code",
   "execution_count": null,
   "id": "going-photographer",
   "metadata": {},
   "outputs": [],
   "source": [
    "# 2017,2018,2019년 외국인 총인원 count\n",
    "for i in range(len(others_suicide)):\n",
    "    for j in range(len(행정동_4개시)):\n",
    "        if others_suicide.loc[i,'sgg_nm'] == 행정동_4개시.loc[j,'구']:\n",
    "            if others_suicide.loc[i,'sx'] =='남자':\n",
    "                행정동_4개시.loc[j,'평균_남자_자살률'] = round((others_suicide.loc[i,'age_stndrd_dptt_2017']+others_suicide.loc[i,'age_stndrd_dptt_2018']+others_suicide.loc[i,'age_stndrd_dptt_2019'])/3)\n",
    "\n",
    "            elif others_suicide.loc[i,'sx'] == '여자':\n",
    "                행정동_4개시.loc[j,'평균_여자_자살률'] = round((others_suicide.loc[i,'age_stndrd_dptt_2017']+others_suicide.loc[i,'age_stndrd_dptt_2018']+others_suicide.loc[i,'age_stndrd_dptt_2019'])/3)\n",
    "              "
   ]
  },
  {
   "cell_type": "code",
   "execution_count": null,
   "id": "fuzzy-cable",
   "metadata": {
    "scrolled": false
   },
   "outputs": [],
   "source": [
    "행정동_4개시.to_crs(epsg='4326')"
   ]
  },
  {
   "cell_type": "code",
   "execution_count": null,
   "id": "ongoing-montgomery",
   "metadata": {},
   "outputs": [],
   "source": []
  }
 ],
 "metadata": {
  "kernelspec": {
   "display_name": "Python 3",
   "language": "python",
   "name": "python3"
  },
  "language_info": {
   "codemirror_mode": {
    "name": "ipython",
    "version": 3
   },
   "file_extension": ".py",
   "mimetype": "text/x-python",
   "name": "python",
   "nbconvert_exporter": "python",
   "pygments_lexer": "ipython3",
   "version": "3.6.9"
  }
 },
 "nbformat": 4,
 "nbformat_minor": 5
}
