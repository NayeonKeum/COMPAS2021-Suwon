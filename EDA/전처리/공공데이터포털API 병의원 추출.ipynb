{
 "cells": [
  {
   "cell_type": "markdown",
   "id": "failing-frank",
   "metadata": {},
   "source": [
    "## 공공데이터 포털\n",
    "- 병원 / 의원 정보 수집"
   ]
  },
  {
   "cell_type": "code",
   "execution_count": 16,
   "id": "according-surrey",
   "metadata": {},
   "outputs": [],
   "source": [
    "import pandas as pd\n",
    "import numpy as np\n",
    "import warnings\n",
    "warnings.filterwarnings(\"ignore\")\n",
    "import requests\n",
    "from bs4 import BeautifulSoup\n",
    "import glob, os\n",
    "import urllib\n",
    "from urllib.parse import urlencode, quote_plus\n",
    "import requests\n",
    "from bs4 import BeautifulSoup\n",
    "from pandas import json_normalize\n",
    "import xml.dom.minidom"
   ]
  },
  {
   "cell_type": "markdown",
   "id": "russian-atlanta",
   "metadata": {},
   "source": [
    "### 약국주소 가져오기"
   ]
  },
  {
   "cell_type": "code",
   "execution_count": 17,
   "id": "relevant-departure",
   "metadata": {},
   "outputs": [],
   "source": [
    "def 약국매핑(지역):\n",
    "    ServiceKey = \"/Vg1J8MmKzuTqcg1RFWfc3U7B6OLQGu28VZvd9EkkL7l0+IYsdB5Oe0eTm85cUMsNyjZVrFo7GC8fKNxLqKRDA==\"\n",
    "    open_url = 'http://apis.data.go.kr/B552657/ErmctInsttInfoInqireService/getParmacyListInfoInqire'\n",
    "\n",
    "    queryParams = '?' + urlencode({ quote_plus('ServiceKey') : ServiceKey,\n",
    "                                    quote_plus('Q0') : 지역,\n",
    "                                   quote_plus('pageNo') : '1',\n",
    "                                   quote_plus('numOfRows') : '10000' })\n",
    "    open_url_get = open_url + queryParams\n",
    "\n",
    "    res = requests.get(open_url_get)\n",
    "    datas = BeautifulSoup(res.content,\"html.parser\").find_all(\"item\")\n",
    "    기관주소 = [] ; 기관명 = [] ; 경도 = [] ; 위도 = []\n",
    "\n",
    "    for data in datas:\n",
    "        기관주소.append(data.find(\"dutyaddr\").get_text())\n",
    "        기관명.append(data.find(\"dutyname\").get_text())\n",
    "        try:\n",
    "            경도.append(data.find(\"wgs84lon\").get_text()) \n",
    "        except: 경도.append(0)\n",
    "        try:\n",
    "            위도.append(data.find(\"wgs84lat\").get_text()) \n",
    "        except: 위도.append(0)\n",
    "\n",
    "    df = pd.DataFrame(columns = [\"기관주소\",\"기관명\",\"경도\",\"위도\"])\n",
    "\n",
    "    df[\"기관주소\"] = 기관주소\n",
    "    df[\"기관명\"] = 기관명\n",
    "    df[\"경도\"] = 경도\n",
    "    df[\"위도\"] = 위도\n",
    "    return df"
   ]
  },
  {
   "cell_type": "code",
   "execution_count": 18,
   "id": "determined-carol",
   "metadata": {},
   "outputs": [],
   "source": [
    "약국_수원 = 약국매핑('수원')\n",
    "약국_진주 = 약국매핑('진주시')\n",
    "약국_창원 = 약국매핑('창원시')"
   ]
  },
  {
   "cell_type": "markdown",
   "id": "round-portable",
   "metadata": {},
   "source": [
    "서울 약국 가져오기"
   ]
  },
  {
   "cell_type": "code",
   "execution_count": 19,
   "id": "exceptional-scope",
   "metadata": {},
   "outputs": [],
   "source": [
    "약국_서울 = pd.read_csv(\"서울특별시_약국_정보.csv\",encoding=\"cp949\")[[\"주소\",\"약국명\",\"병원경도\",\"병원위도\"]]\n",
    "약국_서울.columns = [\"기관주소\",\"기관명\",\"경도\",\"위도\"]"
   ]
  },
  {
   "cell_type": "code",
   "execution_count": 20,
   "id": "quick-poker",
   "metadata": {},
   "outputs": [],
   "source": [
    "약국_4개시 = pd.concat([약국_수원,약국_서울,약국_진주,약국_창원]).reset_index(drop=True)\n",
    "약국_4개시.columns = [\"기관주소\",\"기관명\",\"lon\",\"lat\"]\n",
    "약국_4개시 = 약국_4개시[약국_4개시[\"lat\"].notnull()]"
   ]
  },
  {
   "cell_type": "code",
   "execution_count": 22,
   "id": "bibliographic-stand",
   "metadata": {},
   "outputs": [],
   "source": [
    "약국_4개시.to_csv(\"4개시도_약국.csv\",encoding=\"utf-8-sig\")"
   ]
  },
  {
   "cell_type": "markdown",
   "id": "mexican-isolation",
   "metadata": {},
   "source": [
    "### 병원 주소 가져오기"
   ]
  },
  {
   "cell_type": "code",
   "execution_count": 31,
   "id": "pacific-minority",
   "metadata": {},
   "outputs": [],
   "source": [
    "def 병원매핑(지역):\n",
    "    ServiceKey = \"/Vg1J8MmKzuTqcg1RFWfc3U7B6OLQGu28VZvd9EkkL7l0+IYsdB5Oe0eTm85cUMsNyjZVrFo7GC8fKNxLqKRDA==\"\n",
    "    open_url = 'http://apis.data.go.kr/B552657/HsptlAsembySearchService/getHsptlMdcncListInfoInqire'\n",
    "\n",
    "    queryParams = '?' + urlencode({ quote_plus('ServiceKey') : ServiceKey,\n",
    "                                    quote_plus('Q0') : 지역,\n",
    "                                   quote_plus('pageNo') : '1',\n",
    "                                   quote_plus('numOfRows') : '10000' })\n",
    "    open_url_get = open_url + queryParams\n",
    "\n",
    "    res = requests.get(open_url_get)\n",
    "    datas = BeautifulSoup(res.content,\"html.parser\").find_all(\"item\")\n",
    "    기관주소 = [] ; 기관명 = [] ; 경도 = [] ; 위도 = []\n",
    "\n",
    "    for data in datas:\n",
    "        기관주소.append(data.find(\"dutyaddr\").get_text())\n",
    "        기관명.append(data.find(\"dutyname\").get_text())\n",
    "        try:\n",
    "            경도.append(data.find(\"wgs84lon\").get_text()) \n",
    "        except: 경도.append(0)\n",
    "        try:\n",
    "            위도.append(data.find(\"wgs84lat\").get_text()) \n",
    "        except: 위도.append(0)\n",
    "\n",
    "    df = pd.DataFrame(columns = [\"기관주소\",\"기관명\",\"경도\",\"위도\"])\n",
    "\n",
    "    df[\"기관주소\"] = 기관주소\n",
    "    df[\"기관명\"] = 기관명\n",
    "    df[\"경도\"] = 경도\n",
    "    df[\"위도\"] = 위도\n",
    "    return df"
   ]
  },
  {
   "cell_type": "code",
   "execution_count": 32,
   "id": "raising-boundary",
   "metadata": {},
   "outputs": [],
   "source": [
    "병원_수원 = 병원매핑('수원')\n",
    "#병원_서울 = 병원매핑('서울특별시')\n",
    "병원_진주 = 병원매핑('진주시')\n",
    "병원_창원 = 병원매핑('창원시')"
   ]
  },
  {
   "cell_type": "code",
   "execution_count": null,
   "id": "public-breath",
   "metadata": {},
   "outputs": [],
   "source": []
  },
  {
   "cell_type": "code",
   "execution_count": 36,
   "id": "stretch-neighborhood",
   "metadata": {},
   "outputs": [],
   "source": [
    "병원_서울 = pd.read_csv(\"서울특별시_병의원_정보.csv\",encoding=\"cp949\")[[\"주소\",\"기관명\",\"병원경도\",\"병원위도\"]]\n",
    "병원_서울.columns = [\"기관주소\",\"기관명\",\"경도\",\"위도\"]"
   ]
  },
  {
   "cell_type": "code",
   "execution_count": 37,
   "id": "effective-store",
   "metadata": {},
   "outputs": [],
   "source": [
    "병원_4개시 = pd.concat([병원_수원,병원_서울,병원_진주,병원_창원])\n",
    "병원_4개시.columns = [\"기관주소\",\"기관명\",\"lon\",\"lat\"]\n",
    "병원_4개시 = 병원_4개시[병원_4개시[\"lat\"].notnull()]"
   ]
  },
  {
   "cell_type": "code",
   "execution_count": 39,
   "id": "quarterly-thriller",
   "metadata": {},
   "outputs": [],
   "source": [
    "병원_4개시.to_csv(\"4개시도_병원.csv\",encoding=\"utf-8-sig\")"
   ]
  },
  {
   "cell_type": "code",
   "execution_count": null,
   "id": "4fd5cab7",
   "metadata": {},
   "outputs": [],
   "source": []
  },
  {
   "cell_type": "code",
   "execution_count": null,
   "id": "3f33c287",
   "metadata": {},
   "outputs": [],
   "source": []
  }
 ],
 "metadata": {
  "kernelspec": {
   "display_name": "Python 3",
   "language": "python",
   "name": "python3"
  },
  "language_info": {
   "codemirror_mode": {
    "name": "ipython",
    "version": 3
   },
   "file_extension": ".py",
   "mimetype": "text/x-python",
   "name": "python",
   "nbconvert_exporter": "python",
   "pygments_lexer": "ipython3",
   "version": "3.8.8"
  }
 },
 "nbformat": 4,
 "nbformat_minor": 5
}
