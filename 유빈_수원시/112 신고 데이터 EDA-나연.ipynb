{
 "cells": [
  {
   "cell_type": "code",
   "execution_count": 1,
   "id": "automatic-rapid",
   "metadata": {},
   "outputs": [],
   "source": [
    "from geoband.API import *\n",
    "import pandas as pd\n",
    "import numpy as np\n",
    "import warnings\n",
    "warnings.filterwarnings(\"ignore\")\n",
    "import geopandas as gpd\n",
    "import pandas as pd\n",
    "import json\n",
    "from pandas import json_normalize\n",
    "import pandas as pd\n",
    "import folium\n",
    "from folium.plugins import MarkerCluster\n",
    "from geoband.API import *\n",
    "import geopandas as gpd\n",
    "import warnings\n",
    "warnings.filterwarnings(\"ignore\")\n",
    "from shapely.geometry import Point, Polygon\n",
    "import matplotlib.pyplot as plt\n",
    "import folium\n",
    "from folium import Choropleth, Circle, Marker\n",
    "from folium.plugins import HeatMap, MarkerCluster\n",
    "from geopandas import GeoDataFrame\n",
    "# GetCompasData로 주피터 노트북 경로에 파일 저장\n",
    "import pandas as pd\n",
    "import geopandas as gpd\n",
    "import matplotlib.pyplot as plt\n",
    "from shapely.geometry import Point, Polygon, LineString\n",
    "from fiona.crs import from_string\n",
    "\n",
    "%matplotlib inline\n",
    "\n",
    "import matplotlib.pyplot as plt\n",
    "from libpysal.weights.contiguity import Queen\n",
    "from libpysal import examples\n",
    "import numpy as np\n",
    "import pandas as pd\n",
    "import geopandas as gpd\n",
    "import os\n",
    "import splot"
   ]
  },
  {
   "cell_type": "code",
   "execution_count": 2,
   "id": "frequent-ambassador",
   "metadata": {},
   "outputs": [],
   "source": [
    "#공간회귀분석\n",
    "\n",
    "import pysal\n",
    "import libpysal\n",
    "from esda.moran import Moran\n",
    "from esda.moran import Moran_Local\n",
    "from libpysal.weights import Queen, Rook, KNN, DistanceBand, Kernel\n",
    "from esda.getisord import G\n",
    "from esda.moran import Moran\n",
    "from spreg import OLS, ML_Lag, ML_Error, GM_Lag, GM_Error, TSLS"
   ]
  },
  {
   "cell_type": "code",
   "execution_count": 3,
   "id": "spread-opera",
   "metadata": {},
   "outputs": [],
   "source": [
    "from matplotlib import font_manager, rc\n",
    "import matplotlib.pyplot as plt\n",
    "import matplotlib as mpl\n",
    "import seaborn as sns\n",
    "plt.rc('font', family='NanumBarunGothic') #한글 폰트 지정?"
   ]
  },
  {
   "cell_type": "code",
   "execution_count": 4,
   "id": "nearby-integration",
   "metadata": {},
   "outputs": [],
   "source": [
    "suwon_112 = pd.read_csv('1.수원시_112신고이력(격자_관할경계매핑).csv')\n",
    "suwon_112_grid = gpd.read_file('2.수원시_112신고(격자별 신고횟수).geojson')\n",
    "others_112 = pd.read_csv('3.3개시도_112신고이력(관할경계매핑).csv')"
   ]
  },
  {
   "cell_type": "markdown",
   "id": "conceptual-warning",
   "metadata": {},
   "source": [
    "### 112 신고이력 관련 데이터 가공\n",
    "- 20개 이상의 사건종별 데이터를 6개의 중분류로 매핑해주기\n",
    "- 교통 / 질서유지 / 중요범죄 / 기타범죄 / 기타_경찰업무 / 타기관_기타"
   ]
  },
  {
   "cell_type": "code",
   "execution_count": 5,
   "id": "invalid-chassis",
   "metadata": {},
   "outputs": [],
   "source": [
    "def 사건종별_분류(x):\n",
    "    교통 = [\"교통사고\",\"교통불편\",\"교통위반\"]\n",
    "    질서유지 = [\"기타경범\",\"주취자\",\"행패소란\",\"보호조치\",\"시비\",\"위험방지\",\"청소년비행\",\"무전취식승차\"]\n",
    "    중요범죄 = [\"절도\",\"가정폭력\",\"폭력\"]\n",
    "    기타범죄 = [\"기타형사범\",\"도박\"]\n",
    "    기타_경찰업무 = [\"상담문의\",\"분실습득\",\"비상벨\",\"실종(실종아동 등)\"]\n",
    "    타기관_기타 = [\"기타_타기관\",\"소음\",\"서비스요청\"]\n",
    "    \n",
    "    if x in 교통:\n",
    "        return \"교통\"\n",
    "    if x in 질서유지:\n",
    "        return \"질서유지\"\n",
    "    if x in 중요범죄:\n",
    "        return \"중요범죄\"\n",
    "    if x in 기타범죄:\n",
    "        return \"기타범죄\"\n",
    "    if x in 기타_경찰업무:\n",
    "        return \"기타_경찰업무\"\n",
    "    if x in 타기관_기타:\n",
    "        return \"타기관_기타\""
   ]
  },
  {
   "cell_type": "code",
   "execution_count": 6,
   "id": "classical-motorcycle",
   "metadata": {},
   "outputs": [],
   "source": [
    "def time_cut(x):\n",
    "    if 7 >= x >= 2:\n",
    "        return '새벽'\n",
    "    elif 13 >= x >= 8:\n",
    "        return '출근/점심시간'\n",
    "    elif 19 >= x >= 14:\n",
    "        return '오후/퇴근시간'\n",
    "    elif 24 >= x >= 20:\n",
    "        return '저녁/심야시간'\n",
    "    elif x == 1:\n",
    "        return '저녁/심야시간'\n",
    "    elif x == 0:\n",
    "        return '저녁/심야시간'"
   ]
  },
  {
   "cell_type": "code",
   "execution_count": 7,
   "id": "realistic-robert",
   "metadata": {},
   "outputs": [],
   "source": [
    "others_112 = pd.read_csv('3.3개시도_112신고이력(관할경계매핑).csv')\n",
    "others_112.columns = [\"사건종별\",\"접수완료일자\",\"접수완료시각\",\"도착일시\",\"관할치안센터\",\"관할경찰서\"]\n",
    "\n",
    "suwon_112 = pd.read_csv('1.수원시_112신고이력(격자_관할경계매핑).csv')\n",
    "suwon_112.columns = [\"사건종별\",\"접수완료일자\",\"접수완료시각\",\"도착일시\",\"gid\",\"관할치안센터\",\"관할경찰서\"]"
   ]
  },
  {
   "cell_type": "code",
   "execution_count": 8,
   "id": "baking-disorder",
   "metadata": {},
   "outputs": [],
   "source": [
    "def 신고이력데이터_처리(data):\n",
    "    \n",
    "    others_112 = data.copy()\n",
    "    others_112[\"접수완료시각\"] = others_112[\"접수완료시각\"].str.replace(\"'\",\"\")\n",
    "    others_112[\"접수완료일자\"] = others_112[\"접수완료일자\"].astype(str)\n",
    "    #others_112[\"도착일시\"] = others_112[\"도착일시\"].astype(int).astype(str)\n",
    "    # 도착일시가 NaN인 경우 존재 -> 도착일시가 NaN이 아닌 경우에 대해서만 출동 소요시각 구하기\n",
    "\n",
    "    others_112[\"접수완료일시\"] = others_112[\"접수완료일자\"] + others_112[\"접수완료시각\"]\n",
    "    others_112[\"접수완료일시\"] = pd.to_datetime(others_112[\"접수완료일시\"],format=\"%Y%m%d%H%M%S\")\n",
    "\n",
    "    others_112[\"년\"] = others_112[\"접수완료일시\"].apply(lambda x : x.year)\n",
    "    others_112[\"월\"] = others_112[\"접수완료일시\"].apply(lambda x : x.month)\n",
    "    others_112[\"일\"] = others_112[\"접수완료일시\"].apply(lambda x : x.day)\n",
    "    others_112[\"요일\"] = others_112[\"접수완료일시\"].apply(lambda x : x.weekday())\n",
    "    others_112[\"시\"] = others_112[\"접수완료일시\"].apply(lambda x : x.hour)\n",
    "    others_112[\"분\"] = others_112[\"접수완료일시\"].apply(lambda x : x.minute)\n",
    "    others_112[\"초\"] = others_112[\"접수완료일시\"].apply(lambda x : x.second)\n",
    "\n",
    "    # 도착일시가 정확히 기록된 경우와 그렇지 않은 경우로 나누기\n",
    "\n",
    "    def get_도착일시(x):\n",
    "        if len(str(x)) < 14:\n",
    "            return np.NaN\n",
    "        else:\n",
    "            return str(int(float(x)))\n",
    "\n",
    "    others_112[\"도착일시\"] = others_112[\"도착일시\"].apply(lambda x : get_도착일시(x))\n",
    "    others_112[\"도착일시\"] = pd.to_datetime(others_112[\"도착일시\"],format=\"%Y%m%d%H%M%S\")\n",
    "\n",
    "    # 출동하는데 걸린 소요 시간\n",
    "    others_112[\"소요시간\"] = others_112[\"도착일시\"] - others_112[\"접수완료일시\"]\n",
    "\n",
    "    # 사건종별 중분류\n",
    "    others_112[\"사건종별_중분류\"] = others_112[\"사건종별\"].apply(lambda x : 사건종별_분류(x))\n",
    "    \n",
    "    # 시간대별 분류\n",
    "    others_112[\"시간대\"] = others_112[\"시\"].apply(lambda x : time_cut(x))\n",
    "    \n",
    "    return others_112"
   ]
  },
  {
   "cell_type": "code",
   "execution_count": 9,
   "id": "stable-tourist",
   "metadata": {},
   "outputs": [],
   "source": [
    "suwon_112_get = 신고이력데이터_처리(suwon_112)\n",
    "\n",
    "#others_112_get = 신고이력데이터_처리(others_112)"
   ]
  },
  {
   "cell_type": "code",
   "execution_count": 34,
   "id": "compatible-purpose",
   "metadata": {},
   "outputs": [],
   "source": [
    "def get_barplot(data,x):\n",
    "    groupby_data = data.groupby(x).agg({\"발생건수\":\"sum\"}).reset_index()\n",
    "    sns.barplot(data = groupby_data\n",
    "                , x=x, y=\"발생건수\", palette='Blues_d')\n",
    "    #return groupby_data"
   ]
  },
  {
   "cell_type": "markdown",
   "id": "ceramic-cartridge",
   "metadata": {},
   "source": [
    "#### 수원시 격자별 112 신고데이터 가공완료\n",
    "- 1.수원시_112신고이력(격자_관할경계매핑)_전처리완료.csv 내보내기"
   ]
  },
  {
   "cell_type": "code",
   "execution_count": 36,
   "id": "third-addiction",
   "metadata": {},
   "outputs": [],
   "source": [
    "suwon_112_get.to_csv(\"1.수원시_112신고이력(격자_관할경계매핑)_전처리완료.csv\",encoding=\"utf-8-sig\",index=False)"
   ]
  }
 ],
 "metadata": {
  "kernelspec": {
   "display_name": "Python 3",
   "language": "python",
   "name": "python3"
  },
  "language_info": {
   "codemirror_mode": {
    "name": "ipython",
    "version": 3
   },
   "file_extension": ".py",
   "mimetype": "text/x-python",
   "name": "python",
   "nbconvert_exporter": "python",
   "pygments_lexer": "ipython3",
   "version": "3.6.9"
  }
 },
 "nbformat": 4,
 "nbformat_minor": 5
}
